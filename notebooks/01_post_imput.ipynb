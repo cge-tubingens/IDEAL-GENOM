{
 "cells": [
  {
   "cell_type": "markdown",
   "metadata": {},
   "source": [
    "# Process Imputed Files\n",
    "\n",
    "The present notebook serves as a guide of how use the `IDEAL-GENOM` library to process the imputed files. We intend to show a possible use, because each user can adapt it to its particular needs.\n",
    "\n",
    "The first step is to import the requires libraries."
   ]
  },
  {
   "cell_type": "code",
   "execution_count": 1,
   "metadata": {},
   "outputs": [],
   "source": [
    "import sys\n",
    "import os\n",
    "\n",
    "# add parent directory to path\n",
    "library_path = os.path.abspath('..')\n",
    "if library_path not in sys.path:\n",
    "    sys.path.append(library_path)\n",
    "\n",
    "from ideal_genom.preprocessing.post_imputation import PostImputation"
   ]
  },
  {
   "cell_type": "markdown",
   "metadata": {},
   "source": [
    "In the next widgets the user must input the paths and filenames needed to process imputed data. It is important to remark that the pipeline expects the zipped chromosome files have the format `chr1.zip`, `chr2.zip`, and so on.\n",
    "\n",
    "1. `input_path`: folder with the input data. The pipeline assumes that the output of imputation is a collection of 22 zip files (one for each chromosome) with names `chr*.zip`;\n",
    "2. `dependables_path`: folder with external files needed to process the data, for example the file with the LD regions, in this case the file name must be `high-LD-regions.txt`;\n",
    "3. `output_path`: folder to output the results;\n",
    "4. `output_name`: the prefix of the PLINK binary files."
   ]
  },
  {
   "cell_type": "code",
   "execution_count": 2,
   "metadata": {},
   "outputs": [
    {
     "data": {
      "application/vnd.jupyter.widget-view+json": {
       "model_id": "8ef427dd70af4452b7095b7ab4cdc587",
       "version_major": 2,
       "version_minor": 0
      },
      "text/plain": [
       "Text(value='/media/luisggon/LaCie/valente_gwas/inputData/', description='Path to input zip files:', layout=Lay…"
      ]
     },
     "metadata": {},
     "output_type": "display_data"
    },
    {
     "data": {
      "application/vnd.jupyter.widget-view+json": {
       "model_id": "a6c17c132f514897ab86c9738a968d5f",
       "version_major": 2,
       "version_minor": 0
      },
      "text/plain": [
       "Text(value='/media/luisggon/LaCie/valente_gwas/dependables/', description='Path to dependable files:', layout=…"
      ]
     },
     "metadata": {},
     "output_type": "display_data"
    },
    {
     "data": {
      "application/vnd.jupyter.widget-view+json": {
       "model_id": "63fec0a4d6b64dff86b37625dd421fde",
       "version_major": 2,
       "version_minor": 0
      },
      "text/plain": [
       "Text(value='/media/luisggon/LaCie/valente_gwas/outputData/', description='Path to output files:', layout=Layou…"
      ]
     },
     "metadata": {},
     "output_type": "display_data"
    },
    {
     "data": {
      "application/vnd.jupyter.widget-view+json": {
       "model_id": "65d248c69f904bf3a2be85b6576f5291",
       "version_major": 2,
       "version_minor": 0
      },
      "text/plain": [
       "Text(value='test_valente', description='Name of the resulting files:', layout=Layout(width='50%'), style=TextS…"
      ]
     },
     "metadata": {},
     "output_type": "display_data"
    }
   ],
   "source": [
    "import ipywidgets as widgets\n",
    "from IPython.display import display\n",
    "\n",
    "# Create interactive widgets for input\n",
    "input_path = widgets.Text(\n",
    "    value='/media/luisggon/LaCie/valente_gwas/inputData/',\n",
    "    description='Path to input zip files:',\n",
    "    style={'description_width': 'initial'},\n",
    "    layout=widgets.Layout(width='50%')\n",
    ")\n",
    "\n",
    "dependables_path = widgets.Text(\n",
    "    value='/media/luisggon/LaCie/valente_gwas/dependables/',\n",
    "    description='Path to dependable files:',\n",
    "    style={'description_width': 'initial'},\n",
    "    layout=widgets.Layout(width='50%')\n",
    ")\n",
    "\n",
    "output_path = widgets.Text(\n",
    "    value='/media/luisggon/LaCie/valente_gwas/outputData/',\n",
    "    description='Path to output files:',\n",
    "    style={'description_width': 'initial'},\n",
    "    layout=widgets.Layout(width='50%')\n",
    ")\n",
    "output_name = widgets.Text(\n",
    "    value='test_valente',\n",
    "    description='Name of the resulting files:',\n",
    "    style={'description_width': 'initial'},\n",
    "    layout=widgets.Layout(width='50%')\n",
    ")\n",
    "# Display the widgets\n",
    "display(input_path, dependables_path, output_path, output_name)\n",
    "\n",
    "# Function to get the text parameter values\n",
    "def get_params():\n",
    "    return input_path.value, dependables_path.value, output_path.value, output_name.value"
   ]
  },
  {
   "cell_type": "code",
   "execution_count": 3,
   "metadata": {},
   "outputs": [
    {
     "name": "stdout",
     "output_type": "stream",
     "text": [
      "input_path:  /media/luisggon/LaCie/valente_gwas/inputData/\n",
      "dependables:  /media/luisggon/LaCie/valente_gwas/dependables/\n",
      "output_path:  /media/luisggon/LaCie/valente_gwas/outputData/\n",
      "output_name:  test_valente\n"
     ]
    }
   ],
   "source": [
    "path_params = get_params()\n",
    "print('input_path: ', path_params[0])\n",
    "print('dependables: ', path_params[1])\n",
    "print('output_path: ', path_params[2])\n",
    "print('output_name: ', path_params[3])"
   ]
  },
  {
   "cell_type": "markdown",
   "metadata": {},
   "source": [
    "With this info we can initializa the class `PostImputation`."
   ]
  },
  {
   "cell_type": "code",
   "execution_count": 4,
   "metadata": {},
   "outputs": [],
   "source": [
    "post_imp = PostImputation(\n",
    "    input_path =path_params[0],\n",
    "    dependables=path_params[1],\n",
    "    output_path=path_params[2],\n",
    "    output_name=path_params[3]\n",
    ")"
   ]
  },
  {
   "cell_type": "markdown",
   "metadata": {},
   "source": [
    "In the next widgets, please provide the parameters needed to execute the pipeline.\n",
    "\n",
    "1. `zip_password`: password to unzip the imputed data;\n",
    "2. `r2_threshold`: threshold to filter the imputed data according to $R^2$;\n",
    "3. `ref_genome`: name of the file with the information to normalize the data;\n",
    "4. `ref_annotation`: name of the file with the information needed to annotate the SNPs."
   ]
  },
  {
   "cell_type": "code",
   "execution_count": 5,
   "metadata": {},
   "outputs": [
    {
     "data": {
      "application/vnd.jupyter.widget-view+json": {
       "model_id": "7876578c6e864715b1ed10e3aed926cc",
       "version_major": 2,
       "version_minor": 0
      },
      "text/plain": [
       "Text(value='dummypwd', description='Password for the zip file:', layout=Layout(width='50%'), style=TextStyle(d…"
      ]
     },
     "metadata": {},
     "output_type": "display_data"
    },
    {
     "data": {
      "application/vnd.jupyter.widget-view+json": {
       "model_id": "e4d99212b9054e4db657260fafd05bd4",
       "version_major": 2,
       "version_minor": 0
      },
      "text/plain": [
       "FloatText(value=0.3, description='R2 threshold (float):', layout=Layout(width='25%'), style=DescriptionStyle(d…"
      ]
     },
     "metadata": {},
     "output_type": "display_data"
    },
    {
     "data": {
      "application/vnd.jupyter.widget-view+json": {
       "model_id": "8ddf9c43d37940b1a0e6feb73344aa02",
       "version_major": 2,
       "version_minor": 0
      },
      "text/plain": [
       "Text(value='hs37d5.fa', description='Reference genome file name:', layout=Layout(width='50%'), style=TextStyle…"
      ]
     },
     "metadata": {},
     "output_type": "display_data"
    },
    {
     "data": {
      "application/vnd.jupyter.widget-view+json": {
       "model_id": "2c39e24cfd7949debd68091811ccc44f",
       "version_major": 2,
       "version_minor": 0
      },
      "text/plain": [
       "Text(value='ensembl_concat.GRCh37.vcf.gz', description='Reference annotation file name:', layout=Layout(width=…"
      ]
     },
     "metadata": {},
     "output_type": "display_data"
    }
   ],
   "source": [
    "zip_password = widgets.Text(\n",
    "    value='dummypwd',\n",
    "    description='Password for the zip file:',\n",
    "    style={'description_width': 'initial'},\n",
    "    layout=widgets.Layout(width='50%')\n",
    ")\n",
    "\n",
    "r2_threshold = widgets.FloatText(\n",
    "    value=0.3,  # Default value\n",
    "    description='R2 threshold (float):',\n",
    "    style={'description_width': 'initial'},\n",
    "    layout=widgets.Layout(width='25%')\n",
    ")\n",
    "\n",
    "ref_genome = widgets.Text(\n",
    "    value='hs37d5.fa',\n",
    "    description='Reference genome file name:',\n",
    "    style={'description_width': 'initial'},\n",
    "    layout=widgets.Layout(width='50%')\n",
    ")\n",
    "\n",
    "ref_annotation = widgets.Text(\n",
    "    value='ensembl_concat.GRCh37.vcf.gz',\n",
    "    description='Reference annotation file name:',\n",
    "    style={'description_width': 'initial'},\n",
    "    layout=widgets.Layout(width='50%')\n",
    ")\n",
    "\n",
    "display(zip_password, r2_threshold, ref_genome, ref_annotation)\n",
    "\n",
    "def get_post_imputation_params():\n",
    "\n",
    "    post_imputation_params = dict()\n",
    "    \n",
    "    post_imputation_params['zip_password']  = zip_password.value\n",
    "    post_imputation_params['r2_threshold']  = r2_threshold.value\n",
    "    post_imputation_params['ref_genome']    = ref_genome.value\n",
    "    post_imputation_params['ref_annotation']= ref_annotation.value\n",
    "    \n",
    "    return post_imputation_params"
   ]
  },
  {
   "cell_type": "code",
   "execution_count": 6,
   "metadata": {},
   "outputs": [
    {
     "data": {
      "text/plain": [
       "{'zip_password': 'dummypwd',\n",
       " 'r2_threshold': 0.3,\n",
       " 'ref_genome': 'hs37d5.fa',\n",
       " 'ref_annotation': 'ensembl_concat.GRCh37.vcf.gz'}"
      ]
     },
     "execution_count": 6,
     "metadata": {},
     "output_type": "execute_result"
    }
   ],
   "source": [
    "post_imputation_params = get_post_imputation_params()\n",
    "post_imputation_params"
   ]
  },
  {
   "cell_type": "markdown",
   "metadata": {},
   "source": [
    "Execute the pipeline steps."
   ]
  },
  {
   "cell_type": "code",
   "execution_count": null,
   "metadata": {},
   "outputs": [
    {
     "name": "stdout",
     "output_type": "stream",
     "text": [
      "\u001b[1mUnzip chromosome files.\u001b[0m\n",
      "Active threads before: 7\n",
      "Active threads after submission: 10\n"
     ]
    },
    {
     "name": "stderr",
     "output_type": "stream",
     "text": [
      "Extracting files:   0%|          | 0/3 [00:00<?, ?it/s]"
     ]
    },
    {
     "name": "stdout",
     "output_type": "stream",
     "text": [
      "Extracting /media/luisggon/LaCie/valente_gwas/inputData/chr21.zip...\n",
      "Extracting /media/luisggon/LaCie/valente_gwas/inputData/chr22.zip...\n",
      "Extracting /media/luisggon/LaCie/valente_gwas/inputData/chr20.zip...\n"
     ]
    },
    {
     "name": "stderr",
     "output_type": "stream",
     "text": [
      "🔄 Active jobs: 0: 100%|██████████| 3/3 [31:11<00:00, 623.68s/it] "
     ]
    },
    {
     "name": "stdout",
     "output_type": "stream",
     "text": [
      "\n",
      "Total execution time: 1871.92s\n"
     ]
    },
    {
     "name": "stderr",
     "output_type": "stream",
     "text": [
      "\n"
     ]
    }
   ],
   "source": [
    "post_imp_steps = {\n",
    "    #'unzip_chrom' : (post_imp.execute_unzip_chromosome_files, (post_imputation_params['zip_password'],)),\n",
    "    'filter_by_R2': (post_imp.execute_filter_variants, (post_imputation_params['r2_threshold'],)),\n",
    "    #'normalize'   : (post_imp.execute_normalize_vcf, (post_imputation_params['ref_genome'],)),\n",
    "    #'index'       : (post_imp.execute_index_vcf, ()),\n",
    "    #'annotate'    : (post_imp.execute_annotate_vcf, (post_imputation_params['ref_annotation'],)),\n",
    "    #'concatenate' : (post_imp.execute_concat_vcf, ()),\n",
    "    #'get_plink'   : (post_imp.get_plink_files, ()),\n",
    "}\n",
    "\n",
    "step_description = {\n",
    "    #'unzip_chrom' : 'Unzip chromosome files',\n",
    "    'filter_by_R2': 'Filter imputed variants by R2',\n",
    "    #'normalize'   : 'Normalize VCF files',\n",
    "    #'index'       : 'Index VCF files',\n",
    "    #'annotate'    : 'Annotate VCF files',\n",
    "    #'concatenate' : 'Concatenate VCF files',\n",
    "    #'get_plink'   : 'Get PLINK files',\n",
    "}\n",
    "\n",
    "for name, (func, params) in post_imp_steps.items():\n",
    "    print(f\"\\033[1m{step_description[name]}.\\033[0m\")\n",
    "    func(*params)"
   ]
  },
  {
   "cell_type": "code",
   "execution_count": 8,
   "metadata": {},
   "outputs": [],
   "source": [
    "#post_imp.unzip_file_with_password(\n",
    "#    zip_path='/media/luisggon/LaCie/valente_gwas/inputData/chr22.zip',\n",
    "#    output_folder='/media/luisggon/LaCie/valente_gwas/outputData/post_imputation/',\n",
    "#    password='dummypwd'\n",
    "#)"
   ]
  }
 ],
 "metadata": {
  "kernelspec": {
   "display_name": "ideal-genom-_SI3jj61-py3.10",
   "language": "python",
   "name": "python3"
  },
  "language_info": {
   "codemirror_mode": {
    "name": "ipython",
    "version": 3
   },
   "file_extension": ".py",
   "mimetype": "text/x-python",
   "name": "python",
   "nbconvert_exporter": "python",
   "pygments_lexer": "ipython3",
   "version": "3.10.16"
  }
 },
 "nbformat": 4,
 "nbformat_minor": 2
}
