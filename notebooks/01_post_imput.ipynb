{
 "cells": [
  {
   "cell_type": "markdown",
   "metadata": {},
   "source": [
    "# Process Imputed Files\n",
    "\n",
    "The present notebook serves as a guide of how use the `IDEAL-GENOM` library to process the imputed files. We intend to show a possible use, because each user can adapt it to its particular needs.\n",
    "\n",
    "The first step is to import the requires libraries."
   ]
  },
  {
   "cell_type": "code",
   "execution_count": 1,
   "metadata": {},
   "outputs": [],
   "source": [
    "import sys\n",
    "import os\n",
    "\n",
    "import pandas as pd\n",
    "\n",
    "# add parent directory to path\n",
    "library_path = os.path.abspath('..')\n",
    "if library_path not in sys.path:\n",
    "    sys.path.append(library_path)\n",
    "\n",
    "from ideal_genom.preprocessing.post_imputation import PostImputation"
   ]
  },
  {
   "cell_type": "markdown",
   "metadata": {},
   "source": [
    "In the next widgets the user must input the paths and filenames needed to process imputed data.\n",
    "\n",
    "1. `input_path`: folder with the input data. The pipeline assumes that the output of imputation is a collection of 22 zip files (one for each chromosome) with names `chr*.zip`;\n",
    "2. `dependables_path`: folder with external files needed to process the data, for example the file with the LD regions, in this case the file name must be `high-LD-regions.txt`;\n",
    "3. `output_path`: folder to output the results;\n",
    "4. `output_name`: the prefix of the PLINK binary files."
   ]
  },
  {
   "cell_type": "code",
   "execution_count": 2,
   "metadata": {},
   "outputs": [
    {
     "data": {
      "application/vnd.jupyter.widget-view+json": {
       "model_id": "b32749ae5b814bbb91e850528a627217",
       "version_major": 2,
       "version_minor": 0
      },
      "text/plain": [
       "Text(value='/media/luis/LaCie/valente_gwas/inputData/', description='Path to input zip files:', layout=Layout(…"
      ]
     },
     "metadata": {},
     "output_type": "display_data"
    },
    {
     "data": {
      "application/vnd.jupyter.widget-view+json": {
       "model_id": "976876083bd347fb9b5566fe7370e816",
       "version_major": 2,
       "version_minor": 0
      },
      "text/plain": [
       "Text(value='/media/luis/LaCie/valente_gwas/dependables/', description='Path to dependable files:', layout=Layo…"
      ]
     },
     "metadata": {},
     "output_type": "display_data"
    },
    {
     "data": {
      "application/vnd.jupyter.widget-view+json": {
       "model_id": "5d9cd480ff57497da230124dae454bb3",
       "version_major": 2,
       "version_minor": 0
      },
      "text/plain": [
       "Text(value='/media/luis/LaCie/valente_gwas/outputData/', description='Path to output files:', layout=Layout(wi…"
      ]
     },
     "metadata": {},
     "output_type": "display_data"
    },
    {
     "data": {
      "application/vnd.jupyter.widget-view+json": {
       "model_id": "d56271009f724232846daef5cccf7b30",
       "version_major": 2,
       "version_minor": 0
      },
      "text/plain": [
       "Text(value='test_valente', description='Name of the resulting files:', layout=Layout(width='50%'), style=TextS…"
      ]
     },
     "metadata": {},
     "output_type": "display_data"
    }
   ],
   "source": [
    "import ipywidgets as widgets\n",
    "from IPython.display import display\n",
    "\n",
    "# Create interactive widgets for input\n",
    "input_path = widgets.Text(\n",
    "    value='/media/luis/LaCie/valente_gwas/inputData/',\n",
    "    description='Path to input zip files:',\n",
    "    style={'description_width': 'initial'},\n",
    "    layout=widgets.Layout(width='50%')\n",
    ")\n",
    "\n",
    "dependables_path = widgets.Text(\n",
    "    value='/media/luis/LaCie/valente_gwas/dependables/',\n",
    "    description='Path to dependable files:',\n",
    "    style={'description_width': 'initial'},\n",
    "    layout=widgets.Layout(width='50%')\n",
    ")\n",
    "\n",
    "output_path = widgets.Text(\n",
    "    value='/media/luis/LaCie/valente_gwas/outputData/',\n",
    "    description='Path to output files:',\n",
    "    style={'description_width': 'initial'},\n",
    "    layout=widgets.Layout(width='50%')\n",
    ")\n",
    "output_name = widgets.Text(\n",
    "    value='test_valente',\n",
    "    description='Name of the resulting files:',\n",
    "    style={'description_width': 'initial'},\n",
    "    layout=widgets.Layout(width='50%')\n",
    ")\n",
    "# Display the widgets\n",
    "display(input_path, dependables_path, output_path, output_name)\n",
    "\n",
    "# Function to get the text parameter values\n",
    "def get_params():\n",
    "    return input_path.value, dependables_path.value, output_path.value, output_name.value"
   ]
  },
  {
   "cell_type": "code",
   "execution_count": 3,
   "metadata": {},
   "outputs": [
    {
     "name": "stdout",
     "output_type": "stream",
     "text": [
      "input_path:  /media/luis/LaCie/valente_gwas/inputData/\n",
      "dependables:  /media/luis/LaCie/valente_gwas/dependables/\n",
      "output_path:  /media/luis/LaCie/valente_gwas/outputData/\n",
      "output_name:  test_valente\n"
     ]
    }
   ],
   "source": [
    "path_params = get_params()\n",
    "print('input_path: ', path_params[0])\n",
    "print('dependables: ', path_params[1])\n",
    "print('output_path: ', path_params[2])\n",
    "print('output_name: ', path_params[3])"
   ]
  },
  {
   "cell_type": "markdown",
   "metadata": {},
   "source": [
    "With this info we can initializa the class `PostImputation`."
   ]
  },
  {
   "cell_type": "code",
   "execution_count": 4,
   "metadata": {},
   "outputs": [],
   "source": [
    "post_imp = PostImputation(\n",
    "    input_path =path_params[0],\n",
    "    dependables=path_params[1],\n",
    "    output_path=path_params[2],\n",
    "    output_name=path_params[3]\n",
    ")"
   ]
  },
  {
   "cell_type": "markdown",
   "metadata": {},
   "source": [
    "In the next widgets, please provide the parameters needed to execute the pipeline.\n",
    "\n",
    "1. `zip_password`: password to unzip the imputed data;\n",
    "2. `r2_threshold`: threshold to filter the imputed data according to $R^2$;\n",
    "3. `ref_genome`: name of the file with the information to normalize the data;\n",
    "4. `ref_annotation`: name of the file with the information needed to annotate the SNPs."
   ]
  },
  {
   "cell_type": "code",
   "execution_count": 5,
   "metadata": {},
   "outputs": [
    {
     "data": {
      "application/vnd.jupyter.widget-view+json": {
       "model_id": "1a600a540b534c23966ac037b979670d",
       "version_major": 2,
       "version_minor": 0
      },
      "text/plain": [
       "Text(value='dummypwd', description='Password for the zip file:', layout=Layout(width='50%'), style=TextStyle(d…"
      ]
     },
     "metadata": {},
     "output_type": "display_data"
    },
    {
     "data": {
      "application/vnd.jupyter.widget-view+json": {
       "model_id": "21fbe1470b7c43a9958dcf61d5572be7",
       "version_major": 2,
       "version_minor": 0
      },
      "text/plain": [
       "FloatText(value=0.3, description='R2 threshold (float):', layout=Layout(width='25%'), style=DescriptionStyle(d…"
      ]
     },
     "metadata": {},
     "output_type": "display_data"
    },
    {
     "data": {
      "application/vnd.jupyter.widget-view+json": {
       "model_id": "fb66ed689ef34f3ab0b2a503157d7370",
       "version_major": 2,
       "version_minor": 0
      },
      "text/plain": [
       "Text(value='hs37d5.fa', description='Reference genome file name:', layout=Layout(width='50%'), style=TextStyle…"
      ]
     },
     "metadata": {},
     "output_type": "display_data"
    },
    {
     "data": {
      "application/vnd.jupyter.widget-view+json": {
       "model_id": "1fa8cd87c3b9447b9096db0ff90b52a8",
       "version_major": 2,
       "version_minor": 0
      },
      "text/plain": [
       "Text(value='ensembl_concat.GRCh37.vcf.gz', description='Reference annotation file name:', layout=Layout(width=…"
      ]
     },
     "metadata": {},
     "output_type": "display_data"
    }
   ],
   "source": [
    "zip_password = widgets.Text(\n",
    "    value='dummypwd',\n",
    "    description='Password for the zip file:',\n",
    "    style={'description_width': 'initial'},\n",
    "    layout=widgets.Layout(width='50%')\n",
    ")\n",
    "\n",
    "r2_threshold = widgets.FloatText(\n",
    "    value=0.3,  # Default value\n",
    "    description='R2 threshold (float):',\n",
    "    style={'description_width': 'initial'},\n",
    "    layout=widgets.Layout(width='25%')\n",
    ")\n",
    "\n",
    "ref_genome = widgets.Text(\n",
    "    value='hs37d5.fa',\n",
    "    description='Reference genome file name:',\n",
    "    style={'description_width': 'initial'},\n",
    "    layout=widgets.Layout(width='50%')\n",
    ")\n",
    "\n",
    "ref_annotation = widgets.Text(\n",
    "    value='ensembl_concat.GRCh37.vcf.gz',\n",
    "    description='Reference annotation file name:',\n",
    "    style={'description_width': 'initial'},\n",
    "    layout=widgets.Layout(width='50%')\n",
    ")\n",
    "\n",
    "display(zip_password, r2_threshold, ref_genome, ref_annotation)\n",
    "\n",
    "def get_post_imputation_params():\n",
    "\n",
    "    post_imputation_params = dict()\n",
    "    \n",
    "    post_imputation_params['zip_password']  = zip_password.value\n",
    "    post_imputation_params['r2_threshold']  = r2_threshold.value\n",
    "    post_imputation_params['ref_genome']    = ref_genome.value\n",
    "    post_imputation_params['ref_annotation']= ref_annotation.value\n",
    "    \n",
    "    return post_imputation_params"
   ]
  },
  {
   "cell_type": "code",
   "execution_count": 6,
   "metadata": {},
   "outputs": [
    {
     "data": {
      "text/plain": [
       "{'zip_password': 'dummypwd',\n",
       " 'r2_threshold': 0.3,\n",
       " 'ref_genome': 'hs37d5.fa',\n",
       " 'ref_annotation': 'ensembl_concat.GRCh37.vcf.gz'}"
      ]
     },
     "execution_count": 6,
     "metadata": {},
     "output_type": "execute_result"
    }
   ],
   "source": [
    "post_imputation_params = get_post_imputation_params()\n",
    "post_imputation_params"
   ]
  },
  {
   "cell_type": "markdown",
   "metadata": {},
   "source": [
    "Execute the pipeline steps."
   ]
  },
  {
   "cell_type": "code",
   "execution_count": null,
   "metadata": {},
   "outputs": [
    {
     "name": "stdout",
     "output_type": "stream",
     "text": [
      "\u001b[1mAnnotate VCF files.\u001b[0m\n",
      "Error annotating normalized_chr1.dose.vcf.gz: Command '['bcftools', 'annotate', '--annotations', '/media/luis/LaCie/valente_gwas/dependables/ensembl_concat.GRCh37.vcf.gz', '--columns', 'ID', '--output', '/media/luis/LaCie/valente_gwas/outputData/post_imputation/annotated_normalized_chr1.dose.vcf.gz', '/media/luis/LaCie/valente_gwas/outputData/post_imputation/normalized_chr1.dose.vcf.gz']' returned non-zero exit status 255.\n",
      "Error annotating normalized_chr2.dose.vcf.gz: Command '['bcftools', 'annotate', '--annotations', '/media/luis/LaCie/valente_gwas/dependables/ensembl_concat.GRCh37.vcf.gz', '--columns', 'ID', '--output', '/media/luis/LaCie/valente_gwas/outputData/post_imputation/annotated_normalized_chr2.dose.vcf.gz', '/media/luis/LaCie/valente_gwas/outputData/post_imputation/normalized_chr2.dose.vcf.gz']' returned non-zero exit status 255.\n"
     ]
    },
    {
     "name": "stderr",
     "output_type": "stream",
     "text": [
      "[E::idx_find_and_load] Could not retrieve index file for '/media/luis/LaCie/valente_gwas/outputData/post_imputation/normalized_chr1.dose.vcf.gz'\n",
      "Failed to read from /media/luis/LaCie/valente_gwas/outputData/post_imputation/normalized_chr1.dose.vcf.gz: could not load index\n",
      "[E::idx_find_and_load] Could not retrieve index file for '/media/luis/LaCie/valente_gwas/outputData/post_imputation/normalized_chr2.dose.vcf.gz'\n",
      "Failed to read from /media/luis/LaCie/valente_gwas/outputData/post_imputation/normalized_chr2.dose.vcf.gz: could not load index\n",
      "[E::idx_find_and_load] Could not retrieve index file for '/media/luis/LaCie/valente_gwas/outputData/post_imputation/normalized_chr3.dose.vcf.gz'\n",
      "Failed to read from /media/luis/LaCie/valente_gwas/outputData/post_imputation/normalized_chr3.dose.vcf.gz: could not load index\n",
      "[E::idx_find_and_load] Could not retrieve index file for '/media/luis/LaCie/valente_gwas/outputData/post_imputation/normalized_chr4.dose.vcf.gz'\n",
      "Failed to read from /media/luis/LaCie/valente_gwas/outputData/post_imputation/normalized_chr4.dose.vcf.gz: could not load index\n",
      "[E::idx_find_and_load] Could not retrieve index file for '/media/luis/LaCie/valente_gwas/outputData/post_imputation/normalized_chr5.dose.vcf.gz'\n",
      "Failed to read from /media/luis/LaCie/valente_gwas/outputData/post_imputation/normalized_chr5.dose.vcf.gz: could not load index\n",
      "[E::idx_find_and_load] Could not retrieve index file for '/media/luis/LaCie/valente_gwas/outputData/post_imputation/normalized_chr6.dose.vcf.gz'\n",
      "Failed to read from /media/luis/LaCie/valente_gwas/outputData/post_imputation/normalized_chr6.dose.vcf.gz: could not load index\n"
     ]
    },
    {
     "name": "stdout",
     "output_type": "stream",
     "text": [
      "Error annotating normalized_chr3.dose.vcf.gz: Command '['bcftools', 'annotate', '--annotations', '/media/luis/LaCie/valente_gwas/dependables/ensembl_concat.GRCh37.vcf.gz', '--columns', 'ID', '--output', '/media/luis/LaCie/valente_gwas/outputData/post_imputation/annotated_normalized_chr3.dose.vcf.gz', '/media/luis/LaCie/valente_gwas/outputData/post_imputation/normalized_chr3.dose.vcf.gz']' returned non-zero exit status 255.\n",
      "Error annotating normalized_chr4.dose.vcf.gz: Command '['bcftools', 'annotate', '--annotations', '/media/luis/LaCie/valente_gwas/dependables/ensembl_concat.GRCh37.vcf.gz', '--columns', 'ID', '--output', '/media/luis/LaCie/valente_gwas/outputData/post_imputation/annotated_normalized_chr4.dose.vcf.gz', '/media/luis/LaCie/valente_gwas/outputData/post_imputation/normalized_chr4.dose.vcf.gz']' returned non-zero exit status 255.\n",
      "Error annotating normalized_chr5.dose.vcf.gz: Command '['bcftools', 'annotate', '--annotations', '/media/luis/LaCie/valente_gwas/dependables/ensembl_concat.GRCh37.vcf.gz', '--columns', 'ID', '--output', '/media/luis/LaCie/valente_gwas/outputData/post_imputation/annotated_normalized_chr5.dose.vcf.gz', '/media/luis/LaCie/valente_gwas/outputData/post_imputation/normalized_chr5.dose.vcf.gz']' returned non-zero exit status 255.\n",
      "Error annotating normalized_chr6.dose.vcf.gz: Command '['bcftools', 'annotate', '--annotations', '/media/luis/LaCie/valente_gwas/dependables/ensembl_concat.GRCh37.vcf.gz', '--columns', 'ID', '--output', '/media/luis/LaCie/valente_gwas/outputData/post_imputation/annotated_normalized_chr6.dose.vcf.gz', '/media/luis/LaCie/valente_gwas/outputData/post_imputation/normalized_chr6.dose.vcf.gz']' returned non-zero exit status 255.\n",
      "Error annotating normalized_chr7.dose.vcf.gz: Command '['bcftools', 'annotate', '--annotations', '/media/luis/LaCie/valente_gwas/dependables/ensembl_concat.GRCh37.vcf.gz', '--columns', 'ID', '--output', '/media/luis/LaCie/valente_gwas/outputData/post_imputation/annotated_normalized_chr7.dose.vcf.gz', '/media/luis/LaCie/valente_gwas/outputData/post_imputation/normalized_chr7.dose.vcf.gz']' returned non-zero exit status 255.\n",
      "Error annotating normalized_chr8.dose.vcf.gz: Command '['bcftools', 'annotate', '--annotations', '/media/luis/LaCie/valente_gwas/dependables/ensembl_concat.GRCh37.vcf.gz', '--columns', 'ID', '--output', '/media/luis/LaCie/valente_gwas/outputData/post_imputation/annotated_normalized_chr8.dose.vcf.gz', '/media/luis/LaCie/valente_gwas/outputData/post_imputation/normalized_chr8.dose.vcf.gz']' returned non-zero exit status 255.\n",
      "Error annotating normalized_chr9.dose.vcf.gz: Command '['bcftools', 'annotate', '--annotations', '/media/luis/LaCie/valente_gwas/dependables/ensembl_concat.GRCh37.vcf.gz', '--columns', 'ID', '--output', '/media/luis/LaCie/valente_gwas/outputData/post_imputation/annotated_normalized_chr9.dose.vcf.gz', '/media/luis/LaCie/valente_gwas/outputData/post_imputation/normalized_chr9.dose.vcf.gz']' returned non-zero exit status 255.\n"
     ]
    },
    {
     "name": "stderr",
     "output_type": "stream",
     "text": [
      "[E::idx_find_and_load] Could not retrieve index file for '/media/luis/LaCie/valente_gwas/outputData/post_imputation/normalized_chr7.dose.vcf.gz'\n",
      "Failed to read from /media/luis/LaCie/valente_gwas/outputData/post_imputation/normalized_chr7.dose.vcf.gz: could not load index\n",
      "[E::idx_find_and_load] Could not retrieve index file for '/media/luis/LaCie/valente_gwas/outputData/post_imputation/normalized_chr8.dose.vcf.gz'\n",
      "Failed to read from /media/luis/LaCie/valente_gwas/outputData/post_imputation/normalized_chr8.dose.vcf.gz: could not load index\n",
      "[E::idx_find_and_load] Could not retrieve index file for '/media/luis/LaCie/valente_gwas/outputData/post_imputation/normalized_chr9.dose.vcf.gz'\n",
      "Failed to read from /media/luis/LaCie/valente_gwas/outputData/post_imputation/normalized_chr9.dose.vcf.gz: could not load index\n",
      "[E::idx_find_and_load] Could not retrieve index file for '/media/luis/LaCie/valente_gwas/outputData/post_imputation/normalized_chr10.dose.vcf.gz'\n",
      "Failed to read from /media/luis/LaCie/valente_gwas/outputData/post_imputation/normalized_chr10.dose.vcf.gz: could not load index\n",
      "[E::idx_find_and_load] Could not retrieve index file for '/media/luis/LaCie/valente_gwas/outputData/post_imputation/normalized_chr11.dose.vcf.gz'\n",
      "Failed to read from /media/luis/LaCie/valente_gwas/outputData/post_imputation/normalized_chr11.dose.vcf.gz: could not load index\n",
      "[E::idx_find_and_load] Could not retrieve index file for '/media/luis/LaCie/valente_gwas/outputData/post_imputation/normalized_chr12.dose.vcf.gz'\n",
      "Failed to read from /media/luis/LaCie/valente_gwas/outputData/post_imputation/normalized_chr12.dose.vcf.gz: could not load index\n",
      "[E::idx_find_and_load] Could not retrieve index file for '/media/luis/LaCie/valente_gwas/outputData/post_imputation/normalized_chr13.dose.vcf.gz'\n",
      "Failed to read from /media/luis/LaCie/valente_gwas/outputData/post_imputation/normalized_chr13.dose.vcf.gz: could not load index\n"
     ]
    },
    {
     "name": "stdout",
     "output_type": "stream",
     "text": [
      "Error annotating normalized_chr10.dose.vcf.gz: Command '['bcftools', 'annotate', '--annotations', '/media/luis/LaCie/valente_gwas/dependables/ensembl_concat.GRCh37.vcf.gz', '--columns', 'ID', '--output', '/media/luis/LaCie/valente_gwas/outputData/post_imputation/annotated_normalized_chr10.dose.vcf.gz', '/media/luis/LaCie/valente_gwas/outputData/post_imputation/normalized_chr10.dose.vcf.gz']' returned non-zero exit status 255.\n",
      "Error annotating normalized_chr11.dose.vcf.gz: Command '['bcftools', 'annotate', '--annotations', '/media/luis/LaCie/valente_gwas/dependables/ensembl_concat.GRCh37.vcf.gz', '--columns', 'ID', '--output', '/media/luis/LaCie/valente_gwas/outputData/post_imputation/annotated_normalized_chr11.dose.vcf.gz', '/media/luis/LaCie/valente_gwas/outputData/post_imputation/normalized_chr11.dose.vcf.gz']' returned non-zero exit status 255.\n",
      "Error annotating normalized_chr12.dose.vcf.gz: Command '['bcftools', 'annotate', '--annotations', '/media/luis/LaCie/valente_gwas/dependables/ensembl_concat.GRCh37.vcf.gz', '--columns', 'ID', '--output', '/media/luis/LaCie/valente_gwas/outputData/post_imputation/annotated_normalized_chr12.dose.vcf.gz', '/media/luis/LaCie/valente_gwas/outputData/post_imputation/normalized_chr12.dose.vcf.gz']' returned non-zero exit status 255.\n",
      "Error annotating normalized_chr13.dose.vcf.gz: Command '['bcftools', 'annotate', '--annotations', '/media/luis/LaCie/valente_gwas/dependables/ensembl_concat.GRCh37.vcf.gz', '--columns', 'ID', '--output', '/media/luis/LaCie/valente_gwas/outputData/post_imputation/annotated_normalized_chr13.dose.vcf.gz', '/media/luis/LaCie/valente_gwas/outputData/post_imputation/normalized_chr13.dose.vcf.gz']' returned non-zero exit status 255.\n",
      "Error annotating normalized_chr14.dose.vcf.gz: Command '['bcftools', 'annotate', '--annotations', '/media/luis/LaCie/valente_gwas/dependables/ensembl_concat.GRCh37.vcf.gz', '--columns', 'ID', '--output', '/media/luis/LaCie/valente_gwas/outputData/post_imputation/annotated_normalized_chr14.dose.vcf.gz', '/media/luis/LaCie/valente_gwas/outputData/post_imputation/normalized_chr14.dose.vcf.gz']' returned non-zero exit status 255.\n",
      "Error annotating normalized_chr15.dose.vcf.gz: Command '['bcftools', 'annotate', '--annotations', '/media/luis/LaCie/valente_gwas/dependables/ensembl_concat.GRCh37.vcf.gz', '--columns', 'ID', '--output', '/media/luis/LaCie/valente_gwas/outputData/post_imputation/annotated_normalized_chr15.dose.vcf.gz', '/media/luis/LaCie/valente_gwas/outputData/post_imputation/normalized_chr15.dose.vcf.gz']' returned non-zero exit status 255.\n",
      "Error annotating normalized_chr16.dose.vcf.gz: Command '['bcftools', 'annotate', '--annotations', '/media/luis/LaCie/valente_gwas/dependables/ensembl_concat.GRCh37.vcf.gz', '--columns', 'ID', '--output', '/media/luis/LaCie/valente_gwas/outputData/post_imputation/annotated_normalized_chr16.dose.vcf.gz', '/media/luis/LaCie/valente_gwas/outputData/post_imputation/normalized_chr16.dose.vcf.gz']' returned non-zero exit status 255.\n"
     ]
    },
    {
     "name": "stderr",
     "output_type": "stream",
     "text": [
      "[E::idx_find_and_load] Could not retrieve index file for '/media/luis/LaCie/valente_gwas/outputData/post_imputation/normalized_chr14.dose.vcf.gz'\n",
      "Failed to read from /media/luis/LaCie/valente_gwas/outputData/post_imputation/normalized_chr14.dose.vcf.gz: could not load index\n",
      "[E::idx_find_and_load] Could not retrieve index file for '/media/luis/LaCie/valente_gwas/outputData/post_imputation/normalized_chr15.dose.vcf.gz'\n",
      "Failed to read from /media/luis/LaCie/valente_gwas/outputData/post_imputation/normalized_chr15.dose.vcf.gz: could not load index\n",
      "[E::idx_find_and_load] Could not retrieve index file for '/media/luis/LaCie/valente_gwas/outputData/post_imputation/normalized_chr16.dose.vcf.gz'\n",
      "Failed to read from /media/luis/LaCie/valente_gwas/outputData/post_imputation/normalized_chr16.dose.vcf.gz: could not load index\n",
      "[E::idx_find_and_load] Could not retrieve index file for '/media/luis/LaCie/valente_gwas/outputData/post_imputation/normalized_chr17.dose.vcf.gz'\n",
      "Failed to read from /media/luis/LaCie/valente_gwas/outputData/post_imputation/normalized_chr17.dose.vcf.gz: could not load index\n",
      "[E::idx_find_and_load] Could not retrieve index file for '/media/luis/LaCie/valente_gwas/outputData/post_imputation/normalized_chr18.dose.vcf.gz'\n",
      "Failed to read from /media/luis/LaCie/valente_gwas/outputData/post_imputation/normalized_chr18.dose.vcf.gz: could not load index\n",
      "[E::idx_find_and_load] Could not retrieve index file for '/media/luis/LaCie/valente_gwas/outputData/post_imputation/normalized_chr19.dose.vcf.gz'\n",
      "Failed to read from /media/luis/LaCie/valente_gwas/outputData/post_imputation/normalized_chr19.dose.vcf.gz: could not load index\n",
      "[E::idx_find_and_load] Could not retrieve index file for '/media/luis/LaCie/valente_gwas/outputData/post_imputation/normalized_chr20.dose.vcf.gz'\n",
      "Failed to read from /media/luis/LaCie/valente_gwas/outputData/post_imputation/normalized_chr20.dose.vcf.gz: could not load index\n"
     ]
    },
    {
     "name": "stdout",
     "output_type": "stream",
     "text": [
      "Error annotating normalized_chr17.dose.vcf.gz: Command '['bcftools', 'annotate', '--annotations', '/media/luis/LaCie/valente_gwas/dependables/ensembl_concat.GRCh37.vcf.gz', '--columns', 'ID', '--output', '/media/luis/LaCie/valente_gwas/outputData/post_imputation/annotated_normalized_chr17.dose.vcf.gz', '/media/luis/LaCie/valente_gwas/outputData/post_imputation/normalized_chr17.dose.vcf.gz']' returned non-zero exit status 255.\n",
      "Error annotating normalized_chr18.dose.vcf.gz: Command '['bcftools', 'annotate', '--annotations', '/media/luis/LaCie/valente_gwas/dependables/ensembl_concat.GRCh37.vcf.gz', '--columns', 'ID', '--output', '/media/luis/LaCie/valente_gwas/outputData/post_imputation/annotated_normalized_chr18.dose.vcf.gz', '/media/luis/LaCie/valente_gwas/outputData/post_imputation/normalized_chr18.dose.vcf.gz']' returned non-zero exit status 255.\n",
      "Error annotating normalized_chr19.dose.vcf.gz: Command '['bcftools', 'annotate', '--annotations', '/media/luis/LaCie/valente_gwas/dependables/ensembl_concat.GRCh37.vcf.gz', '--columns', 'ID', '--output', '/media/luis/LaCie/valente_gwas/outputData/post_imputation/annotated_normalized_chr19.dose.vcf.gz', '/media/luis/LaCie/valente_gwas/outputData/post_imputation/normalized_chr19.dose.vcf.gz']' returned non-zero exit status 255.\n",
      "Error annotating normalized_chr20.dose.vcf.gz: Command '['bcftools', 'annotate', '--annotations', '/media/luis/LaCie/valente_gwas/dependables/ensembl_concat.GRCh37.vcf.gz', '--columns', 'ID', '--output', '/media/luis/LaCie/valente_gwas/outputData/post_imputation/annotated_normalized_chr20.dose.vcf.gz', '/media/luis/LaCie/valente_gwas/outputData/post_imputation/normalized_chr20.dose.vcf.gz']' returned non-zero exit status 255.\n",
      "Error annotating normalized_chr21.dose.vcf.gz: Command '['bcftools', 'annotate', '--annotations', '/media/luis/LaCie/valente_gwas/dependables/ensembl_concat.GRCh37.vcf.gz', '--columns', 'ID', '--output', '/media/luis/LaCie/valente_gwas/outputData/post_imputation/annotated_normalized_chr21.dose.vcf.gz', '/media/luis/LaCie/valente_gwas/outputData/post_imputation/normalized_chr21.dose.vcf.gz']' returned non-zero exit status 255.\n",
      "Error annotating normalized_chr22.dose.vcf.gz: Command '['bcftools', 'annotate', '--annotations', '/media/luis/LaCie/valente_gwas/dependables/ensembl_concat.GRCh37.vcf.gz', '--columns', 'ID', '--output', '/media/luis/LaCie/valente_gwas/outputData/post_imputation/annotated_normalized_chr22.dose.vcf.gz', '/media/luis/LaCie/valente_gwas/outputData/post_imputation/normalized_chr22.dose.vcf.gz']' returned non-zero exit status 255.\n",
      "\u001b[1mIndex VCF files.\u001b[0m\n",
      "Error indexing annotated_normalized_chr1.dose.vcf.gz: Command '['bcftools', 'index', '/media/luis/LaCie/valente_gwas/outputData/post_imputation/annotated_normalized_chr1.dose.vcf.gz']' returned non-zero exit status 255.\n",
      "Error indexing annotated_normalized_chr2.dose.vcf.gz: Command '['bcftools', 'index', '/media/luis/LaCie/valente_gwas/outputData/post_imputation/annotated_normalized_chr2.dose.vcf.gz']' returned non-zero exit status 255.\n",
      "Error indexing annotated_normalized_chr3.dose.vcf.gz: Command '['bcftools', 'index', '/media/luis/LaCie/valente_gwas/outputData/post_imputation/annotated_normalized_chr3.dose.vcf.gz']' returned non-zero exit status 255.\n",
      "Error indexing annotated_normalized_chr4.dose.vcf.gz: Command '['bcftools', 'index', '/media/luis/LaCie/valente_gwas/outputData/post_imputation/annotated_normalized_chr4.dose.vcf.gz']' returned non-zero exit status 255.\n",
      "Error indexing annotated_normalized_chr5.dose.vcf.gz: Command '['bcftools', 'index', '/media/luis/LaCie/valente_gwas/outputData/post_imputation/annotated_normalized_chr5.dose.vcf.gz']' returned non-zero exit status 255.\n",
      "Error indexing annotated_normalized_chr6.dose.vcf.gz: Command '['bcftools', 'index', '/media/luis/LaCie/valente_gwas/outputData/post_imputation/annotated_normalized_chr6.dose.vcf.gz']' returned non-zero exit status 255.\n",
      "Error indexing annotated_normalized_chr7.dose.vcf.gz: Command '['bcftools', 'index', '/media/luis/LaCie/valente_gwas/outputData/post_imputation/annotated_normalized_chr7.dose.vcf.gz']' returned non-zero exit status 255.\n",
      "Error indexing annotated_normalized_chr8.dose.vcf.gz: Command '['bcftools', 'index', '/media/luis/LaCie/valente_gwas/outputData/post_imputation/annotated_normalized_chr8.dose.vcf.gz']' returned non-zero exit status 255.\n",
      "Error indexing annotated_normalized_chr9.dose.vcf.gz: Command '['bcftools', 'index', '/media/luis/LaCie/valente_gwas/outputData/post_imputation/annotated_normalized_chr9.dose.vcf.gz']' returned non-zero exit status 255.\n",
      "Error indexing annotated_normalized_chr10.dose.vcf.gz: Command '['bcftools', 'index', '/media/luis/LaCie/valente_gwas/outputData/post_imputation/annotated_normalized_chr10.dose.vcf.gz']' returned non-zero exit status 255.\n",
      "Error indexing annotated_normalized_chr11.dose.vcf.gz: Command '['bcftools', 'index', '/media/luis/LaCie/valente_gwas/outputData/post_imputation/annotated_normalized_chr11.dose.vcf.gz']' returned non-zero exit status 255.\n",
      "Error indexing annotated_normalized_chr12.dose.vcf.gz: Command '['bcftools', 'index', '/media/luis/LaCie/valente_gwas/outputData/post_imputation/annotated_normalized_chr12.dose.vcf.gz']' returned non-zero exit status 255.\n",
      "Error indexing annotated_normalized_chr13.dose.vcf.gz: Command '['bcftools', 'index', '/media/luis/LaCie/valente_gwas/outputData/post_imputation/annotated_normalized_chr13.dose.vcf.gz']' returned non-zero exit status 255.\n",
      "Error indexing annotated_normalized_chr14.dose.vcf.gz: Command '['bcftools', 'index', '/media/luis/LaCie/valente_gwas/outputData/post_imputation/annotated_normalized_chr14.dose.vcf.gz']' returned non-zero exit status 255.\n",
      "Error indexing annotated_normalized_chr15.dose.vcf.gz: Command '['bcftools', 'index', '/media/luis/LaCie/valente_gwas/outputData/post_imputation/annotated_normalized_chr15.dose.vcf.gz']' returned non-zero exit status 255.\n",
      "Error indexing annotated_normalized_chr16.dose.vcf.gz: Command '['bcftools', 'index', '/media/luis/LaCie/valente_gwas/outputData/post_imputation/annotated_normalized_chr16.dose.vcf.gz']' returned non-zero exit status 255.\n",
      "Error indexing annotated_normalized_chr17.dose.vcf.gz: Command '['bcftools', 'index', '/media/luis/LaCie/valente_gwas/outputData/post_imputation/annotated_normalized_chr17.dose.vcf.gz']' returned non-zero exit status 255.\n",
      "Error indexing annotated_normalized_chr18.dose.vcf.gz: Command '['bcftools', 'index', '/media/luis/LaCie/valente_gwas/outputData/post_imputation/annotated_normalized_chr18.dose.vcf.gz']' returned non-zero exit status 255.\n",
      "Error indexing annotated_normalized_chr19.dose.vcf.gz: Command '['bcftools', 'index', '/media/luis/LaCie/valente_gwas/outputData/post_imputation/annotated_normalized_chr19.dose.vcf.gz']' returned non-zero exit status 255.\n",
      "Error indexing annotated_normalized_chr20.dose.vcf.gz: Command '['bcftools', 'index', '/media/luis/LaCie/valente_gwas/outputData/post_imputation/annotated_normalized_chr20.dose.vcf.gz']' returned non-zero exit status 255.\n",
      "Error indexing annotated_normalized_chr21.dose.vcf.gz: Command '['bcftools', 'index', '/media/luis/LaCie/valente_gwas/outputData/post_imputation/annotated_normalized_chr21.dose.vcf.gz']' returned non-zero exit status 255.\n",
      "Error indexing annotated_normalized_chr22.dose.vcf.gz: Command '['bcftools', 'index', '/media/luis/LaCie/valente_gwas/outputData/post_imputation/annotated_normalized_chr22.dose.vcf.gz']' returned non-zero exit status 255.\n",
      "\u001b[1mConcatenate VCF files.\u001b[0m\n",
      "Error concatenating VCF files: Command '['bcftools', 'concat', 'annotated_normalized_chr1.dose.vcf.gz', 'annotated_normalized_chr2.dose.vcf.gz', 'annotated_normalized_chr3.dose.vcf.gz', 'annotated_normalized_chr4.dose.vcf.gz', 'annotated_normalized_chr5.dose.vcf.gz', 'annotated_normalized_chr6.dose.vcf.gz', 'annotated_normalized_chr7.dose.vcf.gz', 'annotated_normalized_chr8.dose.vcf.gz', 'annotated_normalized_chr9.dose.vcf.gz', 'annotated_normalized_chr10.dose.vcf.gz', 'annotated_normalized_chr11.dose.vcf.gz', 'annotated_normalized_chr12.dose.vcf.gz', 'annotated_normalized_chr13.dose.vcf.gz', 'annotated_normalized_chr14.dose.vcf.gz', 'annotated_normalized_chr15.dose.vcf.gz', 'annotated_normalized_chr16.dose.vcf.gz', 'annotated_normalized_chr17.dose.vcf.gz', 'annotated_normalized_chr18.dose.vcf.gz', 'annotated_normalized_chr19.dose.vcf.gz', 'annotated_normalized_chr20.dose.vcf.gz', 'annotated_normalized_chr21.dose.vcf.gz', 'annotated_normalized_chr22.dose.vcf.gz', '--threads', '28', '-Oz', '-o', '/media/luis/LaCie/valente_gwas/outputData/post_imputation/annotated_normalized_combined_1_22.vcf.gz']' returned non-zero exit status 255.\n",
      "\u001b[1mGet PLINK files.\u001b[0m\n",
      "PLINK v2.00a6LM 64-bit Intel (18 Aug 2024)     www.cog-genomics.org/plink/2.0/\n",
      "(C) 2005-2024 Shaun Purcell, Christopher Chang   GNU General Public License v3\n",
      "Logging to /media/luis/LaCie/valente_gwas/outputData/analysis_ready/test_valente.log.\n",
      "Options in effect:\n",
      "  --make-bed\n",
      "  --memory 38859.0\n",
      "  --out /media/luis/LaCie/valente_gwas/outputData/analysis_ready/test_valente\n",
      "  --snps-only just-acgt\n",
      "  --threads 30\n",
      "  --vcf /media/luis/LaCie/valente_gwas/outputData/post_imputation/annotated_normalized_combined_1_22.vcf.gz\n",
      "\n",
      "Start time: Thu Jan 16 15:56:34 2025\n",
      "63863 MiB RAM detected, ~58293 available; reserving 38859 MiB for main\n",
      "workspace.\n",
      "Using up to 30 threads (change this with --threads).\n",
      "End time: Thu Jan 16 15:56:34 2025\n",
      "Error running PLINK2: Command '['plink2', '--vcf', '/media/luis/LaCie/valente_gwas/outputData/post_imputation/annotated_normalized_combined_1_22.vcf.gz', '--snps-only', 'just-acgt', '--make-bed', '--out', '/media/luis/LaCie/valente_gwas/outputData/analysis_ready/test_valente', '--threads', '30', '--memory', '38859.0']' returned non-zero exit status 3.\n"
     ]
    },
    {
     "name": "stderr",
     "output_type": "stream",
     "text": [
      "[E::idx_find_and_load] Could not retrieve index file for '/media/luis/LaCie/valente_gwas/outputData/post_imputation/normalized_chr21.dose.vcf.gz'\n",
      "Failed to read from /media/luis/LaCie/valente_gwas/outputData/post_imputation/normalized_chr21.dose.vcf.gz: could not load index\n",
      "[E::idx_find_and_load] Could not retrieve index file for '/media/luis/LaCie/valente_gwas/outputData/post_imputation/normalized_chr22.dose.vcf.gz'\n",
      "Failed to read from /media/luis/LaCie/valente_gwas/outputData/post_imputation/normalized_chr22.dose.vcf.gz: could not load index\n",
      "index: failed to open /media/luis/LaCie/valente_gwas/outputData/post_imputation/annotated_normalized_chr1.dose.vcf.gz\n",
      "index: failed to open /media/luis/LaCie/valente_gwas/outputData/post_imputation/annotated_normalized_chr2.dose.vcf.gz\n",
      "index: failed to open /media/luis/LaCie/valente_gwas/outputData/post_imputation/annotated_normalized_chr3.dose.vcf.gz\n",
      "index: failed to open /media/luis/LaCie/valente_gwas/outputData/post_imputation/annotated_normalized_chr4.dose.vcf.gz\n",
      "index: failed to open /media/luis/LaCie/valente_gwas/outputData/post_imputation/annotated_normalized_chr5.dose.vcf.gz\n",
      "index: failed to open /media/luis/LaCie/valente_gwas/outputData/post_imputation/annotated_normalized_chr6.dose.vcf.gz\n",
      "index: failed to open /media/luis/LaCie/valente_gwas/outputData/post_imputation/annotated_normalized_chr7.dose.vcf.gz\n",
      "index: failed to open /media/luis/LaCie/valente_gwas/outputData/post_imputation/annotated_normalized_chr8.dose.vcf.gz\n",
      "index: failed to open /media/luis/LaCie/valente_gwas/outputData/post_imputation/annotated_normalized_chr9.dose.vcf.gz\n",
      "index: failed to open /media/luis/LaCie/valente_gwas/outputData/post_imputation/annotated_normalized_chr10.dose.vcf.gz\n",
      "index: failed to open /media/luis/LaCie/valente_gwas/outputData/post_imputation/annotated_normalized_chr11.dose.vcf.gz\n",
      "index: failed to open /media/luis/LaCie/valente_gwas/outputData/post_imputation/annotated_normalized_chr12.dose.vcf.gz\n",
      "index: failed to open /media/luis/LaCie/valente_gwas/outputData/post_imputation/annotated_normalized_chr13.dose.vcf.gz\n",
      "index: failed to open /media/luis/LaCie/valente_gwas/outputData/post_imputation/annotated_normalized_chr14.dose.vcf.gz\n",
      "index: failed to open /media/luis/LaCie/valente_gwas/outputData/post_imputation/annotated_normalized_chr15.dose.vcf.gz\n",
      "index: failed to open /media/luis/LaCie/valente_gwas/outputData/post_imputation/annotated_normalized_chr16.dose.vcf.gz\n",
      "index: failed to open /media/luis/LaCie/valente_gwas/outputData/post_imputation/annotated_normalized_chr17.dose.vcf.gz\n",
      "index: failed to open /media/luis/LaCie/valente_gwas/outputData/post_imputation/annotated_normalized_chr18.dose.vcf.gz\n",
      "index: failed to open /media/luis/LaCie/valente_gwas/outputData/post_imputation/annotated_normalized_chr19.dose.vcf.gz\n",
      "index: failed to open /media/luis/LaCie/valente_gwas/outputData/post_imputation/annotated_normalized_chr20.dose.vcf.gz\n",
      "index: failed to open /media/luis/LaCie/valente_gwas/outputData/post_imputation/annotated_normalized_chr21.dose.vcf.gz\n",
      "index: failed to open /media/luis/LaCie/valente_gwas/outputData/post_imputation/annotated_normalized_chr22.dose.vcf.gz\n",
      "Checking the headers and starting positions of 22 files\n",
      "[E::hts_open_format] Failed to open file \"annotated_normalized_chr1.dose.vcf.gz\" : No such file or directory\n",
      "Failed to open: annotated_normalized_chr1.dose.vcf.gz\n",
      "Error: Failed to open\n",
      "/media/luis/LaCie/valente_gwas/outputData/post_imputation/annotated_normalized_combined_1_22.vcf.gz\n",
      ": No such file or directory.\n"
     ]
    }
   ],
   "source": [
    "post_imp_steps = {\n",
    "    #'unzip_chrom' : (post_imp.execute_unzip_chromosome_files, (post_imputation_params['zip_password'],)),\n",
    "    'filter_by_R2': (post_imp.execute_filter_variants, (post_imputation_params['r2_threshold'],)),\n",
    "    'normalize'   : (post_imp.execute_normalize_vcf, (post_imputation_params['ref_genome'],)),\n",
    "    'annotate'    : (post_imp.execute_annotate_vcf, (post_imputation_params['ref_annotation'],)),\n",
    "    'index'       : (post_imp.execute_index_vcf, ()),\n",
    "    'concatenate' : (post_imp.execute_concat_vcf, ()),\n",
    "    'get_plink'   : (post_imp.get_plink_files, ()),\n",
    "}\n",
    "\n",
    "step_description = {\n",
    "    #'unzip_chrom' : 'Unzip chromosome files',\n",
    "    'filter_by_R2': 'Filter imputed variants by R2',\n",
    "    'normalize'   : 'Normalize VCF files',\n",
    "    'annotate'    : 'Annotate VCF files',\n",
    "    'index'       : 'Index VCF files',\n",
    "    'concatenate' : 'Concatenate VCF files',\n",
    "    'get_plink'   : 'Get PLINK files',\n",
    "}\n",
    "\n",
    "for name, (func, params) in post_imp_steps.items():\n",
    "    print(f\"\\033[1m{step_description[name]}.\\033[0m\")\n",
    "    func(*params)"
   ]
  }
 ],
 "metadata": {
  "kernelspec": {
   "display_name": "ideal-genom-NcAYBj8M-py3.10",
   "language": "python",
   "name": "python3"
  },
  "language_info": {
   "codemirror_mode": {
    "name": "ipython",
    "version": 3
   },
   "file_extension": ".py",
   "mimetype": "text/x-python",
   "name": "python",
   "nbconvert_exporter": "python",
   "pygments_lexer": "ipython3",
   "version": "3.10.15"
  }
 },
 "nbformat": 4,
 "nbformat_minor": 2
}
