{
 "cells": [
  {
   "cell_type": "markdown",
   "metadata": {},
   "source": [
    "# Process Imputed Files\n",
    "\n",
    "The present notebook serves as a guide of how use the `IDEAL-GENOM` library to process the imputed files. We intend to show a possible use, because each user can adapt it to its particular needs.\n",
    "\n",
    "The first step is to import the requires libraries."
   ]
  },
  {
   "cell_type": "code",
   "execution_count": 1,
   "metadata": {},
   "outputs": [],
   "source": [
    "import sys\n",
    "import os\n",
    "\n",
    "import pandas as pd\n",
    "\n",
    "# add parent directory to path\n",
    "library_path = os.path.abspath('..')\n",
    "if library_path not in sys.path:\n",
    "    sys.path.append(library_path)\n",
    "\n",
    "from ideal_genom.preprocessing.post_imputation import PostImputation"
   ]
  },
  {
   "cell_type": "markdown",
   "metadata": {},
   "source": [
    "In the next widgets the user must input the paths and filenames needed to process imputed data.\n",
    "\n",
    "1. `input_path`: folder with the input data. The pipeline assumes that the output of imputation is a collection of 22 zip files (one for each chromosome) with names `chr*.zip`;\n",
    "2. `dependables_path`: folder with external files needed to process the data, for example the file with the LD regions, in this case the file name must be `high-LD-regions.txt`;\n",
    "3. `output_path`: folder to output the results;\n",
    "4. `output_name`: the prefix of the PLINK binary files."
   ]
  },
  {
   "cell_type": "code",
   "execution_count": 2,
   "metadata": {},
   "outputs": [
    {
     "data": {
      "application/vnd.jupyter.widget-view+json": {
       "model_id": "9eb7a0ccff5a410290c61126cb4294c3",
       "version_major": 2,
       "version_minor": 0
      },
      "text/plain": [
       "Text(value='/media/luis/LaCie/valente_gwas/inputData/', description='Path to input zip files:', layout=Layout(…"
      ]
     },
     "metadata": {},
     "output_type": "display_data"
    },
    {
     "data": {
      "application/vnd.jupyter.widget-view+json": {
       "model_id": "af5a77249a7b4100b0e9705382e54ba6",
       "version_major": 2,
       "version_minor": 0
      },
      "text/plain": [
       "Text(value='/media/luis/LaCie/valente_gwas/dependables/', description='Path to dependable files:', layout=Layo…"
      ]
     },
     "metadata": {},
     "output_type": "display_data"
    },
    {
     "data": {
      "application/vnd.jupyter.widget-view+json": {
       "model_id": "30a8f4f409054739a1fa6a87dccbfaaf",
       "version_major": 2,
       "version_minor": 0
      },
      "text/plain": [
       "Text(value='/media/luis/LaCie/valente_gwas/outputData/', description='Path to output files:', layout=Layout(wi…"
      ]
     },
     "metadata": {},
     "output_type": "display_data"
    },
    {
     "data": {
      "application/vnd.jupyter.widget-view+json": {
       "model_id": "1f5d233bc1504ac699c73e8cfb65f055",
       "version_major": 2,
       "version_minor": 0
      },
      "text/plain": [
       "Text(value='test_valente', description='Name of the resulting files:', layout=Layout(width='50%'), style=TextS…"
      ]
     },
     "metadata": {},
     "output_type": "display_data"
    }
   ],
   "source": [
    "import ipywidgets as widgets\n",
    "from IPython.display import display\n",
    "\n",
    "# Create interactive widgets for input\n",
    "input_path = widgets.Text(\n",
    "    value='/media/luis/LaCie/valente_gwas/inputData/',\n",
    "    description='Path to input zip files:',\n",
    "    style={'description_width': 'initial'},\n",
    "    layout=widgets.Layout(width='50%')\n",
    ")\n",
    "\n",
    "dependables_path = widgets.Text(\n",
    "    value='/media/luis/LaCie/valente_gwas/dependables/',\n",
    "    description='Path to dependable files:',\n",
    "    style={'description_width': 'initial'},\n",
    "    layout=widgets.Layout(width='50%')\n",
    ")\n",
    "\n",
    "output_path = widgets.Text(\n",
    "    value='/media/luis/LaCie/valente_gwas/outputData/',\n",
    "    description='Path to output files:',\n",
    "    style={'description_width': 'initial'},\n",
    "    layout=widgets.Layout(width='50%')\n",
    ")\n",
    "output_name = widgets.Text(\n",
    "    value='test_valente',\n",
    "    description='Name of the resulting files:',\n",
    "    style={'description_width': 'initial'},\n",
    "    layout=widgets.Layout(width='50%')\n",
    ")\n",
    "# Display the widgets\n",
    "display(input_path, dependables_path, output_path, output_name)\n",
    "\n",
    "# Function to get the text parameter values\n",
    "def get_params():\n",
    "    return input_path.value, dependables_path.value, output_path.value, output_name.value"
   ]
  },
  {
   "cell_type": "code",
   "execution_count": 3,
   "metadata": {},
   "outputs": [
    {
     "name": "stdout",
     "output_type": "stream",
     "text": [
      "input_path:  /media/luis/LaCie/valente_gwas/inputData/\n",
      "dependables:  /media/luis/LaCie/valente_gwas/dependables/\n",
      "output_path:  /media/luis/LaCie/valente_gwas/outputData/\n",
      "output_name:  test_valente\n"
     ]
    }
   ],
   "source": [
    "path_params = get_params()\n",
    "print('input_path: ', path_params[0])\n",
    "print('dependables: ', path_params[1])\n",
    "print('output_path: ', path_params[2])\n",
    "print('output_name: ', path_params[3])"
   ]
  },
  {
   "cell_type": "markdown",
   "metadata": {},
   "source": [
    "With this info we can initializa the class `PostImputation`."
   ]
  },
  {
   "cell_type": "code",
   "execution_count": 4,
   "metadata": {},
   "outputs": [],
   "source": [
    "post_imp = PostImputation(\n",
    "    input_path =path_params[0],\n",
    "    dependables=path_params[1],\n",
    "    output_path=path_params[2],\n",
    "    output_name=path_params[3]\n",
    ")"
   ]
  },
  {
   "cell_type": "markdown",
   "metadata": {},
   "source": [
    "In the next widgets, please provide the parameters needed to execute the pipeline.\n",
    "\n",
    "1. `zip_password`: password to unzip the imputed data;\n",
    "2. `r2_threshold`: threshold to filter the imputed data according to $R^2$;\n",
    "3. `ref_genome`: name of the file with the information to normalize the data;\n",
    "4. `ref_annotation`: name of the file with the information needed to annotate the SNPs."
   ]
  },
  {
   "cell_type": "code",
   "execution_count": 5,
   "metadata": {},
   "outputs": [
    {
     "data": {
      "application/vnd.jupyter.widget-view+json": {
       "model_id": "58d1117a80ee4b328f6d2f0880b44eed",
       "version_major": 2,
       "version_minor": 0
      },
      "text/plain": [
       "Text(value='dummypwd', description='Password for the zip file:', layout=Layout(width='50%'), style=TextStyle(d…"
      ]
     },
     "metadata": {},
     "output_type": "display_data"
    },
    {
     "data": {
      "application/vnd.jupyter.widget-view+json": {
       "model_id": "bf8db256fe5042f48c41f52e771476af",
       "version_major": 2,
       "version_minor": 0
      },
      "text/plain": [
       "FloatText(value=0.3, description='R2 threshold (float):', layout=Layout(width='25%'), style=DescriptionStyle(d…"
      ]
     },
     "metadata": {},
     "output_type": "display_data"
    },
    {
     "data": {
      "application/vnd.jupyter.widget-view+json": {
       "model_id": "e24639be24774bfb99418f6694409386",
       "version_major": 2,
       "version_minor": 0
      },
      "text/plain": [
       "Text(value='hs37d5.fa', description='Reference genome file name:', layout=Layout(width='50%'), style=TextStyle…"
      ]
     },
     "metadata": {},
     "output_type": "display_data"
    },
    {
     "data": {
      "application/vnd.jupyter.widget-view+json": {
       "model_id": "1ab1b12a99d340bebf71a8a11359884b",
       "version_major": 2,
       "version_minor": 0
      },
      "text/plain": [
       "Text(value='ensembl_concat.GRCh37.vcf.gz', description='Reference annotation file name:', layout=Layout(width=…"
      ]
     },
     "metadata": {},
     "output_type": "display_data"
    }
   ],
   "source": [
    "zip_password = widgets.Text(\n",
    "    value='dummypwd',\n",
    "    description='Password for the zip file:',\n",
    "    style={'description_width': 'initial'},\n",
    "    layout=widgets.Layout(width='50%')\n",
    ")\n",
    "\n",
    "r2_threshold = widgets.FloatText(\n",
    "    value=0.3,  # Default value\n",
    "    description='R2 threshold (float):',\n",
    "    style={'description_width': 'initial'},\n",
    "    layout=widgets.Layout(width='25%')\n",
    ")\n",
    "\n",
    "ref_genome = widgets.Text(\n",
    "    value='hs37d5.fa',\n",
    "    description='Reference genome file name:',\n",
    "    style={'description_width': 'initial'},\n",
    "    layout=widgets.Layout(width='50%')\n",
    ")\n",
    "\n",
    "ref_annotation = widgets.Text(\n",
    "    value='ensembl_concat.GRCh37.vcf.gz',\n",
    "    description='Reference annotation file name:',\n",
    "    style={'description_width': 'initial'},\n",
    "    layout=widgets.Layout(width='50%')\n",
    ")\n",
    "\n",
    "display(zip_password, r2_threshold, ref_genome, ref_annotation)\n",
    "\n",
    "def get_post_imputation_params():\n",
    "\n",
    "    post_imputation_params = dict()\n",
    "    \n",
    "    post_imputation_params['zip_password']  = zip_password.value\n",
    "    post_imputation_params['r2_threshold']  = r2_threshold.value\n",
    "    post_imputation_params['ref_genome']    = ref_genome.value\n",
    "    post_imputation_params['ref_annotation']= ref_annotation.value\n",
    "    \n",
    "    return post_imputation_params"
   ]
  },
  {
   "cell_type": "code",
   "execution_count": 6,
   "metadata": {},
   "outputs": [
    {
     "data": {
      "text/plain": [
       "{'zip_password': 'dummypwd',\n",
       " 'r2_threshold': 0.3,\n",
       " 'ref_genome': 'hs37d5.fa',\n",
       " 'ref_annotation': 'ensembl_concat.GRCh37.vcf.gz'}"
      ]
     },
     "execution_count": 6,
     "metadata": {},
     "output_type": "execute_result"
    }
   ],
   "source": [
    "post_imputation_params = get_post_imputation_params()\n",
    "post_imputation_params"
   ]
  },
  {
   "cell_type": "markdown",
   "metadata": {},
   "source": [
    "Execute the pipeline steps."
   ]
  },
  {
   "cell_type": "code",
   "execution_count": 7,
   "metadata": {},
   "outputs": [
    {
     "name": "stdout",
     "output_type": "stream",
     "text": [
      "\u001b[1mConcatenate VCF files.\u001b[0m\n"
     ]
    },
    {
     "name": "stderr",
     "output_type": "stream",
     "text": [
      "Checking the headers and starting positions of 22 files\n",
      "Concatenating /media/luis/LaCie/valente_gwas/outputData/post_imputation/annotated_normalized_chr1.dose.vcf.gz\t40.153340 seconds\n",
      "Concatenating /media/luis/LaCie/valente_gwas/outputData/post_imputation/annotated_normalized_chr2.dose.vcf.gz\t43.700640 seconds\n",
      "Concatenating /media/luis/LaCie/valente_gwas/outputData/post_imputation/annotated_normalized_chr3.dose.vcf.gz\t36.183638 seconds\n",
      "Concatenating /media/luis/LaCie/valente_gwas/outputData/post_imputation/annotated_normalized_chr4.dose.vcf.gz\t36.764294 seconds\n",
      "Concatenating /media/luis/LaCie/valente_gwas/outputData/post_imputation/annotated_normalized_chr5.dose.vcf.gz\t31.360012 seconds\n",
      "Concatenating /media/luis/LaCie/valente_gwas/outputData/post_imputation/annotated_normalized_chr6.dose.vcf.gz\t32.354308 seconds\n",
      "Concatenating /media/luis/LaCie/valente_gwas/outputData/post_imputation/annotated_normalized_chr7.dose.vcf.gz\t29.996464 seconds\n",
      "Concatenating /media/luis/LaCie/valente_gwas/outputData/post_imputation/annotated_normalized_chr8.dose.vcf.gz\t28.628318 seconds\n",
      "Concatenating /media/luis/LaCie/valente_gwas/outputData/post_imputation/annotated_normalized_chr9.dose.vcf.gz\t21.920614 seconds\n",
      "Concatenating /media/luis/LaCie/valente_gwas/outputData/post_imputation/annotated_normalized_chr10.dose.vcf.gz\t24.562402 seconds\n",
      "Concatenating /media/luis/LaCie/valente_gwas/outputData/post_imputation/annotated_normalized_chr11.dose.vcf.gz\t24.956668 seconds\n",
      "Concatenating /media/luis/LaCie/valente_gwas/outputData/post_imputation/annotated_normalized_chr12.dose.vcf.gz\t23.560492 seconds\n",
      "Concatenating /media/luis/LaCie/valente_gwas/outputData/post_imputation/annotated_normalized_chr13.dose.vcf.gz\t18.650141 seconds\n",
      "Concatenating /media/luis/LaCie/valente_gwas/outputData/post_imputation/annotated_normalized_chr14.dose.vcf.gz\t16.256494 seconds\n",
      "Concatenating /media/luis/LaCie/valente_gwas/outputData/post_imputation/annotated_normalized_chr15.dose.vcf.gz\t15.290769 seconds\n",
      "Concatenating /media/luis/LaCie/valente_gwas/outputData/post_imputation/annotated_normalized_chr16.dose.vcf.gz\t17.013873 seconds\n",
      "Concatenating /media/luis/LaCie/valente_gwas/outputData/post_imputation/annotated_normalized_chr17.dose.vcf.gz\t14.435077 seconds\n",
      "Concatenating /media/luis/LaCie/valente_gwas/outputData/post_imputation/annotated_normalized_chr18.dose.vcf.gz\t14.821302 seconds\n",
      "Concatenating /media/luis/LaCie/valente_gwas/outputData/post_imputation/annotated_normalized_chr19.dose.vcf.gz\t12.216473 seconds\n",
      "Concatenating /media/luis/LaCie/valente_gwas/outputData/post_imputation/annotated_normalized_chr20.dose.vcf.gz\t12.245074 seconds\n",
      "Concatenating /media/luis/LaCie/valente_gwas/outputData/post_imputation/annotated_normalized_chr21.dose.vcf.gz\t7.256908 seconds\n",
      "Concatenating /media/luis/LaCie/valente_gwas/outputData/post_imputation/annotated_normalized_chr22.dose.vcf.gz\t7.412437 seconds\n"
     ]
    },
    {
     "name": "stdout",
     "output_type": "stream",
     "text": [
      "Successfully concatenated and outputted to: /media/luis/LaCie/valente_gwas/outputData/post_imputation/annotated_normalized_combined_1_22.vcf.gz\n",
      "\u001b[1mGet PLINK files.\u001b[0m\n",
      "PLINK v2.00a6LM 64-bit Intel (18 Aug 2024)     www.cog-genomics.org/plink/2.0/\n",
      "(C) 2005-2024 Shaun Purcell, Christopher Chang   GNU General Public License v3\n",
      "Logging to /media/luis/LaCie/valente_gwas/outputData/analysis_ready/test_valente.log.\n",
      "Options in effect:\n",
      "  --make-bed\n",
      "  --memory 38865.0\n",
      "  --out /media/luis/LaCie/valente_gwas/outputData/analysis_ready/test_valente\n",
      "  --snps-only just-acgt\n",
      "  --threads 30\n",
      "  --vcf /media/luis/LaCie/valente_gwas/outputData/post_imputation/annotated_normalized_combined_1_22.vcf.gz\n",
      "\n",
      "Start time: Mon Jan 20 16:12:08 2025\n",
      "63863 MiB RAM detected, ~58293 available; reserving 38865 MiB for main\n",
      "workspace.\n",
      "Using up to 30 threads (change this with --threads).\n",
      "--vcf: 13682293 variants scanned.\n",
      "--vcf: 13631k variants converted.\n",
      "/media/luis/LaCie/valente_gwas/outputData/analysis_ready/test_valente-temporary.pgen\n",
      "+\n",
      "/media/luis/LaCie/valente_gwas/outputData/analysis_ready/test_valente-temporary.pvar.zst\n",
      "+\n",
      "/media/luis/LaCie/valente_gwas/outputData/analysis_ready/test_valente-temporary.psam\n",
      "written.\n",
      "380 samples (0 females, 0 males, 380 ambiguous; 380 founders) loaded from\n",
      "/media/luis/LaCie/valente_gwas/outputData/analysis_ready/test_valente-temporary.psam.\n",
      "13682293 variants loaded from\n",
      "/media/luis/LaCie/valente_gwas/outputData/analysis_ready/test_valente-temporary.pvar.zst.\n",
      "Note: No phenotype data present.\n",
      "13682293 variants remaining after main filters.\n",
      "Writing\n",
      "/media/luis/LaCie/valente_gwas/outputData/analysis_ready/test_valente.fam ...\n",
      "done.\n",
      "Writing\n",
      "/media/luis/LaCie/valente_gwas/outputData/analysis_ready/test_valente.bim ...\n",
      "done.\n",
      "Writing\n",
      "/media/luis/LaCie/valente_gwas/outputData/analysis_ready/test_valente.bed ...\n",
      "101112131415161718192021222324252627282930313233343536373839404142434445464748495051525354555657585960616263646566676869707172737475767778798081828384858687888990919293949596979899done.\n",
      "End time: Mon Jan 20 16:12:51 2025\n",
      "PLINK2 command executed successfully. Output files saved with prefix: test_valente\n"
     ]
    }
   ],
   "source": [
    "post_imp_steps = {\n",
    "    #'unzip_chrom' : (post_imp.execute_unzip_chromosome_files, (post_imputation_params['zip_password'],)),\n",
    "    #'filter_by_R2': (post_imp.execute_filter_variants, (post_imputation_params['r2_threshold'],)),\n",
    "    #'normalize'   : (post_imp.execute_normalize_vcf, (post_imputation_params['ref_genome'],)),\n",
    "    #'index'       : (post_imp.execute_index_vcf, ()),\n",
    "    #'annotate'    : (post_imp.execute_annotate_vcf, (post_imputation_params['ref_annotation'],)),\n",
    "    'concatenate' : (post_imp.execute_concat_vcf, ()),\n",
    "    'get_plink'   : (post_imp.get_plink_files, ()),\n",
    "}\n",
    "\n",
    "step_description = {\n",
    "    #'unzip_chrom' : 'Unzip chromosome files',\n",
    "    #'filter_by_R2': 'Filter imputed variants by R2',\n",
    "    #'normalize'   : 'Normalize VCF files',\n",
    "    #'index'       : 'Index VCF files',\n",
    "    #'annotate'    : 'Annotate VCF files',\n",
    "    'concatenate' : 'Concatenate VCF files',\n",
    "    'get_plink'   : 'Get PLINK files',\n",
    "}\n",
    "\n",
    "for name, (func, params) in post_imp_steps.items():\n",
    "    print(f\"\\033[1m{step_description[name]}.\\033[0m\")\n",
    "    func(*params)"
   ]
  }
 ],
 "metadata": {
  "kernelspec": {
   "display_name": "ideal-genom-NcAYBj8M-py3.10",
   "language": "python",
   "name": "python3"
  },
  "language_info": {
   "codemirror_mode": {
    "name": "ipython",
    "version": 3
   },
   "file_extension": ".py",
   "mimetype": "text/x-python",
   "name": "python",
   "nbconvert_exporter": "python",
   "pygments_lexer": "ipython3",
   "version": "3.10.15"
  }
 },
 "nbformat": 4,
 "nbformat_minor": 2
}
