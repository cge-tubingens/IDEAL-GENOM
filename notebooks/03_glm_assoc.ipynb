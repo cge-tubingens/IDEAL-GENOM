{
 "cells": [
  {
   "cell_type": "markdown",
   "metadata": {},
   "source": [
    "# Association Analysis using a generalized linear model (GLM)\n",
    "\n",
    "The present notebook serves as a guide of how to use the library `IDEAL-GENOM` to perform a genome wide association analysis (GWAS). The cornerstone of this proposed analysis is a GLM model."
   ]
  },
  {
   "cell_type": "code",
   "execution_count": 1,
   "metadata": {},
   "outputs": [],
   "source": [
    "import sys\n",
    "import os\n",
    "\n",
    "import pandas as pd\n",
    "\n",
    "# add parent directory to path\n",
    "library_path = os.path.abspath('..')\n",
    "if library_path not in sys.path:\n",
    "    sys.path.append(library_path)\n",
    "\n",
    "from ideal_genom.gwas.gwas_fixed import GWASfixed"
   ]
  },
  {
   "cell_type": "code",
   "execution_count": 4,
   "metadata": {},
   "outputs": [
    {
     "data": {
      "application/vnd.jupyter.widget-view+json": {
       "model_id": "3fd50390b9a341c58506b588ac047ef6",
       "version_major": 2,
       "version_minor": 0
      },
      "text/plain": [
       "Text(value='/media/luis/LaCie/valente_gwas/outputData/preparatory/', description='Path to input zip files:', l…"
      ]
     },
     "metadata": {},
     "output_type": "display_data"
    },
    {
     "data": {
      "application/vnd.jupyter.widget-view+json": {
       "model_id": "e15b90ce00344db5ba3fbea40134c909",
       "version_major": 2,
       "version_minor": 0
      },
      "text/plain": [
       "Text(value='test_valente', description='Prefix of PLINK binary files:', layout=Layout(width='50%'), style=Text…"
      ]
     },
     "metadata": {},
     "output_type": "display_data"
    },
    {
     "data": {
      "application/vnd.jupyter.widget-view+json": {
       "model_id": "1c00703e08fd42f88d7496f7544b7795",
       "version_major": 2,
       "version_minor": 0
      },
      "text/plain": [
       "Text(value='/media/luis/LaCie/valente_gwas/dependables/', description='Path to dependable files:', layout=Layo…"
      ]
     },
     "metadata": {},
     "output_type": "display_data"
    },
    {
     "data": {
      "application/vnd.jupyter.widget-view+json": {
       "model_id": "d0345b292fcf4866a157ce67f6075b93",
       "version_major": 2,
       "version_minor": 0
      },
      "text/plain": [
       "Text(value='/media/luis/LaCie/valente_gwas/outputData/', description='Path to output files:', layout=Layout(wi…"
      ]
     },
     "metadata": {},
     "output_type": "display_data"
    },
    {
     "data": {
      "application/vnd.jupyter.widget-view+json": {
       "model_id": "42995a19d81842bf9a9ea8167bfd808c",
       "version_major": 2,
       "version_minor": 0
      },
      "text/plain": [
       "Text(value='test_valente_gwas_fix', description='Name of the resulting files:', layout=Layout(width='50%'), st…"
      ]
     },
     "metadata": {},
     "output_type": "display_data"
    }
   ],
   "source": [
    "import ipywidgets as widgets\n",
    "from IPython.display import display\n",
    "\n",
    "# Create interactive widgets for input\n",
    "input_path = widgets.Text(\n",
    "    value='/media/luis/LaCie/valente_gwas/outputData/preparatory/',\n",
    "    description='Path to input zip files:',\n",
    "    style={'description_width': 'initial'},\n",
    "    layout=widgets.Layout(width='50%')\n",
    ")\n",
    "\n",
    "input_name = widgets.Text(\n",
    "    value='test_valente',\n",
    "    description='Prefix of PLINK binary files:',\n",
    "    style={'description_width': 'initial'},\n",
    "    layout=widgets.Layout(width='50%')\n",
    ")\n",
    "\n",
    "dependables_path = widgets.Text(\n",
    "    value='/media/luis/LaCie/valente_gwas/dependables/',\n",
    "    description='Path to dependable files:',\n",
    "    style={'description_width': 'initial'},\n",
    "    layout=widgets.Layout(width='50%')\n",
    ")\n",
    "\n",
    "output_path = widgets.Text(\n",
    "    value='/media/luis/LaCie/valente_gwas/outputData/',\n",
    "    description='Path to output files:',\n",
    "    style={'description_width': 'initial'},\n",
    "    layout=widgets.Layout(width='50%')\n",
    ")\n",
    "output_name = widgets.Text(\n",
    "    value='test_valente_gwas_fix',\n",
    "    description='Name of the resulting files:',\n",
    "    style={'description_width': 'initial'},\n",
    "    layout=widgets.Layout(width='50%')\n",
    ")\n",
    "# Display the widgets\n",
    "display(input_path, input_name, dependables_path, output_path, output_name)\n",
    "\n",
    "# Function to get the text parameter values\n",
    "def get_params():\n",
    "    return input_path.value, input_name.value, dependables_path.value, output_path.value, output_name.value"
   ]
  },
  {
   "cell_type": "code",
   "execution_count": 5,
   "metadata": {},
   "outputs": [
    {
     "name": "stdout",
     "output_type": "stream",
     "text": [
      "input_path:  /media/luis/LaCie/valente_gwas/outputData/preparatory/\n",
      "input_name:  test_valente\n",
      "dependables:  /media/luis/LaCie/valente_gwas/dependables/\n",
      "output_path:  /media/luis/LaCie/valente_gwas/outputData/\n",
      "output_name:  test_valente_gwas_fix\n"
     ]
    }
   ],
   "source": [
    "path_params = get_params()\n",
    "print('input_path: ', path_params[0])\n",
    "print('input_name: ', path_params[1])\n",
    "print('dependables: ', path_params[2])\n",
    "print('output_path: ', path_params[3])\n",
    "print('output_name: ', path_params[4])"
   ]
  },
  {
   "cell_type": "code",
   "execution_count": null,
   "metadata": {},
   "outputs": [],
   "source": [
    "gwas_glm = GWASfixed(\n",
    "    input_path=path_params[0], \n",
    "    input_name=path_params[1],\n",
    "    dependables=path_params[2],\n",
    "    output_path=path_params[3], \n",
    "    output_name=path_params[4]\n",
    ")"
   ]
  },
  {
   "cell_type": "code",
   "execution_count": null,
   "metadata": {},
   "outputs": [],
   "source": [
    "maf = widgets.FloatText(\n",
    "    value=0.05,\n",
    "    description='Minor Allele Frequency:',\n",
    "    style={'description_width': 'initial'},\n",
    "    layout=widgets.Layout(width='50%')\n",
    ")\n",
    "\n",
    "mind = widgets.FloatText(\n",
    "    value=0.1,\n",
    "    description='Individual missing rate:',\n",
    "    style={'description_width': 'initial'},\n",
    "    layout=widgets.Layout(width='50%')\n",
    ")\n",
    "\n",
    "hwe = widgets.FloatText(\n",
    "    value=5e-8,\n",
    "    description='Hardy-Weinberg Equilibrium:',\n",
    "    style={'description_width': 'initial'},\n",
    "    layout=widgets.Layout(width='50%')\n",
    ")\n",
    "\n",
    "ci = widgets.FloatText(\n",
    "    value=0.1,\n",
    "    description='Confidence interval:',\n",
    "    style={'description_width': 'initial'},\n",
    "    layout=widgets.Layout(width='50%')\n",
    ")\n",
    "\n",
    "\n",
    "pca = widgets.IntText(\n",
    "    value=10,\n",
    "    description='Number of Principal Components:',\n",
    "    style={'description_width': 'initial'},\n",
    "    layout=widgets.Layout(width='50%')\n",
    ")\n",
    "\n",
    "display(maf, mind, hwe, ci)\n",
    "\n",
    "def get_gwas_params():\n",
    "\n",
    "    gwas_params = dict()\n",
    "\n",
    "    gwas_params['maf']     = maf.value\n",
    "    gwas_params['hwe']     = hwe.value\n",
    "    gwas_params['mind']    = mind.value\n",
    "    gwas_params['ci']     = ci.value\n",
    "\n",
    "    return gwas_params"
   ]
  },
  {
   "cell_type": "code",
   "execution_count": null,
   "metadata": {},
   "outputs": [],
   "source": [
    "gwas_params = get_gwas_params()\n",
    "gwas_params"
   ]
  },
  {
   "cell_type": "code",
   "execution_count": null,
   "metadata": {},
   "outputs": [],
   "source": [
    "gwas_steps = {\n",
    "    'train_model': (gwas_glm.fixed_model_association_analysis, {\n",
    "        'maf' :gwas_params['maf'], \n",
    "        'mind':gwas_params['mind'], \n",
    "        'hwe' :gwas_params['hwe'], \n",
    "        'ci'  :gwas_params['ci']\n",
    "    }),\n",
    "    'top_hits'   : (gwas_glm.get_top_hits, {'maf':gwas_params['maf']}),\n",
    "}\n",
    "\n",
    "step_description = {\n",
    "    'train_model': 'Train the model',\n",
    "    'top_hits'   : 'Get top hits'\n",
    "}\n",
    "\n",
    "for name, (func, params) in gwas_steps.items():\n",
    "    print(f\"\\033[1m{step_description[name]}.\\033[0m\")\n",
    "    func(**params)"
   ]
  }
 ],
 "metadata": {
  "kernelspec": {
   "display_name": "ideal-genom-NcAYBj8M-py3.10",
   "language": "python",
   "name": "python3"
  },
  "language_info": {
   "codemirror_mode": {
    "name": "ipython",
    "version": 3
   },
   "file_extension": ".py",
   "mimetype": "text/x-python",
   "name": "python",
   "nbconvert_exporter": "python",
   "pygments_lexer": "ipython3",
   "version": "3.10.15"
  }
 },
 "nbformat": 4,
 "nbformat_minor": 2
}
