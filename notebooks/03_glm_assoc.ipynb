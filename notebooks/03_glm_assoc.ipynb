{
 "cells": [
  {
   "cell_type": "markdown",
   "metadata": {},
   "source": [
    "# Association Analysis using a generalized linear model (GLM)\n",
    "\n",
    "The present notebook serves as a guide of how to use the library `IDEAL-GENOM` to perform a genome wide association analysis (GWAS). The cornerstone of this proposed analysis is a GLM model."
   ]
  },
  {
   "cell_type": "code",
   "execution_count": null,
   "metadata": {},
   "outputs": [],
   "source": [
    "import sys\n",
    "import os\n",
    "\n",
    "# add parent directory to path\n",
    "library_path = os.path.abspath('..')\n",
    "if library_path not in sys.path:\n",
    "    sys.path.append(library_path)\n",
    "\n",
    "from ideal_genom.gwas.gwas_glm import GWASfixed"
   ]
  },
  {
   "cell_type": "markdown",
   "metadata": {},
   "source": [
    "In the next widgets the user must input the paths and filenames needed to perform the GWAS.\n",
    "\n",
    "1. `input_path`: folder with the input data. The pipeline assumes that the files are `.bed`, `.bim`, `.fam` files;\n",
    "2. `input_name`: prefix of the `PLINK` binary files:\n",
    "3. `output_path`: folder to output the results;\n",
    "4. `output_name`: the prefix of the output files."
   ]
  },
  {
   "cell_type": "code",
   "execution_count": null,
   "metadata": {},
   "outputs": [],
   "source": [
    "import ipywidgets as widgets\n",
    "from IPython.display import display\n",
    "\n",
    "# Create interactive widgets for input\n",
    "input_path = widgets.Text(\n",
    "    value='',\n",
    "    description='Path to input PLINK binary files:',\n",
    "    style={'description_width': 'initial'},\n",
    "    layout=widgets.Layout(width='50%')\n",
    ")\n",
    "\n",
    "input_name = widgets.Text(\n",
    "    value='',\n",
    "    description='Prefix of PLINK binary files:',\n",
    "    style={'description_width': 'initial'},\n",
    "    layout=widgets.Layout(width='50%')\n",
    ")\n",
    "\n",
    "output_path = widgets.Text(\n",
    "    value='',\n",
    "    description='Path to output files:',\n",
    "    style={'description_width': 'initial'},\n",
    "    layout=widgets.Layout(width='50%')\n",
    ")\n",
    "output_name = widgets.Text(\n",
    "    value='',\n",
    "    description='Name of the resulting files:',\n",
    "    style={'description_width': 'initial'},\n",
    "    layout=widgets.Layout(width='50%')\n",
    ")\n",
    "# Display the widgets\n",
    "display(input_path, input_name, output_path, output_name)\n",
    "\n",
    "# Function to get the text parameter values\n",
    "def get_params():\n",
    "    return input_path.value, input_name.value, output_path.value, output_name.value"
   ]
  },
  {
   "cell_type": "code",
   "execution_count": null,
   "metadata": {},
   "outputs": [],
   "source": [
    "path_params = get_params()\n",
    "print('input_path: ', path_params[0])\n",
    "print('input_name: ', path_params[1])\n",
    "print('output_path: ', path_params[2])\n",
    "print('output_name: ', path_params[3])"
   ]
  },
  {
   "cell_type": "markdown",
   "metadata": {},
   "source": [
    "with this info we can initialiaze the class `GWASfixed`."
   ]
  },
  {
   "cell_type": "code",
   "execution_count": null,
   "metadata": {},
   "outputs": [],
   "source": [
    "gwas_glm = GWASfixed(\n",
    "    input_path=path_params[0], \n",
    "    input_name=path_params[1],\n",
    "    output_path=path_params[2], \n",
    "    output_name=path_params[3]\n",
    ")"
   ]
  },
  {
   "cell_type": "markdown",
   "metadata": {},
   "source": [
    "In the next widgets, please provide the parameters needed to execute the pipeline.\n",
    "\n",
    "1. `maf`: minor allele frequency;\n",
    "2. `mind`: individual missing rate;\n",
    "3. `hwe`: Hardy-Weinberg equilibrium;\n",
    "4. `ci`: confidence interval;\n",
    "5. `gtf_path`: path to alternative gtf file, default value is `None`;\n",
    "6. `build`: build of the human genome, possible values are `37` and `38`;\n",
    "7. `anno_source`: source for the annotations, possible values are `ensembl` or `refseq`. "
   ]
  },
  {
   "cell_type": "code",
   "execution_count": null,
   "metadata": {},
   "outputs": [],
   "source": [
    "maf = widgets.FloatText(\n",
    "    value=0.01,\n",
    "    description='Minor Allele Frequency:',\n",
    "    style={'description_width': 'initial'},\n",
    "    layout=widgets.Layout(width='50%')\n",
    ")\n",
    "\n",
    "mind = widgets.FloatText(\n",
    "    value=0.1,\n",
    "    description='Individual missing rate:',\n",
    "    style={'description_width': 'initial'},\n",
    "    layout=widgets.Layout(width='50%')\n",
    ")\n",
    "\n",
    "hwe = widgets.FloatText(\n",
    "    value=5e-8,\n",
    "    description='Hardy-Weinberg Equilibrium:',\n",
    "    style={'description_width': 'initial'},\n",
    "    layout=widgets.Layout(width='50%')\n",
    ")\n",
    "\n",
    "ci = widgets.FloatText(\n",
    "    value=0.95,\n",
    "    description='Confidence interval:',\n",
    "    style={'description_width': 'initial'},\n",
    "    layout=widgets.Layout(width='50%')\n",
    ")\n",
    "\n",
    "gtf_path = widgets.Text(\n",
    "    value=None,\n",
    "    description='Path to GTF file:',\n",
    "    style={'description_width': 'initial'},\n",
    "    layout=widgets.Layout(width='50%')\n",
    ")\n",
    "\n",
    "build = widgets.Text(\n",
    "    value='38',\n",
    "    description='Genome build:',\n",
    "    style={'description_width': 'initial'},\n",
    "    layout=widgets.Layout(width='50%')\n",
    ")\n",
    "\n",
    "anno_source = widgets.Text(\n",
    "    value='ensembl',\n",
    "    description='Annotation source:',\n",
    "    style={'description_width': 'initial'},\n",
    "    layout=widgets.Layout(width='50%')\n",
    ")\n",
    "\n",
    "display(maf, mind, hwe, ci, gtf_path, build, anno_source)\n",
    "\n",
    "def get_gwas_params():\n",
    "\n",
    "    gwas_params = dict()\n",
    "\n",
    "    gwas_params['maf']  = maf.value\n",
    "    gwas_params['hwe']  = hwe.value\n",
    "    gwas_params['mind'] = mind.value\n",
    "    gwas_params['ci']   = ci.value\n",
    "    gwas_params['gtf_path'] = gtf_path.value\n",
    "    gwas_params['build'] = build.value\n",
    "    gwas_params['anno_source'] = anno_source.value\n",
    "\n",
    "    return gwas_params"
   ]
  },
  {
   "cell_type": "code",
   "execution_count": null,
   "metadata": {},
   "outputs": [],
   "source": [
    "gwas_params = get_gwas_params()\n",
    "gwas_params"
   ]
  },
  {
   "cell_type": "markdown",
   "metadata": {},
   "source": [
    "Execute the pipeline steps."
   ]
  },
  {
   "cell_type": "code",
   "execution_count": null,
   "metadata": {},
   "outputs": [],
   "source": [
    "gwas_steps = {\n",
    "    'train_model': (gwas_glm.fixed_model_association_analysis, {\n",
    "        'maf' :gwas_params['maf'], \n",
    "        'mind':gwas_params['mind'], \n",
    "        'hwe' :gwas_params['hwe'], \n",
    "        'ci'  :gwas_params['ci']\n",
    "    }),\n",
    "    'top_hits'   : (gwas_glm.get_top_hits, {'maf':gwas_params['maf']}),\n",
    "    'annotate_hits': (gwas_glm.annotate_top_hits, {\n",
    "        'gtf_path': gwas_params['gtf_path'],\n",
    "        'build': gwas_params['build'],\n",
    "        'anno_source': gwas_params['anno_source']\n",
    "    })\n",
    "}\n",
    "\n",
    "step_description = {\n",
    "    'train_model': 'Train the model',\n",
    "    'top_hits'   : 'Get top hits',\n",
    "    'annotate_hits': 'Annotate top hits'\n",
    "}\n",
    "\n",
    "for name, (func, params) in gwas_steps.items():\n",
    "    print(f\"\\033[1m{step_description[name]}.\\033[0m\")\n",
    "    func(**params)"
   ]
  }
 ],
 "metadata": {
  "kernelspec": {
   "display_name": "ideal-genom-NcAYBj8M-py3.10",
   "language": "python",
   "name": "python3"
  },
  "language_info": {
   "codemirror_mode": {
    "name": "ipython",
    "version": 3
   },
   "file_extension": ".py",
   "mimetype": "text/x-python",
   "name": "python",
   "nbconvert_exporter": "python",
   "pygments_lexer": "ipython3",
   "version": "3.10.15"
  }
 },
 "nbformat": 4,
 "nbformat_minor": 2
}
