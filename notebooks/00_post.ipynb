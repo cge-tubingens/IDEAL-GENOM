{
 "cells": [
  {
   "cell_type": "code",
   "execution_count": 1,
   "id": "f60c0782",
   "metadata": {},
   "outputs": [],
   "source": [
    "import sys\n",
    "import os\n",
    "from pathlib import Path\n",
    "\n",
    "# add parent directory to path\n",
    "library_path = os.path.abspath('..')\n",
    "if library_path not in sys.path:\n",
    "    sys.path.append(library_path)\n",
    "\n",
    "from ideal_genom.preprocessing.PostImputation import ProcessVCF, GetPLINK"
   ]
  },
  {
   "cell_type": "code",
   "execution_count": null,
   "id": "81a2b468",
   "metadata": {},
   "outputs": [],
   "source": [
    "processer = ProcessVCF(\n",
    "    input_path = Path('/media/luis/LaCie/valente_gwas/inputData/'),\n",
    "    output_path=Path('/media/luis/LaCie/valente_gwas/outputData/')\n",
    ")"
   ]
  },
  {
   "cell_type": "code",
   "execution_count": null,
   "id": "3d5b8de5",
   "metadata": {},
   "outputs": [],
   "source": [
    "processer.execute_unzip(password='dummypwd')\n",
    "processer.execute_filter(r2_threshold=0.3)\n",
    "processer.execute_normalize()\n",
    "processer.execute_reference_normalize(build='37')\n",
    "processer.execute_index()\n",
    "processer.execute_annotate(ref_annotation=Path('/media/luis/LaCie/valente_gwas/dependables/ensembl_concat.GRCh37.vcf.gz'))\n",
    "processer.execute_concatenate(output_name='valente_gwas')"
   ]
  },
  {
   "cell_type": "code",
   "execution_count": 10,
   "id": "8c5a0839",
   "metadata": {},
   "outputs": [],
   "source": [
    "plink = GetPLINK(\n",
    "    input_path=Path('/media/luis/LaCie/valente_gwas/outputData/'),\n",
    "    input_name='valente_gwas_up.vcf.gz', \n",
    "    output_path=Path('/media/luis/LaCie/valente_gwas/outputData/'), \n",
    "    output_name='ready'\n",
    ")"
   ]
  },
  {
   "cell_type": "code",
   "execution_count": 11,
   "id": "6c5bc3ec",
   "metadata": {},
   "outputs": [
    {
     "name": "stdout",
     "output_type": "stream",
     "text": [
      "PLINK v2.00a6LM 64-bit Intel (18 Aug 2024)     www.cog-genomics.org/plink/2.0/\n",
      "(C) 2005-2024 Shaun Purcell, Christopher Chang   GNU General Public License v3\n",
      "Logging to /media/luis/LaCie/valente_gwas/outputData/analysis_ready/ready-nosex.log.\n",
      "Options in effect:\n",
      "  --make-bed\n",
      "  --memory 36896.0\n",
      "  --out /media/luis/LaCie/valente_gwas/outputData/analysis_ready/ready-nosex\n",
      "  --snps-only just-acgt\n",
      "  --threads 30\n",
      "  --vcf /media/luis/LaCie/valente_gwas/outputData/valente_gwas_up.vcf.gz\n",
      "\n",
      "Start time: Thu Apr 24 16:18:04 2025\n",
      "63862 MiB RAM detected, ~55343 available; reserving 36896 MiB for main\n",
      "workspace.\n",
      "Using up to 30 threads (change this with --threads).\n",
      "--vcf: 358528 variants scanned.\n",
      "--vcf: 327k variants converted. \n",
      "/media/luis/LaCie/valente_gwas/outputData/analysis_ready/ready-nosex-temporary.pgen\n",
      "+\n",
      "/media/luis/LaCie/valente_gwas/outputData/analysis_ready/ready-nosex-temporary.pvar.zst\n",
      "+\n",
      "/media/luis/LaCie/valente_gwas/outputData/analysis_ready/ready-nosex-temporary.psam\n",
      "written.\n",
      "267 samples (0 females, 0 males, 267 ambiguous; 267 founders) loaded from\n",
      "/media/luis/LaCie/valente_gwas/outputData/analysis_ready/ready-nosex-temporary.psam.\n",
      "358528 variants loaded from\n",
      "/media/luis/LaCie/valente_gwas/outputData/analysis_ready/ready-nosex-temporary.pvar.zst.\n",
      "Note: No phenotype data present.\n",
      "358528 variants remaining after main filters.\n",
      "Writing\n",
      "/media/luis/LaCie/valente_gwas/outputData/analysis_ready/ready-nosex.fam ...\n",
      "done.\n",
      "Writing\n",
      "/media/luis/LaCie/valente_gwas/outputData/analysis_ready/ready-nosex.bim ...\n",
      "done.\n",
      "Writing\n",
      "/media/luis/LaCie/valente_gwas/outputData/analysis_ready/ready-nosex.bed ...\n",
      "18365473%"
     ]
    },
    {
     "name": "stderr",
     "output_type": "stream",
     "text": [
      "INFO:ideal_genom.preprocessing.PostImputation:Updating family information in ready-nosex.fam with /media/luis/LaCie/valente_gwas/dependables/valente_R08_noIPDGC_hg19.QC.updatedSNPid\n"
     ]
    },
    {
     "name": "stdout",
     "output_type": "stream",
     "text": [
      "\b91done.\n",
      "End time: Thu Apr 24 16:18:05 2025\n",
      "PLINK2 command executed successfully. Output files saved with prefix: ready-nosex\n",
      "PLINK v2.00a6LM 64-bit Intel (18 Aug 2024)     www.cog-genomics.org/plink/2.0/\n",
      "(C) 2005-2024 Shaun Purcell, Christopher Chang   GNU General Public License v3\n",
      "Logging to /media/luis/LaCie/valente_gwas/outputData/analysis_ready/ready.log.\n",
      "Options in effect:\n",
      "  --bfile /media/luis/LaCie/valente_gwas/outputData/analysis_ready/ready-nosex\n",
      "  --make-bed\n",
      "  --out /media/luis/LaCie/valente_gwas/outputData/analysis_ready/ready\n",
      "  --psam /media/luis/LaCie/valente_gwas/dependables/valente_R08_noIPDGC_hg19.QC.updatedSNPid.fam\n",
      "  --threads 30\n",
      "\n",
      "Start time: Thu Apr 24 16:18:05 2025\n",
      "63862 MiB RAM detected, ~55261 available; reserving 31931 MiB for main\n",
      "workspace.\n",
      "Using up to 30 threads (change this with --threads).\n",
      "267 samples (114 females, 153 males; 267 founders) loaded from\n",
      "/media/luis/LaCie/valente_gwas/dependables/valente_R08_noIPDGC_hg19.QC.updatedSNPid.fam.\n",
      "358528 variants loaded from\n",
      "/media/luis/LaCie/valente_gwas/outputData/analysis_ready/ready-nosex.bim.\n",
      "1 binary phenotype loaded (213 cases, 54 controls).\n",
      "Writing /media/luis/LaCie/valente_gwas/outputData/analysis_ready/ready.fam ...\n",
      "done.\n",
      "Writing /media/luis/LaCie/valente_gwas/outputData/analysis_ready/ready.bim ...\n",
      "done.\n",
      "Writing /media/luis/LaCie/valente_gwas/outputData/analysis_ready/ready.bed ...\n",
      "1836547391done.\n",
      "End time: Thu Apr 24 16:18:05 2025\n",
      "PLINK2 command executed successfully. Output files saved with prefix: ready\n"
     ]
    }
   ],
   "source": [
    "plink.convert_vcf_to_plink()\n",
    "plink.update_fam(for_fam_update_file=Path('/media/luis/LaCie/valente_gwas/dependables/valente_R08_noIPDGC_hg19.QC.updatedSNPid'))"
   ]
  }
 ],
 "metadata": {
  "kernelspec": {
   "display_name": "ideal-genom-NcAYBj8M-py3.10",
   "language": "python",
   "name": "python3"
  },
  "language_info": {
   "codemirror_mode": {
    "name": "ipython",
    "version": 3
   },
   "file_extension": ".py",
   "mimetype": "text/x-python",
   "name": "python",
   "nbconvert_exporter": "python",
   "pygments_lexer": "ipython3",
   "version": "3.10.15"
  }
 },
 "nbformat": 4,
 "nbformat_minor": 5
}
