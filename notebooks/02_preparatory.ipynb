{
 "cells": [
  {
   "cell_type": "markdown",
   "metadata": {},
   "source": [
    "# Process concatenated PLINK binary files\n",
    "\n",
    "The present notebook serves as a guide of how use the `IDEAL-GENOM` library to process PLINK binary files obtained after processing the imputed files. We intend to show a possible use, because each user can adapt it to its particular needs.\n",
    "\n",
    "The first step is to import the requires libraries."
   ]
  },
  {
   "cell_type": "code",
   "execution_count": 1,
   "metadata": {},
   "outputs": [],
   "source": [
    "import sys\n",
    "import os\n",
    "\n",
    "# add parent directory to path\n",
    "library_path = os.path.abspath('..')\n",
    "if library_path not in sys.path:\n",
    "    sys.path.append(library_path)\n",
    "\n",
    "from ideal_genom.preprocessing.preparatory import Preparatory"
   ]
  },
  {
   "cell_type": "markdown",
   "metadata": {},
   "source": [
    "In the next widgets the user must input the paths and filenames needed to process `PLINK` binary files.\n",
    "\n",
    "1. `input_path`: folder with the input data. The pipeline assumes that the files are `.bed`, `.bim`, `.fam` files;\n",
    "2. `input_name`: prefix of the `PLINK` binary files:\n",
    "3. `dependables_path`: folder with external files needed to process the data, for example the file with the LD regions, in this case the file name must be `high-LD-regions.txt`;\n",
    "4. `output_path`: folder to output the results;\n",
    "5. `output_name`: the prefix of the PLINK binary files."
   ]
  },
  {
   "cell_type": "code",
   "execution_count": 2,
   "metadata": {},
   "outputs": [
    {
     "data": {
      "application/vnd.jupyter.widget-view+json": {
       "model_id": "c28f1d2ac0c64f6e9f0178294e809e3f",
       "version_major": 2,
       "version_minor": 0
      },
      "text/plain": [
       "Text(value='/media/luisggon/LaCie/data1/LuxGiantimputed/outputData/post_imputation/analysis_ready/', descripti…"
      ]
     },
     "metadata": {},
     "output_type": "display_data"
    },
    {
     "data": {
      "application/vnd.jupyter.widget-view+json": {
       "model_id": "8dcbcf50aaf0408ab0d0149fb72ee44c",
       "version_major": 2,
       "version_minor": 0
      },
      "text/plain": [
       "Text(value='luxgiant_imputed_noprobID', description='Prefix of PLINK binary files:', layout=Layout(width='50%'…"
      ]
     },
     "metadata": {},
     "output_type": "display_data"
    },
    {
     "data": {
      "application/vnd.jupyter.widget-view+json": {
       "model_id": "c1fb2d811a8c411193ad762f2df78cc5",
       "version_major": 2,
       "version_minor": 0
      },
      "text/plain": [
       "Text(value='/media/luisggon/LaCie/data1/LuxGiantimputed/dependables/', description='Path to dependable files:'…"
      ]
     },
     "metadata": {},
     "output_type": "display_data"
    },
    {
     "data": {
      "application/vnd.jupyter.widget-view+json": {
       "model_id": "32661df51c3f4069b60abaea4e02c70f",
       "version_major": 2,
       "version_minor": 0
      },
      "text/plain": [
       "Text(value='/media/luisggon/LaCie/data1/LuxGiantimputed/outputData/', description='Path to output files:', lay…"
      ]
     },
     "metadata": {},
     "output_type": "display_data"
    },
    {
     "data": {
      "application/vnd.jupyter.widget-view+json": {
       "model_id": "533cd21e51284eeebae160099af3c45b",
       "version_major": 2,
       "version_minor": 0
      },
      "text/plain": [
       "Text(value='luxgiant_imputed_noprobID_processed', description='Prefix of the output files:', layout=Layout(wid…"
      ]
     },
     "metadata": {},
     "output_type": "display_data"
    }
   ],
   "source": [
    "import ipywidgets as widgets\n",
    "from IPython.display import display\n",
    "\n",
    "# Create interactive widgets for input\n",
    "input_path = widgets.Text(\n",
    "    value='/media/luisggon/LaCie/data1/LuxGiantimputed/outputData/post_imputation/analysis_ready/',\n",
    "    description='Path to input PLINK binary files:',\n",
    "    style={'description_width': 'initial'},\n",
    "    layout=widgets.Layout(width='50%')\n",
    ")\n",
    "\n",
    "input_name = widgets.Text(\n",
    "    value='luxgiant_imputed_noprobID',\n",
    "    description='Prefix of PLINK binary files:',\n",
    "    style={'description_width': 'initial'},\n",
    "    layout=widgets.Layout(width='50%')\n",
    ")\n",
    "\n",
    "dependables_path = widgets.Text(\n",
    "    value='/media/luisggon/LaCie/data1/LuxGiantimputed/dependables/',\n",
    "    description='Path to dependable files:',\n",
    "    style={'description_width': 'initial'},\n",
    "    layout=widgets.Layout(width='50%')\n",
    ")\n",
    "\n",
    "output_path = widgets.Text(\n",
    "    value='/media/luisggon/LaCie/data1/LuxGiantimputed/outputData/',\n",
    "    description='Path to output files:',\n",
    "    style={'description_width': 'initial'},\n",
    "    layout=widgets.Layout(width='50%')\n",
    ")\n",
    "output_name = widgets.Text(\n",
    "    value='luxgiant_imputed_noprobID_processed',\n",
    "    description='Prefix of the output files:',\n",
    "    style={'description_width': 'initial'},\n",
    "    layout=widgets.Layout(width='50%')\n",
    ")\n",
    "# Display the widgets\n",
    "display(input_path, input_name, dependables_path, output_path, output_name)\n",
    "\n",
    "# Function to get the text parameter values\n",
    "def get_params():\n",
    "    return input_path.value, input_name.value, dependables_path.value, output_path.value, output_name.value"
   ]
  },
  {
   "cell_type": "code",
   "execution_count": 3,
   "metadata": {},
   "outputs": [
    {
     "name": "stdout",
     "output_type": "stream",
     "text": [
      "input_path:  /media/luisggon/LaCie/data1/LuxGiantimputed/outputData/post_imputation/analysis_ready/\n",
      "input_name:  luxgiant_imputed_noprobID\n",
      "dependables:  /media/luisggon/LaCie/data1/LuxGiantimputed/dependables/\n",
      "output_path:  /media/luisggon/LaCie/data1/LuxGiantimputed/outputData/\n",
      "output_name:  luxgiant_imputed_noprobID_processed\n"
     ]
    }
   ],
   "source": [
    "path_params = get_params()\n",
    "print('input_path: ', path_params[0])\n",
    "print('input_name: ', path_params[1])\n",
    "print('dependables: ', path_params[2])\n",
    "print('output_path: ', path_params[3])\n",
    "print('output_name: ', path_params[4])"
   ]
  },
  {
   "cell_type": "markdown",
   "metadata": {},
   "source": [
    "With this info we can initialize the class `Preparatory`."
   ]
  },
  {
   "cell_type": "code",
   "execution_count": null,
   "metadata": {},
   "outputs": [],
   "source": [
    "preps = Preparatory(\n",
    "    input_path =path_params[0],\n",
    "    input_name =path_params[1],\n",
    "    dependables=path_params[2],\n",
    "    output_path=path_params[3],\n",
    "    output_name=path_params[4]\n",
    ")"
   ]
  },
  {
   "cell_type": "markdown",
   "metadata": {},
   "source": [
    "In the next widgets, please provide the parameters needed to execute the pipeline.\n",
    "\n",
    "1. `maf`: minor allele frequency;\n",
    "2. `geno`: genotype missing rate;\n",
    "3. `hwe`: Hardy-Weinberg equilibrium;\n",
    "4. `mind`: individual missing rate;\n",
    "5. `ind_pair`: independent pairwise;\n",
    "6. `pca`: number of component used for the principal components decomposition."
   ]
  },
  {
   "cell_type": "code",
   "execution_count": 5,
   "metadata": {},
   "outputs": [
    {
     "data": {
      "application/vnd.jupyter.widget-view+json": {
       "model_id": "2990724ff69a4655bcc950cffa6cb1d9",
       "version_major": 2,
       "version_minor": 0
      },
      "text/plain": [
       "FloatText(value=0.05, description='Minor Allele Frequency:', layout=Layout(width='50%'), style=DescriptionStyl…"
      ]
     },
     "metadata": {},
     "output_type": "display_data"
    },
    {
     "data": {
      "application/vnd.jupyter.widget-view+json": {
       "model_id": "535add767b954a1fb8d4dd148b307e1a",
       "version_major": 2,
       "version_minor": 0
      },
      "text/plain": [
       "FloatText(value=0.1, description='Genotype missing rate:', layout=Layout(width='50%'), style=DescriptionStyle(…"
      ]
     },
     "metadata": {},
     "output_type": "display_data"
    },
    {
     "data": {
      "application/vnd.jupyter.widget-view+json": {
       "model_id": "f59a9784c3e6476b85b6e9eeb673059e",
       "version_major": 2,
       "version_minor": 0
      },
      "text/plain": [
       "FloatText(value=5e-08, description='Hardy-Weinberg Equilibrium:', layout=Layout(width='50%'), style=Descriptio…"
      ]
     },
     "metadata": {},
     "output_type": "display_data"
    },
    {
     "data": {
      "application/vnd.jupyter.widget-view+json": {
       "model_id": "f88c9c72353d4e0bbb9a3e6b6568bff5",
       "version_major": 2,
       "version_minor": 0
      },
      "text/plain": [
       "FloatText(value=0.1, description='Individual missing rate:', layout=Layout(width='50%'), style=DescriptionStyl…"
      ]
     },
     "metadata": {},
     "output_type": "display_data"
    },
    {
     "data": {
      "application/vnd.jupyter.widget-view+json": {
       "model_id": "a8f91e1f6d5247dd9380e2989dce1bc1",
       "version_major": 2,
       "version_minor": 0
      },
      "text/plain": [
       "Textarea(value='50, 5, 0.2', description='indep pairwise (comma-separated):', layout=Layout(width='25%'), styl…"
      ]
     },
     "metadata": {},
     "output_type": "display_data"
    },
    {
     "data": {
      "application/vnd.jupyter.widget-view+json": {
       "model_id": "823042cf8ff1485ab0808f5b667ceed4",
       "version_major": 2,
       "version_minor": 0
      },
      "text/plain": [
       "IntText(value=10, description='Number of Principal Components:', layout=Layout(width='50%'), style=Description…"
      ]
     },
     "metadata": {},
     "output_type": "display_data"
    }
   ],
   "source": [
    "maf = widgets.FloatText(\n",
    "    value=0.05,\n",
    "    description='Minor Allele Frequency:',\n",
    "    style={'description_width': 'initial'},\n",
    "    layout=widgets.Layout(width='50%')\n",
    ")\n",
    "\n",
    "geno = widgets.FloatText(\n",
    "    value=0.1,\n",
    "    description='Genotype missing rate:',\n",
    "    style={'description_width': 'initial'},\n",
    "    layout=widgets.Layout(width='50%')\n",
    ")\n",
    "\n",
    "hwe = widgets.FloatText(\n",
    "    value=5e-8,\n",
    "    description='Hardy-Weinberg Equilibrium:',\n",
    "    style={'description_width': 'initial'},\n",
    "    layout=widgets.Layout(width='50%')\n",
    ")\n",
    "\n",
    "mind = widgets.FloatText(\n",
    "    value=0.1,\n",
    "    description='Individual missing rate:',\n",
    "    style={'description_width': 'initial'},\n",
    "    layout=widgets.Layout(width='50%')\n",
    ")\n",
    "\n",
    "ind_par = widgets.Textarea(\n",
    "    value='50, 5, 0.2',\n",
    "    description='indep pairwise (comma-separated):',\n",
    "    style={'description_width': 'initial'},\n",
    "    layout=widgets.Layout(width='25%')\n",
    ")\n",
    "\n",
    "pca = widgets.IntText(\n",
    "    value=10,\n",
    "    description='Number of Principal Components:',\n",
    "    style={'description_width': 'initial'},\n",
    "    layout=widgets.Layout(width='50%')\n",
    ")\n",
    "\n",
    "display(maf, geno, hwe, mind, ind_par, pca)\n",
    "\n",
    "def get_preps_params():\n",
    "\n",
    "    preps_params = dict()\n",
    "\n",
    "    indep = ind_par.value.split(',')\n",
    "\n",
    "    preps_params['maf']     = maf.value\n",
    "    preps_params['geno']    = geno.value\n",
    "    preps_params['hwe']     = hwe.value\n",
    "    preps_params['mind']    = mind.value\n",
    "    preps_params['ind_pair']= [int(indep[0]), int(indep[1]), float(indep[2])]\n",
    "    preps_params['pca']     = pca.value\n",
    "\n",
    "    return preps_params"
   ]
  },
  {
   "cell_type": "code",
   "execution_count": 6,
   "metadata": {},
   "outputs": [
    {
     "data": {
      "text/plain": [
       "{'maf': 0.05,\n",
       " 'geno': 0.1,\n",
       " 'hwe': 5e-08,\n",
       " 'mind': 0.1,\n",
       " 'ind_pair': [50, 5, 0.2],\n",
       " 'pca': 10}"
      ]
     },
     "execution_count": 6,
     "metadata": {},
     "output_type": "execute_result"
    }
   ],
   "source": [
    "preps_params = get_preps_params()\n",
    "preps_params"
   ]
  },
  {
   "cell_type": "markdown",
   "metadata": {},
   "source": [
    "Execute the pipeline steps."
   ]
  },
  {
   "cell_type": "code",
   "execution_count": 7,
   "metadata": {},
   "outputs": [
    {
     "name": "stdout",
     "output_type": "stream",
     "text": [
      "\u001b[1mLinkage Disequilibrium Prunning.\u001b[0m\n",
      "PLINK v1.9.0-b.7.7 64-bit (22 Oct 2024)            cog-genomics.org/plink/1.9/\n",
      "(C) 2005-2024 Shaun Purcell, Christopher Chang   GNU General Public License v3\n",
      "Logging to /media/luisggon/LaCie/data1/LuxGiantimputed/outputData/preparatory/luxgiant_imputed_noprobID_processed_prunning.log.\n",
      "Options in effect:\n",
      "  --bfile /media/luisggon/LaCie/data1/LuxGiantimputed/outputData/post_imputation/analysis_ready/luxgiant_imputed_noprobID\n",
      "  --chr 1-22\n",
      "  --exclude /media/luisggon/LaCie/data1/LuxGiantimputed/dependables/high-LD-regions.txt\n",
      "  --geno 0.1\n",
      "  --hwe 5e-08\n",
      "  --indep-pairwise 50 5 0.2\n",
      "  --maf 0.05\n",
      "  --make-bed\n",
      "  --out /media/luisggon/LaCie/data1/LuxGiantimputed/outputData/preparatory/luxgiant_imputed_noprobID_processed_prunning\n",
      "  --range\n",
      "  --threads 10\n",
      "\n",
      "Note: --range flag deprecated.  Use e.g. \"--extract range <filename>\".\n",
      "13795 MB RAM detected; reserving 6897 MB for main workspace.\n",
      "23169127 variants loaded from .bim file.\n",
      "11170 people (7458 males, 3712 females) loaded from .fam.\n",
      "11170 phenotype values loaded from .fam.\n",
      "--exclude range: 499022 variants excluded.\n",
      "--exclude range: 22670105 variants remaining.\n",
      "Using 1 thread (no multithreaded calculations invoked).\n",
      "Before main variant filters, 11170 founders and 0 nonfounders present.\n",
      "Calculating allele frequencies... 10111213141516171819202122232425262728293031323334353637383940414243444546474849505152535455565758596061626364656667686970717273747576777879808182838485868788899091929394959697989 done.\n",
      "Total genotyping rate is exactly 1.\n",
      "0 variants removed due to missing genotype data (--geno).\n",
      "--hwe: 332 variants removed due to Hardy-Weinberg exact test.\n",
      "16865594 variants removed due to minor allele threshold(s)\n",
      "(--maf/--max-maf/--mac/--max-mac).\n",
      "5804179 variants and 11170 people pass filters and QC.\n",
      "Among remaining phenotypes, 4806 are cases and 6364 are controls.\n",
      "--make-bed to\n",
      "/media/luisggon/LaCie/data1/LuxGiantimputed/outputData/preparatory/luxgiant_imputed_noprobID_processed_prunning.bed\n",
      "+\n",
      "/media/luisggon/LaCie/data1/LuxGiantimputed/outputData/preparatory/luxgiant_imputed_noprobID_processed_prunning.bim\n",
      "+\n",
      "/media/luisggon/LaCie/data1/LuxGiantimputed/outputData/preparatory/luxgiant_imputed_noprobID_processed_prunning.fam\n",
      "... 101112131415161718192021222324252627282930313233343536373839404142434445464748495051525354555657585960616263646566676869707172737475767778798081828384858687888990919293949596979899done.\n",
      "Pruned 430385 variants from chromosome 1, leaving 24263.\n",
      "Pruned 443240 variants from chromosome 2, leaving 23949.\n",
      "Pruned 395480 variants from chromosome 3, leaving 21759.\n",
      "Pruned 414036 variants from chromosome 4, leaving 21628.\n",
      "Pruned 349643 variants from chromosome 5, leaving 18901.\n",
      "Pruned 332978 variants from chromosome 6, leaving 18014.\n",
      "Pruned 332323 variants from chromosome 7, leaving 18322.\n",
      "Pruned 289792 variants from chromosome 8, leaving 15378.\n",
      "Pruned 243530 variants from chromosome 9, leaving 13999.\n",
      "Pruned 290667 variants from chromosome 10, leaving 16430.\n",
      "Pruned 272754 variants from chromosome 11, leaving 14724.\n",
      "Pruned 268555 variants from chromosome 12, leaving 15676.\n",
      "Pruned 207997 variants from chromosome 13, leaving 11636.\n",
      "Pruned 178595 variants from chromosome 14, leaving 10329.\n",
      "Pruned 159670 variants from chromosome 15, leaving 9748.\n",
      "Pruned 169404 variants from chromosome 16, leaving 10814.\n",
      "Pruned 144142 variants from chromosome 17, leaving 9691.\n",
      "Pruned 159889 variants from chromosome 18, leaving 9664.\n",
      "Pruned 126453 variants from chromosome 19, leaving 8263.\n",
      "Pruned 124122 variants from chromosome 20, leaving 8528.\n",
      "Pruned 80812 variants from chromosome 21, leaving 5180.\n",
      "Pruned 77306 variants from chromosome 22, leaving 5510.\n",
      "Pruning complete.  5491773 of 5804179 variants removed.\n",
      "Marker lists written to\n",
      "/media/luisggon/LaCie/data1/LuxGiantimputed/outputData/preparatory/luxgiant_imputed_noprobID_processed_prunning.prune.in\n",
      "and\n",
      "/media/luisggon/LaCie/data1/LuxGiantimputed/outputData/preparatory/luxgiant_imputed_noprobID_processed_prunning.prune.out\n",
      ".\n",
      "\n",
      "PLINK v2.0.0-a.6.6LM AVX2 AMD (16 Jan 2025)        cog-genomics.org/plink/2.0/\n",
      "(C) 2005-2025 Shaun Purcell, Christopher Chang   GNU General Public License v3\n",
      "Logging to /media/luisggon/LaCie/data1/LuxGiantimputed/outputData/preparatory/luxgiant_imputed_noprobID_processed.log.\n",
      "Options in effect:\n",
      "  --bfile /media/luisggon/LaCie/data1/LuxGiantimputed/outputData/preparatory/luxgiant_imputed_noprobID_processed_prunning\n",
      "  --extract /media/luisggon/LaCie/data1/LuxGiantimputed/outputData/preparatory/luxgiant_imputed_noprobID_processed_prunning.prune.in\n",
      "  --make-bed\n",
      "  --out /media/luisggon/LaCie/data1/LuxGiantimputed/outputData/preparatory/luxgiant_imputed_noprobID_processed\n",
      "  --threads 10\n",
      "\n",
      "Start time: Wed Jan 22 21:11:15 2025\n",
      "13795 MiB RAM detected, ~6907 available; reserving 6843 MiB for main workspace.\n",
      "Using up to 10 threads (change this with --threads).\n",
      "11170 samples (3712 females, 7458 males; 11170 founders) loaded from\n",
      "/media/luisggon/LaCie/data1/LuxGiantimputed/outputData/preparatory/luxgiant_imputed_noprobID_processed_prunning.fam.\n",
      "5804179 variants loaded from\n",
      "/media/luisggon/LaCie/data1/LuxGiantimputed/outputData/preparatory/luxgiant_imputed_noprobID_processed_prunning.bim.\n",
      "1 binary phenotype loaded (4806 cases, 6364 controls).\n",
      "--extract: 312406 variants remaining.\n",
      "312406 variants remaining after main filters.\n",
      "Writing\n",
      "/media/luisggon/LaCie/data1/LuxGiantimputed/outputData/preparatory/luxgiant_imputed_noprobID_processed.fam\n",
      "... done.\n",
      "Writing\n",
      "/media/luisggon/LaCie/data1/LuxGiantimputed/outputData/preparatory/luxgiant_imputed_noprobID_processed.bim\n",
      "... done.\n",
      "Writing\n",
      "/media/luisggon/LaCie/data1/LuxGiantimputed/outputData/preparatory/luxgiant_imputed_noprobID_processed.bed\n",
      "... 1011121314151617181920212324252627282930313233343536373839414243444546474849505152545556575859606263646566676869707273747576777880818283858687899091929395969799done.\n",
      "End time: Wed Jan 22 21:13:31 2025\n",
      "\n",
      "\u001b[1mPrincipal Component Analysis.\u001b[0m\n",
      "PLINK v1.9.0-b.7.7 64-bit (22 Oct 2024)            cog-genomics.org/plink/1.9/\n",
      "(C) 2005-2024 Shaun Purcell, Christopher Chang   GNU General Public License v3\n",
      "Logging to /media/luisggon/LaCie/data1/LuxGiantimputed/outputData/post_imputation/analysis_ready/luxgiant_imputed_noprobID.log.\n",
      "Options in effect:\n",
      "  --bfile /media/luisggon/LaCie/data1/LuxGiantimputed/outputData/preparatory/luxgiant_imputed_noprobID_processed\n",
      "  --out /media/luisggon/LaCie/data1/LuxGiantimputed/outputData/post_imputation/analysis_ready/luxgiant_imputed_noprobID\n",
      "  --pca 10\n",
      "  --threads 10\n",
      "\n",
      "13795 MB RAM detected; reserving 6897 MB for main workspace.\n",
      "312406 variants loaded from .bim file.\n",
      "11170 people (7458 males, 3712 females) loaded from .fam.\n",
      "11170 phenotype values loaded from .fam.\n",
      "Using up to 10 threads (change this with --threads).\n",
      "Before main variant filters, 11170 founders and 0 nonfounders present.\n",
      "Calculating allele frequencies... 10111213141516171819202122232425262728293031323334353637383940414243444546474849505152535455565758596061626364656667686970717273747576777879808182838485868788899091929394959697989 done.\n",
      "Total genotyping rate is exactly 1.\n",
      "312406 variants and 11170 people pass filters and QC.\n",
      "Among remaining phenotypes, 4806 are cases and 6364 are controls.\n",
      "Relationship matrix calculation complete.\n",
      "--pca: Results saved to and eigenvectors]\n",
      "/media/luisggon/LaCie/data1/LuxGiantimputed/outputData/post_imputation/analysis_ready/luxgiant_imputed_noprobID.eigenval\n",
      "and\n",
      "/media/luisggon/LaCie/data1/LuxGiantimputed/outputData/post_imputation/analysis_ready/luxgiant_imputed_noprobID.eigenvec\n",
      ".\n",
      "\n"
     ]
    }
   ],
   "source": [
    "prep_steps = {\n",
    "    'ld_prune': (preps.execute_ld_prunning, {\n",
    "        'maf': preps_params['maf'], \n",
    "        'geno': preps_params['geno'], \n",
    "        'mind': preps_params['mind'], \n",
    "        'hwe': preps_params['hwe'], \n",
    "        'ind_pair': preps_params['ind_pair'],\n",
    "    }),\n",
    "    'pca': (preps.execute_pc_decomposition, {\n",
    "        'pca': preps_params['pca']\n",
    "    }),\n",
    "}\n",
    "\n",
    "step_description = {\n",
    "    'ld_prune': 'Linkage Disequilibrium Prunning',\n",
    "    'pca'     : 'Principal Component Analysis'\n",
    "}\n",
    "\n",
    "for name, (func, params) in prep_steps.items():\n",
    "    print(f\"\\033[1m{step_description[name]}.\\033[0m\")\n",
    "    func(**params)\n"
   ]
  }
 ],
 "metadata": {
  "kernelspec": {
   "display_name": "ideal-genom-_SI3jj61-py3.10",
   "language": "python",
   "name": "python3"
  },
  "language_info": {
   "codemirror_mode": {
    "name": "ipython",
    "version": 3
   },
   "file_extension": ".py",
   "mimetype": "text/x-python",
   "name": "python",
   "nbconvert_exporter": "python",
   "pygments_lexer": "ipython3",
   "version": "3.10.16"
  }
 },
 "nbformat": 4,
 "nbformat_minor": 2
}
