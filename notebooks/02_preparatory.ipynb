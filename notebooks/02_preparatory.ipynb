{
 "cells": [
  {
   "cell_type": "markdown",
   "metadata": {},
   "source": [
    "# Process concatenated PLINK binary files\n",
    "\n",
    "The present notebook serves as a guide of how use the `IDEAL-GENOM` library to process PLINK binary files obtained after processing the imputed files. We intend to show a possible use, because each user can adapt it to its particular needs.\n",
    "\n",
    "The first step is to import the requires libraries."
   ]
  },
  {
   "cell_type": "code",
   "execution_count": 1,
   "metadata": {},
   "outputs": [],
   "source": [
    "import sys\n",
    "import os\n",
    "\n",
    "# add parent directory to path\n",
    "library_path = os.path.abspath('..')\n",
    "if library_path not in sys.path:\n",
    "    sys.path.append(library_path)\n",
    "\n",
    "from ideal_genom.preprocessing.preparatory import Preparatory"
   ]
  },
  {
   "cell_type": "markdown",
   "metadata": {},
   "source": [
    "In the next widgets the user must input the paths and filenames needed to process `PLINK` binary files.\n",
    "\n",
    "1. `input_path`: folder with the input data. The pipeline assumes that the files are `.bed`, `.bim`, `.fam` files;\n",
    "2. `input_name`: prefix of the `PLINK` binary files:\n",
    "3. `dependables_path`: folder with external files needed to process the data, for example the file with the LD regions, in this case the file name must be `high-LD-regions.txt`;\n",
    "4. `output_path`: folder to output the results;\n",
    "5. `output_name`: the prefix of the PLINK binary files."
   ]
  },
  {
   "cell_type": "code",
   "execution_count": null,
   "metadata": {},
   "outputs": [],
   "source": [
    "import ipywidgets as widgets\n",
    "from IPython.display import display\n",
    "\n",
    "# Create interactive widgets for input\n",
    "input_path = widgets.Text(\n",
    "    value='/media/luis/LaCie/data1/LuxGiantimputed/outputData/post_imputation/analysis_ready/',\n",
    "    description='Path to input PLINK binary files:',\n",
    "    style={'description_width': 'initial'},\n",
    "    layout=widgets.Layout(width='50%')\n",
    ")\n",
    "\n",
    "input_name = widgets.Text(\n",
    "    value='annotated_normalized_combined_R2_0.3.dose_step2_sex_pheno',\n",
    "    description='Prefix of PLINK binary files:',\n",
    "    style={'description_width': 'initial'},\n",
    "    layout=widgets.Layout(width='50%')\n",
    ")\n",
    "\n",
    "dependables_path = widgets.Text(\n",
    "    value='/media/luis/LaCie/data1/LuxGiantimputed/dependables/',\n",
    "    description='Path to dependable files:',\n",
    "    style={'description_width': 'initial'},\n",
    "    layout=widgets.Layout(width='50%')\n",
    ")\n",
    "\n",
    "output_path = widgets.Text(\n",
    "    value='/media/luis/LaCie/data1/LuxGiantimputed/outputData/',\n",
    "    description='Path to output files:',\n",
    "    style={'description_width': 'initial'},\n",
    "    layout=widgets.Layout(width='50%')\n",
    ")\n",
    "output_name = widgets.Text(\n",
    "    value='luxgiant_imputed_noprobID_processed',\n",
    "    description='Prefix of the output files:',\n",
    "    style={'description_width': 'initial'},\n",
    "    layout=widgets.Layout(width='50%')\n",
    ")\n",
    "# Display the widgets\n",
    "display(input_path, input_name, dependables_path, output_path, output_name)\n",
    "\n",
    "# Function to get the text parameter values\n",
    "def get_params():\n",
    "    return input_path.value, input_name.value, dependables_path.value, output_path.value, output_name.value"
   ]
  },
  {
   "cell_type": "code",
   "execution_count": null,
   "metadata": {},
   "outputs": [],
   "source": [
    "path_params = get_params()\n",
    "print('input_path: ', path_params[0])\n",
    "print('input_name: ', path_params[1])\n",
    "print('dependables: ', path_params[2])\n",
    "print('output_path: ', path_params[3])\n",
    "print('output_name: ', path_params[4])"
   ]
  },
  {
   "cell_type": "markdown",
   "metadata": {},
   "source": [
    "With this info we can initialize the class `Preparatory`."
   ]
  },
  {
   "cell_type": "code",
   "execution_count": 4,
   "metadata": {},
   "outputs": [],
   "source": [
    "preps = Preparatory(\n",
    "    input_path =path_params[0],\n",
    "    input_name =path_params[1],\n",
    "    dependables=path_params[2],\n",
    "    output_path=path_params[3],\n",
    "    output_name=path_params[4]\n",
    ")"
   ]
  },
  {
   "cell_type": "markdown",
   "metadata": {},
   "source": [
    "In the next widgets, please provide the parameters needed to execute the pipeline.\n",
    "\n",
    "1. `maf`: minor allele frequency;\n",
    "2. `geno`: genotype missing rate;\n",
    "3. `hwe`: Hardy-Weinberg equilibrium;\n",
    "4. `mind`: individual missing rate;\n",
    "5. `ind_pair`: independent pairwise;\n",
    "6. `pca`: number of component used for the principal components decomposition."
   ]
  },
  {
   "cell_type": "code",
   "execution_count": null,
   "metadata": {},
   "outputs": [],
   "source": [
    "maf = widgets.FloatText(\n",
    "    value=0.01,\n",
    "    description='Minor Allele Frequency:',\n",
    "    style={'description_width': 'initial'},\n",
    "    layout=widgets.Layout(width='50%')\n",
    ")\n",
    "\n",
    "geno = widgets.FloatText(\n",
    "    value=0.1,\n",
    "    description='Genotype missing rate:',\n",
    "    style={'description_width': 'initial'},\n",
    "    layout=widgets.Layout(width='50%')\n",
    ")\n",
    "\n",
    "hwe = widgets.FloatText(\n",
    "    value=5e-6,\n",
    "    description='Hardy-Weinberg Equilibrium:',\n",
    "    style={'description_width': 'initial'},\n",
    "    layout=widgets.Layout(width='50%')\n",
    ")\n",
    "\n",
    "ind_par = widgets.Textarea(\n",
    "    value='50, 5, 0.2',\n",
    "    description='indep pairwise (comma-separated):',\n",
    "    style={'description_width': 'initial'},\n",
    "    layout=widgets.Layout(width='25%')\n",
    ")\n",
    "\n",
    "pca = widgets.IntText(\n",
    "    value=10,\n",
    "    description='Number of Principal Components:',\n",
    "    style={'description_width': 'initial'},\n",
    "    layout=widgets.Layout(width='50%')\n",
    ")\n",
    "\n",
    "display(maf, geno, hwe, ind_par, pca)\n",
    "\n",
    "def get_preps_params():\n",
    "\n",
    "    preps_params = dict()\n",
    "\n",
    "    indep = ind_par.value.split(',')\n",
    "\n",
    "    preps_params['maf']     = maf.value\n",
    "    preps_params['geno']    = geno.value\n",
    "    preps_params['hwe']     = hwe.value\n",
    "    preps_params['ind_pair']= [int(indep[0]), int(indep[1]), float(indep[2])]\n",
    "    preps_params['pca']     = pca.value\n",
    "\n",
    "    return preps_params"
   ]
  },
  {
   "cell_type": "code",
   "execution_count": null,
   "metadata": {},
   "outputs": [],
   "source": [
    "preps_params = get_preps_params()\n",
    "preps_params"
   ]
  },
  {
   "cell_type": "markdown",
   "metadata": {},
   "source": [
    "Execute the pipeline steps."
   ]
  },
  {
   "cell_type": "code",
   "execution_count": null,
   "metadata": {},
   "outputs": [],
   "source": [
    "prep_steps = {\n",
    "    'ld_prune': (preps.execute_ld_prunning, {\n",
    "        'maf'     : preps_params['maf'], \n",
    "        'geno'    : preps_params['geno'],\n",
    "        'hwe'     : preps_params['hwe'], \n",
    "        'ind_pair': preps_params['ind_pair'],\n",
    "    }),\n",
    "    'pca': (preps.execute_pc_decomposition, {\n",
    "        'pca': preps_params['pca']\n",
    "    }),\n",
    "}\n",
    "\n",
    "step_description = {\n",
    "    'ld_prune': 'Linkage Disequilibrium Prunning',\n",
    "    'pca'     : 'Principal Component Analysis'\n",
    "}\n",
    "\n",
    "for name, (func, params) in prep_steps.items():\n",
    "    print(f\"\\033[1m{step_description[name]}.\\033[0m\")\n",
    "    func(**params)\n"
   ]
  }
 ],
 "metadata": {
  "kernelspec": {
   "display_name": "luxgiant-dstream-dWyB7QIT-py3.10",
   "language": "python",
   "name": "python3"
  },
  "language_info": {
   "codemirror_mode": {
    "name": "ipython",
    "version": 3
   },
   "file_extension": ".py",
   "mimetype": "text/x-python",
   "name": "python",
   "nbconvert_exporter": "python",
   "pygments_lexer": "ipython3",
   "version": "3.10.15"
  }
 },
 "nbformat": 4,
 "nbformat_minor": 2
}
