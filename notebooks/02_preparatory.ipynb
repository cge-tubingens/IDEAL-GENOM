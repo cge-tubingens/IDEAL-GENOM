{
 "cells": [
  {
   "cell_type": "markdown",
   "metadata": {},
   "source": [
    "# Process concatenated PLINK binary files\n",
    "\n",
    "The present notebook serves as a guide of how use the `IDEAL-GENOM` library to process PLINK binary files obtained after processing the imputed files. We intend to show a possible use, because each user can adapt it to its particular needs.\n",
    "\n",
    "The first step is to import the requires libraries."
   ]
  },
  {
   "cell_type": "code",
   "execution_count": 1,
   "metadata": {},
   "outputs": [],
   "source": [
    "import sys\n",
    "import os\n",
    "\n",
    "import pandas as pd\n",
    "\n",
    "# add parent directory to path\n",
    "library_path = os.path.abspath('..')\n",
    "if library_path not in sys.path:\n",
    "    sys.path.append(library_path)\n",
    "\n",
    "from ideal_genom.preprocessing.preparatory import Preparatory"
   ]
  },
  {
   "cell_type": "markdown",
   "metadata": {},
   "source": [
    "In the next widgets the user must input the paths and filenames needed to process `PLINK` binary files.\n",
    "\n",
    "1. `input_path`: folder with the input data. The pipeline assumes that the files are `.bed`, `.bim`, `.fam` files;\n",
    "2. `input_name`: prefix of the `PLINK` binary files:\n",
    "3. `dependables_path`: folder with external files needed to process the data, for example the file with the LD regions, in this case the file name must be `high-LD-regions.txt`;\n",
    "4. `output_path`: folder to output the results;\n",
    "5. `output_name`: the prefix of the PLINK binary files."
   ]
  },
  {
   "cell_type": "code",
   "execution_count": 2,
   "metadata": {},
   "outputs": [
    {
     "data": {
      "application/vnd.jupyter.widget-view+json": {
       "model_id": "f39464963b104aaeb827c33c8e21cba0",
       "version_major": 2,
       "version_minor": 0
      },
      "text/plain": [
       "Text(value='/media/luis/LaCie/valente_gwas/outputData/post_imputation/analysis_ready/', description='Path to i…"
      ]
     },
     "metadata": {},
     "output_type": "display_data"
    },
    {
     "data": {
      "application/vnd.jupyter.widget-view+json": {
       "model_id": "2c378df3ef464a8a99b3da749ddb766d",
       "version_major": 2,
       "version_minor": 0
      },
      "text/plain": [
       "Text(value='test_valente', description='Prefix of PLINK binary files:', layout=Layout(width='50%'), style=Text…"
      ]
     },
     "metadata": {},
     "output_type": "display_data"
    },
    {
     "data": {
      "application/vnd.jupyter.widget-view+json": {
       "model_id": "b1bb498dfe60410588ce4c0d385b234d",
       "version_major": 2,
       "version_minor": 0
      },
      "text/plain": [
       "Text(value='/media/luis/LaCie/valente_gwas/dependables/', description='Path to dependable files:', layout=Layo…"
      ]
     },
     "metadata": {},
     "output_type": "display_data"
    },
    {
     "data": {
      "application/vnd.jupyter.widget-view+json": {
       "model_id": "914effe941fd4b57b1cdab03b6c08341",
       "version_major": 2,
       "version_minor": 0
      },
      "text/plain": [
       "Text(value='/media/luis/LaCie/valente_gwas/outputData/', description='Path to output files:', layout=Layout(wi…"
      ]
     },
     "metadata": {},
     "output_type": "display_data"
    },
    {
     "data": {
      "application/vnd.jupyter.widget-view+json": {
       "model_id": "209000ceaa4349d4892327cd7cfa3cfc",
       "version_major": 2,
       "version_minor": 0
      },
      "text/plain": [
       "Text(value='test_valente_processed', description='Prefix of the output files:', layout=Layout(width='50%'), st…"
      ]
     },
     "metadata": {},
     "output_type": "display_data"
    }
   ],
   "source": [
    "import ipywidgets as widgets\n",
    "from IPython.display import display\n",
    "\n",
    "# Create interactive widgets for input\n",
    "input_path = widgets.Text(\n",
    "    value='/media/luis/LaCie/valente_gwas/outputData/post_imputation/analysis_ready/',\n",
    "    description='Path to input PLINK binary files:',\n",
    "    style={'description_width': 'initial'},\n",
    "    layout=widgets.Layout(width='50%')\n",
    ")\n",
    "\n",
    "input_name = widgets.Text(\n",
    "    value='test_valente',\n",
    "    description='Prefix of PLINK binary files:',\n",
    "    style={'description_width': 'initial'},\n",
    "    layout=widgets.Layout(width='50%')\n",
    ")\n",
    "\n",
    "dependables_path = widgets.Text(\n",
    "    value='/media/luis/LaCie/valente_gwas/dependables/',\n",
    "    description='Path to dependable files:',\n",
    "    style={'description_width': 'initial'},\n",
    "    layout=widgets.Layout(width='50%')\n",
    ")\n",
    "\n",
    "output_path = widgets.Text(\n",
    "    value='/media/luis/LaCie/valente_gwas/outputData/',\n",
    "    description='Path to output files:',\n",
    "    style={'description_width': 'initial'},\n",
    "    layout=widgets.Layout(width='50%')\n",
    ")\n",
    "output_name = widgets.Text(\n",
    "    value='test_valente_processed',\n",
    "    description='Prefix of the output files:',\n",
    "    style={'description_width': 'initial'},\n",
    "    layout=widgets.Layout(width='50%')\n",
    ")\n",
    "# Display the widgets\n",
    "display(input_path, input_name, dependables_path, output_path, output_name)\n",
    "\n",
    "# Function to get the text parameter values\n",
    "def get_params():\n",
    "    return input_path.value, input_name.value, dependables_path.value, output_path.value, output_name.value"
   ]
  },
  {
   "cell_type": "code",
   "execution_count": 3,
   "metadata": {},
   "outputs": [
    {
     "name": "stdout",
     "output_type": "stream",
     "text": [
      "input_path:  /media/luis/LaCie/valente_gwas/outputData/post_imputation/analysis_ready/\n",
      "input_name:  test_valente\n",
      "dependables:  /media/luis/LaCie/valente_gwas/dependables/\n",
      "output_path:  /media/luis/LaCie/valente_gwas/outputData/\n",
      "output_name:  test_valente_processed\n"
     ]
    }
   ],
   "source": [
    "path_params = get_params()\n",
    "print('input_path: ', path_params[0])\n",
    "print('input_name: ', path_params[1])\n",
    "print('dependables: ', path_params[2])\n",
    "print('output_path: ', path_params[3])\n",
    "print('output_name: ', path_params[4])"
   ]
  },
  {
   "cell_type": "markdown",
   "metadata": {},
   "source": [
    "With this info we can initialize the class `Preparatory`."
   ]
  },
  {
   "cell_type": "code",
   "execution_count": 4,
   "metadata": {},
   "outputs": [],
   "source": [
    "preps = Preparatory(\n",
    "    input_path =path_params[0],\n",
    "    input_name =path_params[1],\n",
    "    dependables=path_params[2],\n",
    "    output_path=path_params[3],\n",
    "    output_name=path_params[4]\n",
    ")"
   ]
  },
  {
   "cell_type": "markdown",
   "metadata": {},
   "source": [
    "In the next widgets, please provide the parameters needed to execute the pipeline.\n",
    "\n",
    "1. `maf`: minor allele frequency;\n",
    "2. `geno`: genotype missing rate;\n",
    "3. `hwe`: Hardy-Weinberg equilibrium;\n",
    "4. `mind`: individual missing rate;\n",
    "5. `ind_pair`: independent pairwise;\n",
    "6. `pca`: number of component used for the principal components decomposition."
   ]
  },
  {
   "cell_type": "code",
   "execution_count": 5,
   "metadata": {},
   "outputs": [
    {
     "data": {
      "application/vnd.jupyter.widget-view+json": {
       "model_id": "51e98b0be8564787b15087ae54bc931f",
       "version_major": 2,
       "version_minor": 0
      },
      "text/plain": [
       "FloatText(value=0.05, description='Minor Allele Frequency:', layout=Layout(width='50%'), style=DescriptionStyl…"
      ]
     },
     "metadata": {},
     "output_type": "display_data"
    },
    {
     "data": {
      "application/vnd.jupyter.widget-view+json": {
       "model_id": "89e704d91cb54b9a82acbfa494dd1b8e",
       "version_major": 2,
       "version_minor": 0
      },
      "text/plain": [
       "FloatText(value=0.1, description='Genotype missing rate:', layout=Layout(width='50%'), style=DescriptionStyle(…"
      ]
     },
     "metadata": {},
     "output_type": "display_data"
    },
    {
     "data": {
      "application/vnd.jupyter.widget-view+json": {
       "model_id": "dc3140e41e1a4f9388d22eeffd49f763",
       "version_major": 2,
       "version_minor": 0
      },
      "text/plain": [
       "FloatText(value=5e-08, description='Hardy-Weinberg Equilibrium:', layout=Layout(width='50%'), style=Descriptio…"
      ]
     },
     "metadata": {},
     "output_type": "display_data"
    },
    {
     "data": {
      "application/vnd.jupyter.widget-view+json": {
       "model_id": "4e0f5f2603a248d0a7d4cd938fe480f2",
       "version_major": 2,
       "version_minor": 0
      },
      "text/plain": [
       "FloatText(value=0.1, description='Individual missing rate:', layout=Layout(width='50%'), style=DescriptionStyl…"
      ]
     },
     "metadata": {},
     "output_type": "display_data"
    },
    {
     "data": {
      "application/vnd.jupyter.widget-view+json": {
       "model_id": "2684ec9b36dc4620837cfcd3565d3398",
       "version_major": 2,
       "version_minor": 0
      },
      "text/plain": [
       "Textarea(value='50, 5, 0.2', description='indep pairwise (comma-separated):', layout=Layout(width='25%'), styl…"
      ]
     },
     "metadata": {},
     "output_type": "display_data"
    },
    {
     "data": {
      "application/vnd.jupyter.widget-view+json": {
       "model_id": "0039afdd8abd429eb80a746b1ce1f282",
       "version_major": 2,
       "version_minor": 0
      },
      "text/plain": [
       "IntText(value=10, description='Number of Principal Components:', layout=Layout(width='50%'), style=Description…"
      ]
     },
     "metadata": {},
     "output_type": "display_data"
    }
   ],
   "source": [
    "maf = widgets.FloatText(\n",
    "    value=0.05,\n",
    "    description='Minor Allele Frequency:',\n",
    "    style={'description_width': 'initial'},\n",
    "    layout=widgets.Layout(width='50%')\n",
    ")\n",
    "\n",
    "geno = widgets.FloatText(\n",
    "    value=0.1,\n",
    "    description='Genotype missing rate:',\n",
    "    style={'description_width': 'initial'},\n",
    "    layout=widgets.Layout(width='50%')\n",
    ")\n",
    "\n",
    "hwe = widgets.FloatText(\n",
    "    value=5e-8,\n",
    "    description='Hardy-Weinberg Equilibrium:',\n",
    "    style={'description_width': 'initial'},\n",
    "    layout=widgets.Layout(width='50%')\n",
    ")\n",
    "\n",
    "mind = widgets.FloatText(\n",
    "    value=0.1,\n",
    "    description='Individual missing rate:',\n",
    "    style={'description_width': 'initial'},\n",
    "    layout=widgets.Layout(width='50%')\n",
    ")\n",
    "\n",
    "ind_par = widgets.Textarea(\n",
    "    value='50, 5, 0.2',\n",
    "    description='indep pairwise (comma-separated):',\n",
    "    style={'description_width': 'initial'},\n",
    "    layout=widgets.Layout(width='25%')\n",
    ")\n",
    "\n",
    "pca = widgets.IntText(\n",
    "    value=10,\n",
    "    description='Number of Principal Components:',\n",
    "    style={'description_width': 'initial'},\n",
    "    layout=widgets.Layout(width='50%')\n",
    ")\n",
    "\n",
    "display(maf, geno, hwe, mind, ind_par, pca)\n",
    "\n",
    "def get_preps_params():\n",
    "\n",
    "    preps_params = dict()\n",
    "\n",
    "    indep = ind_par.value.split(',')\n",
    "\n",
    "    preps_params['maf']     = maf.value\n",
    "    preps_params['geno']    = geno.value\n",
    "    preps_params['hwe']     = hwe.value\n",
    "    preps_params['mind']    = mind.value\n",
    "    preps_params['ind_pair']= [int(indep[0]), int(indep[1]), float(indep[2])]\n",
    "    preps_params['pca']     = pca.value\n",
    "\n",
    "    return preps_params"
   ]
  },
  {
   "cell_type": "code",
   "execution_count": 6,
   "metadata": {},
   "outputs": [
    {
     "data": {
      "text/plain": [
       "{'maf': 0.05,\n",
       " 'geno': 0.1,\n",
       " 'hwe': 5e-08,\n",
       " 'mind': 0.1,\n",
       " 'ind_pair': [50, 5, 0.2],\n",
       " 'pca': 10}"
      ]
     },
     "execution_count": 6,
     "metadata": {},
     "output_type": "execute_result"
    }
   ],
   "source": [
    "preps_params = get_preps_params()\n",
    "preps_params"
   ]
  },
  {
   "cell_type": "markdown",
   "metadata": {},
   "source": [
    "Execute the pipeline steps."
   ]
  },
  {
   "cell_type": "code",
   "execution_count": 7,
   "metadata": {},
   "outputs": [
    {
     "name": "stdout",
     "output_type": "stream",
     "text": [
      "\u001b[1mLinkage Disequilibrium Prunning.\u001b[0m\n",
      "PLINK v1.90b7.4 64-bit (18 Aug 2024)           www.cog-genomics.org/plink/1.9/\n",
      "(C) 2005-2024 Shaun Purcell, Christopher Chang   GNU General Public License v3\n",
      "Logging to /media/luis/LaCie/valente_gwas/outputData/preparatory/test_valente_processed_prunning.log.\n",
      "Options in effect:\n",
      "  --bfile /media/luis/LaCie/valente_gwas/outputData/post_imputation/analysis_ready/test_valente\n",
      "  --chr 1-22\n",
      "  --exclude /media/luis/LaCie/valente_gwas/dependables/high-LD-regions.txt\n",
      "  --geno 0.1\n",
      "  --hwe 5e-08\n",
      "  --indep-pairwise 50 5 0.2\n",
      "  --maf 0.05\n",
      "  --make-bed\n",
      "  --out /media/luis/LaCie/valente_gwas/outputData/preparatory/test_valente_processed_prunning\n",
      "  --range\n",
      "  --threads 30\n",
      "\n",
      "Note: --range flag deprecated.  Use e.g. \"--extract range <filename>\".\n",
      "63863 MB RAM detected; reserving 31931 MB for main workspace.\n",
      "13682293 variants loaded from .bim file.\n",
      "380 people (0 males, 0 females, 380 ambiguous) loaded from .fam.\n",
      "Ambiguous sex IDs written to\n",
      "/media/luis/LaCie/valente_gwas/outputData/preparatory/test_valente_processed_prunning.nosex\n",
      ".\n",
      "--exclude range: 368287 variants excluded.\n",
      "--exclude range: 13314006 variants remaining.\n",
      "Using 1 thread (no multithreaded calculations invoked).\n",
      "Before main variant filters, 380 founders and 0 nonfounders present.\n",
      "Calculating allele frequencies... 10111213141516171819202122232425262728293031323334353637383940414243444546474849505152535455565758596061626364656667686970717273747576777879808182838485868788899091929394959697989 done.\n",
      "Total genotyping rate is exactly 1.\n",
      "0 variants removed due to missing genotype data (--geno).\n",
      "--hwe: 20 variants removed due to Hardy-Weinberg exact test.\n",
      "8066499 variants removed due to minor allele threshold(s)\n",
      "(--maf/--max-maf/--mac/--max-mac).\n",
      "5247487 variants and 380 people pass filters and QC.\n",
      "Note: No phenotypes present.\n",
      "--make-bed to\n",
      "/media/luis/LaCie/valente_gwas/outputData/preparatory/test_valente_processed_prunning.bed\n",
      "+\n",
      "/media/luis/LaCie/valente_gwas/outputData/preparatory/test_valente_processed_prunning.bim\n",
      "+\n",
      "/media/luis/LaCie/valente_gwas/outputData/preparatory/test_valente_processed_prunning.fam\n",
      "... 101112131415161718192021222324252627282930313233343536373839404142434445464748495051525354555657585960616263646566676869707172737475767778798081828384858687888990919293949596979899done.\n",
      "Pruned 385258 variants from chromosome 1, leaving 21866.\n",
      "Pruned 406910 variants from chromosome 2, leaving 22067.\n",
      "Pruned 356966 variants from chromosome 3, leaving 19631.\n",
      "Pruned 373759 variants from chromosome 4, leaving 20102.\n",
      "Pruned 323532 variants from chromosome 5, leaving 17852.\n",
      "Pruned 301207 variants from chromosome 6, leaving 16798.\n",
      "Pruned 289099 variants from chromosome 7, leaving 15979.\n",
      "Pruned 265035 variants from chromosome 8, leaving 14475.\n",
      "Pruned 218651 variants from chromosome 9, leaving 12739.\n",
      "Pruned 258572 variants from chromosome 10, leaving 14535.\n",
      "Pruned 248947 variants from chromosome 11, leaving 14034.\n",
      "Pruned 237637 variants from chromosome 12, leaving 13876.\n",
      "Pruned 191706 variants from chromosome 13, leaving 11022.\n",
      "Pruned 165500 variants from chromosome 14, leaving 9529.\n",
      "Pruned 143217 variants from chromosome 15, leaving 8231.\n",
      "Pruned 156182 variants from chromosome 16, leaving 9006.\n",
      "Pruned 133326 variants from chromosome 17, leaving 8271.\n",
      "Pruned 146306 variants from chromosome 18, leaving 8742.\n",
      "Pruned 113220 variants from chromosome 19, leaving 6967.\n",
      "Pruned 111907 variants from chromosome 20, leaving 6846.\n",
      "Pruned 72783 variants from chromosome 21, leaving 4291.\n",
      "Pruned 66700 variants from chromosome 22, leaving 4208.\n",
      "Pruning complete.  4966420 of 5247487 variants removed.\n",
      "Marker lists written to\n",
      "/media/luis/LaCie/valente_gwas/outputData/preparatory/test_valente_processed_prunning.prune.in\n",
      "and\n",
      "/media/luis/LaCie/valente_gwas/outputData/preparatory/test_valente_processed_prunning.prune.out\n",
      ".\n",
      "\n",
      "PLINK v2.00a6LM 64-bit Intel (18 Aug 2024)     www.cog-genomics.org/plink/2.0/\n",
      "(C) 2005-2024 Shaun Purcell, Christopher Chang   GNU General Public License v3\n",
      "Logging to /media/luis/LaCie/valente_gwas/outputData/preparatory/test_valente_processed.log.\n",
      "Options in effect:\n",
      "  --bfile /media/luis/LaCie/valente_gwas/outputData/preparatory/test_valente_processed_prunning\n",
      "  --extract /media/luis/LaCie/valente_gwas/outputData/preparatory/test_valente_processed_prunning.prune.in\n",
      "  --make-bed\n",
      "  --out /media/luis/LaCie/valente_gwas/outputData/preparatory/test_valente_processed\n",
      "  --threads 30\n",
      "\n",
      "Start time: Tue Jan 21 16:13:54 2025\n",
      "63863 MiB RAM detected, ~57873 available; reserving 31931 MiB for main\n",
      "workspace.\n",
      "Using up to 30 threads (change this with --threads).\n",
      "380 samples (0 females, 0 males, 380 ambiguous; 380 founders) loaded from\n",
      "/media/luis/LaCie/valente_gwas/outputData/preparatory/test_valente_processed_prunning.fam.\n",
      "5247487 variants loaded from\n",
      "/media/luis/LaCie/valente_gwas/outputData/preparatory/test_valente_processed_prunning.bim.\n",
      "Note: No phenotype data present.\n",
      "--extract: 281067 variants remaining.\n",
      "281067 variants remaining after main filters.\n",
      "Writing\n",
      "/media/luis/LaCie/valente_gwas/outputData/preparatory/test_valente_processed.fam\n",
      "... done.\n",
      "Writing\n",
      "/media/luis/LaCie/valente_gwas/outputData/preparatory/test_valente_processed.bim\n",
      "... done.\n",
      "Writing\n",
      "/media/luis/LaCie/valente_gwas/outputData/preparatory/test_valente_processed.bed\n",
      "... 111213141517181920212324252627293031323335363738404142434546474849515253545657585961626364666768697172737576777880818283858687899091939495979899done.\n",
      "End time: Tue Jan 21 16:13:54 2025\n",
      "\n",
      "\u001b[1mPrincipal Component Analysis.\u001b[0m\n",
      "PLINK v1.90b7.4 64-bit (18 Aug 2024)           www.cog-genomics.org/plink/1.9/\n",
      "(C) 2005-2024 Shaun Purcell, Christopher Chang   GNU General Public License v3\n",
      "Logging to /media/luis/LaCie/valente_gwas/outputData/post_imputation/analysis_ready/test_valente.log.\n",
      "Options in effect:\n",
      "  --bfile /media/luis/LaCie/valente_gwas/outputData/preparatory/test_valente_processed\n",
      "  --out /media/luis/LaCie/valente_gwas/outputData/post_imputation/analysis_ready/test_valente\n",
      "  --pca 10\n",
      "  --threads 30\n",
      "\n",
      "63863 MB RAM detected; reserving 31931 MB for main workspace.\n",
      "281067 variants loaded from .bim file.\n",
      "380 people (0 males, 0 females, 380 ambiguous) loaded from .fam.\n",
      "Ambiguous sex IDs written to\n",
      "/media/luis/LaCie/valente_gwas/outputData/post_imputation/analysis_ready/test_valente.nosex\n",
      ".\n",
      "Using up to 30 threads (change this with --threads).\n",
      "Before main variant filters, 380 founders and 0 nonfounders present.\n",
      "Calculating allele frequencies... 10111213141516171819202122232425262728293031323334353637383940414243444546474849505152535455565758596061626364656667686970717273747576777879808182838485868788899091929394959697989 done.\n",
      "Total genotyping rate is exactly 1.\n",
      "281067 variants and 380 people pass filters and QC.\n",
      "Note: No phenotypes present.\n",
      "Relationship matrix calculation complete.\n",
      "--pca: Results saved to and eigenvectors]\n",
      "/media/luis/LaCie/valente_gwas/outputData/post_imputation/analysis_ready/test_valente.eigenval\n",
      "and\n",
      "/media/luis/LaCie/valente_gwas/outputData/post_imputation/analysis_ready/test_valente.eigenvec\n",
      ".\n",
      "\n"
     ]
    }
   ],
   "source": [
    "prep_steps = {\n",
    "    'ld_prune': (preps.execute_ld_prunning, {\n",
    "        'maf': preps_params['maf'], \n",
    "        'geno': preps_params['geno'], \n",
    "        'mind': preps_params['mind'], \n",
    "        'hwe': preps_params['hwe'], \n",
    "        'ind_pair': preps_params['ind_pair'],\n",
    "    }),\n",
    "    'pca': (preps.execute_pc_decomposition, {\n",
    "        'pca': preps_params['pca']\n",
    "    }),\n",
    "}\n",
    "\n",
    "step_description = {\n",
    "    'ld_prune': 'Linkage Disequilibrium Prunning',\n",
    "    'pca'     : 'Principal Component Analysis'\n",
    "}\n",
    "\n",
    "for name, (func, params) in prep_steps.items():\n",
    "    print(f\"\\033[1m{step_description[name]}.\\033[0m\")\n",
    "    func(**params)\n"
   ]
  }
 ],
 "metadata": {
  "kernelspec": {
   "display_name": "ideal-genom-NcAYBj8M-py3.10",
   "language": "python",
   "name": "python3"
  },
  "language_info": {
   "codemirror_mode": {
    "name": "ipython",
    "version": 3
   },
   "file_extension": ".py",
   "mimetype": "text/x-python",
   "name": "python",
   "nbconvert_exporter": "python",
   "pygments_lexer": "ipython3",
   "version": "3.10.15"
  }
 },
 "nbformat": 4,
 "nbformat_minor": 2
}
