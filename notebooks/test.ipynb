{
 "cells": [
  {
   "cell_type": "code",
   "execution_count": 1,
   "metadata": {},
   "outputs": [],
   "source": [
    "import os\n",
    "import json\n",
    "import pandas as pd\n",
    "import numpy as np\n",
    "import matplotlib.pyplot as plt\n",
    "import seaborn as sns\n",
    "import scipy.stats as stats\n",
    "\n",
    "import sys\n",
    "sys.path.append('/mnt/0A2AAC152AABFBB7/CGE/luxgiant-dstream')\n",
    "from luxgiant_dstream.prep_ds import PrepDS\n",
    "from luxgiant_dstream.gwas_fixed import GWASfixed\n",
    "from luxgiant_dstream.gwas_random import GWASrandom"
   ]
  },
  {
   "cell_type": "code",
   "execution_count": 3,
   "metadata": {},
   "outputs": [],
   "source": [
    "params = json.load(open(\"//home/luis/data/testDownStream/configFiles/parameters.JSON\"))\n",
    "paths = json.load(open(\"//home/luis/data/testDownStream/configFiles/paths_local.JSON\"))"
   ]
  },
  {
   "cell_type": "code",
   "execution_count": null,
   "metadata": {},
   "outputs": [],
   "source": [
    "prep = PrepDS(\n",
    "    input_path=paths['input_directory'],\n",
    "    input_name=paths['input_prefix'],\n",
    "    output_path=paths['output_directory'],\n",
    "    output_name=paths['output_prefix'],\n",
    "    config_dict=params,\n",
    "    dependables_path=paths['dependables_directory'],\n",
    ")"
   ]
  },
  {
   "cell_type": "code",
   "execution_count": null,
   "metadata": {},
   "outputs": [],
   "source": [
    "prep_steps = {\n",
    "    'ld_prune': prep.exclude_high_ld_hla,\n",
    "    'pca'     : prep.pca_decomposition\n",
    "}\n",
    "\n",
    "for step in prep_steps.keys():\n",
    "    prep_steps[step]()"
   ]
  },
  {
   "cell_type": "code",
   "execution_count": null,
   "metadata": {},
   "outputs": [],
   "source": [
    "gwas_f = GWASfixed(\n",
    "    input_path = paths['input_directory'],\n",
    "    input_name = paths['input_prefix'],\n",
    "    output_path= paths['output_directory'],\n",
    "    output_name= paths['output_prefix'],\n",
    "    config_dict= params,\n",
    "    preps_path = os.path.join(paths['output_directory'], 'preparatory'),\n",
    ")"
   ]
  },
  {
   "cell_type": "code",
   "execution_count": null,
   "metadata": {},
   "outputs": [],
   "source": [
    "gwas_f_steps = {\n",
    "    'train_model': gwas_f.fixed_model_association_analysis,\n",
    "    'top_hits'   : gwas_f.get_top_hits,\n",
    "    'annotate'   : gwas_f.annotate_top_hits,\n",
    "    'plots'      : gwas_f.plot_drawings\n",
    "}\n",
    "\n",
    "for step in gwas_f_steps.keys():\n",
    "    gwas_f_steps[step]()"
   ]
  },
  {
   "cell_type": "code",
   "execution_count": null,
   "metadata": {},
   "outputs": [],
   "source": [
    "gwas_r = GWASrandom(\n",
    "    input_path = paths['input_directory'],\n",
    "    input_name = paths['input_prefix'],\n",
    "    output_path= paths['output_directory'],\n",
    "    output_name= paths['output_prefix'],\n",
    "    config_dict= params,\n",
    "    preps_path = os.path.join(paths['output_directory'], 'preparatory'),\n",
    ")"
   ]
  },
  {
   "cell_type": "code",
   "execution_count": null,
   "metadata": {},
   "outputs": [],
   "source": [
    "gwas_r_steps = {\n",
    "    'preparatory': gwas_r.prepare_aux_files,\n",
    "    'grm'        : gwas_r.compute_grm,\n",
    "    'random'     : gwas_r.run_gwas_random,\n",
    "    'top_hits'   : gwas_r.get_top_hits,\n",
    "    'annotate'   : gwas_r.annotate_top_hits,\n",
    "    'plots'      : gwas_r.plot_drawings\n",
    "}\n",
    "for step in gwas_r_steps.keys():\n",
    "    gwas_r_steps[step]()"
   ]
  }
 ],
 "metadata": {
  "kernelspec": {
   "display_name": ".venv",
   "language": "python",
   "name": "python3"
  },
  "language_info": {
   "codemirror_mode": {
    "name": "ipython",
    "version": 3
   },
   "file_extension": ".py",
   "mimetype": "text/x-python",
   "name": "python",
   "nbconvert_exporter": "python",
   "pygments_lexer": "ipython3",
   "version": "3.12.5"
  }
 },
 "nbformat": 4,
 "nbformat_minor": 2
}
