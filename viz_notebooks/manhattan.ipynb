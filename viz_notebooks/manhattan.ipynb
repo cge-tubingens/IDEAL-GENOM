{
 "cells": [
  {
   "cell_type": "markdown",
   "metadata": {},
   "source": [
    "# Manhattan Plot\n",
    "\n",
    "Manhattan plots have become an essential tool to visualize GWAS summary statistics. Then, it is essential to have a highly customizable tool to draw this kind of plots. Even though there are many resources available to draw Manhattan plots, it still is a valuable functionality to have in out toolkit.\n",
    "\n",
    "In this notebook we intend to show how can be used the library `IDEAL-GENOM` to generate a Manhattan Plot. "
   ]
  },
  {
   "cell_type": "code",
   "execution_count": null,
   "metadata": {},
   "outputs": [],
   "source": [
    "import sys\n",
    "import os\n",
    "\n",
    "import pandas as pd\n",
    "\n",
    "# add parent directory to path\n",
    "library_path = os.path.abspath('..')\n",
    "if library_path not in sys.path:\n",
    "    sys.path.append(library_path)\n",
    "\n",
    "from ideal_genom.visualization.manhattan_type import manhattan_draw\n",
    "from ideal_genom.get_examples import get_trumpet_quantitative_example, get_top_loci_trumpet_quantitative, get_top_cond_trumpet_quantitative"
   ]
  },
  {
   "cell_type": "markdown",
   "metadata": {},
   "source": [
    "The first example corresponds to a trumpet plot for a quantitative trait: height. We are going to use the summary statistics provided in the study:\n",
    "\n",
    "Akiyama, M., et. al. (2019): Characterizing rare and low-frequency height-associated variants in the Japanese population. *Nature communications*, 10(1), 4393."
   ]
  },
  {
   "cell_type": "code",
   "execution_count": null,
   "metadata": {},
   "outputs": [],
   "source": [
    "example_path = get_trumpet_quantitative_example()"
   ]
  },
  {
   "cell_type": "code",
   "execution_count": null,
   "metadata": {},
   "outputs": [],
   "source": [
    "chunk_size = 2000\n",
    "\n",
    "filtered_chunks=[]\n",
    "\n",
    "for chunk in pd.read_csv(example_path, sep=r'\\s+', engine='python', chunksize=chunk_size):\n",
    "    \n",
    "    filtered_chunk = chunk[['CHR', 'POS', 'P_BOLT', 'Variants']].copy()\n",
    "    filtered_chunk = filtered_chunk[filtered_chunk['P_BOLT'] < 0.05].reset_index(drop=True)\n",
    "    filtered_chunks.append(filtered_chunk)\n",
    "\n",
    "df_gwas = pd.concat(filtered_chunks, ignore_index=True)"
   ]
  },
  {
   "cell_type": "markdown",
   "metadata": {},
   "source": [
    "Please, provide the columns to load from the **GWAS** summary statistics. The essential columns are those that contains chromosome, base-pair position, rsID and p-value. It is important to remark that columns names most coincide in both files, at least for the four columns that will be used to generate the Manhattan plot."
   ]
  },
  {
   "cell_type": "code",
   "execution_count": null,
   "metadata": {},
   "outputs": [],
   "source": [
    "print(\"Number of SNPs in GWAS data: \", df_gwas.shape[0])\n",
    "print(\"Columns in GWAS data: \", df_gwas.columns.to_list())"
   ]
  },
  {
   "cell_type": "code",
   "execution_count": null,
   "metadata": {},
   "outputs": [],
   "source": [
    "manhattan_draw(\n",
    "    data_df=df_gwas, \n",
    "    snp_col='Variants', \n",
    "    chr_col='CHR', \n",
    "    pos_col='POS', \n",
    "    p_col='P_BOLT', \n",
    "    plot_dir=example_path.parent.as_posix(), \n",
    "    to_highlight=None, \n",
    "    save_name='manhattan_plot_simple.pdf', \n",
    "    genome_line = 5e-8, \n",
    "    yaxis_margin = 10\n",
    ")"
   ]
  },
  {
   "cell_type": "code",
   "execution_count": null,
   "metadata": {},
   "outputs": [],
   "source": [
    "loci_path = get_top_loci_trumpet_quantitative()\n",
    "cond_path = get_top_cond_trumpet_quantitative()"
   ]
  },
  {
   "cell_type": "code",
   "execution_count": null,
   "metadata": {},
   "outputs": [],
   "source": [
    "loci_hits = pd.read_csv(loci_path, sep=r'\\s+', engine='python')\n",
    "cond_hits = pd.read_csv(cond_path, sep=r'\\s+', engine='python')"
   ]
  },
  {
   "cell_type": "code",
   "execution_count": null,
   "metadata": {},
   "outputs": [],
   "source": [
    "loci_hits = pd.merge(df_gwas, loci_hits, on='Variants', how='inner')\n",
    "cond_hits = pd.merge(df_gwas, cond_hits, on=['CHR', 'POS'], how='inner')"
   ]
  },
  {
   "cell_type": "code",
   "execution_count": null,
   "metadata": {},
   "outputs": [],
   "source": [
    "loci_hits = loci_hits[['CHR', 'POS', 'P_BOLT', 'Variants']].copy()\n",
    "loci_hits['hue']='loci'\n",
    "cond_hits = cond_hits[['CHR', 'POS', 'P_BOLT', 'Variants']].copy()\n",
    "cond_hits['hue']='cond'\n",
    "\n",
    "highlight = pd.concat([loci_hits, cond_hits], ignore_index=True, axis=0)"
   ]
  },
  {
   "cell_type": "code",
   "execution_count": null,
   "metadata": {},
   "outputs": [],
   "source": [
    "manhattan_draw(\n",
    "    data_df=df_gwas, \n",
    "    snp_col='Variants', \n",
    "    chr_col='CHR', \n",
    "    pos_col='POS', \n",
    "    p_col='P_BOLT', \n",
    "    plot_dir=example_path.parent.as_posix(), \n",
    "    save_name='manhattan_plot_high.pdf', \n",
    "    genome_line = 5e-8, \n",
    "    yaxis_margin = 10,\n",
    "    to_highlight=highlight\n",
    ")"
   ]
  }
 ],
 "metadata": {
  "kernelspec": {
   "display_name": "ideal-genom-NcAYBj8M-py3.10",
   "language": "python",
   "name": "python3"
  },
  "language_info": {
   "codemirror_mode": {
    "name": "ipython",
    "version": 3
   },
   "file_extension": ".py",
   "mimetype": "text/x-python",
   "name": "python",
   "nbconvert_exporter": "python",
   "pygments_lexer": "ipython3",
   "version": "3.10.15"
  }
 },
 "nbformat": 4,
 "nbformat_minor": 2
}
