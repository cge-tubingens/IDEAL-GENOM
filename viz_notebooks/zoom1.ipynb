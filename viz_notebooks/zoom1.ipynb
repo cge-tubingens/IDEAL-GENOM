{
 "cells": [
  {
   "cell_type": "code",
   "execution_count": 1,
   "metadata": {},
   "outputs": [],
   "source": [
    "import sys\n",
    "import os\n",
    "\n",
    "import pandas as pd\n",
    "\n",
    "import ipywidgets as widgets\n",
    "from IPython.display import display\n",
    "\n",
    "# add parent directory to path\n",
    "library_path = os.path.abspath('..')\n",
    "if library_path not in sys.path:\n",
    "    sys.path.append(library_path)\n",
    "\n",
    "from ideal_genom.zoom_heatmap import  draw_zoomed_heatmap"
   ]
  },
  {
   "cell_type": "code",
   "execution_count": null,
   "metadata": {},
   "outputs": [],
   "source": [
    "# Create interactive widgets for input\n",
    "input_path = widgets.Text(\n",
    "    value='/mnt/0A2AAC152AABFBB7/data/gwasResult/',\n",
    "    description='Path to project folder:',\n",
    "    style={'description_width': 'initial'}\n",
    ")\n",
    "\n",
    "input_name = widgets.Text(\n",
    "    value='annotated_normalized_combined_R2_0.3.dose_step2_sex_pheno-glm.PHENO1.glm.logistic.hybrid',\n",
    "    description='Name of GWAS summary file:',\n",
    "    style={'description_width': 'initial'}\n",
    ")\n",
    "\n",
    "top_snp = widgets.Text(\n",
    "    value='table_lead_SNPS_GWAS_glm_logistic_final_paper',\n",
    "    description='Name of file with SNPs to highlight:',\n",
    "    style={'description_width': 'initial'}\n",
    ")\n",
    "\n",
    "bfile_path = widgets.Text(\n",
    "    value='/mnt/0A2AAC152AABFBB7/data/LuxGiantimputed/inputData/',\n",
    "    description='Path to project folder:',\n",
    "    style={'description_width': 'initial'}\n",
    ")\n",
    "\n",
    "bfile_name = widgets.Text(\n",
    "    value='luxgiant_imputed_noprobID',\n",
    "    description='Path to project folder:',\n",
    "    style={'description_width': 'initial'}\n",
    ")\n",
    "\n",
    "# Display the widgets\n",
    "display(input_path, input_name, top_snp, bfile_path, bfile_name)\n",
    "\n",
    "# Function to get the text parameter values\n",
    "def get_params():\n",
    "    return input_path.value, input_name.value, top_snp.value, bfile_path.value, bfile_name.value"
   ]
  },
  {
   "cell_type": "code",
   "execution_count": null,
   "metadata": {},
   "outputs": [],
   "source": [
    "# Use the parameter values\n",
    "path_params = get_params()\n",
    "print(f\"Parameter 1: {path_params[0]}\")\n",
    "print(f\"Parameter 2: {path_params[1]}\")\n",
    "print(f\"Parameter 3: {path_params[2]}\")\n",
    "print(f\"Parameter 4: {path_params[3]}\")\n",
    "print(f\"Parameter 5: {path_params[4]}\")"
   ]
  },
  {
   "cell_type": "code",
   "execution_count": null,
   "metadata": {},
   "outputs": [],
   "source": [
    "cols_touse = widgets.Textarea(\n",
    "    value=\"#CHROM, POS, ID, P\",\n",
    "    description='Columns to use on the Mannhattan plot (comma-separated):',\n",
    "    style={'description_width': 'initial'},\n",
    "    layout=widgets.Layout(width='50%')\n",
    ")\n",
    "display(cols_touse)\n",
    "\n",
    "def get_cols():\n",
    "    return cols_touse.value"
   ]
  },
  {
   "cell_type": "code",
   "execution_count": null,
   "metadata": {},
   "outputs": [],
   "source": [
    "cols = get_cols()\n",
    "\n",
    "df_gwas = pd.read_csv(\n",
    "    os.path.join(path_params[0], path_params[1]), sep='\\t', usecols=[col.strip() for col in cols.split(',')]\n",
    ")\n",
    "df_gwas.head(5)"
   ]
  },
  {
   "cell_type": "code",
   "execution_count": null,
   "metadata": {},
   "outputs": [],
   "source": [
    "rsID = widgets.Text(\n",
    "    value='SNP',\n",
    "    description='Column name with the rsID:',\n",
    "    style={'description_width': 'initial'}\n",
    ")\n",
    "\n",
    "display(rsID)\n",
    "\n",
    "def get_rsID():\n",
    "    return rsID.value"
   ]
  },
  {
   "cell_type": "code",
   "execution_count": null,
   "metadata": {},
   "outputs": [],
   "source": [
    "SNP_col = widgets.Text(\n",
    "    value='ID',\n",
    "    description='Column with rsID:',\n",
    "    style={'description_width': 'initial'}\n",
    ")\n",
    "\n",
    "CHR_col = widgets.Text(\n",
    "    value='#CHROM',\n",
    "    description='Column with chromosome:',\n",
    "    style={'description_width': 'initial'}\n",
    ")\n",
    "\n",
    "POS_col = widgets.Text(\n",
    "    value='POS',\n",
    "    description='Column with base-pair position:',\n",
    "    style={'description_width': 'initial'}\n",
    ")\n",
    "\n",
    "P_col = widgets.Text(\n",
    "    value='P',\n",
    "    description='Column with p-values:',\n",
    "    style={'description_width': 'initial'}\n",
    ")\n",
    "\n",
    "display(SNP_col, CHR_col, POS_col, P_col)\n",
    "\n",
    "def get_col_names():\n",
    "    return SNP_col.value, CHR_col.value, POS_col.value, P_col.value,"
   ]
  },
  {
   "cell_type": "code",
   "execution_count": 8,
   "metadata": {},
   "outputs": [],
   "source": [
    "snp_col, chr_col, pos_col, p_col = get_col_names()"
   ]
  },
  {
   "cell_type": "code",
   "execution_count": null,
   "metadata": {},
   "outputs": [],
   "source": [
    "radius = widgets.IntText(\n",
    "    value=1000000,\n",
    "    description='Radius for the LD calculation:',\n",
    "    style={'description_width': 'initial'}\n",
    ")\n",
    "\n",
    "threshold = widgets.FloatText(\n",
    "    value=5e-6,\n",
    "    description='Threshold for the LD calculation:',\n",
    "    style={'description_width': 'initial'}\n",
    ")\n",
    "\n",
    "display(radius, threshold)\n",
    "\n",
    "def get_values():\n",
    "    return radius.value, threshold.value"
   ]
  },
  {
   "cell_type": "code",
   "execution_count": 10,
   "metadata": {},
   "outputs": [],
   "source": [
    "radius, pval_threshold = get_values()"
   ]
  },
  {
   "cell_type": "code",
   "execution_count": 11,
   "metadata": {},
   "outputs": [],
   "source": [
    "lead_snp1 = 'rs528813377'"
   ]
  },
  {
   "cell_type": "code",
   "execution_count": null,
   "metadata": {},
   "outputs": [],
   "source": [
    "effect_dict1 = {\n",
    "    'intron_variant': 'Intron var',\n",
    "    'intergenic_variant': 'Intergenic var',\n",
    "    'upstream_gene_variant': 'Upstream var',\n",
    "    'non_coding_transcript_exon_variant': 'Non-coding transcript var',\n",
    "}\n",
    "\n",
    "draw_zoomed_heatmap(\n",
    "    data_df       =df_gwas,\n",
    "    lead_snp      =lead_snp1, \n",
    "    snp_col       =snp_col, \n",
    "    p_col         =p_col, \n",
    "    pos_col       =pos_col, \n",
    "    chr_col       =chr_col, \n",
    "    output_folder =path_params[0], \n",
    "    pval_threshold=5e-2, \n",
    "    radius        =250000, \n",
    "    build         ='38', \n",
    "    gtf_path      =None, \n",
    "    batch_size    =100, \n",
    "    bfile_folder  =path_params[3], \n",
    "    bfile_name    =path_params[4], \n",
    "    effect_dict   =effect_dict1,\n",
    "    extension='pdf'\n",
    ")"
   ]
  },
  {
   "cell_type": "code",
   "execution_count": 13,
   "metadata": {},
   "outputs": [],
   "source": [
    "lead_snp2 = 'rs72843781'"
   ]
  },
  {
   "cell_type": "code",
   "execution_count": null,
   "metadata": {},
   "outputs": [],
   "source": [
    "effect_dict2 ={\n",
    "    'intron_variant': 'Intron var',\n",
    "    'intergenic_variant': 'Intergenic var',\n",
    "    'non_coding_transcript_exon_variant': 'Non coding transcript var'   \n",
    "}\n",
    "\n",
    "draw_zoomed_heatmap(\n",
    "    data_df       =df_gwas,\n",
    "    lead_snp      =lead_snp2, \n",
    "    snp_col       =snp_col, \n",
    "    p_col         =p_col, \n",
    "    pos_col       =pos_col, \n",
    "    chr_col       =chr_col, \n",
    "    output_folder =path_params[0], \n",
    "    pval_threshold=5e-6, \n",
    "    radius        =radius, \n",
    "    build         ='38', \n",
    "    gtf_path      =None, \n",
    "    batch_size    =100, \n",
    "    bfile_folder  =path_params[3], \n",
    "    bfile_name    =path_params[4], \n",
    "    effect_dict   =effect_dict2,\n",
    "    extension='pdf'\n",
    ")"
   ]
  },
  {
   "cell_type": "code",
   "execution_count": 15,
   "metadata": {},
   "outputs": [],
   "source": [
    "lead_snp3 = 'rs2092563'"
   ]
  },
  {
   "cell_type": "code",
   "execution_count": null,
   "metadata": {},
   "outputs": [],
   "source": [
    "effect_dict3 ={\n",
    "    'intron_variant': 'Intron var',\n",
    "    'upstream_gene_variant': 'Upstream var',\n",
    "    'intergenic_variant': 'Intergenic var',\n",
    "    'non_coding_transcript_exon_variant': 'Non coding transcript var'\n",
    "}\n",
    "\n",
    "draw_zoomed_heatmap(\n",
    "    data_df       =df_gwas,\n",
    "    lead_snp      =lead_snp3, \n",
    "    snp_col       =snp_col, \n",
    "    p_col         =p_col, \n",
    "    pos_col       =pos_col, \n",
    "    chr_col       =chr_col, \n",
    "    output_folder =path_params[0], \n",
    "    pval_threshold=5e-6, \n",
    "    radius        =radius, \n",
    "    build         ='38', \n",
    "    gtf_path      =None, \n",
    "    batch_size    =100, \n",
    "    bfile_folder  =path_params[3], \n",
    "    bfile_name    =path_params[4], \n",
    "    effect_dict   =effect_dict3,\n",
    "    extension='pdf'\n",
    ")"
   ]
  },
  {
   "cell_type": "code",
   "execution_count": 17,
   "metadata": {},
   "outputs": [],
   "source": [
    "lead_snp4 = 'rs2517680'"
   ]
  },
  {
   "cell_type": "code",
   "execution_count": null,
   "metadata": {},
   "outputs": [],
   "source": [
    "effect_dict4 = {\n",
    "    'downstream_gene_variant': 'Downstream var',\n",
    "    'intron_variant': 'Intron var',\n",
    "    'non_coding_transcript_exon_variant': 'Non coding transcript var',\n",
    "}\n",
    "\n",
    "draw_zoomed_heatmap(\n",
    "    data_df       =df_gwas,\n",
    "    lead_snp      =lead_snp4, \n",
    "    snp_col       =snp_col, \n",
    "    p_col         =p_col, \n",
    "    pos_col       =pos_col, \n",
    "    chr_col       =chr_col, \n",
    "    output_folder =path_params[0], \n",
    "    pval_threshold=5e-8, \n",
    "    radius        =radius,\n",
    "    build         ='38', \n",
    "    gtf_path      =None, \n",
    "    bfile_folder  =path_params[3], \n",
    "    bfile_name    =path_params[4], \n",
    "    effect_dict   =effect_dict4,\n",
    "    extension='pdf',\n",
    "    request_persec=5,\n",
    "    batch_size=5\n",
    ")"
   ]
  }
 ],
 "metadata": {
  "kernelspec": {
   "display_name": ".venv",
   "language": "python",
   "name": "python3"
  },
  "language_info": {
   "codemirror_mode": {
    "name": "ipython",
    "version": 3
   },
   "file_extension": ".py",
   "mimetype": "text/x-python",
   "name": "python",
   "nbconvert_exporter": "python",
   "pygments_lexer": "ipython3",
   "version": "3.10.15"
  }
 },
 "nbformat": 4,
 "nbformat_minor": 2
}
