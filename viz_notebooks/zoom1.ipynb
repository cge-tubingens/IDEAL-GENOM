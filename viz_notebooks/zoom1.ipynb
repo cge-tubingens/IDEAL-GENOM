{
 "cells": [
  {
   "cell_type": "code",
   "execution_count": 1,
   "metadata": {},
   "outputs": [],
   "source": [
    "import sys\n",
    "import os\n",
    "\n",
    "import pandas as pd\n",
    "\n",
    "import ipywidgets as widgets\n",
    "from IPython.display import display\n",
    "\n",
    "# add parent directory to path\n",
    "library_path = os.path.abspath('..')\n",
    "if library_path not in sys.path:\n",
    "    sys.path.append(library_path)\n",
    "\n",
    "from ideal_genom.visualization.zoom_heatmap import  draw_zoomed_heatmap"
   ]
  },
  {
   "cell_type": "code",
   "execution_count": 2,
   "metadata": {},
   "outputs": [
    {
     "data": {
      "application/vnd.jupyter.widget-view+json": {
       "model_id": "60a4a7b28dec4ccf844b978ae659bd34",
       "version_major": 2,
       "version_minor": 0
      },
      "text/plain": [
       "Text(value='/media/luis/LaCie/data1/gwasResult/', description='Path to project folder:', style=TextStyle(descr…"
      ]
     },
     "metadata": {},
     "output_type": "display_data"
    },
    {
     "data": {
      "application/vnd.jupyter.widget-view+json": {
       "model_id": "b9329daeeb4f4700bd61ca5f781b7eef",
       "version_major": 2,
       "version_minor": 0
      },
      "text/plain": [
       "Text(value='annotated_normalized_combined_R2_0.3.dose_step2_sex_pheno-glm.PHENO1.glm.logistic_by_amabel.hybrid…"
      ]
     },
     "metadata": {},
     "output_type": "display_data"
    },
    {
     "data": {
      "application/vnd.jupyter.widget-view+json": {
       "model_id": "d7207fb0353a41b6b302b38cbaa5a6da",
       "version_major": 2,
       "version_minor": 0
      },
      "text/plain": [
       "Text(value='/media/luis/LaCie/data1/gwasResult/meta_top_hits.csv', description='Name of file with SNPs to high…"
      ]
     },
     "metadata": {},
     "output_type": "display_data"
    },
    {
     "data": {
      "application/vnd.jupyter.widget-view+json": {
       "model_id": "e09f16aa2a224cf49f9dfe6ccd8e9700",
       "version_major": 2,
       "version_minor": 0
      },
      "text/plain": [
       "Text(value='/media/luis/LaCie/rawdata-sexupdated/outputData/variant_qc_results/clean_files/', description='Pat…"
      ]
     },
     "metadata": {},
     "output_type": "display_data"
    },
    {
     "data": {
      "application/vnd.jupyter.widget-view+json": {
       "model_id": "f1f7c3a30c0e46b98c1076ea5f2b6362",
       "version_major": 2,
       "version_minor": 0
      },
      "text/plain": [
       "Text(value='qc-results-variantQCed', description='Path to project folder:', style=TextStyle(description_width=…"
      ]
     },
     "metadata": {},
     "output_type": "display_data"
    }
   ],
   "source": [
    "# Create interactive widgets for input\n",
    "input_path = widgets.Text(\n",
    "    value='/media/luis/LaCie/data1/gwasResult/',\n",
    "    description='Path to project folder:',\n",
    "    style={'description_width': 'initial'}\n",
    ")\n",
    "\n",
    "input_name = widgets.Text(\n",
    "    value='annotated_normalized_combined_R2_0.3.dose_step2_sex_pheno-glm.PHENO1.glm.logistic_by_amabel.hybrid',\n",
    "    description='Name of GWAS summary file:',\n",
    "    style={'description_width': 'initial'}\n",
    ")\n",
    "\n",
    "top_snp = widgets.Text(\n",
    "    value='/media/luis/LaCie/data1/gwasResult/meta_top_hits.csv',\n",
    "    description='Name of file with SNPs to highlight:',\n",
    "    style={'description_width': 'initial'}\n",
    ")\n",
    "\n",
    "bfile_path = widgets.Text(\n",
    "    value='/media/luis/LaCie/rawdata-sexupdated/outputData/variant_qc_results/clean_files/',\n",
    "    description='Path to project folder:',\n",
    "    style={'description_width': 'initial'}\n",
    ")\n",
    "\n",
    "bfile_name = widgets.Text(\n",
    "    value='qc-results-variantQCed',\n",
    "    description='Path to project folder:',\n",
    "    style={'description_width': 'initial'}\n",
    ")\n",
    "\n",
    "# Display the widgets\n",
    "display(input_path, input_name, top_snp, bfile_path, bfile_name)\n",
    "\n",
    "# Function to get the text parameter values\n",
    "def get_params():\n",
    "    return input_path.value, input_name.value, top_snp.value, bfile_path.value, bfile_name.value"
   ]
  },
  {
   "cell_type": "code",
   "execution_count": 3,
   "metadata": {},
   "outputs": [
    {
     "name": "stdout",
     "output_type": "stream",
     "text": [
      "Parameter 1: /media/luis/LaCie/data1/gwasResult/\n",
      "Parameter 2: annotated_normalized_combined_R2_0.3.dose_step2_sex_pheno-glm.PHENO1.glm.logistic_by_amabel.hybrid\n",
      "Parameter 3: /media/luis/LaCie/data1/gwasResult/meta_top_hits.csv\n",
      "Parameter 4: /media/luis/LaCie/rawdata-sexupdated/outputData/variant_qc_results/clean_files/\n",
      "Parameter 5: qc-results-variantQCed\n"
     ]
    }
   ],
   "source": [
    "# Use the parameter values\n",
    "path_params = get_params()\n",
    "print(f\"Parameter 1: {path_params[0]}\")\n",
    "print(f\"Parameter 2: {path_params[1]}\")\n",
    "print(f\"Parameter 3: {path_params[2]}\")\n",
    "print(f\"Parameter 4: {path_params[3]}\")\n",
    "print(f\"Parameter 5: {path_params[4]}\")"
   ]
  },
  {
   "cell_type": "code",
   "execution_count": 4,
   "metadata": {},
   "outputs": [
    {
     "data": {
      "application/vnd.jupyter.widget-view+json": {
       "model_id": "8609277ee1e2433aa43b8965fefd331f",
       "version_major": 2,
       "version_minor": 0
      },
      "text/plain": [
       "Textarea(value='#CHROM, POS, ID, P', description='Columns to use on the plot (comma-separated):', layout=Layou…"
      ]
     },
     "metadata": {},
     "output_type": "display_data"
    }
   ],
   "source": [
    "cols_touse = widgets.Textarea(\n",
    "    value=\"#CHROM, POS, ID, P\",\n",
    "    description='Columns to use on the plot (comma-separated):',\n",
    "    style={'description_width': 'initial'},\n",
    "    layout=widgets.Layout(width='50%')\n",
    ")\n",
    "display(cols_touse)\n",
    "\n",
    "def get_cols():\n",
    "    return cols_touse.value"
   ]
  },
  {
   "cell_type": "code",
   "execution_count": 5,
   "metadata": {},
   "outputs": [
    {
     "data": {
      "application/vnd.microsoft.datawrangler.viewer.v0+json": {
       "columns": [
        {
         "name": "index",
         "rawType": "int64",
         "type": "integer"
        },
        {
         "name": "#CHROM",
         "rawType": "int64",
         "type": "integer"
        },
        {
         "name": "POS",
         "rawType": "int64",
         "type": "integer"
        },
        {
         "name": "ID",
         "rawType": "object",
         "type": "string"
        },
        {
         "name": "P",
         "rawType": "float64",
         "type": "float"
        }
       ],
       "conversionMethod": "pd.DataFrame",
       "ref": "000ada6f-072a-4756-9629-d35206c875f9",
       "rows": [
        [
         "0",
         "1",
         "727242",
         "rs61769339",
         "0.355696"
        ],
        [
         "1",
         "1",
         "727717",
         "rs61769340",
         "0.517232"
        ],
        [
         "2",
         "1",
         "730869",
         "rs200188737",
         "0.510707"
        ],
        [
         "3",
         "1",
         "732369",
         "rs1315713498",
         "0.741994"
        ],
        [
         "4",
         "1",
         "740738",
         "rs146067153",
         "0.816063"
        ]
       ],
       "shape": {
        "columns": 4,
        "rows": 5
       }
      },
      "text/html": [
       "<div>\n",
       "<style scoped>\n",
       "    .dataframe tbody tr th:only-of-type {\n",
       "        vertical-align: middle;\n",
       "    }\n",
       "\n",
       "    .dataframe tbody tr th {\n",
       "        vertical-align: top;\n",
       "    }\n",
       "\n",
       "    .dataframe thead th {\n",
       "        text-align: right;\n",
       "    }\n",
       "</style>\n",
       "<table border=\"1\" class=\"dataframe\">\n",
       "  <thead>\n",
       "    <tr style=\"text-align: right;\">\n",
       "      <th></th>\n",
       "      <th>#CHROM</th>\n",
       "      <th>POS</th>\n",
       "      <th>ID</th>\n",
       "      <th>P</th>\n",
       "    </tr>\n",
       "  </thead>\n",
       "  <tbody>\n",
       "    <tr>\n",
       "      <th>0</th>\n",
       "      <td>1</td>\n",
       "      <td>727242</td>\n",
       "      <td>rs61769339</td>\n",
       "      <td>0.355696</td>\n",
       "    </tr>\n",
       "    <tr>\n",
       "      <th>1</th>\n",
       "      <td>1</td>\n",
       "      <td>727717</td>\n",
       "      <td>rs61769340</td>\n",
       "      <td>0.517232</td>\n",
       "    </tr>\n",
       "    <tr>\n",
       "      <th>2</th>\n",
       "      <td>1</td>\n",
       "      <td>730869</td>\n",
       "      <td>rs200188737</td>\n",
       "      <td>0.510707</td>\n",
       "    </tr>\n",
       "    <tr>\n",
       "      <th>3</th>\n",
       "      <td>1</td>\n",
       "      <td>732369</td>\n",
       "      <td>rs1315713498</td>\n",
       "      <td>0.741994</td>\n",
       "    </tr>\n",
       "    <tr>\n",
       "      <th>4</th>\n",
       "      <td>1</td>\n",
       "      <td>740738</td>\n",
       "      <td>rs146067153</td>\n",
       "      <td>0.816063</td>\n",
       "    </tr>\n",
       "  </tbody>\n",
       "</table>\n",
       "</div>"
      ],
      "text/plain": [
       "   #CHROM     POS            ID         P\n",
       "0       1  727242    rs61769339  0.355696\n",
       "1       1  727717    rs61769340  0.517232\n",
       "2       1  730869   rs200188737  0.510707\n",
       "3       1  732369  rs1315713498  0.741994\n",
       "4       1  740738   rs146067153  0.816063"
      ]
     },
     "execution_count": 5,
     "metadata": {},
     "output_type": "execute_result"
    }
   ],
   "source": [
    "cols = get_cols()\n",
    "\n",
    "df_gwas = pd.read_csv(\n",
    "    os.path.join(path_params[0], path_params[1]), sep='\\t', usecols=[col.strip() for col in cols.split(',')]\n",
    ")\n",
    "df_gwas.head(5)"
   ]
  },
  {
   "cell_type": "code",
   "execution_count": 6,
   "metadata": {},
   "outputs": [
    {
     "data": {
      "application/vnd.jupyter.widget-view+json": {
       "model_id": "561849e3998549708d0a87f2f0ab8dfd",
       "version_major": 2,
       "version_minor": 0
      },
      "text/plain": [
       "Text(value='SNP', description='Column name with the rsID:', style=TextStyle(description_width='initial'))"
      ]
     },
     "metadata": {},
     "output_type": "display_data"
    }
   ],
   "source": [
    "rsID = widgets.Text(\n",
    "    value='SNP',\n",
    "    description='Column name with the rsID:',\n",
    "    style={'description_width': 'initial'}\n",
    ")\n",
    "\n",
    "display(rsID)\n",
    "\n",
    "def get_rsID():\n",
    "    return rsID.value"
   ]
  },
  {
   "cell_type": "code",
   "execution_count": 7,
   "metadata": {},
   "outputs": [
    {
     "data": {
      "application/vnd.jupyter.widget-view+json": {
       "model_id": "41f91b72198640678ae7406dfac75181",
       "version_major": 2,
       "version_minor": 0
      },
      "text/plain": [
       "Text(value='ID', description='Column with rsID:', style=TextStyle(description_width='initial'))"
      ]
     },
     "metadata": {},
     "output_type": "display_data"
    },
    {
     "data": {
      "application/vnd.jupyter.widget-view+json": {
       "model_id": "cb1d3150735f4063a88fdb21bc0959d5",
       "version_major": 2,
       "version_minor": 0
      },
      "text/plain": [
       "Text(value='#CHROM', description='Column with chromosome:', style=TextStyle(description_width='initial'))"
      ]
     },
     "metadata": {},
     "output_type": "display_data"
    },
    {
     "data": {
      "application/vnd.jupyter.widget-view+json": {
       "model_id": "991d8896b2b54724a8d5f1c53547d9e6",
       "version_major": 2,
       "version_minor": 0
      },
      "text/plain": [
       "Text(value='POS', description='Column with base-pair position:', style=TextStyle(description_width='initial'))"
      ]
     },
     "metadata": {},
     "output_type": "display_data"
    },
    {
     "data": {
      "application/vnd.jupyter.widget-view+json": {
       "model_id": "6f82375634d7426986f1e04010ae87df",
       "version_major": 2,
       "version_minor": 0
      },
      "text/plain": [
       "Text(value='P', description='Column with p-values:', style=TextStyle(description_width='initial'))"
      ]
     },
     "metadata": {},
     "output_type": "display_data"
    }
   ],
   "source": [
    "SNP_col = widgets.Text(\n",
    "    value='ID',\n",
    "    description='Column with rsID:',\n",
    "    style={'description_width': 'initial'}\n",
    ")\n",
    "\n",
    "CHR_col = widgets.Text(\n",
    "    value='#CHROM',\n",
    "    description='Column with chromosome:',\n",
    "    style={'description_width': 'initial'}\n",
    ")\n",
    "\n",
    "POS_col = widgets.Text(\n",
    "    value='POS',\n",
    "    description='Column with base-pair position:',\n",
    "    style={'description_width': 'initial'}\n",
    ")\n",
    "\n",
    "P_col = widgets.Text(\n",
    "    value='P',\n",
    "    description='Column with p-values:',\n",
    "    style={'description_width': 'initial'}\n",
    ")\n",
    "\n",
    "display(SNP_col, CHR_col, POS_col, P_col)\n",
    "\n",
    "def get_col_names():\n",
    "    return SNP_col.value, CHR_col.value, POS_col.value, P_col.value,"
   ]
  },
  {
   "cell_type": "code",
   "execution_count": 8,
   "metadata": {},
   "outputs": [],
   "source": [
    "snp_col, chr_col, pos_col, p_col = get_col_names()"
   ]
  },
  {
   "cell_type": "code",
   "execution_count": 9,
   "metadata": {},
   "outputs": [
    {
     "data": {
      "application/vnd.jupyter.widget-view+json": {
       "model_id": "7a5ad1274a7142b89001c7f586586708",
       "version_major": 2,
       "version_minor": 0
      },
      "text/plain": [
       "IntText(value=1000000, description='Radius for the LD calculation:', style=DescriptionStyle(description_width=…"
      ]
     },
     "metadata": {},
     "output_type": "display_data"
    },
    {
     "data": {
      "application/vnd.jupyter.widget-view+json": {
       "model_id": "2a1c48dd9c42416e846b6b0b1781a0b9",
       "version_major": 2,
       "version_minor": 0
      },
      "text/plain": [
       "FloatText(value=5e-06, description='Threshold for the LD calculation:', style=DescriptionStyle(description_wid…"
      ]
     },
     "metadata": {},
     "output_type": "display_data"
    }
   ],
   "source": [
    "radius = widgets.IntText(\n",
    "    value=1000000,\n",
    "    description='Radius for the LD calculation:',\n",
    "    style={'description_width': 'initial'}\n",
    ")\n",
    "\n",
    "threshold = widgets.FloatText(\n",
    "    value=5e-6,\n",
    "    description='Threshold for the LD calculation:',\n",
    "    style={'description_width': 'initial'}\n",
    ")\n",
    "\n",
    "display(radius, threshold)\n",
    "\n",
    "def get_values():\n",
    "    return radius.value, threshold.value"
   ]
  },
  {
   "cell_type": "code",
   "execution_count": 10,
   "metadata": {},
   "outputs": [],
   "source": [
    "radius, pval_threshold = get_values()"
   ]
  },
  {
   "cell_type": "code",
   "execution_count": 11,
   "metadata": {},
   "outputs": [],
   "source": [
    "lead_snp1 = 'rs528813377'"
   ]
  },
  {
   "cell_type": "code",
   "execution_count": 12,
   "metadata": {},
   "outputs": [
    {
     "name": "stderr",
     "output_type": "stream",
     "text": [
      "2025-04-07 12:52:21,213 - INFO -  - Filtering data for lead SNP: rs528813377 in region of radius 250000 around the lead SNP.\n",
      "2025-04-07 12:52:21,820 - INFO -  - Filtered data shape: (62, 5)\n",
      "2025-04-07 12:52:21,820 - INFO -  - Filtered data columns: ['#CHROM', 'POS', 'ID', 'P', 'log10p']\n",
      "2025-04-07 12:52:21,821 - INFO - Starting to annotate variants with nearest gene name(s)...\n",
      "2025-04-07 12:52:21,821 - INFO -  -Using 38 as genome build\n",
      "2025-04-07 12:52:21,821 - INFO - is_gtf_path set to False\n",
      "2025-04-07 12:52:21,821 - INFO -  -Using ensembl as source for gene annotation\n",
      "2025-04-07 12:52:21,821 - INFO -  -Assigning Gene name using Ensembl GRCh38 for protein coding genes\n",
      "2025-04-07 12:52:21,947 - INFO - Latest GTF file: Homo_sapiens.GRCh38.113.chr.gtf.gz\n",
      "2025-04-07 12:52:21,948 - INFO - Download URL: https://ftp.ensembl.org/pub/current_gtf/homo_sapiens/Homo_sapiens.GRCh38.113.chr.gtf.gz\n",
      "2025-04-07 12:52:21,948 - INFO - File already exists: /home/luis/CGE/ideal-genom/data/ensembl_latest/Homo_sapiens.GRCh38.113.chr.gtf.gz\n",
      "2025-04-07 12:52:21,948 - INFO - File already exists: /home/luis/CGE/ideal-genom/data/ensembl_latest/Homo_sapiens.GRCh38.113.chr.gtf\n",
      "2025-04-07 12:52:21,949 - INFO - File already exists: /home/luis/CGE/ideal-genom/data/ensembl_latest/Homo_sapiens.GRCh38.113.chr-all_genes.gtf.gz\n",
      "2025-04-07 12:52:22,340 - INFO - Finished annotating variants with nearest gene name(s) successfully!\n",
      "2025-04-07 12:52:22,341 - INFO -  - Annotated SNPs with gene names.\n",
      "2025-04-07 12:52:22,341 - INFO - variants_toanno shape: (62, 7)\n",
      "2025-04-07 12:52:22,341 - INFO - variants_toanno columns: ['#CHROM', 'POS', 'ID', 'P', 'log10p', 'LOCATION', 'GENENAME']\n",
      "2025-04-07 12:52:22,342 - INFO -  -Assigning functional consequences using Ensembl VEP for protein coding genes for build 38\n",
      "2025-04-07 12:52:22,342 - INFO -  - Using Ensembl VEP API to annotate SNPs with functional consequences.\n",
      "2025-04-07 12:52:22,342 - INFO - Trying https://rest.ensembl.org/vep/human/id ...\n",
      "2025-04-07 12:52:22,850 - WARNING - Server error 502. Trying another Ensembl mirror...\n",
      "2025-04-07 12:52:22,850 - WARNING - Switching to Ensembl mirror: https://rest.ensembl.org\n",
      "2025-04-07 12:52:22,851 - ERROR - All Ensembl mirrors failed.\n"
     ]
    },
    {
     "name": "stdout",
     "output_type": "stream",
     "text": [
      "Failed to get response.\n"
     ]
    },
    {
     "name": "stderr",
     "output_type": "stream",
     "text": [
      "2025-04-07 12:52:27,856 - INFO -  - Finished annotating SNPs with functional consequences.\n",
      "2025-04-07 12:52:27,857 - INFO - df_vep shape: (0, 0)\n",
      "2025-04-07 12:52:27,857 - INFO - df_vep columns: []\n"
     ]
    },
    {
     "ename": "KeyError",
     "evalue": "'ID'",
     "output_type": "error",
     "traceback": [
      "\u001b[0;31m---------------------------------------------------------------------------\u001b[0m",
      "\u001b[0;31mKeyError\u001b[0m                                  Traceback (most recent call last)",
      "\u001b[0;32m/tmp/ipykernel_45441/2332308432.py\u001b[0m in \u001b[0;36m?\u001b[0;34m()\u001b[0m\n\u001b[1;32m      4\u001b[0m     \u001b[0;34m'upstream_gene_variant'\u001b[0m\u001b[0;34m:\u001b[0m \u001b[0;34m'Upstream var'\u001b[0m\u001b[0;34m,\u001b[0m\u001b[0;34m\u001b[0m\u001b[0;34m\u001b[0m\u001b[0m\n\u001b[1;32m      5\u001b[0m     \u001b[0;34m'non_coding_transcript_exon_variant'\u001b[0m\u001b[0;34m:\u001b[0m \u001b[0;34m'Non-coding transcript var'\u001b[0m\u001b[0;34m,\u001b[0m\u001b[0;34m\u001b[0m\u001b[0;34m\u001b[0m\u001b[0m\n\u001b[1;32m      6\u001b[0m }\n\u001b[1;32m      7\u001b[0m \u001b[0;34m\u001b[0m\u001b[0m\n\u001b[0;32m----> 8\u001b[0;31m draw_zoomed_heatmap(\n\u001b[0m\u001b[1;32m      9\u001b[0m     \u001b[0mdata_df\u001b[0m       \u001b[0;34m=\u001b[0m\u001b[0mdf_gwas\u001b[0m\u001b[0;34m,\u001b[0m\u001b[0;34m\u001b[0m\u001b[0;34m\u001b[0m\u001b[0m\n\u001b[1;32m     10\u001b[0m     \u001b[0mlead_snp\u001b[0m      \u001b[0;34m=\u001b[0m\u001b[0mlead_snp1\u001b[0m\u001b[0;34m,\u001b[0m\u001b[0;34m\u001b[0m\u001b[0;34m\u001b[0m\u001b[0m\n\u001b[1;32m     11\u001b[0m     \u001b[0msnp_col\u001b[0m       \u001b[0;34m=\u001b[0m\u001b[0msnp_col\u001b[0m\u001b[0;34m,\u001b[0m\u001b[0;34m\u001b[0m\u001b[0;34m\u001b[0m\u001b[0m\n",
      "\u001b[0;32m~/CGE/ideal-genom/ideal_genom/visualization/zoom_heatmap.py\u001b[0m in \u001b[0;36m?\u001b[0;34m(data_df, lead_snp, snp_col, p_col, pos_col, chr_col, output_folder, pval_threshold, radius, build, gtf_path, anno_source, batch_size, bfile_folder, bfile_name, effect_dict, extension, request_persec)\u001b[0m\n\u001b[1;32m    340\u001b[0m \u001b[0;32mdef\u001b[0m \u001b[0mdraw_zoomed_heatmap\u001b[0m\u001b[0;34m(\u001b[0m\u001b[0mdata_df\u001b[0m\u001b[0;34m:\u001b[0m\u001b[0mpd\u001b[0m\u001b[0;34m.\u001b[0m\u001b[0mDataFrame\u001b[0m\u001b[0;34m,\u001b[0m \u001b[0mlead_snp\u001b[0m\u001b[0;34m:\u001b[0m\u001b[0mstr\u001b[0m\u001b[0;34m,\u001b[0m \u001b[0msnp_col\u001b[0m\u001b[0;34m:\u001b[0m\u001b[0mstr\u001b[0m\u001b[0;34m,\u001b[0m \u001b[0mp_col\u001b[0m\u001b[0;34m:\u001b[0m\u001b[0mstr\u001b[0m\u001b[0;34m,\u001b[0m \u001b[0mpos_col\u001b[0m\u001b[0;34m:\u001b[0m\u001b[0mstr\u001b[0m\u001b[0;34m,\u001b[0m \u001b[0mchr_col\u001b[0m\u001b[0;34m:\u001b[0m\u001b[0mstr\u001b[0m\u001b[0;34m,\u001b[0m \u001b[0moutput_folder\u001b[0m\u001b[0;34m:\u001b[0m\u001b[0mstr\u001b[0m\u001b[0;34m,\u001b[0m \u001b[0mpval_threshold\u001b[0m\u001b[0;34m:\u001b[0m\u001b[0mfloat\u001b[0m\u001b[0;34m=\u001b[0m\u001b[0;36m5e-6\u001b[0m\u001b[0;34m,\u001b[0m \u001b[0mradius\u001b[0m\u001b[0;34m:\u001b[0m\u001b[0mint\u001b[0m\u001b[0;34m=\u001b[0m\u001b[0;36m1e6\u001b[0m\u001b[0;34m,\u001b[0m \u001b[0mbuild\u001b[0m\u001b[0;34m:\u001b[0m \u001b[0mstr\u001b[0m \u001b[0;34m=\u001b[0m\u001b[0;34m'38'\u001b[0m\u001b[0;34m,\u001b[0m \u001b[0mgtf_path\u001b[0m\u001b[0;34m:\u001b[0m\u001b[0mstr\u001b[0m\u001b[0;34m=\u001b[0m\u001b[0;32mNone\u001b[0m\u001b[0;34m,\u001b[0m \u001b[0manno_source\u001b[0m\u001b[0;34m:\u001b[0m \u001b[0mstr\u001b[0m \u001b[0;34m=\u001b[0m \u001b[0;34m\"ensembl\"\u001b[0m\u001b[0;34m,\u001b[0m \u001b[0mbatch_size\u001b[0m\u001b[0;34m:\u001b[0m\u001b[0mint\u001b[0m\u001b[0;34m=\u001b[0m\u001b[0;36m100\u001b[0m\u001b[0;34m,\u001b[0m \u001b[0mbfile_folder\u001b[0m\u001b[0;34m:\u001b[0m\u001b[0mstr\u001b[0m\u001b[0;34m=\u001b[0m\u001b[0;32mNone\u001b[0m\u001b[0;34m,\u001b[0m \u001b[0mbfile_name\u001b[0m\u001b[0;34m:\u001b[0m\u001b[0mstr\u001b[0m\u001b[0;34m=\u001b[0m\u001b[0;32mNone\u001b[0m\u001b[0;34m,\u001b[0m \u001b[0meffect_dict\u001b[0m\u001b[0;34m:\u001b[0m\u001b[0mdict\u001b[0m\u001b[0;34m=\u001b[0m\u001b[0;34m{\u001b[0m\u001b[0;34m}\u001b[0m\u001b[0;34m,\u001b[0m \u001b[0mextension\u001b[0m\u001b[0;34m:\u001b[0m\u001b[0mstr\u001b[0m\u001b[0;34m=\u001b[0m\u001b[0;34m'jpeg'\u001b[0m\u001b[0;34m,\u001b[0m \u001b[0mrequest_persec\u001b[0m\u001b[0;34m:\u001b[0m\u001b[0mint\u001b[0m\u001b[0;34m=\u001b[0m\u001b[0;36m15\u001b[0m\u001b[0;34m)\u001b[0m\u001b[0;34m->\u001b[0m\u001b[0;32mNone\u001b[0m\u001b[0;34m:\u001b[0m\u001b[0;34m\u001b[0m\u001b[0;34m\u001b[0m\u001b[0m\n\u001b[1;32m    341\u001b[0m \u001b[0;34m\u001b[0m\u001b[0m\n\u001b[0;32m--> 342\u001b[0;31m     annotated = get_zoomed_data(\n\u001b[0m\u001b[1;32m    343\u001b[0m         \u001b[0mdata_df\u001b[0m       \u001b[0;34m=\u001b[0m\u001b[0mdata_df\u001b[0m\u001b[0;34m,\u001b[0m\u001b[0;34m\u001b[0m\u001b[0;34m\u001b[0m\u001b[0m\n\u001b[1;32m    344\u001b[0m         \u001b[0mlead_snp\u001b[0m      \u001b[0;34m=\u001b[0m\u001b[0mlead_snp\u001b[0m\u001b[0;34m,\u001b[0m\u001b[0;34m\u001b[0m\u001b[0;34m\u001b[0m\u001b[0m\n\u001b[1;32m    345\u001b[0m         \u001b[0msnp_col\u001b[0m       \u001b[0;34m=\u001b[0m\u001b[0msnp_col\u001b[0m\u001b[0;34m,\u001b[0m\u001b[0;34m\u001b[0m\u001b[0;34m\u001b[0m\u001b[0m\n",
      "\u001b[0;32m~/CGE/ideal-genom/ideal_genom/visualization/zoom_heatmap.py\u001b[0m in \u001b[0;36m?\u001b[0;34m(data_df, lead_snp, snp_col, p_col, pos_col, chr_col, output_folder, pval_threshold, radius, build, anno_source, gtf_path, batch_size, request_persec)\u001b[0m\n\u001b[1;32m    315\u001b[0m     \u001b[0;32mif\u001b[0m \u001b[0mfiltered_df\u001b[0m\u001b[0;34m.\u001b[0m\u001b[0mempty\u001b[0m\u001b[0;34m:\u001b[0m\u001b[0;34m\u001b[0m\u001b[0;34m\u001b[0m\u001b[0m\n\u001b[1;32m    316\u001b[0m         \u001b[0;32mraise\u001b[0m \u001b[0mValueError\u001b[0m\u001b[0;34m(\u001b[0m\u001b[0;34m\"No significant SNPs found in the specified region.\"\u001b[0m\u001b[0;34m)\u001b[0m\u001b[0;34m\u001b[0m\u001b[0;34m\u001b[0m\u001b[0m\n\u001b[1;32m    317\u001b[0m \u001b[0;34m\u001b[0m\u001b[0m\n\u001b[1;32m    318\u001b[0m     \u001b[0;31m# annotate the SNPs with gene names and functional consequences\u001b[0m\u001b[0;34m\u001b[0m\u001b[0;34m\u001b[0m\u001b[0m\n\u001b[0;32m--> 319\u001b[0;31m     annotated = snp_annotations(\n\u001b[0m\u001b[1;32m    320\u001b[0m         \u001b[0mdata_df\u001b[0m       \u001b[0;34m=\u001b[0m\u001b[0mfiltered_df\u001b[0m\u001b[0;34m,\u001b[0m\u001b[0;34m\u001b[0m\u001b[0;34m\u001b[0m\u001b[0m\n\u001b[1;32m    321\u001b[0m         \u001b[0msnp_col\u001b[0m       \u001b[0;34m=\u001b[0m\u001b[0msnp_col\u001b[0m\u001b[0;34m,\u001b[0m\u001b[0;34m\u001b[0m\u001b[0;34m\u001b[0m\u001b[0m\n\u001b[1;32m    322\u001b[0m         \u001b[0mchr_col\u001b[0m       \u001b[0;34m=\u001b[0m\u001b[0mchr_col\u001b[0m\u001b[0;34m,\u001b[0m\u001b[0;34m\u001b[0m\u001b[0;34m\u001b[0m\u001b[0m\n",
      "\u001b[0;32m~/CGE/ideal-genom/ideal_genom/visualization/zoom_heatmap.py\u001b[0m in \u001b[0;36m?\u001b[0;34m(data_df, snp_col, pos_col, chr_col, build, anno_source, gtf_path, batch_size, request_persec)\u001b[0m\n\u001b[1;32m    134\u001b[0m     \u001b[0mlogger\u001b[0m\u001b[0;34m.\u001b[0m\u001b[0minfo\u001b[0m\u001b[0;34m(\u001b[0m\u001b[0;34m\" - Finished annotating SNPs with functional consequences.\"\u001b[0m\u001b[0;34m)\u001b[0m\u001b[0;34m\u001b[0m\u001b[0;34m\u001b[0m\u001b[0m\n\u001b[1;32m    135\u001b[0m     \u001b[0mlogger\u001b[0m\u001b[0;34m.\u001b[0m\u001b[0minfo\u001b[0m\u001b[0;34m(\u001b[0m\u001b[0;34mf'df_vep shape: {df_vep.shape}'\u001b[0m\u001b[0;34m)\u001b[0m\u001b[0;34m\u001b[0m\u001b[0;34m\u001b[0m\u001b[0m\n\u001b[1;32m    136\u001b[0m     \u001b[0mlogger\u001b[0m\u001b[0;34m.\u001b[0m\u001b[0minfo\u001b[0m\u001b[0;34m(\u001b[0m\u001b[0;34mf'df_vep columns: {df_vep.columns.tolist()}'\u001b[0m\u001b[0;34m)\u001b[0m\u001b[0;34m\u001b[0m\u001b[0;34m\u001b[0m\u001b[0m\n\u001b[1;32m    137\u001b[0m \u001b[0;34m\u001b[0m\u001b[0m\n\u001b[0;32m--> 138\u001b[0;31m     \u001b[0mvariants_toanno\u001b[0m \u001b[0;34m=\u001b[0m \u001b[0mvariants_toanno\u001b[0m\u001b[0;34m.\u001b[0m\u001b[0mmerge\u001b[0m\u001b[0;34m(\u001b[0m\u001b[0mdf_vep\u001b[0m\u001b[0;34m,\u001b[0m \u001b[0mon\u001b[0m\u001b[0;34m=\u001b[0m\u001b[0msnp_col\u001b[0m\u001b[0;34m,\u001b[0m \u001b[0mhow\u001b[0m\u001b[0;34m=\u001b[0m\u001b[0;34m'left'\u001b[0m\u001b[0;34m)\u001b[0m\u001b[0;34m\u001b[0m\u001b[0;34m\u001b[0m\u001b[0m\n\u001b[0m\u001b[1;32m    139\u001b[0m \u001b[0;34m\u001b[0m\u001b[0m\n\u001b[1;32m    140\u001b[0m     \u001b[0;32mreturn\u001b[0m \u001b[0mvariants_toanno\u001b[0m\u001b[0;31m#.drop(columns=['LOCATION'], inplace=False)\u001b[0m\u001b[0;34m\u001b[0m\u001b[0;34m\u001b[0m\u001b[0m\n",
      "\u001b[0;32m~/.cache/pypoetry/virtualenvs/ideal-genom-NcAYBj8M-py3.10/lib/python3.10/site-packages/pandas/core/frame.py\u001b[0m in \u001b[0;36m?\u001b[0;34m(self, right, how, on, left_on, right_on, left_index, right_index, sort, suffixes, copy, indicator, validate)\u001b[0m\n\u001b[1;32m  10828\u001b[0m         \u001b[0mvalidate\u001b[0m\u001b[0;34m:\u001b[0m \u001b[0mMergeValidate\u001b[0m \u001b[0;34m|\u001b[0m \u001b[0;32mNone\u001b[0m \u001b[0;34m=\u001b[0m \u001b[0;32mNone\u001b[0m\u001b[0;34m,\u001b[0m\u001b[0;34m\u001b[0m\u001b[0;34m\u001b[0m\u001b[0m\n\u001b[1;32m  10829\u001b[0m     ) -> DataFrame:\n\u001b[1;32m  10830\u001b[0m         \u001b[0;32mfrom\u001b[0m \u001b[0mpandas\u001b[0m\u001b[0;34m.\u001b[0m\u001b[0mcore\u001b[0m\u001b[0;34m.\u001b[0m\u001b[0mreshape\u001b[0m\u001b[0;34m.\u001b[0m\u001b[0mmerge\u001b[0m \u001b[0;32mimport\u001b[0m \u001b[0mmerge\u001b[0m\u001b[0;34m\u001b[0m\u001b[0;34m\u001b[0m\u001b[0m\n\u001b[1;32m  10831\u001b[0m \u001b[0;34m\u001b[0m\u001b[0m\n\u001b[0;32m> 10832\u001b[0;31m         return merge(\n\u001b[0m\u001b[1;32m  10833\u001b[0m             \u001b[0mself\u001b[0m\u001b[0;34m,\u001b[0m\u001b[0;34m\u001b[0m\u001b[0;34m\u001b[0m\u001b[0m\n\u001b[1;32m  10834\u001b[0m             \u001b[0mright\u001b[0m\u001b[0;34m,\u001b[0m\u001b[0;34m\u001b[0m\u001b[0;34m\u001b[0m\u001b[0m\n\u001b[1;32m  10835\u001b[0m             \u001b[0mhow\u001b[0m\u001b[0;34m=\u001b[0m\u001b[0mhow\u001b[0m\u001b[0;34m,\u001b[0m\u001b[0;34m\u001b[0m\u001b[0;34m\u001b[0m\u001b[0m\n",
      "\u001b[0;32m~/.cache/pypoetry/virtualenvs/ideal-genom-NcAYBj8M-py3.10/lib/python3.10/site-packages/pandas/core/reshape/merge.py\u001b[0m in \u001b[0;36m?\u001b[0;34m(left, right, how, on, left_on, right_on, left_index, right_index, sort, suffixes, copy, indicator, validate)\u001b[0m\n\u001b[1;32m    166\u001b[0m             \u001b[0mvalidate\u001b[0m\u001b[0;34m=\u001b[0m\u001b[0mvalidate\u001b[0m\u001b[0;34m,\u001b[0m\u001b[0;34m\u001b[0m\u001b[0;34m\u001b[0m\u001b[0m\n\u001b[1;32m    167\u001b[0m             \u001b[0mcopy\u001b[0m\u001b[0;34m=\u001b[0m\u001b[0mcopy\u001b[0m\u001b[0;34m,\u001b[0m\u001b[0;34m\u001b[0m\u001b[0;34m\u001b[0m\u001b[0m\n\u001b[1;32m    168\u001b[0m         )\n\u001b[1;32m    169\u001b[0m     \u001b[0;32melse\u001b[0m\u001b[0;34m:\u001b[0m\u001b[0;34m\u001b[0m\u001b[0;34m\u001b[0m\u001b[0m\n\u001b[0;32m--> 170\u001b[0;31m         op = _MergeOperation(\n\u001b[0m\u001b[1;32m    171\u001b[0m             \u001b[0mleft_df\u001b[0m\u001b[0;34m,\u001b[0m\u001b[0;34m\u001b[0m\u001b[0;34m\u001b[0m\u001b[0m\n\u001b[1;32m    172\u001b[0m             \u001b[0mright_df\u001b[0m\u001b[0;34m,\u001b[0m\u001b[0;34m\u001b[0m\u001b[0;34m\u001b[0m\u001b[0m\n\u001b[1;32m    173\u001b[0m             \u001b[0mhow\u001b[0m\u001b[0;34m=\u001b[0m\u001b[0mhow\u001b[0m\u001b[0;34m,\u001b[0m\u001b[0;34m\u001b[0m\u001b[0;34m\u001b[0m\u001b[0m\n",
      "\u001b[0;32m~/.cache/pypoetry/virtualenvs/ideal-genom-NcAYBj8M-py3.10/lib/python3.10/site-packages/pandas/core/reshape/merge.py\u001b[0m in \u001b[0;36m?\u001b[0;34m(self, left, right, how, on, left_on, right_on, left_index, right_index, sort, suffixes, indicator, validate)\u001b[0m\n\u001b[1;32m    790\u001b[0m             \u001b[0mself\u001b[0m\u001b[0;34m.\u001b[0m\u001b[0mright_join_keys\u001b[0m\u001b[0;34m,\u001b[0m\u001b[0;34m\u001b[0m\u001b[0;34m\u001b[0m\u001b[0m\n\u001b[1;32m    791\u001b[0m             \u001b[0mself\u001b[0m\u001b[0;34m.\u001b[0m\u001b[0mjoin_names\u001b[0m\u001b[0;34m,\u001b[0m\u001b[0;34m\u001b[0m\u001b[0;34m\u001b[0m\u001b[0m\n\u001b[1;32m    792\u001b[0m             \u001b[0mleft_drop\u001b[0m\u001b[0;34m,\u001b[0m\u001b[0;34m\u001b[0m\u001b[0;34m\u001b[0m\u001b[0m\n\u001b[1;32m    793\u001b[0m             \u001b[0mright_drop\u001b[0m\u001b[0;34m,\u001b[0m\u001b[0;34m\u001b[0m\u001b[0;34m\u001b[0m\u001b[0m\n\u001b[0;32m--> 794\u001b[0;31m         ) = self._get_merge_keys()\n\u001b[0m\u001b[1;32m    795\u001b[0m \u001b[0;34m\u001b[0m\u001b[0m\n\u001b[1;32m    796\u001b[0m         \u001b[0;32mif\u001b[0m \u001b[0mleft_drop\u001b[0m\u001b[0;34m:\u001b[0m\u001b[0;34m\u001b[0m\u001b[0;34m\u001b[0m\u001b[0m\n\u001b[1;32m    797\u001b[0m             \u001b[0mself\u001b[0m\u001b[0;34m.\u001b[0m\u001b[0mleft\u001b[0m \u001b[0;34m=\u001b[0m \u001b[0mself\u001b[0m\u001b[0;34m.\u001b[0m\u001b[0mleft\u001b[0m\u001b[0;34m.\u001b[0m\u001b[0m_drop_labels_or_levels\u001b[0m\u001b[0;34m(\u001b[0m\u001b[0mleft_drop\u001b[0m\u001b[0;34m)\u001b[0m\u001b[0;34m\u001b[0m\u001b[0;34m\u001b[0m\u001b[0m\n",
      "\u001b[0;32m~/.cache/pypoetry/virtualenvs/ideal-genom-NcAYBj8M-py3.10/lib/python3.10/site-packages/pandas/core/reshape/merge.py\u001b[0m in \u001b[0;36m?\u001b[0;34m(self)\u001b[0m\n\u001b[1;32m   1293\u001b[0m                         \u001b[0;31m# Then we're either Hashable or a wrong-length arraylike,\u001b[0m\u001b[0;34m\u001b[0m\u001b[0;34m\u001b[0m\u001b[0m\n\u001b[1;32m   1294\u001b[0m                         \u001b[0;31m#  the latter of which will raise\u001b[0m\u001b[0;34m\u001b[0m\u001b[0;34m\u001b[0m\u001b[0m\n\u001b[1;32m   1295\u001b[0m                         \u001b[0mrk\u001b[0m \u001b[0;34m=\u001b[0m \u001b[0mcast\u001b[0m\u001b[0;34m(\u001b[0m\u001b[0mHashable\u001b[0m\u001b[0;34m,\u001b[0m \u001b[0mrk\u001b[0m\u001b[0;34m)\u001b[0m\u001b[0;34m\u001b[0m\u001b[0;34m\u001b[0m\u001b[0m\n\u001b[1;32m   1296\u001b[0m                         \u001b[0;32mif\u001b[0m \u001b[0mrk\u001b[0m \u001b[0;32mis\u001b[0m \u001b[0;32mnot\u001b[0m \u001b[0;32mNone\u001b[0m\u001b[0;34m:\u001b[0m\u001b[0;34m\u001b[0m\u001b[0;34m\u001b[0m\u001b[0m\n\u001b[0;32m-> 1297\u001b[0;31m                             \u001b[0mright_keys\u001b[0m\u001b[0;34m.\u001b[0m\u001b[0mappend\u001b[0m\u001b[0;34m(\u001b[0m\u001b[0mright\u001b[0m\u001b[0;34m.\u001b[0m\u001b[0m_get_label_or_level_values\u001b[0m\u001b[0;34m(\u001b[0m\u001b[0mrk\u001b[0m\u001b[0;34m)\u001b[0m\u001b[0;34m)\u001b[0m\u001b[0;34m\u001b[0m\u001b[0;34m\u001b[0m\u001b[0m\n\u001b[0m\u001b[1;32m   1298\u001b[0m                         \u001b[0;32melse\u001b[0m\u001b[0;34m:\u001b[0m\u001b[0;34m\u001b[0m\u001b[0;34m\u001b[0m\u001b[0m\n\u001b[1;32m   1299\u001b[0m                             \u001b[0;31m# work-around for merge_asof(right_index=True)\u001b[0m\u001b[0;34m\u001b[0m\u001b[0;34m\u001b[0m\u001b[0m\n\u001b[1;32m   1300\u001b[0m                             \u001b[0mright_keys\u001b[0m\u001b[0;34m.\u001b[0m\u001b[0mappend\u001b[0m\u001b[0;34m(\u001b[0m\u001b[0mright\u001b[0m\u001b[0;34m.\u001b[0m\u001b[0mindex\u001b[0m\u001b[0;34m.\u001b[0m\u001b[0m_values\u001b[0m\u001b[0;34m)\u001b[0m\u001b[0;34m\u001b[0m\u001b[0;34m\u001b[0m\u001b[0m\n",
      "\u001b[0;32m~/.cache/pypoetry/virtualenvs/ideal-genom-NcAYBj8M-py3.10/lib/python3.10/site-packages/pandas/core/generic.py\u001b[0m in \u001b[0;36m?\u001b[0;34m(self, key, axis)\u001b[0m\n\u001b[1;32m   1907\u001b[0m             \u001b[0mvalues\u001b[0m \u001b[0;34m=\u001b[0m \u001b[0mself\u001b[0m\u001b[0;34m.\u001b[0m\u001b[0mxs\u001b[0m\u001b[0;34m(\u001b[0m\u001b[0mkey\u001b[0m\u001b[0;34m,\u001b[0m \u001b[0maxis\u001b[0m\u001b[0;34m=\u001b[0m\u001b[0mother_axes\u001b[0m\u001b[0;34m[\u001b[0m\u001b[0;36m0\u001b[0m\u001b[0;34m]\u001b[0m\u001b[0;34m)\u001b[0m\u001b[0;34m.\u001b[0m\u001b[0m_values\u001b[0m\u001b[0;34m\u001b[0m\u001b[0;34m\u001b[0m\u001b[0m\n\u001b[1;32m   1908\u001b[0m         \u001b[0;32melif\u001b[0m \u001b[0mself\u001b[0m\u001b[0;34m.\u001b[0m\u001b[0m_is_level_reference\u001b[0m\u001b[0;34m(\u001b[0m\u001b[0mkey\u001b[0m\u001b[0;34m,\u001b[0m \u001b[0maxis\u001b[0m\u001b[0;34m=\u001b[0m\u001b[0maxis\u001b[0m\u001b[0;34m)\u001b[0m\u001b[0;34m:\u001b[0m\u001b[0;34m\u001b[0m\u001b[0;34m\u001b[0m\u001b[0m\n\u001b[1;32m   1909\u001b[0m             \u001b[0mvalues\u001b[0m \u001b[0;34m=\u001b[0m \u001b[0mself\u001b[0m\u001b[0;34m.\u001b[0m\u001b[0maxes\u001b[0m\u001b[0;34m[\u001b[0m\u001b[0maxis\u001b[0m\u001b[0;34m]\u001b[0m\u001b[0;34m.\u001b[0m\u001b[0mget_level_values\u001b[0m\u001b[0;34m(\u001b[0m\u001b[0mkey\u001b[0m\u001b[0;34m)\u001b[0m\u001b[0;34m.\u001b[0m\u001b[0m_values\u001b[0m\u001b[0;34m\u001b[0m\u001b[0;34m\u001b[0m\u001b[0m\n\u001b[1;32m   1910\u001b[0m         \u001b[0;32melse\u001b[0m\u001b[0;34m:\u001b[0m\u001b[0;34m\u001b[0m\u001b[0;34m\u001b[0m\u001b[0m\n\u001b[0;32m-> 1911\u001b[0;31m             \u001b[0;32mraise\u001b[0m \u001b[0mKeyError\u001b[0m\u001b[0;34m(\u001b[0m\u001b[0mkey\u001b[0m\u001b[0;34m)\u001b[0m\u001b[0;34m\u001b[0m\u001b[0;34m\u001b[0m\u001b[0m\n\u001b[0m\u001b[1;32m   1912\u001b[0m \u001b[0;34m\u001b[0m\u001b[0m\n\u001b[1;32m   1913\u001b[0m         \u001b[0;31m# Check for duplicates\u001b[0m\u001b[0;34m\u001b[0m\u001b[0;34m\u001b[0m\u001b[0m\n\u001b[1;32m   1914\u001b[0m         \u001b[0;32mif\u001b[0m \u001b[0mvalues\u001b[0m\u001b[0;34m.\u001b[0m\u001b[0mndim\u001b[0m \u001b[0;34m>\u001b[0m \u001b[0;36m1\u001b[0m\u001b[0;34m:\u001b[0m\u001b[0;34m\u001b[0m\u001b[0;34m\u001b[0m\u001b[0m\n",
      "\u001b[0;31mKeyError\u001b[0m: 'ID'"
     ]
    }
   ],
   "source": [
    "effect_dict1 = {\n",
    "    'intron_variant': 'Intron var',\n",
    "    'intergenic_variant': 'Intergenic var',\n",
    "    'upstream_gene_variant': 'Upstream var',\n",
    "    'non_coding_transcript_exon_variant': 'Non-coding transcript var',\n",
    "}\n",
    "\n",
    "draw_zoomed_heatmap(\n",
    "    data_df       =df_gwas,\n",
    "    lead_snp      =lead_snp1, \n",
    "    snp_col       =snp_col, \n",
    "    p_col         =p_col, \n",
    "    pos_col       =pos_col, \n",
    "    chr_col       =chr_col, \n",
    "    output_folder =path_params[0], \n",
    "    pval_threshold=5e-2, \n",
    "    radius        =250000, \n",
    "    build         ='38', \n",
    "    gtf_path      =None, \n",
    "    batch_size    =100, \n",
    "    bfile_folder  =path_params[3], \n",
    "    bfile_name    =path_params[4], \n",
    "    effect_dict   =effect_dict1,\n",
    "    extension='jpeg'\n",
    ")"
   ]
  },
  {
   "cell_type": "code",
   "execution_count": null,
   "metadata": {},
   "outputs": [],
   "source": [
    "lead_snp2 = 'rs72843781'"
   ]
  },
  {
   "cell_type": "code",
   "execution_count": null,
   "metadata": {},
   "outputs": [],
   "source": [
    "effect_dict2 ={\n",
    "    'intron_variant': 'Intron var',\n",
    "    'intergenic_variant': 'Intergenic var',\n",
    "    'non_coding_transcript_exon_variant': 'Non coding transcript var'   \n",
    "}\n",
    "\n",
    "draw_zoomed_heatmap(\n",
    "    data_df       =df_gwas,\n",
    "    lead_snp      =lead_snp2, \n",
    "    snp_col       =snp_col, \n",
    "    p_col         =p_col, \n",
    "    pos_col       =pos_col, \n",
    "    chr_col       =chr_col, \n",
    "    output_folder =path_params[0], \n",
    "    pval_threshold=5e-6, \n",
    "    radius        =radius, \n",
    "    build         ='38', \n",
    "    gtf_path      =None, \n",
    "    batch_size    =100, \n",
    "    bfile_folder  =path_params[3], \n",
    "    bfile_name    =path_params[4], \n",
    "    effect_dict   =effect_dict2,\n",
    "    extension='jpeg'\n",
    ")"
   ]
  },
  {
   "cell_type": "code",
   "execution_count": null,
   "metadata": {},
   "outputs": [],
   "source": [
    "lead_snp3 = 'rs2092563'"
   ]
  },
  {
   "cell_type": "code",
   "execution_count": null,
   "metadata": {},
   "outputs": [],
   "source": [
    "effect_dict3 ={\n",
    "    'intron_variant': 'Intron var',\n",
    "    'upstream_gene_variant': 'Upstream var',\n",
    "    'intergenic_variant': 'Intergenic var',\n",
    "    'non_coding_transcript_exon_variant': 'Non coding transcript var'\n",
    "}\n",
    "\n",
    "draw_zoomed_heatmap(\n",
    "    data_df       =df_gwas,\n",
    "    lead_snp      =lead_snp3, \n",
    "    snp_col       =snp_col, \n",
    "    p_col         =p_col, \n",
    "    pos_col       =pos_col, \n",
    "    chr_col       =chr_col, \n",
    "    output_folder =path_params[0], \n",
    "    pval_threshold=5e-6, \n",
    "    radius        =radius, \n",
    "    build         ='38', \n",
    "    gtf_path      =None, \n",
    "    batch_size    =100, \n",
    "    bfile_folder  =path_params[3], \n",
    "    bfile_name    =path_params[4], \n",
    "    effect_dict   =effect_dict3,\n",
    "    extension='jpeg'\n",
    ")"
   ]
  },
  {
   "cell_type": "code",
   "execution_count": null,
   "metadata": {},
   "outputs": [],
   "source": [
    "lead_snp4 = 'rs2517680'"
   ]
  },
  {
   "cell_type": "code",
   "execution_count": null,
   "metadata": {},
   "outputs": [],
   "source": [
    "effect_dict4 = {\n",
    "    'downstream_gene_variant': 'Downstream var',\n",
    "    'intron_variant': 'Intron var',\n",
    "    'non_coding_transcript_exon_variant': 'Non coding transcript var',\n",
    "}\n",
    "\n",
    "draw_zoomed_heatmap(\n",
    "    data_df       =df_gwas,\n",
    "    lead_snp      =lead_snp4, \n",
    "    snp_col       =snp_col, \n",
    "    p_col         =p_col, \n",
    "    pos_col       =pos_col, \n",
    "    chr_col       =chr_col, \n",
    "    output_folder =path_params[0], \n",
    "    pval_threshold=5e-8, \n",
    "    radius        =radius,\n",
    "    build         ='38', \n",
    "    gtf_path      =None, \n",
    "    bfile_folder  =path_params[3], \n",
    "    bfile_name    =path_params[4], \n",
    "    effect_dict   =effect_dict4,\n",
    "    extension='jpeg',\n",
    "    request_persec=5,\n",
    "    batch_size=5\n",
    ")"
   ]
  }
 ],
 "metadata": {
  "kernelspec": {
   "display_name": "ideal-genom-NcAYBj8M-py3.10",
   "language": "python",
   "name": "python3"
  },
  "language_info": {
   "codemirror_mode": {
    "name": "ipython",
    "version": 3
   },
   "file_extension": ".py",
   "mimetype": "text/x-python",
   "name": "python",
   "nbconvert_exporter": "python",
   "pygments_lexer": "ipython3",
   "version": "3.10.15"
  }
 },
 "nbformat": 4,
 "nbformat_minor": 2
}
