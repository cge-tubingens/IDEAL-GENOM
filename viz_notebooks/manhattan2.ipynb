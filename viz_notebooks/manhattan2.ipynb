{
 "cells": [
  {
   "cell_type": "code",
   "execution_count": null,
   "metadata": {},
   "outputs": [],
   "source": [
    "import sys\n",
    "import os\n",
    "\n",
    "import pandas as pd\n",
    "\n",
    "import ipywidgets as widgets\n",
    "from IPython.display import display\n",
    "\n",
    "# add parent directory to path\n",
    "library_path = os.path.abspath('..')\n",
    "if library_path not in sys.path:\n",
    "    sys.path.append(library_path)\n",
    "\n",
    "from ideal_genom.manhattan_type import manhattan_draw"
   ]
  },
  {
   "cell_type": "code",
   "execution_count": null,
   "metadata": {},
   "outputs": [],
   "source": [
    "# Create interactive widgets for input\n",
    "input_path = widgets.Text(\n",
    "    value='/home/luis/data/gwasResult/',\n",
    "    description='Path to project folder:',\n",
    "    style={'description_width': 'initial'}\n",
    ")\n",
    "\n",
    "input_name = widgets.Text(\n",
    "    value='meta_analysis_results.out',\n",
    "    description='Name of GWAS summary file:',\n",
    "    style={'description_width': 'initial'}\n",
    ")\n",
    "\n",
    "highlight = widgets.Text(\n",
    "    value='meta_top_hits.csv',\n",
    "    description='Name of file with SNPs to highlight:',\n",
    "    style={'description_width': 'initial'}\n",
    ")\n",
    "\n",
    "annotate = widgets.Text(\n",
    "    value='meta_top_hits.csv',\n",
    "    description='Name of file with SNPs to annotate:',\n",
    "    style={'description_width': 'initial'}\n",
    ")\n",
    "\n",
    "# Display the widgets\n",
    "display(input_path, input_name, highlight, annotate)\n",
    "\n",
    "# Function to get the text parameter values\n",
    "def get_params():\n",
    "    return input_path.value, input_name.value, highlight.value, annotate.value"
   ]
  },
  {
   "cell_type": "code",
   "execution_count": null,
   "metadata": {},
   "outputs": [],
   "source": [
    "# Use the parameter values\n",
    "path_params = get_params()\n",
    "print(f\"Parameter 1: {path_params[0]}\")\n",
    "print(f\"Parameter 2: {path_params[1]}\")\n",
    "print(f\"Parameter 3: {path_params[2]}\")\n",
    "print(f\"Parameter 4: {path_params[3]}\")"
   ]
  },
  {
   "cell_type": "code",
   "execution_count": null,
   "metadata": {},
   "outputs": [],
   "source": [
    "cols_touse = widgets.Textarea(\n",
    "    value=\"chromosome, position, rs_number, p-value, n_studies\",\n",
    "    description='Columns to use on the Mannhattan plot (comma-separated):',\n",
    "    style={'description_width': 'initial'},\n",
    "    layout=widgets.Layout(width='50%')\n",
    ")\n",
    "display(cols_touse)\n",
    "\n",
    "def get_cols():\n",
    "    return cols_touse.value"
   ]
  },
  {
   "cell_type": "code",
   "execution_count": null,
   "metadata": {},
   "outputs": [],
   "source": [
    "cols = get_cols()\n",
    "\n",
    "df_gwas = pd.read_csv(\n",
    "    os.path.join(path_params[0], path_params[1]), sep='\\t', usecols=[col.strip() for col in cols.split(',')]\n",
    ")\n",
    "df_gwas.head(5)"
   ]
  },
  {
   "cell_type": "code",
   "execution_count": null,
   "metadata": {},
   "outputs": [],
   "source": [
    "df_gwas = df_gwas[df_gwas['n_studies']==2].reset_index(drop=True).drop(columns='n_studies')\n",
    "df_gwas.columns = ['CHR', 'POS', 'SNP',\t'P']\n",
    "df_gwas.head(5)"
   ]
  },
  {
   "cell_type": "code",
   "execution_count": null,
   "metadata": {},
   "outputs": [],
   "source": [
    "rsID = widgets.Text(\n",
    "    value='rs_number',\n",
    "    description='Column name with the rsID:',\n",
    "    style={'description_width': 'initial'},\n",
    "    layout=widgets.Layout(width='20%')\n",
    ")\n",
    "\n",
    "gene_col = widgets.Text(\n",
    "    value='Gene',\n",
    "    description='Column name with the nearest gene name:',\n",
    "    style={'description_width': 'initial'},\n",
    "    layout=widgets.Layout(width='20%')\n",
    ")\n",
    "\n",
    "highlight_hue_col = widgets.Text(\n",
    "    value='Hue',\n",
    "    description='Column name with hue for highlights:',\n",
    "    style={'description_width': 'initial'},\n",
    "    layout=widgets.Layout(width='20%')\n",
    ")\n",
    "\n",
    "display(rsID, gene_col, highlight_hue_col)\n",
    "\n",
    "def get_rsID():\n",
    "    return rsID.value\n",
    "def get_gene_col():\n",
    "    return gene_col.value\n",
    "def get_highlight_hue_col():\n",
    "    return highlight_hue_col.value"
   ]
  },
  {
   "cell_type": "code",
   "execution_count": null,
   "metadata": {},
   "outputs": [],
   "source": [
    "gwas_rsID = get_rsID()\n",
    "hue_col = get_highlight_hue_col()\n",
    "\n",
    "if path_params[2] is not None or path_params[2] != '':\n",
    "    highlit_path = os.path.join(path_params[0], path_params[2])\n",
    "    if os.path.exists(highlit_path):\n",
    "        df_high = pd.read_csv(\n",
    "            highlit_path, sep=','\n",
    "        )\n",
    "        if hue_col not in df_high.columns:\n",
    "            to_highlight = df_high[[gwas_rsID]].copy()\n",
    "        else:\n",
    "            to_highlight = df_high[[gwas_rsID, hue_col]].copy()\n",
    "        del df_high\n",
    "    else:\n",
    "        print('Path to file with SNPs to highlight does not exist')\n",
    "        to_highlight = pd.DataFrame()\n",
    "else:\n",
    "    print('No file with SNPs to highlight')\n",
    "    to_highlight = pd.DataFrame()\n",
    "\n",
    "to_highlight.head()"
   ]
  },
  {
   "cell_type": "code",
   "execution_count": null,
   "metadata": {},
   "outputs": [],
   "source": [
    "gene_col = get_gene_col()\n",
    "\n",
    "if path_params[3] is not None and path_params[3] != '':\n",
    "    anno_path = os.path.join(path_params[0], path_params[3])\n",
    "    if os.path.exists(anno_path):\n",
    "        df_anno = pd.read_csv(\n",
    "            anno_path, sep=',',\n",
    "        )\n",
    "        if gene_col not in df_anno.columns:\n",
    "            to_annotate = df_anno[[gwas_rsID]]\n",
    "        else:\n",
    "            to_annotate = df_anno[[gwas_rsID, gene_col]].copy()\n",
    "        del df_anno\n",
    "    else:\n",
    "        print('Path to file with SNPs to annotate does not exist')\n",
    "        to_annotate = pd.DataFrame()\n",
    "else:\n",
    "    print('No file with SNPs to annotate')\n",
    "    to_annotate = pd.DataFrame()\n",
    "\n",
    "to_annotate.head()"
   ]
  },
  {
   "cell_type": "code",
   "execution_count": null,
   "metadata": {},
   "outputs": [],
   "source": [
    "SNP_col = widgets.Text(\n",
    "    value='SNP',\n",
    "    description='Column with rsID:',\n",
    "    style={'description_width': 'initial'}\n",
    ")\n",
    "\n",
    "CHR_col = widgets.Text(\n",
    "    value='CHR',\n",
    "    description='Column with chromosome:',\n",
    "    style={'description_width': 'initial'}\n",
    ")\n",
    "\n",
    "POS_col = widgets.Text(\n",
    "    value='POS',\n",
    "    description='Column with base-pair position:',\n",
    "    style={'description_width': 'initial'}\n",
    ")\n",
    "\n",
    "P_col = widgets.Text(\n",
    "    value='P',\n",
    "    description='Column with p-values:',\n",
    "    style={'description_width': 'initial'}\n",
    ")\n",
    "display(SNP_col, CHR_col, POS_col, P_col)\n",
    "\n",
    "def get_col_names():\n",
    "    return SNP_col.value, CHR_col.value, POS_col.value, P_col.value"
   ]
  },
  {
   "cell_type": "code",
   "execution_count": null,
   "metadata": {},
   "outputs": [],
   "source": [
    "snp_col, chr_col, pos_col, p_col = get_col_names()\n",
    "to_annotate = to_annotate.rename(columns={gwas_rsID: snp_col, gene_col: 'GENENAME'})\n",
    "to_highlight = to_highlight.rename(columns={gwas_rsID: snp_col, hue_col: 'hue'}, inplace=False)"
   ]
  },
  {
   "cell_type": "code",
   "execution_count": null,
   "metadata": {},
   "outputs": [],
   "source": [
    "manhattan_draw(\n",
    "    data_df     =df_gwas,\n",
    "    chr_col     =chr_col,\n",
    "    pos_col     =pos_col,\n",
    "    p_col       =p_col,\n",
    "    snp_col     =snp_col,\n",
    "    plot_dir    =path_params[0],\n",
    "    to_highlight=to_highlight,\n",
    "    to_annotate =to_annotate,\n",
    "    save_name   ='manhattan_plot_meta_indian.jpeg',\n",
    "    gen_col     =gene_col\n",
    ")"
   ]
  }
 ],
 "metadata": {
  "kernelspec": {
   "display_name": "ideal-genom-NcAYBj8M-py3.10",
   "language": "python",
   "name": "python3"
  },
  "language_info": {
   "codemirror_mode": {
    "name": "ipython",
    "version": 3
   },
   "file_extension": ".py",
   "mimetype": "text/x-python",
   "name": "python",
   "nbconvert_exporter": "python",
   "pygments_lexer": "ipython3",
   "version": "3.10.15"
  }
 },
 "nbformat": 4,
 "nbformat_minor": 2
}
