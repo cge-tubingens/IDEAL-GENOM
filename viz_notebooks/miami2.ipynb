{
 "cells": [
  {
   "cell_type": "code",
   "execution_count": 1,
   "metadata": {},
   "outputs": [],
   "source": [
    "import sys\n",
    "import os\n",
    "\n",
    "# add parent directory to path\n",
    "library_path = os.path.abspath('..')\n",
    "if library_path not in sys.path:\n",
    "    sys.path.append(library_path)\n",
    "\n",
    "from luxgiant_dstream.manhattan_type import miami_draw"
   ]
  },
  {
   "cell_type": "code",
   "execution_count": 2,
   "metadata": {},
   "outputs": [
    {
     "data": {
      "application/vnd.jupyter.widget-view+json": {
       "model_id": "7904487439994c3c8a8a7ff945a88c70",
       "version_major": 2,
       "version_minor": 0
      },
      "text/plain": [
       "Text(value='/mnt/0A2AAC152AABFBB7/data/gwasResult/', description='Path to project folder:', style=TextStyle(de…"
      ]
     },
     "metadata": {},
     "output_type": "display_data"
    },
    {
     "data": {
      "application/vnd.jupyter.widget-view+json": {
       "model_id": "333b1cd03fec42a48772883cf9b2b340",
       "version_major": 2,
       "version_minor": 0
      },
      "text/plain": [
       "Text(value='pooled_meta_analysis_luxgiant_multi1.tbl', description='Name of GWAS summary file (top):', style=T…"
      ]
     },
     "metadata": {},
     "output_type": "display_data"
    },
    {
     "data": {
      "application/vnd.jupyter.widget-view+json": {
       "model_id": "fb4463c0f8b44eacb377cb8eb8ffe406",
       "version_major": 2,
       "version_minor": 0
      },
      "text/plain": [
       "Text(value='', description='Name of file with SNPs to highlight (top):', style=TextStyle(description_width='in…"
      ]
     },
     "metadata": {},
     "output_type": "display_data"
    },
    {
     "data": {
      "application/vnd.jupyter.widget-view+json": {
       "model_id": "1d1333a2495e4ef8831ac865ef0b6ada",
       "version_major": 2,
       "version_minor": 0
      },
      "text/plain": [
       "Text(value='', description='Name of file with SNPs to annotate (top):', style=TextStyle(description_width='ini…"
      ]
     },
     "metadata": {},
     "output_type": "display_data"
    },
    {
     "data": {
      "application/vnd.jupyter.widget-view+json": {
       "model_id": "49886b473bf34c56beeae852bae166d7",
       "version_major": 2,
       "version_minor": 0
      },
      "text/plain": [
       "Text(value='multi_ethnic_meta_summary_statts_harmonised_GCST90275127.tsv', description='Name of GWAS reference…"
      ]
     },
     "metadata": {},
     "output_type": "display_data"
    },
    {
     "data": {
      "application/vnd.jupyter.widget-view+json": {
       "model_id": "422123fd75d44ecb986edf1ae56f58eb",
       "version_major": 2,
       "version_minor": 0
      },
      "text/plain": [
       "Text(value='', description='Name of file with SNPs to highlight (bottom):', style=TextStyle(description_width=…"
      ]
     },
     "metadata": {},
     "output_type": "display_data"
    },
    {
     "data": {
      "application/vnd.jupyter.widget-view+json": {
       "model_id": "de963bc9f9c44bc1b4b058cb7e9d7732",
       "version_major": 2,
       "version_minor": 0
      },
      "text/plain": [
       "Text(value='', description='Name of file with SNPs to annotate (bottom):', style=TextStyle(description_width='…"
      ]
     },
     "metadata": {},
     "output_type": "display_data"
    }
   ],
   "source": [
    "import ipywidgets as widgets\n",
    "from IPython.display import display\n",
    "\n",
    "# Create interactive widgets for input\n",
    "input_path = widgets.Text(\n",
    "    value='/mnt/0A2AAC152AABFBB7/data/gwasResult/',\n",
    "    description='Path to project folder:',\n",
    "    style={'description_width': 'initial'}\n",
    ")\n",
    "\n",
    "top_name = widgets.Text(\n",
    "    value='pooled_meta_analysis_luxgiant_multi1.tbl',\n",
    "    description='Name of GWAS summary file (top):',\n",
    "    style={'description_width': 'initial'}\n",
    ")\n",
    "\n",
    "top_highlight = widgets.Text(\n",
    "    value='',\n",
    "    description='Name of file with SNPs to highlight (top):',\n",
    "    style={'description_width': 'initial'}\n",
    ")\n",
    "\n",
    "top_annotate = widgets.Text(\n",
    "    value='',\n",
    "    description='Name of file with SNPs to annotate (top):',\n",
    "    style={'description_width': 'initial'}\n",
    ")\n",
    "\n",
    "bottom_name = widgets.Text(\n",
    "    value='multi_ethnic_meta_summary_statts_harmonised_GCST90275127.tsv',\n",
    "    description='Name of GWAS reference summary file:',\n",
    "    style={'description_width': 'initial'}\n",
    ")\n",
    "\n",
    "bottom_highlight = widgets.Text(\n",
    "    value='',\n",
    "    description='Name of file with SNPs to highlight (bottom):',\n",
    "    style={'description_width': 'initial'}\n",
    ")\n",
    "\n",
    "bottom_annotate = widgets.Text(\n",
    "    value='',\n",
    "    description='Name of file with SNPs to annotate (bottom):',\n",
    "    style={'description_width': 'initial'}\n",
    ")\n",
    "\n",
    "# Display the widgets\n",
    "display(input_path, top_name, top_highlight, top_annotate, bottom_name, bottom_highlight, bottom_annotate)\n",
    "\n",
    "# Function to get the text parameter values\n",
    "def get_params():\n",
    "    return input_path.value, top_name.value, top_highlight.value, top_annotate.value, bottom_name.value, bottom_highlight.value, bottom_annotate.value"
   ]
  },
  {
   "cell_type": "code",
   "execution_count": 3,
   "metadata": {},
   "outputs": [
    {
     "name": "stdout",
     "output_type": "stream",
     "text": [
      "Parameter 1: /mnt/0A2AAC152AABFBB7/data/gwasResult/\n",
      "Parameter 2: pooled_meta_analysis_luxgiant_multi1.tbl\n",
      "Parameter 3: \n",
      "Parameter 4: \n",
      "Parameter 5: multi_ethnic_meta_summary_statts_harmonised_GCST90275127.tsv\n",
      "Parameter 6: \n",
      "Parameter 7: \n"
     ]
    }
   ],
   "source": [
    "# Use the parameter values\n",
    "path_params = get_params()\n",
    "print(f\"Parameter 1: {path_params[0]}\")\n",
    "print(f\"Parameter 2: {path_params[1]}\")\n",
    "print(f\"Parameter 3: {path_params[2]}\")\n",
    "print(f\"Parameter 4: {path_params[3]}\")\n",
    "print(f\"Parameter 5: {path_params[4]}\")\n",
    "print(f\"Parameter 6: {path_params[5]}\")\n",
    "print(f\"Parameter 7: {path_params[6]}\")"
   ]
  },
  {
   "cell_type": "code",
   "execution_count": 4,
   "metadata": {},
   "outputs": [
    {
     "data": {
      "text/html": [
       "<div>\n",
       "<style scoped>\n",
       "    .dataframe tbody tr th:only-of-type {\n",
       "        vertical-align: middle;\n",
       "    }\n",
       "\n",
       "    .dataframe tbody tr th {\n",
       "        vertical-align: top;\n",
       "    }\n",
       "\n",
       "    .dataframe thead th {\n",
       "        text-align: right;\n",
       "    }\n",
       "</style>\n",
       "<table border=\"1\" class=\"dataframe\">\n",
       "  <thead>\n",
       "    <tr style=\"text-align: right;\">\n",
       "      <th></th>\n",
       "      <th>MarkerName</th>\n",
       "      <th>Allele1</th>\n",
       "      <th>Allele2</th>\n",
       "      <th>Effect</th>\n",
       "      <th>StdErr</th>\n",
       "      <th>Pvalue</th>\n",
       "      <th>Direction</th>\n",
       "      <th>HetISq</th>\n",
       "      <th>HetChiSq</th>\n",
       "      <th>HetDf</th>\n",
       "      <th>HetPVal</th>\n",
       "    </tr>\n",
       "  </thead>\n",
       "  <tbody>\n",
       "    <tr>\n",
       "      <th>0</th>\n",
       "      <td>rs2326918</td>\n",
       "      <td>a</td>\n",
       "      <td>g</td>\n",
       "      <td>0.041410</td>\n",
       "      <td>0.021423</td>\n",
       "      <td>0.05325</td>\n",
       "      <td>++</td>\n",
       "      <td>0.0</td>\n",
       "      <td>0.292361</td>\n",
       "      <td>1</td>\n",
       "      <td>0.5887</td>\n",
       "    </tr>\n",
       "    <tr>\n",
       "      <th>1</th>\n",
       "      <td>rs7929618</td>\n",
       "      <td>c</td>\n",
       "      <td>g</td>\n",
       "      <td>0.055195</td>\n",
       "      <td>0.045991</td>\n",
       "      <td>0.23010</td>\n",
       "      <td>+?</td>\n",
       "      <td>0.0</td>\n",
       "      <td>0.000000</td>\n",
       "      <td>0</td>\n",
       "      <td>1.0000</td>\n",
       "    </tr>\n",
       "    <tr>\n",
       "      <th>2</th>\n",
       "      <td>rs66941928</td>\n",
       "      <td>t</td>\n",
       "      <td>c</td>\n",
       "      <td>-0.005023</td>\n",
       "      <td>0.015343</td>\n",
       "      <td>0.74340</td>\n",
       "      <td>--</td>\n",
       "      <td>0.0</td>\n",
       "      <td>0.125298</td>\n",
       "      <td>1</td>\n",
       "      <td>0.7234</td>\n",
       "    </tr>\n",
       "    <tr>\n",
       "      <th>3</th>\n",
       "      <td>rs6039163</td>\n",
       "      <td>t</td>\n",
       "      <td>c</td>\n",
       "      <td>0.107100</td>\n",
       "      <td>0.261214</td>\n",
       "      <td>0.68180</td>\n",
       "      <td>?+</td>\n",
       "      <td>0.0</td>\n",
       "      <td>0.000000</td>\n",
       "      <td>0</td>\n",
       "      <td>1.0000</td>\n",
       "    </tr>\n",
       "    <tr>\n",
       "      <th>4</th>\n",
       "      <td>rs530960868</td>\n",
       "      <td>t</td>\n",
       "      <td>g</td>\n",
       "      <td>-0.094246</td>\n",
       "      <td>0.078590</td>\n",
       "      <td>0.23040</td>\n",
       "      <td>-?</td>\n",
       "      <td>0.0</td>\n",
       "      <td>0.000000</td>\n",
       "      <td>0</td>\n",
       "      <td>1.0000</td>\n",
       "    </tr>\n",
       "  </tbody>\n",
       "</table>\n",
       "</div>"
      ],
      "text/plain": [
       "    MarkerName Allele1 Allele2    Effect    StdErr   Pvalue Direction  HetISq  \\\n",
       "0    rs2326918       a       g  0.041410  0.021423  0.05325        ++     0.0   \n",
       "1    rs7929618       c       g  0.055195  0.045991  0.23010        +?     0.0   \n",
       "2   rs66941928       t       c -0.005023  0.015343  0.74340        --     0.0   \n",
       "3    rs6039163       t       c  0.107100  0.261214  0.68180        ?+     0.0   \n",
       "4  rs530960868       t       g -0.094246  0.078590  0.23040        -?     0.0   \n",
       "\n",
       "   HetChiSq  HetDf  HetPVal  \n",
       "0  0.292361      1   0.5887  \n",
       "1  0.000000      0   1.0000  \n",
       "2  0.125298      1   0.7234  \n",
       "3  0.000000      0   1.0000  \n",
       "4  0.000000      0   1.0000  "
      ]
     },
     "execution_count": 4,
     "metadata": {},
     "output_type": "execute_result"
    }
   ],
   "source": [
    "import pandas as pd\n",
    "\n",
    "df_top = pd.read_table(\n",
    "    os.path.join(path_params[0], path_params[1]), sep='\\t'\n",
    ")\n",
    "df_top.head(5)"
   ]
  },
  {
   "cell_type": "code",
   "execution_count": 6,
   "metadata": {},
   "outputs": [
    {
     "data": {
      "text/html": [
       "<div>\n",
       "<style scoped>\n",
       "    .dataframe tbody tr th:only-of-type {\n",
       "        vertical-align: middle;\n",
       "    }\n",
       "\n",
       "    .dataframe tbody tr th {\n",
       "        vertical-align: top;\n",
       "    }\n",
       "\n",
       "    .dataframe thead th {\n",
       "        text-align: right;\n",
       "    }\n",
       "</style>\n",
       "<table border=\"1\" class=\"dataframe\">\n",
       "  <thead>\n",
       "    <tr style=\"text-align: right;\">\n",
       "      <th></th>\n",
       "      <th>CHR</th>\n",
       "      <th>BP</th>\n",
       "      <th>A1</th>\n",
       "      <th>A2</th>\n",
       "      <th>BETA</th>\n",
       "      <th>SE</th>\n",
       "      <th>P</th>\n",
       "      <th>SNP</th>\n",
       "    </tr>\n",
       "  </thead>\n",
       "  <tbody>\n",
       "    <tr>\n",
       "      <th>0</th>\n",
       "      <td>1</td>\n",
       "      <td>727242</td>\n",
       "      <td>A</td>\n",
       "      <td>G</td>\n",
       "      <td>0.0100</td>\n",
       "      <td>0.050199</td>\n",
       "      <td>0.8421</td>\n",
       "      <td>rs61769339</td>\n",
       "    </tr>\n",
       "    <tr>\n",
       "      <th>1</th>\n",
       "      <td>1</td>\n",
       "      <td>730869</td>\n",
       "      <td>T</td>\n",
       "      <td>C</td>\n",
       "      <td>0.2304</td>\n",
       "      <td>0.172317</td>\n",
       "      <td>0.1812</td>\n",
       "      <td>rs200188737</td>\n",
       "    </tr>\n",
       "    <tr>\n",
       "      <th>2</th>\n",
       "      <td>1</td>\n",
       "      <td>740738</td>\n",
       "      <td>T</td>\n",
       "      <td>C</td>\n",
       "      <td>0.0689</td>\n",
       "      <td>0.107508</td>\n",
       "      <td>0.5216</td>\n",
       "      <td>rs146067153</td>\n",
       "    </tr>\n",
       "    <tr>\n",
       "      <th>3</th>\n",
       "      <td>1</td>\n",
       "      <td>758245</td>\n",
       "      <td>C</td>\n",
       "      <td>T</td>\n",
       "      <td>-0.0492</td>\n",
       "      <td>0.149031</td>\n",
       "      <td>0.7413</td>\n",
       "      <td>rs190214723</td>\n",
       "    </tr>\n",
       "    <tr>\n",
       "      <th>4</th>\n",
       "      <td>1</td>\n",
       "      <td>758351</td>\n",
       "      <td>G</td>\n",
       "      <td>A</td>\n",
       "      <td>0.0094</td>\n",
       "      <td>0.049239</td>\n",
       "      <td>0.8486</td>\n",
       "      <td>rs12238997</td>\n",
       "    </tr>\n",
       "  </tbody>\n",
       "</table>\n",
       "</div>"
      ],
      "text/plain": [
       "   CHR      BP A1 A2    BETA        SE       P          SNP\n",
       "0    1  727242  A  G  0.0100  0.050199  0.8421   rs61769339\n",
       "1    1  730869  T  C  0.2304  0.172317  0.1812  rs200188737\n",
       "2    1  740738  T  C  0.0689  0.107508  0.5216  rs146067153\n",
       "3    1  758245  C  T -0.0492  0.149031  0.7413  rs190214723\n",
       "4    1  758351  G  A  0.0094  0.049239  0.8486   rs12238997"
      ]
     },
     "execution_count": 6,
     "metadata": {},
     "output_type": "execute_result"
    }
   ],
   "source": [
    "df_bottom = pd.read_csv(\n",
    "    os.path.join(path_params[0], path_params[4]), sep='\\t'\n",
    ")\n",
    "df_bottom.head(5)"
   ]
  },
  {
   "cell_type": "code",
   "execution_count": 7,
   "metadata": {},
   "outputs": [
    {
     "name": "stdout",
     "output_type": "stream",
     "text": [
      "8561605\n",
      "9840154\n"
     ]
    }
   ],
   "source": [
    "print(df_bottom.shape[0])\n",
    "print(df_top.shape[0])"
   ]
  },
  {
   "cell_type": "code",
   "execution_count": null,
   "metadata": {},
   "outputs": [],
   "source": [
    "if path_params[2] is not None or path_params[2] != '':\n",
    "    top_highlit_path = os.path.join(path_params[0], path_params[2])\n",
    "    if os.path.exists(top_highlit_path):\n",
    "        df_high_top = pd.read_csv(\n",
    "            top_highlit_path, sep='\\t'\n",
    "        )\n",
    "        top_to_highlight = df_high_top['SNP'].to_list()\n",
    "        print(top_to_highlight[:10])\n",
    "        del df_high_top\n",
    "    else:\n",
    "        print('Path to file with SNPs to highlight does not exist (top)')\n",
    "        top_to_highlight = []\n",
    "else:\n",
    "    print('No file with SNPs to highlight (top)')\n",
    "    top_to_highlight = []"
   ]
  },
  {
   "cell_type": "code",
   "execution_count": null,
   "metadata": {},
   "outputs": [],
   "source": [
    "if path_params[3] is not None and path_params[3] != '':\n",
    "    top_anno_path = os.path.join(path_params[0], path_params[3])\n",
    "    if os.path.exists(top_anno_path):\n",
    "        df_anno_top = pd.read_csv(\n",
    "            top_anno_path, sep='\\t'\n",
    "        )\n",
    "        top_to_annotate = df_anno_top['SNP'].to_list()\n",
    "        print(top_to_annotate[:10])\n",
    "        del df_anno_top\n",
    "    else:\n",
    "        print('Path to file with SNPs to annotate does not exist (top)')\n",
    "        top_to_annotate = []\n",
    "else:\n",
    "    print('No file with SNPs to annotate (top)')\n",
    "    top_to_annotate = []"
   ]
  },
  {
   "cell_type": "code",
   "execution_count": null,
   "metadata": {},
   "outputs": [],
   "source": [
    "if path_params[5] is not None and path_params[5] != '':\n",
    "    bottom_highlit_path = os.path.join(path_params[0], path_params[5])\n",
    "    if os.path.exists(bottom_highlit_path):\n",
    "        df_high_bottom = pd.read_csv(\n",
    "            bottom_highlit_path, sep='\\t'\n",
    "        )\n",
    "        bottom_to_highlight = df_high_bottom['SNP'].to_list()\n",
    "        print(bottom_to_highlight[:10])\n",
    "        del df_high_bottom\n",
    "    else:\n",
    "        print('Path to file with SNPs to highlight does not exist (bottom)')\n",
    "        bottom_to_highlight = []\n",
    "else:\n",
    "    print('No file with SNPs to highlight (bottom)')\n",
    "    bottom_to_highlight = []"
   ]
  },
  {
   "cell_type": "code",
   "execution_count": null,
   "metadata": {},
   "outputs": [],
   "source": [
    "if path_params[6] is not None and path_params[6] != '':\n",
    "    bottom_anno_path = os.path.join(path_params[0], path_params[6])\n",
    "    if os.path.exists(bottom_anno_path):\n",
    "        df_anno_bottom = pd.read_csv(\n",
    "            bottom_anno_path, sep='\\t'\n",
    "        )\n",
    "        bottom_to_annotate = df_anno_bottom['SNP'].to_list()\n",
    "        print(bottom_to_annotate[:10])\n",
    "        del df_anno_bottom\n",
    "    else:\n",
    "        print('Path to file with SNPs to annotate does not exist (bottom)')\n",
    "        bottom_to_annotate = []\n",
    "else:\n",
    "    print('No file with SNPs to annotate (bottom)')\n",
    "    bottom_to_annotate = []"
   ]
  },
  {
   "cell_type": "code",
   "execution_count": null,
   "metadata": {},
   "outputs": [],
   "source": [
    "miami_draw(\n",
    "    df_top=df_top, \n",
    "    df_bottom=df_bottom,\n",
    "    snp_col='ID',\n",
    "    chr_col='#CHROM',\n",
    "    pos_col='POS',\n",
    "    p_col='P',\n",
    "    plots_dir=path_params[0], \n",
    "    top_highlights=top_to_highlight, \n",
    "    top_annotations=top_to_annotate,\n",
    "    bottom_highlights=bottom_to_highlight, \n",
    "    bottom_annotations=[snp for snp in bottom_to_annotate if snp in top_to_annotate]\n",
    ")"
   ]
  }
 ],
 "metadata": {
  "kernelspec": {
   "display_name": ".venv",
   "language": "python",
   "name": "python3"
  },
  "language_info": {
   "codemirror_mode": {
    "name": "ipython",
    "version": 3
   },
   "file_extension": ".py",
   "mimetype": "text/x-python",
   "name": "python",
   "nbconvert_exporter": "python",
   "pygments_lexer": "ipython3",
   "version": "3.10.15"
  }
 },
 "nbformat": 4,
 "nbformat_minor": 2
}
