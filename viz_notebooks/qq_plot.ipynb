{
 "cells": [
  {
   "cell_type": "markdown",
   "metadata": {},
   "source": [
    "# QQ Plots\n",
    "\n",
    "In this notebook we intend to show how can be used the library `IDEAL-GENOM` to generate QQ-plots. "
   ]
  },
  {
   "cell_type": "code",
   "execution_count": 1,
   "metadata": {},
   "outputs": [],
   "source": [
    "import sys\n",
    "import os\n",
    "\n",
    "import pandas as pd\n",
    "\n",
    "import ipywidgets as widgets\n",
    "from IPython.display import display\n",
    "\n",
    "# add parent directory to path\n",
    "library_path = os.path.abspath('..')\n",
    "if library_path not in sys.path:\n",
    "    sys.path.append(library_path)\n",
    "\n",
    "from ideal_genom.visualization.plots import qqplot_draw"
   ]
  },
  {
   "cell_type": "markdown",
   "metadata": {},
   "source": [
    "At the end of the next cell, please fill the required values. The notebook could be modified according to the user interest and particular requirements, nevertheless in order to use as it is, the user should have the following specifications in mind. It is expected that all files are tab-separated-values, but the user can change this easily on the corresponding cell.\n",
    "\n",
    "1. `input_path` is the path to the folder where the necessary files to draw the plot are.\n",
    "2. `gwas_file` is the name of the file containing the **GWAS** summary statistics.\n",
    "3. `adjusted_file` is the name of the file containing the adjusted p-values.\n",
    "\n",
    "For example, if the user appealed to `PLINK` to fit a GLM model, the GWAS file has the extension `.hybrid` and the file with the adjusted p-values has the extension `.hybrid.adjusted`.\n",
    "\n",
    "Usually one annotate a subset of the highlighted SNPs, but we give the freedom to annotate a different set of SNPs."
   ]
  },
  {
   "cell_type": "code",
   "execution_count": null,
   "metadata": {},
   "outputs": [],
   "source": [
    "# Create interactive widgets for input\n",
    "input_path = widgets.Text(\n",
    "    value='',\n",
    "    description='Path to project folder:',\n",
    "    style={'description_width': 'initial'}\n",
    ")\n",
    "\n",
    "gwas_file = widgets.Text(\n",
    "    value='',\n",
    "    description='Name of GWAS summary file:',\n",
    "    style={'description_width': 'initial'}\n",
    ")\n",
    "\n",
    "adjusted_file = widgets.Text(\n",
    "    value='',\n",
    "    description='Name of adjusted GWAS summary file:',\n",
    "    style={'description_width': 'initial'}\n",
    ")\n",
    "\n",
    "plots_dir = widgets.Text(\n",
    "    value='',\n",
    "    description='Path to save plots:',\n",
    "    style={'description_width': 'initial'}\n",
    ")\n",
    "\n",
    "# Display the widgets\n",
    "display(input_path, gwas_file, adjusted_file, plots_dir)\n",
    "\n",
    "# Function to get the text parameter values\n",
    "def get_params():\n",
    "    return input_path.value, gwas_file.value, adjusted_file.value, plots_dir.value"
   ]
  },
  {
   "cell_type": "code",
   "execution_count": null,
   "metadata": {},
   "outputs": [],
   "source": [
    "# Use the parameter values\n",
    "path_params = get_params()\n",
    "print(f\"Parameter 1: {path_params[0]}\")\n",
    "print(f\"Parameter 2: {path_params[1]}\")\n",
    "print(f\"Parameter 3: {path_params[2]}\")\n",
    "print(f\"Parameter 4: {path_params[3]}\")"
   ]
  },
  {
   "cell_type": "markdown",
   "metadata": {},
   "source": [
    "Load the data frame with the **GWAS** summary statistics. "
   ]
  },
  {
   "cell_type": "code",
   "execution_count": null,
   "metadata": {},
   "outputs": [],
   "source": [
    "df_gwas = pd.read_csv(os.path.join(path_params[0], path_params[1]), sep=r'\\s+', engine='python')\n",
    "df_gwas.head()"
   ]
  },
  {
   "cell_type": "markdown",
   "metadata": {},
   "source": [
    "Load the data frame with the adjusted p-values."
   ]
  },
  {
   "cell_type": "code",
   "execution_count": null,
   "metadata": {},
   "outputs": [],
   "source": [
    "df_adjusted = pd.read_csv(os.path.join(path_params[0], path_params[2]), sep=r'\\s+', engine='python')\n",
    "df_adjusted.head()"
   ]
  },
  {
   "cell_type": "markdown",
   "metadata": {},
   "source": [
    "Generate the QQ values for the p-values from the summary statistics."
   ]
  },
  {
   "cell_type": "code",
   "execution_count": null,
   "metadata": {},
   "outputs": [],
   "source": [
    "qqplot_draw(\n",
    "    df_gwas=df_gwas,\n",
    "    plots_dir='',\n",
    "    pval_col='P',\n",
    "    save_name='unadjusted_qqplot_gwas.jpeg'\n",
    ")"
   ]
  },
  {
   "cell_type": "markdown",
   "metadata": {},
   "source": [
    "Generate the QQ plot for the adjusted p-values."
   ]
  },
  {
   "cell_type": "code",
   "execution_count": null,
   "metadata": {},
   "outputs": [],
   "source": [
    "qqplot_draw(\n",
    "    df_gwas=df_adjusted,\n",
    "    plots_dir='',\n",
    "    pval_col='GC',\n",
    "    save_name='adjusted_qqplot_gwas.jpeg'\n",
    ")"
   ]
  }
 ],
 "metadata": {
  "kernelspec": {
   "display_name": "luxgiant-dstream-dWyB7QIT-py3.10",
   "language": "python",
   "name": "python3"
  },
  "language_info": {
   "codemirror_mode": {
    "name": "ipython",
    "version": 3
   },
   "file_extension": ".py",
   "mimetype": "text/x-python",
   "name": "python",
   "nbconvert_exporter": "python",
   "pygments_lexer": "ipython3",
   "version": "3.10.15"
  }
 },
 "nbformat": 4,
 "nbformat_minor": 2
}
