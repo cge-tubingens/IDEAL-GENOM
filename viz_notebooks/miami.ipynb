{
 "cells": [
  {
   "cell_type": "markdown",
   "metadata": {},
   "source": [
    "# Miami Plot\n",
    "\n",
    "In this notebook we intend to show how can be used the library `IDEAL-GENOM` to generate a Miami Plot. "
   ]
  },
  {
   "cell_type": "code",
   "execution_count": 1,
   "metadata": {},
   "outputs": [],
   "source": [
    "import sys\n",
    "import os\n",
    "\n",
    "import pandas as pd\n",
    "\n",
    "import ipywidgets as widgets\n",
    "from IPython.display import display\n",
    "\n",
    "# add parent directory to path\n",
    "library_path = os.path.abspath('..')\n",
    "if library_path not in sys.path:\n",
    "    sys.path.append(library_path)\n",
    "\n",
    "from luxgiant_dstream.manhattan_type import miami_draw"
   ]
  },
  {
   "cell_type": "markdown",
   "metadata": {},
   "source": [
    "At the end of the next cell, please fill the required values. The notebook could be modified according to the user interest and particular requirements, nevertheless in order to use as it is, the user should have the following specifications in mind. It is expected that all files are tab-separated-values, but the user can change this easily on the corresponding cell.\n",
    "\n",
    "1. `input_path` is the path to the folder where the necessary files to draw the plot are.\n",
    "2. `top_name`  and `bottom_name` are the names of the files containing the **GWAS** summary statistics of the upper and lower plots respectively.\n",
    "3. `top_highlights` and `bottom_highlights` are the names of the files containing the top hits to highlight on the upper and lower plots respectively.\n",
    "4. `top_annotate` and `bottom_annotate` are the names of the files containing the rsID of the SNPs to annotate on the upper and lower plots respectively.\n",
    "\n",
    "Usually one annotate a subset of the highlighted SNPs, but we give the freedom to annotate a different set of SNPs."
   ]
  },
  {
   "cell_type": "code",
   "execution_count": 2,
   "metadata": {},
   "outputs": [
    {
     "data": {
      "application/vnd.jupyter.widget-view+json": {
       "model_id": "155e1760b1a442c692fe321152e3bf21",
       "version_major": 2,
       "version_minor": 0
      },
      "text/plain": [
       "Text(value='/home/luis/data/gwasResult/', description='Path to project folder:', style=TextStyle(description_w…"
      ]
     },
     "metadata": {},
     "output_type": "display_data"
    },
    {
     "data": {
      "application/vnd.jupyter.widget-view+json": {
       "model_id": "bb72cdc914f14478b5972bbe121453dd",
       "version_major": 2,
       "version_minor": 0
      },
      "text/plain": [
       "Text(value='annotated_normalized_combined_R2_0.3.dose_step2_sex_pheno-glm.PHENO1.glm.logistic.hybrid', descrip…"
      ]
     },
     "metadata": {},
     "output_type": "display_data"
    },
    {
     "data": {
      "application/vnd.jupyter.widget-view+json": {
       "model_id": "3c8fd6bd974f4ca7a3c8e486c68c0296",
       "version_major": 2,
       "version_minor": 0
      },
      "text/plain": [
       "Text(value='table_lead_SNPS_GWAS_glm_logistic_final_paper', description='Name of file with SNPs to highlight (…"
      ]
     },
     "metadata": {},
     "output_type": "display_data"
    },
    {
     "data": {
      "application/vnd.jupyter.widget-view+json": {
       "model_id": "8790c4f3b67f4a4aa23b30cb17aeeace",
       "version_major": 2,
       "version_minor": 0
      },
      "text/plain": [
       "Text(value='table_lead_SNPS_GWAS_glm_logistic_final_paper', description='Name of file with SNPs to annotate (t…"
      ]
     },
     "metadata": {},
     "output_type": "display_data"
    },
    {
     "data": {
      "application/vnd.jupyter.widget-view+json": {
       "model_id": "dbab2375ddde45299fef977c89e8021f",
       "version_major": 2,
       "version_minor": 0
      },
      "text/plain": [
       "Text(value='european_cohort_nallsEtAl2019_excluding23andMe_allVariants.hg38.tsv', description='Name of GWAS re…"
      ]
     },
     "metadata": {},
     "output_type": "display_data"
    },
    {
     "data": {
      "application/vnd.jupyter.widget-view+json": {
       "model_id": "7bc013c39d3f425195f4dd425a0453f1",
       "version_major": 2,
       "version_minor": 0
      },
      "text/plain": [
       "Text(value='highlighted_european_cohort_nallsEtAl2019_excluding23andMe_allVariants.hg38.csv', description='Nam…"
      ]
     },
     "metadata": {},
     "output_type": "display_data"
    },
    {
     "data": {
      "application/vnd.jupyter.widget-view+json": {
       "model_id": "38fb307959f64ab69341cc31850c93a3",
       "version_major": 2,
       "version_minor": 0
      },
      "text/plain": [
       "Text(value='highlighted_european_cohort_nallsEtAl2019_excluding23andMe_allVariants.hg38.csv', description='Nam…"
      ]
     },
     "metadata": {},
     "output_type": "display_data"
    }
   ],
   "source": [
    "# create interactive widgets for input\n",
    "input_path = widgets.Text(\n",
    "    value='/home/luis/data/gwasResult/',\n",
    "    description='Path to project folder:',\n",
    "    style={'description_width': 'initial'}\n",
    ")\n",
    "\n",
    "top_name = widgets.Text(\n",
    "    value='annotated_normalized_combined_R2_0.3.dose_step2_sex_pheno-glm.PHENO1.glm.logistic.hybrid',\n",
    "    description='Name of GWAS summary file (top):',\n",
    "    style={'description_width': 'initial'}\n",
    ")\n",
    "\n",
    "top_highlight = widgets.Text(\n",
    "    value='table_lead_SNPS_GWAS_glm_logistic_final_paper',\n",
    "    description='Name of file with SNPs to highlight (top):',\n",
    "    style={'description_width': 'initial'}\n",
    ")\n",
    "\n",
    "top_annotate = widgets.Text(\n",
    "    value='table_lead_SNPS_GWAS_glm_logistic_final_paper',\n",
    "    description='Name of file with SNPs to annotate (top):',\n",
    "    style={'description_width': 'initial'}\n",
    ")\n",
    "\n",
    "bottom_name = widgets.Text(\n",
    "    value='european_cohort_nallsEtAl2019_excluding23andMe_allVariants.hg38.tsv',\n",
    "    description='Name of GWAS reference summary file:',\n",
    "    style={'description_width': 'initial'}\n",
    ")\n",
    "\n",
    "bottom_highlight = widgets.Text(\n",
    "    value='highlighted_european_cohort_nallsEtAl2019_excluding23andMe_allVariants.hg38.csv',\n",
    "    description='Name of file with SNPs to highlight (bottom):',\n",
    "    style={'description_width': 'initial'}\n",
    ")\n",
    "\n",
    "bottom_annotate = widgets.Text(\n",
    "    value='highlighted_european_cohort_nallsEtAl2019_excluding23andMe_allVariants.hg38.csv',\n",
    "    description='Name of file with SNPs to annotate (bottom):',\n",
    "    style={'description_width': 'initial'}\n",
    ")\n",
    "\n",
    "# display the widgets\n",
    "display(input_path, top_name, top_highlight, top_annotate, bottom_name, bottom_highlight, bottom_annotate)\n",
    "\n",
    "# function to get the parameter values\n",
    "def get_params():\n",
    "    return input_path.value, top_name.value, top_highlight.value, top_annotate.value, bottom_name.value, bottom_highlight.value, bottom_annotate.value"
   ]
  },
  {
   "cell_type": "code",
   "execution_count": 3,
   "metadata": {},
   "outputs": [
    {
     "name": "stdout",
     "output_type": "stream",
     "text": [
      "Parameter 1: /home/luis/data/gwasResult/\n",
      "Parameter 2: annotated_normalized_combined_R2_0.3.dose_step2_sex_pheno-glm.PHENO1.glm.logistic.hybrid\n",
      "Parameter 3: table_lead_SNPS_GWAS_glm_logistic_final_paper\n",
      "Parameter 4: table_lead_SNPS_GWAS_glm_logistic_final_paper\n",
      "Parameter 5: european_cohort_nallsEtAl2019_excluding23andMe_allVariants.hg38.tsv\n",
      "Parameter 6: highlighted_european_cohort_nallsEtAl2019_excluding23andMe_allVariants.hg38.csv\n",
      "Parameter 7: highlighted_european_cohort_nallsEtAl2019_excluding23andMe_allVariants.hg38.csv\n"
     ]
    }
   ],
   "source": [
    "# get and print the parameter values\n",
    "path_params = get_params()\n",
    "print(f\"Parameter 1: {path_params[0]}\")\n",
    "print(f\"Parameter 2: {path_params[1]}\")\n",
    "print(f\"Parameter 3: {path_params[2]}\")\n",
    "print(f\"Parameter 4: {path_params[3]}\")\n",
    "print(f\"Parameter 5: {path_params[4]}\")\n",
    "print(f\"Parameter 6: {path_params[5]}\")\n",
    "print(f\"Parameter 7: {path_params[6]}\")"
   ]
  },
  {
   "cell_type": "markdown",
   "metadata": {},
   "source": [
    "Please, provide the columns to load from the **GWAS** summary statistics. The essential columns are those that contains chromosome, base-pair position, rsID and p-value. It is important to remark that columns names most coincide in both files, at least for the four columns that will be used to generate the Miami plot."
   ]
  },
  {
   "cell_type": "code",
   "execution_count": 4,
   "metadata": {},
   "outputs": [
    {
     "data": {
      "application/vnd.jupyter.widget-view+json": {
       "model_id": "b8916007262a4c638b6e6344d2b3a4e2",
       "version_major": 2,
       "version_minor": 0
      },
      "text/plain": [
       "Textarea(value='#CHROM, POS, ID, P', description='Columns to use on the upper plot (comma-separated):', layout…"
      ]
     },
     "metadata": {},
     "output_type": "display_data"
    }
   ],
   "source": [
    "upper_cols_touse = widgets.Textarea(\n",
    "    value=\"#CHROM, POS, ID, P\",\n",
    "    description='Columns to use on the upper plot (comma-separated):',\n",
    "    style={'description_width': 'initial'},\n",
    "    layout=widgets.Layout(width='50%')\n",
    ")\n",
    "display(upper_cols_touse)\n",
    "\n",
    "def get_upper_cols():\n",
    "    return upper_cols_touse.value"
   ]
  },
  {
   "cell_type": "code",
   "execution_count": 5,
   "metadata": {},
   "outputs": [
    {
     "data": {
      "text/html": [
       "<div>\n",
       "<style scoped>\n",
       "    .dataframe tbody tr th:only-of-type {\n",
       "        vertical-align: middle;\n",
       "    }\n",
       "\n",
       "    .dataframe tbody tr th {\n",
       "        vertical-align: top;\n",
       "    }\n",
       "\n",
       "    .dataframe thead th {\n",
       "        text-align: right;\n",
       "    }\n",
       "</style>\n",
       "<table border=\"1\" class=\"dataframe\">\n",
       "  <thead>\n",
       "    <tr style=\"text-align: right;\">\n",
       "      <th></th>\n",
       "      <th>#CHROM</th>\n",
       "      <th>POS</th>\n",
       "      <th>ID</th>\n",
       "      <th>P</th>\n",
       "    </tr>\n",
       "  </thead>\n",
       "  <tbody>\n",
       "    <tr>\n",
       "      <th>0</th>\n",
       "      <td>1</td>\n",
       "      <td>727242</td>\n",
       "      <td>rs61769339</td>\n",
       "      <td>0.355696</td>\n",
       "    </tr>\n",
       "    <tr>\n",
       "      <th>1</th>\n",
       "      <td>1</td>\n",
       "      <td>727717</td>\n",
       "      <td>rs61769340</td>\n",
       "      <td>0.517232</td>\n",
       "    </tr>\n",
       "    <tr>\n",
       "      <th>2</th>\n",
       "      <td>1</td>\n",
       "      <td>730869</td>\n",
       "      <td>rs200188737</td>\n",
       "      <td>0.510707</td>\n",
       "    </tr>\n",
       "    <tr>\n",
       "      <th>3</th>\n",
       "      <td>1</td>\n",
       "      <td>732369</td>\n",
       "      <td>rs1315713498</td>\n",
       "      <td>0.741994</td>\n",
       "    </tr>\n",
       "    <tr>\n",
       "      <th>4</th>\n",
       "      <td>1</td>\n",
       "      <td>740738</td>\n",
       "      <td>rs146067153</td>\n",
       "      <td>0.816063</td>\n",
       "    </tr>\n",
       "  </tbody>\n",
       "</table>\n",
       "</div>"
      ],
      "text/plain": [
       "   #CHROM     POS            ID         P\n",
       "0       1  727242    rs61769339  0.355696\n",
       "1       1  727717    rs61769340  0.517232\n",
       "2       1  730869   rs200188737  0.510707\n",
       "3       1  732369  rs1315713498  0.741994\n",
       "4       1  740738   rs146067153  0.816063"
      ]
     },
     "execution_count": 5,
     "metadata": {},
     "output_type": "execute_result"
    }
   ],
   "source": [
    "upper_cols = get_upper_cols()\n",
    "\n",
    "df_top = pd.read_csv(\n",
    "    os.path.join(path_params[0], path_params[1]), sep='\\t', usecols=[col.strip() for col in upper_cols.split(',')]\n",
    ")\n",
    "df_top.head(5)"
   ]
  },
  {
   "cell_type": "code",
   "execution_count": 6,
   "metadata": {},
   "outputs": [
    {
     "data": {
      "application/vnd.jupyter.widget-view+json": {
       "model_id": "5ff512fdc2274cd7b380326bca578845",
       "version_major": 2,
       "version_minor": 0
      },
      "text/plain": [
       "Textarea(value='CHR, POS, SNP, p', description='Columns to use on the lower plot (comma-separated):', layout=L…"
      ]
     },
     "metadata": {},
     "output_type": "display_data"
    }
   ],
   "source": [
    "lower_cols_touse = widgets.Textarea(\n",
    "    value=\"CHR, POS, SNP, p\",\n",
    "    description='Columns to use on the lower plot (comma-separated):',\n",
    "    style={'description_width': 'initial'},\n",
    "    layout=widgets.Layout(width='50%')\n",
    ")\n",
    "display(lower_cols_touse)\n",
    "\n",
    "def get_lower_cols():\n",
    "    return lower_cols_touse.value"
   ]
  },
  {
   "cell_type": "code",
   "execution_count": 7,
   "metadata": {},
   "outputs": [
    {
     "data": {
      "text/html": [
       "<div>\n",
       "<style scoped>\n",
       "    .dataframe tbody tr th:only-of-type {\n",
       "        vertical-align: middle;\n",
       "    }\n",
       "\n",
       "    .dataframe tbody tr th {\n",
       "        vertical-align: top;\n",
       "    }\n",
       "\n",
       "    .dataframe thead th {\n",
       "        text-align: right;\n",
       "    }\n",
       "</style>\n",
       "<table border=\"1\" class=\"dataframe\">\n",
       "  <thead>\n",
       "    <tr style=\"text-align: right;\">\n",
       "      <th></th>\n",
       "      <th>SNP</th>\n",
       "      <th>CHR</th>\n",
       "      <th>POS</th>\n",
       "      <th>p</th>\n",
       "    </tr>\n",
       "  </thead>\n",
       "  <tbody>\n",
       "    <tr>\n",
       "      <th>0</th>\n",
       "      <td>rs561234294</td>\n",
       "      <td>1</td>\n",
       "      <td>54591</td>\n",
       "      <td>0.44350</td>\n",
       "    </tr>\n",
       "    <tr>\n",
       "      <th>1</th>\n",
       "      <td>rs2462492</td>\n",
       "      <td>1</td>\n",
       "      <td>54676</td>\n",
       "      <td>0.12870</td>\n",
       "    </tr>\n",
       "    <tr>\n",
       "      <th>2</th>\n",
       "      <td>rs534350410</td>\n",
       "      <td>1</td>\n",
       "      <td>79188</td>\n",
       "      <td>0.44590</td>\n",
       "    </tr>\n",
       "    <tr>\n",
       "      <th>3</th>\n",
       "      <td>rs574556077</td>\n",
       "      <td>1</td>\n",
       "      <td>82994</td>\n",
       "      <td>0.49540</td>\n",
       "    </tr>\n",
       "    <tr>\n",
       "      <th>4</th>\n",
       "      <td>rs114608975</td>\n",
       "      <td>1</td>\n",
       "      <td>86028</td>\n",
       "      <td>0.07745</td>\n",
       "    </tr>\n",
       "  </tbody>\n",
       "</table>\n",
       "</div>"
      ],
      "text/plain": [
       "           SNP  CHR    POS        p\n",
       "0  rs561234294    1  54591  0.44350\n",
       "1    rs2462492    1  54676  0.12870\n",
       "2  rs534350410    1  79188  0.44590\n",
       "3  rs574556077    1  82994  0.49540\n",
       "4  rs114608975    1  86028  0.07745"
      ]
     },
     "execution_count": 7,
     "metadata": {},
     "output_type": "execute_result"
    }
   ],
   "source": [
    "lower_cols = get_lower_cols()\n",
    "\n",
    "df_bottom = pd.read_csv(\n",
    "    os.path.join(path_params[0], path_params[4]), sep='\\t', usecols=[col.strip() for col in lower_cols.split(',')]\n",
    ")\n",
    "df_bottom.head(5)"
   ]
  },
  {
   "cell_type": "code",
   "execution_count": 8,
   "metadata": {},
   "outputs": [],
   "source": [
    "# use this cell to uniformize column names\n",
    "df_bottom.columns = ['ID', '#CHROM', 'POS', 'P']"
   ]
  },
  {
   "cell_type": "code",
   "execution_count": 9,
   "metadata": {},
   "outputs": [
    {
     "data": {
      "application/vnd.jupyter.widget-view+json": {
       "model_id": "b890e07d352e444b9b71ec24f3acdf4f",
       "version_major": 2,
       "version_minor": 0
      },
      "text/plain": [
       "Text(value='SNP', description='Column name with the rsID (top):', style=TextStyle(description_width='initial')…"
      ]
     },
     "metadata": {},
     "output_type": "display_data"
    }
   ],
   "source": [
    "top_rsID = widgets.Text(\n",
    "    value='SNP',\n",
    "    description='Column name with the rsID (top):',\n",
    "    style={'description_width': 'initial'}\n",
    ")\n",
    "\n",
    "display(top_rsID)\n",
    "\n",
    "def get_top_rsID():\n",
    "    return top_rsID.value"
   ]
  },
  {
   "cell_type": "code",
   "execution_count": 10,
   "metadata": {},
   "outputs": [
    {
     "name": "stdout",
     "output_type": "stream",
     "text": [
      "['rs3747973', 'rs74990530', 'rs34311866', 'rs356182', 'rs7681440', 'rs1846190', 'rs2517680', 'rs4909940', 'rs528813377', 'rs56328224']\n"
     ]
    }
   ],
   "source": [
    "upper_rsID = get_top_rsID()\n",
    "\n",
    "if path_params[2] is not None or path_params[2] != '':\n",
    "    top_highlit_path = os.path.join(path_params[0], path_params[2])\n",
    "    if os.path.exists(top_highlit_path):\n",
    "        df_high_top = pd.read_csv(\n",
    "            top_highlit_path, sep='\\t'\n",
    "        )\n",
    "        top_to_highlight = df_high_top[upper_rsID].to_list()\n",
    "        print(top_to_highlight[:10])\n",
    "        del df_high_top\n",
    "    else:\n",
    "        print('Path to file with SNPs to highlight does not exist (top)')\n",
    "        top_to_highlight = []\n",
    "else:\n",
    "    print('No file with SNPs to highlight (top)')\n",
    "    top_to_highlight = []"
   ]
  },
  {
   "cell_type": "code",
   "execution_count": 11,
   "metadata": {},
   "outputs": [
    {
     "name": "stdout",
     "output_type": "stream",
     "text": [
      "['rs3747973', 'rs74990530', 'rs34311866', 'rs356182', 'rs7681440', 'rs1846190', 'rs2517680', 'rs4909940', 'rs528813377', 'rs56328224']\n"
     ]
    }
   ],
   "source": [
    "if path_params[3] is not None and path_params[3] != '':\n",
    "    top_anno_path = os.path.join(path_params[0], path_params[3])\n",
    "    if os.path.exists(top_anno_path):\n",
    "        df_anno_top = pd.read_csv(\n",
    "            top_anno_path, sep='\\t'\n",
    "        )\n",
    "        top_to_annotate = df_anno_top[upper_rsID].to_list()\n",
    "        print(top_to_annotate[:10])\n",
    "        del df_anno_top\n",
    "    else:\n",
    "        print('Path to file with SNPs to annotate does not exist (top)')\n",
    "        top_to_annotate = []\n",
    "else:\n",
    "    print('No file with SNPs to annotate (top)')\n",
    "    top_to_annotate = []"
   ]
  },
  {
   "cell_type": "code",
   "execution_count": 12,
   "metadata": {},
   "outputs": [
    {
     "data": {
      "application/vnd.jupyter.widget-view+json": {
       "model_id": "57e4bf2e2212431ca9b453cfff7dd031",
       "version_major": 2,
       "version_minor": 0
      },
      "text/plain": [
       "Text(value='SNP', description='Column name with the rsID (bottom):', style=TextStyle(description_width='initia…"
      ]
     },
     "metadata": {},
     "output_type": "display_data"
    }
   ],
   "source": [
    "bottom_rsID = widgets.Text(\n",
    "    value='SNP',\n",
    "    description='Column name with the rsID (bottom):',\n",
    "    style={'description_width': 'initial'}\n",
    ")\n",
    "\n",
    "display(bottom_rsID)\n",
    "\n",
    "def get_bottom_rsID():\n",
    "    return bottom_rsID.value"
   ]
  },
  {
   "cell_type": "code",
   "execution_count": 13,
   "metadata": {},
   "outputs": [
    {
     "name": "stdout",
     "output_type": "stream",
     "text": [
      "['rs114138760', 'rs35749011', 'rs76763715', 'rs6658353', 'rs11578699', 'rs823118', 'rs11557080', 'rs4653767', 'rs10797576', 'rs76116224']\n"
     ]
    }
   ],
   "source": [
    "lower_rsID = get_bottom_rsID()\n",
    "\n",
    "if path_params[5] is not None and path_params[5] != '':\n",
    "    bottom_highlit_path = os.path.join(path_params[0], path_params[5])\n",
    "    if os.path.exists(bottom_highlit_path):\n",
    "        df_high_bottom = pd.read_csv(\n",
    "            bottom_highlit_path, sep='\\t'\n",
    "        )\n",
    "        bottom_to_highlight = df_high_bottom[lower_rsID].to_list()\n",
    "        print(bottom_to_highlight[:10])\n",
    "        del df_high_bottom\n",
    "    else:\n",
    "        print('Path to file with SNPs to highlight does not exist (bottom)')\n",
    "        bottom_to_highlight = []\n",
    "else:\n",
    "    print('No file with SNPs to highlight (bottom)')\n",
    "    bottom_to_highlight = []"
   ]
  },
  {
   "cell_type": "code",
   "execution_count": 14,
   "metadata": {},
   "outputs": [
    {
     "name": "stdout",
     "output_type": "stream",
     "text": [
      "['rs114138760', 'rs35749011', 'rs76763715', 'rs6658353', 'rs11578699', 'rs823118', 'rs11557080', 'rs4653767', 'rs10797576', 'rs76116224']\n"
     ]
    }
   ],
   "source": [
    "if path_params[6] is not None and path_params[6] != '':\n",
    "    bottom_anno_path = os.path.join(path_params[0], path_params[6])\n",
    "    if os.path.exists(bottom_anno_path):\n",
    "        df_anno_bottom = pd.read_csv(\n",
    "            bottom_anno_path, sep='\\t'\n",
    "        )\n",
    "        bottom_to_annotate = df_anno_bottom[lower_rsID].to_list()\n",
    "        print(bottom_to_annotate[:10])\n",
    "        del df_anno_bottom\n",
    "    else:\n",
    "        print('Path to file with SNPs to annotate does not exist (bottom)')\n",
    "        bottom_to_annotate = []\n",
    "else:\n",
    "    print('No file with SNPs to annotate (bottom)')\n",
    "    bottom_to_annotate = []"
   ]
  },
  {
   "cell_type": "code",
   "execution_count": 15,
   "metadata": {},
   "outputs": [
    {
     "data": {
      "application/vnd.jupyter.widget-view+json": {
       "model_id": "b29820bd36d848cb90bfdcfea1102c24",
       "version_major": 2,
       "version_minor": 0
      },
      "text/plain": [
       "Text(value='ID', description='Column with rsID:', style=TextStyle(description_width='initial'))"
      ]
     },
     "metadata": {},
     "output_type": "display_data"
    },
    {
     "data": {
      "application/vnd.jupyter.widget-view+json": {
       "model_id": "ebfdb27545044f1a920889abb87d958c",
       "version_major": 2,
       "version_minor": 0
      },
      "text/plain": [
       "Text(value='#CHROM', description='Column with chromosome:', style=TextStyle(description_width='initial'))"
      ]
     },
     "metadata": {},
     "output_type": "display_data"
    },
    {
     "data": {
      "application/vnd.jupyter.widget-view+json": {
       "model_id": "605ec66cf1324dc1af38595ffc391353",
       "version_major": 2,
       "version_minor": 0
      },
      "text/plain": [
       "Text(value='POS', description='Column with base-pair position:', style=TextStyle(description_width='initial'))"
      ]
     },
     "metadata": {},
     "output_type": "display_data"
    },
    {
     "data": {
      "application/vnd.jupyter.widget-view+json": {
       "model_id": "87274b14ea4446ffac384d8d82a68a55",
       "version_major": 2,
       "version_minor": 0
      },
      "text/plain": [
       "Text(value='P', description='Column with p-values:', style=TextStyle(description_width='initial'))"
      ]
     },
     "metadata": {},
     "output_type": "display_data"
    }
   ],
   "source": [
    "SNP_col = widgets.Text(\n",
    "    value='ID',\n",
    "    description='Column with rsID:',\n",
    "    style={'description_width': 'initial'}\n",
    ")\n",
    "\n",
    "CHR_col = widgets.Text(\n",
    "    value='#CHROM',\n",
    "    description='Column with chromosome:',\n",
    "    style={'description_width': 'initial'}\n",
    ")\n",
    "\n",
    "POS_col = widgets.Text(\n",
    "    value='POS',\n",
    "    description='Column with base-pair position:',\n",
    "    style={'description_width': 'initial'}\n",
    ")\n",
    "\n",
    "P_col = widgets.Text(\n",
    "    value='P',\n",
    "    description='Column with p-values:',\n",
    "    style={'description_width': 'initial'}\n",
    ")\n",
    "display(SNP_col, CHR_col, POS_col, P_col)\n",
    "\n",
    "def get_col_names():\n",
    "    return SNP_col.value, CHR_col.value, POS_col.value, P_col.value"
   ]
  },
  {
   "cell_type": "code",
   "execution_count": 16,
   "metadata": {},
   "outputs": [],
   "source": [
    "snp_col, chr_col, pos_col, p_col = get_col_names()"
   ]
  },
  {
   "cell_type": "code",
   "execution_count": null,
   "metadata": {},
   "outputs": [
    {
     "name": "stdout",
     "output_type": "stream",
     "text": [
      "2024/10/30 10:39:19  -Using user-provided gtf:/home/luis/CGE/luxgiant-dstream/GCF_000001405.40_GRCh38.p14_genomic.gtf\n",
      "2024/10/30 10:39:19  -Using user-provided gtf:/home/luis/CGE/luxgiant-dstream/GCF_000001405.40_GRCh38.p14_genomic.gtf\n"
     ]
    }
   ],
   "source": [
    "miami_draw(\n",
    "    df_top            =df_top, \n",
    "    df_bottom         =df_bottom,\n",
    "    snp_col           =snp_col,\n",
    "    chr_col           =chr_col,\n",
    "    pos_col           =pos_col,\n",
    "    p_col             =p_col,\n",
    "    plots_dir         =path_params[0], \n",
    "    top_highlights    =top_to_highlight, \n",
    "    top_annotations   =top_to_annotate,\n",
    "    bottom_highlights =bottom_to_highlight, \n",
    "    bottom_annotations=[snp for snp in bottom_to_annotate if snp in top_to_annotate],\n",
    "    save_name         = 'miami_plot_indian_vs_european.pdf',\n",
    "    legend_top        ='Indian GWAS',\n",
    "    legend_bottom     ='European GWAS'\n",
    ")"
   ]
  }
 ],
 "metadata": {
  "kernelspec": {
   "display_name": "luxgiant-dstream-dWyB7QIT-py3.10",
   "language": "python",
   "name": "python3"
  },
  "language_info": {
   "codemirror_mode": {
    "name": "ipython",
    "version": 3
   },
   "file_extension": ".py",
   "mimetype": "text/x-python",
   "name": "python",
   "nbconvert_exporter": "python",
   "pygments_lexer": "ipython3",
   "version": "3.10.15"
  }
 },
 "nbformat": 4,
 "nbformat_minor": 2
}
