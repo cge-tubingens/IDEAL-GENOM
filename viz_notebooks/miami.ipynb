{
 "cells": [
  {
   "cell_type": "code",
   "execution_count": 1,
   "metadata": {},
   "outputs": [],
   "source": [
    "import sys\n",
    "import os\n",
    "\n",
    "# add parent directory to path\n",
    "library_path = os.path.abspath('..')\n",
    "if library_path not in sys.path:\n",
    "    sys.path.append(library_path)\n",
    "\n",
    "from luxgiant_dstream.manhattan_type import miami_draw"
   ]
  },
  {
   "cell_type": "code",
   "execution_count": 2,
   "metadata": {},
   "outputs": [
    {
     "data": {
      "application/vnd.jupyter.widget-view+json": {
       "model_id": "abd66ed510aa49258b0814068027f8a1",
       "version_major": 2,
       "version_minor": 0
      },
      "text/plain": [
       "Text(value='/home/luis/data/gwasResult/', description='Path to project folder:', style=TextStyle(description_w…"
      ]
     },
     "metadata": {},
     "output_type": "display_data"
    },
    {
     "data": {
      "application/vnd.jupyter.widget-view+json": {
       "model_id": "8cd803ef40c44c31ae37b92a6ae2dc92",
       "version_major": 2,
       "version_minor": 0
      },
      "text/plain": [
       "Text(value='annotated_normalized_combined_R2_0.3.dose_step2_sex_pheno-glm.PHENO1.glm.logistic.hybrid', descrip…"
      ]
     },
     "metadata": {},
     "output_type": "display_data"
    },
    {
     "data": {
      "application/vnd.jupyter.widget-view+json": {
       "model_id": "42b9f5f94e0e4c28963e7832b6744840",
       "version_major": 2,
       "version_minor": 0
      },
      "text/plain": [
       "Text(value='table_lead_SNPS_GWAS_glm_logistic_final_paper', description='Name of file with SNPs to highlight (…"
      ]
     },
     "metadata": {},
     "output_type": "display_data"
    },
    {
     "data": {
      "application/vnd.jupyter.widget-view+json": {
       "model_id": "1035b982c2324ba08405bc15a0dfbea0",
       "version_major": 2,
       "version_minor": 0
      },
      "text/plain": [
       "Text(value='', description='Name of file with SNPs to annotate (top):', style=TextStyle(description_width='ini…"
      ]
     },
     "metadata": {},
     "output_type": "display_data"
    },
    {
     "data": {
      "application/vnd.jupyter.widget-view+json": {
       "model_id": "c1ce11256a57455a8b95686d992b2b26",
       "version_major": 2,
       "version_minor": 0
      },
      "text/plain": [
       "Text(value='european_cohort_nallsEtAl2019_excluding23andMe_allVariants.hg38.tsv', description='Name of GWAS re…"
      ]
     },
     "metadata": {},
     "output_type": "display_data"
    },
    {
     "data": {
      "application/vnd.jupyter.widget-view+json": {
       "model_id": "f7c47dd98ec54041b56439287c16c40a",
       "version_major": 2,
       "version_minor": 0
      },
      "text/plain": [
       "Text(value='highlighted_european_cohort_nallsEtAl2019_excluding23andMe_allVariants.hg38.csv', description='Nam…"
      ]
     },
     "metadata": {},
     "output_type": "display_data"
    },
    {
     "data": {
      "application/vnd.jupyter.widget-view+json": {
       "model_id": "6c8b2259af624d7e8b596424315c9bd7",
       "version_major": 2,
       "version_minor": 0
      },
      "text/plain": [
       "Text(value='', description='Name of file with SNPs to annotate (bottom):', style=TextStyle(description_width='…"
      ]
     },
     "metadata": {},
     "output_type": "display_data"
    }
   ],
   "source": [
    "import ipywidgets as widgets\n",
    "from IPython.display import display\n",
    "\n",
    "# Create interactive widgets for input\n",
    "input_path = widgets.Text(\n",
    "    value='/home/luis/data/gwasResult/',\n",
    "    description='Path to project folder:',\n",
    "    style={'description_width': 'initial'}\n",
    ")\n",
    "\n",
    "top_name = widgets.Text(\n",
    "    value='annotated_normalized_combined_R2_0.3.dose_step2_sex_pheno-glm.PHENO1.glm.logistic.hybrid',\n",
    "    description='Name of GWAS summary file (top):',\n",
    "    style={'description_width': 'initial'}\n",
    ")\n",
    "\n",
    "top_highlight = widgets.Text(\n",
    "    value='table_lead_SNPS_GWAS_glm_logistic_final_paper',\n",
    "    description='Name of file with SNPs to highlight (top):',\n",
    "    style={'description_width': 'initial'}\n",
    ")\n",
    "\n",
    "top_annotate = widgets.Text(\n",
    "    value='',\n",
    "    description='Name of file with SNPs to annotate (top):',\n",
    "    style={'description_width': 'initial'}\n",
    ")\n",
    "\n",
    "bottom_name = widgets.Text(\n",
    "    value='european_cohort_nallsEtAl2019_excluding23andMe_allVariants.hg38.tsv',\n",
    "    description='Name of GWAS reference summary file:',\n",
    "    style={'description_width': 'initial'}\n",
    ")\n",
    "\n",
    "bottom_highlight = widgets.Text(\n",
    "    value='highlighted_european_cohort_nallsEtAl2019_excluding23andMe_allVariants.hg38.csv',\n",
    "    description='Name of file with SNPs to highlight (bottom):',\n",
    "    style={'description_width': 'initial'}\n",
    ")\n",
    "\n",
    "bottom_annotate = widgets.Text(\n",
    "    value='',\n",
    "    description='Name of file with SNPs to annotate (bottom):',\n",
    "    style={'description_width': 'initial'}\n",
    ")\n",
    "\n",
    "# Display the widgets\n",
    "display(input_path, top_name, top_highlight, top_annotate, bottom_name, bottom_highlight, bottom_annotate)\n",
    "\n",
    "# Function to get the text parameter values\n",
    "def get_params():\n",
    "    return input_path.value, top_name.value, top_highlight.value, top_annotate.value, bottom_name.value, bottom_highlight.value, bottom_annotate.value"
   ]
  },
  {
   "cell_type": "code",
   "execution_count": 3,
   "metadata": {},
   "outputs": [
    {
     "name": "stdout",
     "output_type": "stream",
     "text": [
      "Parameter 1: /home/luis/data/gwasResult/\n",
      "Parameter 2: annotated_normalized_combined_R2_0.3.dose_step2_sex_pheno-glm.PHENO1.glm.logistic.hybrid\n",
      "Parameter 3: table_lead_SNPS_GWAS_glm_logistic_final_paper\n",
      "Parameter 4: \n",
      "Parameter 5: european_cohort_nallsEtAl2019_excluding23andMe_allVariants.hg38.tsv\n",
      "Parameter 6: highlighted_european_cohort_nallsEtAl2019_excluding23andMe_allVariants.hg38.csv\n",
      "Parameter 7: \n"
     ]
    }
   ],
   "source": [
    "# Use the parameter values\n",
    "path_params = get_params()\n",
    "print(f\"Parameter 1: {path_params[0]}\")\n",
    "print(f\"Parameter 2: {path_params[1]}\")\n",
    "print(f\"Parameter 3: {path_params[2]}\")\n",
    "print(f\"Parameter 4: {path_params[3]}\")\n",
    "print(f\"Parameter 5: {path_params[4]}\")\n",
    "print(f\"Parameter 6: {path_params[5]}\")\n",
    "print(f\"Parameter 7: {path_params[6]}\")"
   ]
  },
  {
   "cell_type": "code",
   "execution_count": 4,
   "metadata": {},
   "outputs": [
    {
     "data": {
      "text/html": [
       "<div>\n",
       "<style scoped>\n",
       "    .dataframe tbody tr th:only-of-type {\n",
       "        vertical-align: middle;\n",
       "    }\n",
       "\n",
       "    .dataframe tbody tr th {\n",
       "        vertical-align: top;\n",
       "    }\n",
       "\n",
       "    .dataframe thead th {\n",
       "        text-align: right;\n",
       "    }\n",
       "</style>\n",
       "<table border=\"1\" class=\"dataframe\">\n",
       "  <thead>\n",
       "    <tr style=\"text-align: right;\">\n",
       "      <th></th>\n",
       "      <th>#CHROM</th>\n",
       "      <th>POS</th>\n",
       "      <th>ID</th>\n",
       "      <th>P</th>\n",
       "    </tr>\n",
       "  </thead>\n",
       "  <tbody>\n",
       "    <tr>\n",
       "      <th>0</th>\n",
       "      <td>1</td>\n",
       "      <td>727242</td>\n",
       "      <td>rs61769339</td>\n",
       "      <td>0.355696</td>\n",
       "    </tr>\n",
       "    <tr>\n",
       "      <th>1</th>\n",
       "      <td>1</td>\n",
       "      <td>727717</td>\n",
       "      <td>rs61769340</td>\n",
       "      <td>0.517232</td>\n",
       "    </tr>\n",
       "    <tr>\n",
       "      <th>2</th>\n",
       "      <td>1</td>\n",
       "      <td>730869</td>\n",
       "      <td>rs200188737</td>\n",
       "      <td>0.510707</td>\n",
       "    </tr>\n",
       "    <tr>\n",
       "      <th>3</th>\n",
       "      <td>1</td>\n",
       "      <td>732369</td>\n",
       "      <td>rs1315713498</td>\n",
       "      <td>0.741994</td>\n",
       "    </tr>\n",
       "    <tr>\n",
       "      <th>4</th>\n",
       "      <td>1</td>\n",
       "      <td>740738</td>\n",
       "      <td>rs146067153</td>\n",
       "      <td>0.816063</td>\n",
       "    </tr>\n",
       "  </tbody>\n",
       "</table>\n",
       "</div>"
      ],
      "text/plain": [
       "   #CHROM     POS            ID         P\n",
       "0       1  727242    rs61769339  0.355696\n",
       "1       1  727717    rs61769340  0.517232\n",
       "2       1  730869   rs200188737  0.510707\n",
       "3       1  732369  rs1315713498  0.741994\n",
       "4       1  740738   rs146067153  0.816063"
      ]
     },
     "execution_count": 4,
     "metadata": {},
     "output_type": "execute_result"
    }
   ],
   "source": [
    "import pandas as pd\n",
    "\n",
    "df_top = pd.read_csv(\n",
    "    os.path.join(path_params[0], path_params[1]), sep='\\t', usecols=['#CHROM', 'POS', 'ID', 'P']\n",
    ")\n",
    "df_top.head(5)"
   ]
  },
  {
   "cell_type": "code",
   "execution_count": 5,
   "metadata": {},
   "outputs": [
    {
     "data": {
      "text/html": [
       "<div>\n",
       "<style scoped>\n",
       "    .dataframe tbody tr th:only-of-type {\n",
       "        vertical-align: middle;\n",
       "    }\n",
       "\n",
       "    .dataframe tbody tr th {\n",
       "        vertical-align: top;\n",
       "    }\n",
       "\n",
       "    .dataframe thead th {\n",
       "        text-align: right;\n",
       "    }\n",
       "</style>\n",
       "<table border=\"1\" class=\"dataframe\">\n",
       "  <thead>\n",
       "    <tr style=\"text-align: right;\">\n",
       "      <th></th>\n",
       "      <th>SNP</th>\n",
       "      <th>CHR</th>\n",
       "      <th>POS</th>\n",
       "      <th>p</th>\n",
       "    </tr>\n",
       "  </thead>\n",
       "  <tbody>\n",
       "    <tr>\n",
       "      <th>0</th>\n",
       "      <td>rs561234294</td>\n",
       "      <td>1</td>\n",
       "      <td>54591</td>\n",
       "      <td>0.44350</td>\n",
       "    </tr>\n",
       "    <tr>\n",
       "      <th>1</th>\n",
       "      <td>rs2462492</td>\n",
       "      <td>1</td>\n",
       "      <td>54676</td>\n",
       "      <td>0.12870</td>\n",
       "    </tr>\n",
       "    <tr>\n",
       "      <th>2</th>\n",
       "      <td>rs534350410</td>\n",
       "      <td>1</td>\n",
       "      <td>79188</td>\n",
       "      <td>0.44590</td>\n",
       "    </tr>\n",
       "    <tr>\n",
       "      <th>3</th>\n",
       "      <td>rs574556077</td>\n",
       "      <td>1</td>\n",
       "      <td>82994</td>\n",
       "      <td>0.49540</td>\n",
       "    </tr>\n",
       "    <tr>\n",
       "      <th>4</th>\n",
       "      <td>rs114608975</td>\n",
       "      <td>1</td>\n",
       "      <td>86028</td>\n",
       "      <td>0.07745</td>\n",
       "    </tr>\n",
       "  </tbody>\n",
       "</table>\n",
       "</div>"
      ],
      "text/plain": [
       "           SNP  CHR    POS        p\n",
       "0  rs561234294    1  54591  0.44350\n",
       "1    rs2462492    1  54676  0.12870\n",
       "2  rs534350410    1  79188  0.44590\n",
       "3  rs574556077    1  82994  0.49540\n",
       "4  rs114608975    1  86028  0.07745"
      ]
     },
     "execution_count": 5,
     "metadata": {},
     "output_type": "execute_result"
    }
   ],
   "source": [
    "df_bottom = pd.read_csv(\n",
    "    os.path.join(path_params[0], path_params[4]), sep='\\t', usecols=['CHR', 'POS', 'SNP', 'p']\n",
    ")\n",
    "df_bottom.head(5)"
   ]
  },
  {
   "cell_type": "code",
   "execution_count": 6,
   "metadata": {},
   "outputs": [],
   "source": [
    "df_bottom.columns = ['ID', '#CHROM', 'POS', 'P']"
   ]
  },
  {
   "cell_type": "code",
   "execution_count": 7,
   "metadata": {},
   "outputs": [
    {
     "name": "stdout",
     "output_type": "stream",
     "text": [
      "['rs3747973', 'rs74990530', 'rs34311866', 'rs356182', 'rs7681440', 'rs1846190', 'rs2517680', 'rs4909940', 'rs528813377', 'rs56328224']\n"
     ]
    }
   ],
   "source": [
    "if path_params[2] is not None or path_params[2] != '':\n",
    "    top_highlit_path = os.path.join(path_params[0], path_params[2])\n",
    "    if os.path.exists(top_highlit_path):\n",
    "        df_high_top = pd.read_csv(\n",
    "            top_highlit_path, sep='\\t'\n",
    "        )\n",
    "        top_to_highlight = df_high_top['SNP'].to_list()\n",
    "        print(top_to_highlight[:10])\n",
    "        del df_high_top\n",
    "    else:\n",
    "        print('Path to file with SNPs to highlight does not exist (top)')\n",
    "else:\n",
    "    print('No file with SNPs to highlight (top)')"
   ]
  },
  {
   "cell_type": "code",
   "execution_count": 8,
   "metadata": {},
   "outputs": [
    {
     "name": "stdout",
     "output_type": "stream",
     "text": [
      "No file with SNPs to annotate (top)\n"
     ]
    }
   ],
   "source": [
    "if path_params[3] is not None and path_params[3] != '':\n",
    "    top_anno_path = os.path.join(path_params[0], path_params[3])\n",
    "    if os.path.exists(top_anno_path):\n",
    "        df_anno_top = pd.read_csv(\n",
    "            top_anno_path, sep='\\t'\n",
    "        )\n",
    "        top_to_annotate = df_anno_top['SNP'].to_list()\n",
    "        print(top_to_annotate[:10])\n",
    "        del df_anno_top\n",
    "    else:\n",
    "        print('Path to file with SNPs to annotate does not exist (top)')\n",
    "else:\n",
    "    print('No file with SNPs to annotate (top)')"
   ]
  },
  {
   "cell_type": "code",
   "execution_count": 9,
   "metadata": {},
   "outputs": [
    {
     "name": "stdout",
     "output_type": "stream",
     "text": [
      "['rs114138760', 'rs35749011', 'rs76763715', 'rs6658353', 'rs11578699', 'rs823118', 'rs11557080', 'rs4653767', 'rs10797576', 'rs76116224']\n"
     ]
    }
   ],
   "source": [
    "if path_params[5] is not None and path_params[5] != '':\n",
    "    bottom_highlit_path = os.path.join(path_params[0], path_params[5])\n",
    "    if os.path.exists(bottom_highlit_path):\n",
    "        df_high_bottom = pd.read_csv(\n",
    "            bottom_highlit_path, sep='\\t'\n",
    "        )\n",
    "        bottom_to_highlight = df_high_bottom['SNP'].to_list()\n",
    "        print(bottom_to_highlight[:10])\n",
    "        del df_high_bottom\n",
    "    else:\n",
    "        print('Path to file with SNPs to highlight does not exist (bottom)')\n",
    "else:\n",
    "    print('No file with SNPs to highlight (bottom)')"
   ]
  },
  {
   "cell_type": "code",
   "execution_count": 10,
   "metadata": {},
   "outputs": [
    {
     "name": "stdout",
     "output_type": "stream",
     "text": [
      "No file with SNPs to annotate (bottom)\n"
     ]
    }
   ],
   "source": [
    "if path_params[6] is not None and path_params[6] != '':\n",
    "    bottom_anno_path = os.path.join(path_params[0], path_params[6])\n",
    "    if os.path.exists(bottom_anno_path):\n",
    "        df_anno_bottom = pd.read_csv(\n",
    "            bottom_anno_path, sep='\\t'\n",
    "        )\n",
    "        bottom_to_annotate = df_anno_bottom['SNP'].to_list()\n",
    "        print(bottom_to_annotate[:10])\n",
    "        del df_anno_bottom\n",
    "    else:\n",
    "        print('Path to file with SNPs to annotate does not exist (bottom)')\n",
    "else:\n",
    "    print('No file with SNPs to annotate (bottom)')"
   ]
  },
  {
   "cell_type": "code",
   "execution_count": 11,
   "metadata": {},
   "outputs": [
    {
     "ename": "KeyError",
     "evalue": "'CHR'",
     "output_type": "error",
     "traceback": [
      "\u001b[0;31m---------------------------------------------------------------------------\u001b[0m",
      "\u001b[0;31mKeyError\u001b[0m                                  Traceback (most recent call last)",
      "File \u001b[0;32m~/.cache/pypoetry/virtualenvs/luxgiant-dstream-dWyB7QIT-py3.10/lib/python3.10/site-packages/pandas/core/indexes/base.py:3805\u001b[0m, in \u001b[0;36mIndex.get_loc\u001b[0;34m(self, key)\u001b[0m\n\u001b[1;32m   3804\u001b[0m \u001b[38;5;28;01mtry\u001b[39;00m:\n\u001b[0;32m-> 3805\u001b[0m     \u001b[38;5;28;01mreturn\u001b[39;00m \u001b[38;5;28;43mself\u001b[39;49m\u001b[38;5;241;43m.\u001b[39;49m\u001b[43m_engine\u001b[49m\u001b[38;5;241;43m.\u001b[39;49m\u001b[43mget_loc\u001b[49m\u001b[43m(\u001b[49m\u001b[43mcasted_key\u001b[49m\u001b[43m)\u001b[49m\n\u001b[1;32m   3806\u001b[0m \u001b[38;5;28;01mexcept\u001b[39;00m \u001b[38;5;167;01mKeyError\u001b[39;00m \u001b[38;5;28;01mas\u001b[39;00m err:\n",
      "File \u001b[0;32mindex.pyx:167\u001b[0m, in \u001b[0;36mpandas._libs.index.IndexEngine.get_loc\u001b[0;34m()\u001b[0m\n",
      "File \u001b[0;32mindex.pyx:196\u001b[0m, in \u001b[0;36mpandas._libs.index.IndexEngine.get_loc\u001b[0;34m()\u001b[0m\n",
      "File \u001b[0;32mpandas/_libs/hashtable_class_helper.pxi:7081\u001b[0m, in \u001b[0;36mpandas._libs.hashtable.PyObjectHashTable.get_item\u001b[0;34m()\u001b[0m\n",
      "File \u001b[0;32mpandas/_libs/hashtable_class_helper.pxi:7089\u001b[0m, in \u001b[0;36mpandas._libs.hashtable.PyObjectHashTable.get_item\u001b[0;34m()\u001b[0m\n",
      "\u001b[0;31mKeyError\u001b[0m: 'CHR'",
      "\nThe above exception was the direct cause of the following exception:\n",
      "\u001b[0;31mKeyError\u001b[0m                                  Traceback (most recent call last)",
      "Cell \u001b[0;32mIn[11], line 1\u001b[0m\n\u001b[0;32m----> 1\u001b[0m \u001b[43mmiami_draw\u001b[49m\u001b[43m(\u001b[49m\n\u001b[1;32m      2\u001b[0m \u001b[43m    \u001b[49m\u001b[43mdf_top\u001b[49m\u001b[38;5;241;43m=\u001b[39;49m\u001b[43mdf_top\u001b[49m\u001b[43m,\u001b[49m\u001b[43m \u001b[49m\n\u001b[1;32m      3\u001b[0m \u001b[43m    \u001b[49m\u001b[43mdf_bottom\u001b[49m\u001b[38;5;241;43m=\u001b[39;49m\u001b[43mdf_bottom\u001b[49m\u001b[43m,\u001b[49m\n\u001b[1;32m      4\u001b[0m \u001b[43m    \u001b[49m\u001b[43msnp_col\u001b[49m\u001b[38;5;241;43m=\u001b[39;49m\u001b[38;5;124;43m'\u001b[39;49m\u001b[38;5;124;43mID\u001b[39;49m\u001b[38;5;124;43m'\u001b[39;49m\u001b[43m,\u001b[49m\n\u001b[1;32m      5\u001b[0m \u001b[43m    \u001b[49m\u001b[43mchr_col\u001b[49m\u001b[38;5;241;43m=\u001b[39;49m\u001b[38;5;124;43m'\u001b[39;49m\u001b[38;5;124;43m#CHROM\u001b[39;49m\u001b[38;5;124;43m'\u001b[39;49m\u001b[43m,\u001b[49m\n\u001b[1;32m      6\u001b[0m \u001b[43m    \u001b[49m\u001b[43mpos_col\u001b[49m\u001b[38;5;241;43m=\u001b[39;49m\u001b[38;5;124;43m'\u001b[39;49m\u001b[38;5;124;43mPOS\u001b[39;49m\u001b[38;5;124;43m'\u001b[39;49m\u001b[43m,\u001b[49m\n\u001b[1;32m      7\u001b[0m \u001b[43m    \u001b[49m\u001b[43mp_col\u001b[49m\u001b[38;5;241;43m=\u001b[39;49m\u001b[38;5;124;43m'\u001b[39;49m\u001b[38;5;124;43mP\u001b[39;49m\u001b[38;5;124;43m'\u001b[39;49m\u001b[43m,\u001b[49m\n\u001b[1;32m      8\u001b[0m \u001b[43m    \u001b[49m\u001b[43mplots_dir\u001b[49m\u001b[38;5;241;43m=\u001b[39;49m\u001b[43mpath_params\u001b[49m\u001b[43m[\u001b[49m\u001b[38;5;241;43m0\u001b[39;49m\u001b[43m]\u001b[49m\u001b[43m,\u001b[49m\u001b[43m \u001b[49m\n\u001b[1;32m      9\u001b[0m \u001b[43m    \u001b[49m\u001b[43mtop_highlights\u001b[49m\u001b[38;5;241;43m=\u001b[39;49m\u001b[43mtop_to_highlight\u001b[49m\u001b[43m,\u001b[49m\u001b[43m \u001b[49m\n\u001b[1;32m     10\u001b[0m \u001b[43m    \u001b[49m\u001b[43mtop_annotations\u001b[49m\u001b[38;5;241;43m=\u001b[39;49m\u001b[43m[\u001b[49m\u001b[43m]\u001b[49m\u001b[43m,\u001b[49m\n\u001b[1;32m     11\u001b[0m \u001b[43m    \u001b[49m\u001b[43mbottom_highlights\u001b[49m\u001b[38;5;241;43m=\u001b[39;49m\u001b[43mbottom_to_highlight\u001b[49m\u001b[43m,\u001b[49m\u001b[43m \u001b[49m\n\u001b[1;32m     12\u001b[0m \u001b[43m    \u001b[49m\u001b[43mbottom_annotations\u001b[49m\u001b[38;5;241;43m=\u001b[39;49m\u001b[43m[\u001b[49m\u001b[43m]\u001b[49m\n\u001b[1;32m     13\u001b[0m \u001b[43m)\u001b[49m\n",
      "File \u001b[0;32m~/CGE/luxgiant-dstream/luxgiant_dstream/manhattan_type.py:442\u001b[0m, in \u001b[0;36mmiami_draw\u001b[0;34m(df_top, df_bottom, snp_col, chr_col, pos_col, p_col, plots_dir, top_highlights, top_annotations, bottom_highlights, bottom_annotations)\u001b[0m\n\u001b[1;32m    439\u001b[0m suggestive_line_color\u001b[38;5;241m=\u001b[39m \u001b[38;5;124m\"\u001b[39m\u001b[38;5;124mblue\u001b[39m\u001b[38;5;124m\"\u001b[39m\n\u001b[1;32m    441\u001b[0m \u001b[38;5;66;03m# format data to draw miami plot\u001b[39;00m\n\u001b[0;32m--> 442\u001b[0m plot_data \u001b[38;5;241m=\u001b[39m \u001b[43mmiami_process_data\u001b[49m\u001b[43m(\u001b[49m\u001b[43mdf_top\u001b[49m\u001b[43m,\u001b[49m\u001b[43m \u001b[49m\u001b[43mdf_bottom\u001b[49m\u001b[43m,\u001b[49m\u001b[43m \u001b[49m\u001b[43mchr_col\u001b[49m\u001b[38;5;241;43m=\u001b[39;49m\u001b[43mchr_col\u001b[49m\u001b[43m,\u001b[49m\u001b[43m \u001b[49m\u001b[43mpos_col\u001b[49m\u001b[38;5;241;43m=\u001b[39;49m\u001b[43mpos_col\u001b[49m\u001b[43m,\u001b[49m\u001b[43m \u001b[49m\u001b[43mp_col\u001b[49m\u001b[38;5;241;43m=\u001b[39;49m\u001b[43mp_col\u001b[49m\u001b[43m)\u001b[49m\n\u001b[1;32m    444\u001b[0m \u001b[38;5;66;03m# Set axis labels for upper and lower plot\u001b[39;00m\n\u001b[1;32m    445\u001b[0m \u001b[38;5;28;01mdef\u001b[39;00m \u001b[38;5;21mformat_ylabel\u001b[39m(label):\n",
      "File \u001b[0;32m~/CGE/luxgiant-dstream/luxgiant_dstream/manhattan_type.py:317\u001b[0m, in \u001b[0;36mmiami_process_data\u001b[0;34m(data_top, data_bottom, chr_col, pos_col, p_col)\u001b[0m\n\u001b[1;32m    313\u001b[0m data \u001b[38;5;241m=\u001b[39m pd\u001b[38;5;241m.\u001b[39mconcat([data_top, data_bottom], axis\u001b[38;5;241m=\u001b[39m\u001b[38;5;241m0\u001b[39m, ignore_index\u001b[38;5;241m=\u001b[39m\u001b[38;5;28;01mTrue\u001b[39;00m)\n\u001b[1;32m    315\u001b[0m data \u001b[38;5;241m=\u001b[39m compute_relative_pos(data, chr_col\u001b[38;5;241m=\u001b[39mchr_col, pos_col\u001b[38;5;241m=\u001b[39mpos_col, p_col\u001b[38;5;241m=\u001b[39mp_col)\n\u001b[0;32m--> 317\u001b[0m axis_center \u001b[38;5;241m=\u001b[39m \u001b[43mfind_chromosomes_center\u001b[49m\u001b[43m(\u001b[49m\u001b[43mdata\u001b[49m\u001b[43m)\u001b[49m\n\u001b[1;32m    319\u001b[0m maxp \u001b[38;5;241m=\u001b[39m np\u001b[38;5;241m.\u001b[39mceil(data[\u001b[38;5;124m'\u001b[39m\u001b[38;5;124mlog10p\u001b[39m\u001b[38;5;124m'\u001b[39m]\u001b[38;5;241m.\u001b[39mmax(skipna\u001b[38;5;241m=\u001b[39m\u001b[38;5;28;01mTrue\u001b[39;00m))\n\u001b[1;32m    321\u001b[0m miami_data \u001b[38;5;241m=\u001b[39m {\n\u001b[1;32m    322\u001b[0m     \u001b[38;5;124m'\u001b[39m\u001b[38;5;124mupper\u001b[39m\u001b[38;5;124m'\u001b[39m: data[data[\u001b[38;5;124m'\u001b[39m\u001b[38;5;124msplit_by\u001b[39m\u001b[38;5;124m'\u001b[39m] \u001b[38;5;241m==\u001b[39m \u001b[38;5;124m'\u001b[39m\u001b[38;5;124mtop\u001b[39m\u001b[38;5;124m'\u001b[39m]\u001b[38;5;241m.\u001b[39mreset_index(drop\u001b[38;5;241m=\u001b[39m\u001b[38;5;28;01mTrue\u001b[39;00m),\n\u001b[1;32m    323\u001b[0m     \u001b[38;5;124m'\u001b[39m\u001b[38;5;124mlower\u001b[39m\u001b[38;5;124m'\u001b[39m: data[data[\u001b[38;5;124m'\u001b[39m\u001b[38;5;124msplit_by\u001b[39m\u001b[38;5;124m'\u001b[39m] \u001b[38;5;241m==\u001b[39m \u001b[38;5;124m'\u001b[39m\u001b[38;5;124mbottom\u001b[39m\u001b[38;5;124m'\u001b[39m]\u001b[38;5;241m.\u001b[39mreset_index(drop\u001b[38;5;241m=\u001b[39m\u001b[38;5;28;01mTrue\u001b[39;00m),\n\u001b[1;32m    324\u001b[0m     \u001b[38;5;124m'\u001b[39m\u001b[38;5;124maxis\u001b[39m\u001b[38;5;124m'\u001b[39m: axis_center,\n\u001b[1;32m    325\u001b[0m     \u001b[38;5;124m'\u001b[39m\u001b[38;5;124mmaxp\u001b[39m\u001b[38;5;124m'\u001b[39m: maxp\n\u001b[1;32m    326\u001b[0m }\n",
      "File \u001b[0;32m~/CGE/luxgiant-dstream/luxgiant_dstream/manhattan_type.py:90\u001b[0m, in \u001b[0;36mfind_chromosomes_center\u001b[0;34m(data, chr_col, chr_pos_col)\u001b[0m\n\u001b[1;32m     70\u001b[0m \u001b[38;5;28;01mdef\u001b[39;00m \u001b[38;5;21mfind_chromosomes_center\u001b[39m(data:pd\u001b[38;5;241m.\u001b[39mDataFrame, chr_col:\u001b[38;5;28mstr\u001b[39m\u001b[38;5;241m=\u001b[39m\u001b[38;5;124m'\u001b[39m\u001b[38;5;124mCHR\u001b[39m\u001b[38;5;124m'\u001b[39m, chr_pos_col:\u001b[38;5;28mstr\u001b[39m\u001b[38;5;241m=\u001b[39m\u001b[38;5;124m'\u001b[39m\u001b[38;5;124mrel_pos\u001b[39m\u001b[38;5;124m'\u001b[39m)\u001b[38;5;241m-\u001b[39m\u001b[38;5;241m>\u001b[39mpd\u001b[38;5;241m.\u001b[39mDataFrame:\n\u001b[1;32m     72\u001b[0m \u001b[38;5;250m    \u001b[39m\u001b[38;5;124;03m\"\"\"\u001b[39;00m\n\u001b[1;32m     73\u001b[0m \u001b[38;5;124;03m    Calculate the center positions of chromosomes in a given DataFrame. This function takes a DataFrame containing chromosome data and calculates the center position for each chromosome based on the specified chromosome column and chromosome position column.\u001b[39;00m\n\u001b[1;32m     74\u001b[0m \u001b[38;5;124;03m    \u001b[39;00m\n\u001b[0;32m   (...)\u001b[0m\n\u001b[1;32m     87\u001b[0m \u001b[38;5;124;03m        A DataFrame with columns 'CHR' and 'center', where 'CHR' contains chromosome identifiers and 'center' contains the calculated center positions for each chromosome.\u001b[39;00m\n\u001b[1;32m     88\u001b[0m \u001b[38;5;124;03m    \"\"\"\u001b[39;00m\n\u001b[0;32m---> 90\u001b[0m     chromosomes \u001b[38;5;241m=\u001b[39m \u001b[43mdata\u001b[49m\u001b[43m[\u001b[49m\u001b[43mchr_col\u001b[49m\u001b[43m]\u001b[49m\u001b[38;5;241m.\u001b[39munique()\n\u001b[1;32m     92\u001b[0m     axis_center \u001b[38;5;241m=\u001b[39m pd\u001b[38;5;241m.\u001b[39mDataFrame(columns\u001b[38;5;241m=\u001b[39m[\u001b[38;5;124m'\u001b[39m\u001b[38;5;124mCHR\u001b[39m\u001b[38;5;124m'\u001b[39m, \u001b[38;5;124m'\u001b[39m\u001b[38;5;124mcenter\u001b[39m\u001b[38;5;124m'\u001b[39m])\n\u001b[1;32m     94\u001b[0m     \u001b[38;5;28;01mfor\u001b[39;00m i, chrom \u001b[38;5;129;01min\u001b[39;00m \u001b[38;5;28menumerate\u001b[39m(chromosomes):\n",
      "File \u001b[0;32m~/.cache/pypoetry/virtualenvs/luxgiant-dstream-dWyB7QIT-py3.10/lib/python3.10/site-packages/pandas/core/frame.py:4102\u001b[0m, in \u001b[0;36mDataFrame.__getitem__\u001b[0;34m(self, key)\u001b[0m\n\u001b[1;32m   4100\u001b[0m \u001b[38;5;28;01mif\u001b[39;00m \u001b[38;5;28mself\u001b[39m\u001b[38;5;241m.\u001b[39mcolumns\u001b[38;5;241m.\u001b[39mnlevels \u001b[38;5;241m>\u001b[39m \u001b[38;5;241m1\u001b[39m:\n\u001b[1;32m   4101\u001b[0m     \u001b[38;5;28;01mreturn\u001b[39;00m \u001b[38;5;28mself\u001b[39m\u001b[38;5;241m.\u001b[39m_getitem_multilevel(key)\n\u001b[0;32m-> 4102\u001b[0m indexer \u001b[38;5;241m=\u001b[39m \u001b[38;5;28;43mself\u001b[39;49m\u001b[38;5;241;43m.\u001b[39;49m\u001b[43mcolumns\u001b[49m\u001b[38;5;241;43m.\u001b[39;49m\u001b[43mget_loc\u001b[49m\u001b[43m(\u001b[49m\u001b[43mkey\u001b[49m\u001b[43m)\u001b[49m\n\u001b[1;32m   4103\u001b[0m \u001b[38;5;28;01mif\u001b[39;00m is_integer(indexer):\n\u001b[1;32m   4104\u001b[0m     indexer \u001b[38;5;241m=\u001b[39m [indexer]\n",
      "File \u001b[0;32m~/.cache/pypoetry/virtualenvs/luxgiant-dstream-dWyB7QIT-py3.10/lib/python3.10/site-packages/pandas/core/indexes/base.py:3812\u001b[0m, in \u001b[0;36mIndex.get_loc\u001b[0;34m(self, key)\u001b[0m\n\u001b[1;32m   3807\u001b[0m     \u001b[38;5;28;01mif\u001b[39;00m \u001b[38;5;28misinstance\u001b[39m(casted_key, \u001b[38;5;28mslice\u001b[39m) \u001b[38;5;129;01mor\u001b[39;00m (\n\u001b[1;32m   3808\u001b[0m         \u001b[38;5;28misinstance\u001b[39m(casted_key, abc\u001b[38;5;241m.\u001b[39mIterable)\n\u001b[1;32m   3809\u001b[0m         \u001b[38;5;129;01mand\u001b[39;00m \u001b[38;5;28many\u001b[39m(\u001b[38;5;28misinstance\u001b[39m(x, \u001b[38;5;28mslice\u001b[39m) \u001b[38;5;28;01mfor\u001b[39;00m x \u001b[38;5;129;01min\u001b[39;00m casted_key)\n\u001b[1;32m   3810\u001b[0m     ):\n\u001b[1;32m   3811\u001b[0m         \u001b[38;5;28;01mraise\u001b[39;00m InvalidIndexError(key)\n\u001b[0;32m-> 3812\u001b[0m     \u001b[38;5;28;01mraise\u001b[39;00m \u001b[38;5;167;01mKeyError\u001b[39;00m(key) \u001b[38;5;28;01mfrom\u001b[39;00m \u001b[38;5;21;01merr\u001b[39;00m\n\u001b[1;32m   3813\u001b[0m \u001b[38;5;28;01mexcept\u001b[39;00m \u001b[38;5;167;01mTypeError\u001b[39;00m:\n\u001b[1;32m   3814\u001b[0m     \u001b[38;5;66;03m# If we have a listlike key, _check_indexing_error will raise\u001b[39;00m\n\u001b[1;32m   3815\u001b[0m     \u001b[38;5;66;03m#  InvalidIndexError. Otherwise we fall through and re-raise\u001b[39;00m\n\u001b[1;32m   3816\u001b[0m     \u001b[38;5;66;03m#  the TypeError.\u001b[39;00m\n\u001b[1;32m   3817\u001b[0m     \u001b[38;5;28mself\u001b[39m\u001b[38;5;241m.\u001b[39m_check_indexing_error(key)\n",
      "\u001b[0;31mKeyError\u001b[0m: 'CHR'"
     ]
    }
   ],
   "source": [
    "miami_draw(\n",
    "    df_top=df_top, \n",
    "    df_bottom=df_bottom,\n",
    "    snp_col='ID',\n",
    "    chr_col='#CHROM',\n",
    "    pos_col='POS',\n",
    "    p_col='P',\n",
    "    plots_dir=path_params[0], \n",
    "    top_highlights=top_to_highlight, \n",
    "    top_annotations=[],\n",
    "    bottom_highlights=bottom_to_highlight, \n",
    "    bottom_annotations=[]\n",
    ")"
   ]
  }
 ],
 "metadata": {
  "kernelspec": {
   "display_name": "luxgiant-dstream-dWyB7QIT-py3.10",
   "language": "python",
   "name": "python3"
  },
  "language_info": {
   "codemirror_mode": {
    "name": "ipython",
    "version": 3
   },
   "file_extension": ".py",
   "mimetype": "text/x-python",
   "name": "python",
   "nbconvert_exporter": "python",
   "pygments_lexer": "ipython3",
   "version": "3.10.15"
  }
 },
 "nbformat": 4,
 "nbformat_minor": 2
}
