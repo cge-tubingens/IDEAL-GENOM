{
 "cells": [
  {
   "cell_type": "markdown",
   "metadata": {},
   "source": [
    "# Miami Plot\n",
    "\n",
    "In this notebook we intend to show how can be used the library `IDEAL-GENOM` to generate a Miami Plot. "
   ]
  },
  {
   "cell_type": "code",
   "execution_count": null,
   "metadata": {},
   "outputs": [],
   "source": [
    "import sys\n",
    "import os\n",
    "\n",
    "import pandas as pd\n",
    "\n",
    "# add parent directory to path\n",
    "library_path = os.path.abspath('..')\n",
    "if library_path not in sys.path:\n",
    "    sys.path.append(library_path)\n",
    "\n",
    "from ideal_genom.visualization.manhattan_type import miami_draw\n",
    "from ideal_genom.get_examples import get_bmi_japanese_gwas, get_bmi_japanese_gwas_sex_dependent"
   ]
  },
  {
   "cell_type": "markdown",
   "metadata": {},
   "source": [
    "The data is taken from the article\n",
    "\n",
    "Akiyama, M., Okada, Y., Kanai, M. et al. Genome-wide association study identifies 112 new loci for body mass index in the Japanese population. *Nat Genet* **49**, 1458–1467 (2017). https://doi.org/10.1038/ng.3951\n",
    "\n",
    "To draw this plot, we use summary statistics generated for males and females. "
   ]
  },
  {
   "cell_type": "code",
   "execution_count": null,
   "metadata": {},
   "outputs": [],
   "source": [
    "gwas_f, gwas_m = get_bmi_japanese_gwas()"
   ]
  },
  {
   "cell_type": "code",
   "execution_count": null,
   "metadata": {},
   "outputs": [],
   "source": [
    "df_F = pd.read_csv(gwas_f, sep='\\t')\n",
    "df_M = pd.read_csv(gwas_m, sep='\\t')"
   ]
  },
  {
   "cell_type": "markdown",
   "metadata": {},
   "source": [
    "Please, provide the columns to load from the **GWAS** summary statistics. The essential columns are those that contains chromosome, base-pair position, rsID and p-value. It is important to remark that columns names most coincide in both files, at least for the four columns that will be used to generate the Miami plot."
   ]
  },
  {
   "cell_type": "code",
   "execution_count": null,
   "metadata": {},
   "outputs": [],
   "source": [
    "miami_draw(\n",
    "    df_top            =df_F,\n",
    "    df_bottom         =df_M,\n",
    "    snp_col           ='SNP',\n",
    "    chr_col           ='CHR',\n",
    "    pos_col           ='POS',\n",
    "    p_col             ='P',\n",
    "    plots_dir         =gwas_f.parent.as_posix(), \n",
    "    save_name         ='miami_plot_female_vs_male.pdf',\n",
    ")"
   ]
  },
  {
   "cell_type": "markdown",
   "metadata": {},
   "source": [
    "In the reference study there is no a separated list of top hits for males and females, so let us make a fake list of the SNPs with lowest $p$-values."
   ]
  },
  {
   "cell_type": "code",
   "execution_count": null,
   "metadata": {},
   "outputs": [],
   "source": [
    "df_top_hlite = df_F[df_F['P'] < 5e-16]['SNP'].to_list()\n",
    "df_bottom_hlite = df_M[df_M['P'] < 5e-16]['SNP'].to_list()"
   ]
  },
  {
   "cell_type": "code",
   "execution_count": null,
   "metadata": {},
   "outputs": [],
   "source": [
    "miami_draw(\n",
    "    df_top            =df_F,\n",
    "    df_bottom         =df_M,\n",
    "    snp_col           ='SNP',\n",
    "    chr_col           ='CHR',\n",
    "    pos_col           ='POS',\n",
    "    p_col             ='P',\n",
    "    plots_dir         =gwas_f.parent.as_posix(),\n",
    "    top_highlights=df_top_hlite,\n",
    "    bottom_highlights=df_bottom_hlite,\n",
    "    legend_top        ='Female GWAS',\n",
    "    legend_bottom     ='Male GWAS',\n",
    "    save_name         ='miami_plot_female_vs_male_hlite.pdf',\n",
    ")"
   ]
  },
  {
   "cell_type": "code",
   "execution_count": null,
   "metadata": {},
   "outputs": [],
   "source": [
    "anno_path = get_bmi_japanese_gwas_sex_dependent()\n",
    "\n",
    "df_anno = pd.read_csv(anno_path, sep='\\t')"
   ]
  },
  {
   "cell_type": "code",
   "execution_count": null,
   "metadata": {},
   "outputs": [],
   "source": [
    "miami_draw(\n",
    "    df_top            =df_F,\n",
    "    df_bottom         =df_M,\n",
    "    snp_col           ='SNP',\n",
    "    chr_col           ='CHR',\n",
    "    pos_col           ='POS',\n",
    "    p_col             ='P',\n",
    "    plots_dir         =gwas_f.parent.as_posix(),\n",
    "    top_highlights    =df_top_hlite,\n",
    "    top_annotations   = df_anno[df_anno['Sex']=='Female'][['SNP']].reset_index(drop=True),\n",
    "    bottom_highlights =df_bottom_hlite,\n",
    "    bottom_annotations= df_anno[df_anno['Sex']=='Male'][['SNP']].reset_index(drop=True),\n",
    "    legend_top        ='Female GWAS',\n",
    "    legend_bottom     ='Male GWAS',\n",
    "    save_name         ='miami_plot_female_vs_male_anno.png',\n",
    "    source='ensembl',\n",
    "    build='37'\n",
    ")"
   ]
  }
 ],
 "metadata": {
  "kernelspec": {
   "display_name": "ideal-genom-NcAYBj8M-py3.10",
   "language": "python",
   "name": "python3"
  },
  "language_info": {
   "codemirror_mode": {
    "name": "ipython",
    "version": 3
   },
   "file_extension": ".py",
   "mimetype": "text/x-python",
   "name": "python",
   "nbconvert_exporter": "python",
   "pygments_lexer": "ipython3",
   "version": "3.10.15"
  }
 },
 "nbformat": 4,
 "nbformat_minor": 2
}
