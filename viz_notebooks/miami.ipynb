{
 "cells": [
  {
   "cell_type": "markdown",
   "metadata": {},
   "source": [
    "# Miami Plot\n",
    "\n",
    "In this notebook we intend to show how can be used the library `IDEAL-GENOM` to generate a Miami Plot. "
   ]
  },
  {
   "cell_type": "code",
   "execution_count": null,
   "metadata": {},
   "outputs": [],
   "source": [
    "import sys\n",
    "import os\n",
    "\n",
    "import pandas as pd\n",
    "\n",
    "import ipywidgets as widgets\n",
    "from IPython.display import display\n",
    "\n",
    "# add parent directory to path\n",
    "library_path = os.path.abspath('..')\n",
    "if library_path not in sys.path:\n",
    "    sys.path.append(library_path)\n",
    "\n",
    "from ideal_genome.manhattan_type import miami_draw"
   ]
  },
  {
   "cell_type": "markdown",
   "metadata": {},
   "source": [
    "At the end of the next cell, please fill the required values. The notebook could be modified according to the user interest and particular requirements, nevertheless in order to use as it is, the user should have the following specifications in mind. It is expected that all files are tab-separated-values, but the user can change this easily on the corresponding cell.\n",
    "\n",
    "1. `input_path` is the path to the folder where the necessary files to draw the plot are.\n",
    "2. `top_name`  and `bottom_name` are the names of the files containing the **GWAS** summary statistics of the upper and lower plots respectively.\n",
    "3. `top_highlights` and `bottom_highlights` are the names of the files containing the top hits to highlight on the upper and lower plots respectively.\n",
    "4. `top_annotate` and `bottom_annotate` are the names of the files containing the rsID of the SNPs to annotate on the upper and lower plots respectively.\n",
    "\n",
    "Usually one annotate a subset of the highlighted SNPs, but we give the freedom to annotate a different set of SNPs."
   ]
  },
  {
   "cell_type": "code",
   "execution_count": null,
   "metadata": {},
   "outputs": [],
   "source": [
    "# create interactive widgets for input\n",
    "input_path = widgets.Text(\n",
    "    value='/home/luis/data/gwasResult/',\n",
    "    description='Path to project folder:',\n",
    "    style={'description_width': 'initial'}\n",
    ")\n",
    "\n",
    "top_name = widgets.Text(\n",
    "    value='annotated_normalized_combined_R2_0.3.dose_step2_sex_pheno-glm.PHENO1.glm.logistic.hybrid',\n",
    "    description='Name of GWAS summary file (top):',\n",
    "    style={'description_width': 'initial'}\n",
    ")\n",
    "\n",
    "top_highlight = widgets.Text(\n",
    "    value='table_lead_SNPS_GWAS_glm_logistic_final_paper',\n",
    "    description='Name of file with SNPs to highlight (top):',\n",
    "    style={'description_width': 'initial'}\n",
    ")\n",
    "\n",
    "top_annotate = widgets.Text(\n",
    "    value='table_lead_SNPS_GWAS_glm_logistic_final_paper',\n",
    "    description='Name of file with SNPs to annotate (top):',\n",
    "    style={'description_width': 'initial'}\n",
    ")\n",
    "\n",
    "bottom_name = widgets.Text(\n",
    "    value='european_cohort_nallsEtAl2019_excluding23andMe_allVariants.hg38.tsv',\n",
    "    description='Name of GWAS reference summary file:',\n",
    "    style={'description_width': 'initial'}\n",
    ")\n",
    "\n",
    "bottom_highlight = widgets.Text(\n",
    "    value='highlighted_european_cohort_nallsEtAl2019_excluding23andMe_allVariants.hg38.csv',\n",
    "    description='Name of file with SNPs to highlight (bottom):',\n",
    "    style={'description_width': 'initial'}\n",
    ")\n",
    "\n",
    "bottom_annotate = widgets.Text(\n",
    "    value='highlighted_european_cohort_nallsEtAl2019_excluding23andMe_allVariants.hg38.csv',\n",
    "    description='Name of file with SNPs to annotate (bottom):',\n",
    "    style={'description_width': 'initial'}\n",
    ")\n",
    "\n",
    "# display the widgets\n",
    "display(input_path, top_name, top_highlight, top_annotate, bottom_name, bottom_highlight, bottom_annotate)\n",
    "\n",
    "# function to get the parameter values\n",
    "def get_params():\n",
    "    return input_path.value, top_name.value, top_highlight.value, top_annotate.value, bottom_name.value, bottom_highlight.value, bottom_annotate.value"
   ]
  },
  {
   "cell_type": "code",
   "execution_count": null,
   "metadata": {},
   "outputs": [],
   "source": [
    "# get and print the parameter values\n",
    "path_params = get_params()\n",
    "print(f\"Parameter 1: {path_params[0]}\")\n",
    "print(f\"Parameter 2: {path_params[1]}\")\n",
    "print(f\"Parameter 3: {path_params[2]}\")\n",
    "print(f\"Parameter 4: {path_params[3]}\")\n",
    "print(f\"Parameter 5: {path_params[4]}\")\n",
    "print(f\"Parameter 6: {path_params[5]}\")\n",
    "print(f\"Parameter 7: {path_params[6]}\")"
   ]
  },
  {
   "cell_type": "markdown",
   "metadata": {},
   "source": [
    "Please, provide the columns to load from the **GWAS** summary statistics. The essential columns are those that contains chromosome, base-pair position, rsID and p-value. It is important to remark that columns names most coincide in both files, at least for the four columns that will be used to generate the Miami plot."
   ]
  },
  {
   "cell_type": "code",
   "execution_count": null,
   "metadata": {},
   "outputs": [],
   "source": [
    "upper_cols_touse = widgets.Textarea(\n",
    "    value=\"#CHROM, POS, ID, P\",\n",
    "    description='Columns to use on the upper plot (comma-separated):',\n",
    "    style={'description_width': 'initial'},\n",
    "    layout=widgets.Layout(width='50%')\n",
    ")\n",
    "display(upper_cols_touse)\n",
    "\n",
    "def get_upper_cols():\n",
    "    return upper_cols_touse.value"
   ]
  },
  {
   "cell_type": "code",
   "execution_count": null,
   "metadata": {},
   "outputs": [],
   "source": [
    "upper_cols = get_upper_cols()\n",
    "\n",
    "df_top = pd.read_csv(\n",
    "    os.path.join(path_params[0], path_params[1]), sep='\\t', usecols=[col.strip() for col in upper_cols.split(',')]\n",
    ")\n",
    "df_top.head(5)"
   ]
  },
  {
   "cell_type": "code",
   "execution_count": null,
   "metadata": {},
   "outputs": [],
   "source": [
    "lower_cols_touse = widgets.Textarea(\n",
    "    value=\"CHR, POS, SNP, p\",\n",
    "    description='Columns to use on the lower plot (comma-separated):',\n",
    "    style={'description_width': 'initial'},\n",
    "    layout=widgets.Layout(width='50%')\n",
    ")\n",
    "display(lower_cols_touse)\n",
    "\n",
    "def get_lower_cols():\n",
    "    return lower_cols_touse.value"
   ]
  },
  {
   "cell_type": "code",
   "execution_count": null,
   "metadata": {},
   "outputs": [],
   "source": [
    "lower_cols = get_lower_cols()\n",
    "\n",
    "df_bottom = pd.read_csv(\n",
    "    os.path.join(path_params[0], path_params[4]), sep='\\t', usecols=[col.strip() for col in lower_cols.split(',')]\n",
    ")\n",
    "df_bottom.head(5)"
   ]
  },
  {
   "cell_type": "code",
   "execution_count": 8,
   "metadata": {},
   "outputs": [],
   "source": [
    "# use this cell to uniformize column names\n",
    "df_bottom.columns = ['ID', '#CHROM', 'POS', 'P']"
   ]
  },
  {
   "cell_type": "code",
   "execution_count": null,
   "metadata": {},
   "outputs": [],
   "source": [
    "top_rsID = widgets.Text(\n",
    "    value='SNP',\n",
    "    description='Column name with the rsID (top):',\n",
    "    style={'description_width': 'initial'}\n",
    ")\n",
    "\n",
    "display(top_rsID)\n",
    "\n",
    "def get_top_rsID():\n",
    "    return top_rsID.value"
   ]
  },
  {
   "cell_type": "code",
   "execution_count": null,
   "metadata": {},
   "outputs": [],
   "source": [
    "upper_rsID = get_top_rsID()\n",
    "\n",
    "if path_params[2] is not None or path_params[2] != '':\n",
    "    top_highlit_path = os.path.join(path_params[0], path_params[2])\n",
    "    if os.path.exists(top_highlit_path):\n",
    "        df_high_top = pd.read_csv(\n",
    "            top_highlit_path, sep='\\t'\n",
    "        )\n",
    "        top_to_highlight = df_high_top[upper_rsID].to_list()\n",
    "        print(top_to_highlight[:10])\n",
    "        del df_high_top\n",
    "    else:\n",
    "        print('Path to file with SNPs to highlight does not exist (top)')\n",
    "        top_to_highlight = []\n",
    "else:\n",
    "    print('No file with SNPs to highlight (top)')\n",
    "    top_to_highlight = []"
   ]
  },
  {
   "cell_type": "code",
   "execution_count": null,
   "metadata": {},
   "outputs": [],
   "source": [
    "if path_params[3] is not None and path_params[3] != '':\n",
    "    top_anno_path = os.path.join(path_params[0], path_params[3])\n",
    "    if os.path.exists(top_anno_path):\n",
    "        df_anno_top = pd.read_csv(\n",
    "            top_anno_path, sep='\\t'\n",
    "        )\n",
    "        top_to_annotate = df_anno_top[upper_rsID].to_list()\n",
    "        print(top_to_annotate[:10])\n",
    "        del df_anno_top\n",
    "    else:\n",
    "        print('Path to file with SNPs to annotate does not exist (top)')\n",
    "        top_to_annotate = []\n",
    "else:\n",
    "    print('No file with SNPs to annotate (top)')\n",
    "    top_to_annotate = []"
   ]
  },
  {
   "cell_type": "code",
   "execution_count": null,
   "metadata": {},
   "outputs": [],
   "source": [
    "bottom_rsID = widgets.Text(\n",
    "    value='SNP',\n",
    "    description='Column name with the rsID (bottom):',\n",
    "    style={'description_width': 'initial'}\n",
    ")\n",
    "\n",
    "display(bottom_rsID)\n",
    "\n",
    "def get_bottom_rsID():\n",
    "    return bottom_rsID.value"
   ]
  },
  {
   "cell_type": "code",
   "execution_count": null,
   "metadata": {},
   "outputs": [],
   "source": [
    "lower_rsID = get_bottom_rsID()\n",
    "\n",
    "if path_params[5] is not None and path_params[5] != '':\n",
    "    bottom_highlit_path = os.path.join(path_params[0], path_params[5])\n",
    "    if os.path.exists(bottom_highlit_path):\n",
    "        df_high_bottom = pd.read_csv(\n",
    "            bottom_highlit_path, sep='\\t'\n",
    "        )\n",
    "        bottom_to_highlight = df_high_bottom[lower_rsID].to_list()\n",
    "        print(bottom_to_highlight[:10])\n",
    "        del df_high_bottom\n",
    "    else:\n",
    "        print('Path to file with SNPs to highlight does not exist (bottom)')\n",
    "        bottom_to_highlight = []\n",
    "else:\n",
    "    print('No file with SNPs to highlight (bottom)')\n",
    "    bottom_to_highlight = []"
   ]
  },
  {
   "cell_type": "code",
   "execution_count": null,
   "metadata": {},
   "outputs": [],
   "source": [
    "if path_params[6] is not None and path_params[6] != '':\n",
    "    bottom_anno_path = os.path.join(path_params[0], path_params[6])\n",
    "    if os.path.exists(bottom_anno_path):\n",
    "        df_anno_bottom = pd.read_csv(\n",
    "            bottom_anno_path, sep='\\t'\n",
    "        )\n",
    "        bottom_to_annotate = df_anno_bottom[lower_rsID].to_list()\n",
    "        print(bottom_to_annotate[:10])\n",
    "        del df_anno_bottom\n",
    "    else:\n",
    "        print('Path to file with SNPs to annotate does not exist (bottom)')\n",
    "        bottom_to_annotate = []\n",
    "else:\n",
    "    print('No file with SNPs to annotate (bottom)')\n",
    "    bottom_to_annotate = []"
   ]
  },
  {
   "cell_type": "code",
   "execution_count": null,
   "metadata": {},
   "outputs": [],
   "source": [
    "SNP_col = widgets.Text(\n",
    "    value='ID',\n",
    "    description='Column with rsID:',\n",
    "    style={'description_width': 'initial'}\n",
    ")\n",
    "\n",
    "CHR_col = widgets.Text(\n",
    "    value='#CHROM',\n",
    "    description='Column with chromosome:',\n",
    "    style={'description_width': 'initial'}\n",
    ")\n",
    "\n",
    "POS_col = widgets.Text(\n",
    "    value='POS',\n",
    "    description='Column with base-pair position:',\n",
    "    style={'description_width': 'initial'}\n",
    ")\n",
    "\n",
    "P_col = widgets.Text(\n",
    "    value='P',\n",
    "    description='Column with p-values:',\n",
    "    style={'description_width': 'initial'}\n",
    ")\n",
    "display(SNP_col, CHR_col, POS_col, P_col)\n",
    "\n",
    "def get_col_names():\n",
    "    return SNP_col.value, CHR_col.value, POS_col.value, P_col.value"
   ]
  },
  {
   "cell_type": "code",
   "execution_count": 16,
   "metadata": {},
   "outputs": [],
   "source": [
    "snp_col, chr_col, pos_col, p_col = get_col_names()"
   ]
  },
  {
   "cell_type": "code",
   "execution_count": null,
   "metadata": {},
   "outputs": [],
   "source": [
    "miami_draw(\n",
    "    df_top            =df_top, \n",
    "    df_bottom         =df_bottom,\n",
    "    snp_col           =snp_col,\n",
    "    chr_col           =chr_col,\n",
    "    pos_col           =pos_col,\n",
    "    p_col             =p_col,\n",
    "    plots_dir         =path_params[0], \n",
    "    top_highlights    =top_to_highlight, \n",
    "    top_annotations   =top_to_annotate,\n",
    "    bottom_highlights =bottom_to_highlight, \n",
    "    bottom_annotations=[snp for snp in bottom_to_annotate if snp in top_to_annotate],\n",
    "    save_name         = 'miami_plot_indian_vs_european.jpeg',\n",
    "    legend_top        ='Indian GWAS',\n",
    "    legend_bottom     ='European GWAS'\n",
    ")"
   ]
  }
 ],
 "metadata": {
  "kernelspec": {
   "display_name": "luxgiant-dstream-dWyB7QIT-py3.10",
   "language": "python",
   "name": "python3"
  },
  "language_info": {
   "codemirror_mode": {
    "name": "ipython",
    "version": 3
   },
   "file_extension": ".py",
   "mimetype": "text/x-python",
   "name": "python",
   "nbconvert_exporter": "python",
   "pygments_lexer": "ipython3",
   "version": "3.10.15"
  }
 },
 "nbformat": 4,
 "nbformat_minor": 2
}
