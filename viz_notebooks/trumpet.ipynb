{
 "cells": [
  {
   "cell_type": "code",
   "execution_count": null,
   "metadata": {},
   "outputs": [],
   "source": [
    "import sys\n",
    "import os\n",
    "\n",
    "import pandas as pd\n",
    "\n",
    "import ipywidgets as widgets\n",
    "from IPython.display import display\n",
    "\n",
    "# add parent directory to path\n",
    "library_path = os.path.abspath('..')\n",
    "if library_path not in sys.path:\n",
    "    sys.path.append(library_path)\n",
    "\n",
    "from ideal_genom.plots import trumpet_draw"
   ]
  },
  {
   "cell_type": "markdown",
   "metadata": {},
   "source": [
    "At the end of the next cell, please fill the required values. The notebook could be modified according to the user interest and particular requirements, nevertheless in order to use as it is, the user should have the following specifications in mind. It is expected that all files are tab-separated-values, but the user can change this easily on the corresponding cell.\n",
    "\n",
    "1. `input_path` is the path to the folder where the necessary files to draw the plot are.\n",
    "2. `gwas_name` is the name of the file containing the **GWAS** summary statistics.\n",
    "3. `freq_name` is the name of the file containing minor allele frequency for each SNP.\n",
    "   \n",
    "If the **GWAS** file already contains MAF the `freq_name` field can be left empty."
   ]
  },
  {
   "cell_type": "code",
   "execution_count": null,
   "metadata": {},
   "outputs": [],
   "source": [
    "# Create interactive widgets for input\n",
    "input_path = widgets.Text(\n",
    "    value='',\n",
    "    description='Path to project folder:',\n",
    "    style={'description_width': 'initial'}\n",
    ")\n",
    "\n",
    "gwas_name = widgets.Text(\n",
    "    value='',\n",
    "    description='Name GWAS summary file:',\n",
    "    style={'description_width': 'initial'}\n",
    ")\n",
    "\n",
    "freq_name = widgets.Text(\n",
    "    value='',\n",
    "    description='Name of file with MAF:',\n",
    "    style={'description_width': 'initial'}\n",
    ")\n",
    "\n",
    "highlight = widgets.Text(\n",
    "    value='',\n",
    "    description='Name of file with SNPs to highlight:',\n",
    "    style={'description_width': 'initial'}\n",
    ")\n",
    "\n",
    "annotate = widgets.Text(\n",
    "    value='',\n",
    "    description='Name of file with SNPs to annotate:',\n",
    "    style={'description_width': 'initial'}\n",
    ")\n",
    "\n",
    "# Display the widgets\n",
    "display(input_path, gwas_name, freq_name, highlight, annotate)\n",
    "\n",
    "# Function to get the text parameter values\n",
    "def get_params():\n",
    "    return input_path.value, gwas_name.value, freq_name.value, highlight.value, annotate.value"
   ]
  },
  {
   "cell_type": "code",
   "execution_count": null,
   "metadata": {},
   "outputs": [],
   "source": [
    "# Use the parameter values\n",
    "path_params = get_params()\n",
    "print(f\"Parameter 1: {path_params[0]}\")\n",
    "print(f\"Parameter 2: {path_params[1]}\")\n",
    "print(f\"Parameter 3: {path_params[2]}\")\n",
    "print(f\"Parameter 4: {path_params[3]}\")\n",
    "print(f\"Parameter 5: {path_params[4]}\")"
   ]
  },
  {
   "cell_type": "code",
   "execution_count": null,
   "metadata": {},
   "outputs": [],
   "source": [
    "gwas_cols_touse = widgets.Textarea(\n",
    "    value=\"ID, #CHROM, POS, P, BETA\",\n",
    "    description='Columns to use on the trumpet plot (comma-separated):',\n",
    "    style={'description_width': 'initial'},\n",
    "    layout=widgets.Layout(width='50%')\n",
    ")\n",
    "display(gwas_cols_touse)\n",
    "\n",
    "def get_gwas_cols():\n",
    "    return gwas_cols_touse.value"
   ]
  },
  {
   "cell_type": "code",
   "execution_count": null,
   "metadata": {},
   "outputs": [],
   "source": [
    "cols = get_gwas_cols()\n",
    "\n",
    "df_gwas = pd.read_csv(\n",
    "    os.path.join(path_params[0], path_params[1]), sep='\\t', usecols=[col.strip() for col in cols.split(',')]\n",
    ")\n",
    "df_gwas.head(5)"
   ]
  },
  {
   "cell_type": "code",
   "execution_count": null,
   "metadata": {},
   "outputs": [],
   "source": [
    "freq_cols_touse = widgets.Textarea(\n",
    "    value=\"SNP, MAF\",\n",
    "    description='Columns to use on the trumpet plot (comma-separated):',\n",
    "    style={'description_width': 'initial'},\n",
    "    layout=widgets.Layout(width='50%')\n",
    ")\n",
    "display(freq_cols_touse)\n",
    "\n",
    "def get_freq_cols():\n",
    "    return freq_cols_touse.value"
   ]
  },
  {
   "cell_type": "code",
   "execution_count": null,
   "metadata": {},
   "outputs": [],
   "source": [
    "if path_params[2] != '':\n",
    "    df_freq = pd.read_csv(\n",
    "        os.path.join(path_params[0], path_params[2]), sep='\\s+', \n",
    "        usecols=[col.strip() for col in get_freq_cols().split(',')]\n",
    "    )\n",
    "    df_freq.head(5)\n",
    "else:\n",
    "    df_freq = pd.DataFrame()"
   ]
  },
  {
   "cell_type": "code",
   "execution_count": null,
   "metadata": {},
   "outputs": [],
   "source": [
    "df_freq.head(5)"
   ]
  },
  {
   "cell_type": "code",
   "execution_count": null,
   "metadata": {},
   "outputs": [],
   "source": [
    "# use this cell to harmonize columns names if necessary\n",
    "df_freq.columns = ['ID', 'MAF']"
   ]
  },
  {
   "cell_type": "code",
   "execution_count": null,
   "metadata": {},
   "outputs": [],
   "source": [
    "rsID = widgets.Text(\n",
    "    value='SNP',\n",
    "    description='Column name with the rsID:',\n",
    "    style={'description_width': 'initial'}\n",
    ")\n",
    "\n",
    "display(rsID)\n",
    "\n",
    "def get_rsID():\n",
    "    return rsID.value"
   ]
  },
  {
   "cell_type": "code",
   "execution_count": null,
   "metadata": {},
   "outputs": [],
   "source": [
    "gwas_rsID = get_rsID()\n",
    "\n",
    "if path_params[3] is not None or path_params[3] != '':\n",
    "    highlit_path = os.path.join(path_params[0], path_params[3])\n",
    "    if os.path.exists(highlit_path):\n",
    "        df_high = pd.read_csv(\n",
    "            highlit_path, sep='\\t'\n",
    "        )\n",
    "        to_highlight = df_high[gwas_rsID].to_list()\n",
    "        print(to_highlight[:10])\n",
    "        del df_high\n",
    "    else:\n",
    "        print('Path to file with SNPs to highlight does not exist')\n",
    "        to_highlight = []\n",
    "else:\n",
    "    print('No file with SNPs to highlight')\n",
    "    to_highlight = []"
   ]
  },
  {
   "cell_type": "code",
   "execution_count": null,
   "metadata": {},
   "outputs": [],
   "source": [
    "if path_params[4] is not None and path_params[4] != '':\n",
    "    anno_path = os.path.join(path_params[0], path_params[4])\n",
    "    if os.path.exists(anno_path):\n",
    "        df_anno = pd.read_csv(\n",
    "            anno_path, sep='\\t'\n",
    "        )\n",
    "        to_annotate = df_anno[gwas_rsID].to_list()\n",
    "        print(to_annotate[:10])\n",
    "        del df_anno\n",
    "    else:\n",
    "        print('Path to file with SNPs to annotate does not exist')\n",
    "        to_annotate = []\n",
    "else:\n",
    "    print('No file with SNPs to annotate')\n",
    "    to_annotate = []"
   ]
  },
  {
   "cell_type": "code",
   "execution_count": null,
   "metadata": {},
   "outputs": [],
   "source": [
    "SNP_col = widgets.Text(\n",
    "    value='ID',\n",
    "    description='Column with rsID:',\n",
    "    style={'description_width': 'initial'}\n",
    ")\n",
    "\n",
    "CHR_col = widgets.Text(\n",
    "    value='#CHROM',\n",
    "    description='Column with chromosome:',\n",
    "    style={'description_width': 'initial'}\n",
    ")\n",
    "\n",
    "POS_col = widgets.Text(\n",
    "    value='POS',\n",
    "    description='Column with base-pair position:',\n",
    "    style={'description_width': 'initial'}\n",
    ")\n",
    "\n",
    "P_col = widgets.Text(\n",
    "    value='P',\n",
    "    description='Column with p-values:',\n",
    "    style={'description_width': 'initial'}\n",
    ")\n",
    "\n",
    "BETA_col = widgets.Text(\n",
    "    value='BETA',\n",
    "    description='Column with BETA (Effect Size):',\n",
    "    style={'description_width': 'initial'}\n",
    ")\n",
    "display(SNP_col, CHR_col, POS_col, P_col, BETA_col)\n",
    "\n",
    "def get_col_names():\n",
    "    return SNP_col.value, CHR_col.value, POS_col.value, P_col.value, BETA_col.value"
   ]
  },
  {
   "cell_type": "code",
   "execution_count": null,
   "metadata": {},
   "outputs": [],
   "source": [
    "snp_col, chr_col, pos_col, p_col, beta_col = get_col_names()"
   ]
  },
  {
   "cell_type": "code",
   "execution_count": null,
   "metadata": {},
   "outputs": [],
   "source": [
    "trumpet_draw(\n",
    "    df_gwas =df_gwas,\n",
    "    df_freq =df_freq,\n",
    "    snp_col =snp_col,\n",
    "    p_col   =p_col,\n",
    "    beta_col=beta_col,\n",
    "    chr_col =chr_col,\n",
    "    pos_col =pos_col,\n",
    "    maf_col='MAF',\n",
    "    power_ts=[0.2, 0.4, 0.6, 0.8],\n",
    "    n_case=4806,\n",
    "    n_control=6364,\n",
    "    prevalence=0.05,\n",
    "    plot_dir=path_params[0],\n",
    "    to_highlight=to_highlight,\n",
    "    to_annotate=to_annotate,\n",
    "    )"
   ]
  }
 ],
 "metadata": {
  "kernelspec": {
   "display_name": ".venv",
   "language": "python",
   "name": "python3"
  },
  "language_info": {
   "codemirror_mode": {
    "name": "ipython",
    "version": 3
   },
   "file_extension": ".py",
   "mimetype": "text/x-python",
   "name": "python",
   "nbconvert_exporter": "python",
   "pygments_lexer": "ipython3",
   "version": "3.10.15"
  }
 },
 "nbformat": 4,
 "nbformat_minor": 2
}
