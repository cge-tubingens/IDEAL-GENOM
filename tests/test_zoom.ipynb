{
 "cells": [
  {
   "cell_type": "code",
   "execution_count": null,
   "metadata": {},
   "outputs": [],
   "source": [
    "import sys\n",
    "import os\n",
    "\n",
    "import pandas as pd\n",
    "\n",
    "import ipywidgets as widgets\n",
    "from IPython.display import display\n",
    "\n",
    "# add parent directory to path\n",
    "library_path = os.path.abspath('..')\n",
    "if library_path not in sys.path:\n",
    "    sys.path.append(library_path)\n",
    "\n",
    "from ideal_genom.zoom_heatmap import  draw_zoomed_heatmap"
   ]
  },
  {
   "cell_type": "code",
   "execution_count": null,
   "metadata": {},
   "outputs": [],
   "source": [
    "# Create interactive widgets for input\n",
    "input_path = widgets.Text(\n",
    "    value='/home/luis/data/gwasResult/',\n",
    "    description='Path to project folder:',\n",
    "    style={'description_width': 'initial'}\n",
    ")\n",
    "\n",
    "input_name = widgets.Text(\n",
    "    value='annotated_normalized_combined_R2_0.3.dose_step2_sex_pheno-glm.PHENO1.glm.logistic.hybrid',\n",
    "    description='Name of GWAS summary file:',\n",
    "    style={'description_width': 'initial'}\n",
    ")\n",
    "\n",
    "top_snp = widgets.Text(\n",
    "    value='table_lead_SNPS_GWAS_glm_logistic_final_paper',\n",
    "    description='Name of file with SNPs to highlight:',\n",
    "    style={'description_width': 'initial'}\n",
    ")\n",
    "\n",
    "bfile_path = widgets.Text(\n",
    "    value='/home/luis/data/LuxGiantimputed/inputData/',\n",
    "    description='Path to project folder:',\n",
    "    style={'description_width': 'initial'}\n",
    ")\n",
    "\n",
    "bfile_name = widgets.Text(\n",
    "    value='luxgiant_imputed_noprobID',\n",
    "    description='Path to project folder:',\n",
    "    style={'description_width': 'initial'}\n",
    ")\n",
    "\n",
    "# Display the widgets\n",
    "display(input_path, input_name, top_snp, bfile_path, bfile_name)\n",
    "\n",
    "# Function to get the text parameter values\n",
    "def get_params():\n",
    "    return input_path.value, input_name.value, top_snp.value, bfile_path.value, bfile_name.value"
   ]
  },
  {
   "cell_type": "code",
   "execution_count": null,
   "metadata": {},
   "outputs": [],
   "source": [
    "# Use the parameter values\n",
    "path_params = get_params()\n",
    "print(f\"Parameter 1: {path_params[0]}\")\n",
    "print(f\"Parameter 2: {path_params[1]}\")\n",
    "print(f\"Parameter 3: {path_params[2]}\")\n",
    "print(f\"Parameter 4: {path_params[3]}\")\n",
    "print(f\"Parameter 5: {path_params[4]}\")"
   ]
  },
  {
   "cell_type": "code",
   "execution_count": null,
   "metadata": {},
   "outputs": [],
   "source": [
    "cols_touse = widgets.Textarea(\n",
    "    value=\"#CHROM, POS, ID, P\",\n",
    "    description='Columns to use on the Mannhattan plot (comma-separated):',\n",
    "    style={'description_width': 'initial'},\n",
    "    layout=widgets.Layout(width='50%')\n",
    ")\n",
    "display(cols_touse)\n",
    "\n",
    "def get_cols():\n",
    "    return cols_touse.value"
   ]
  },
  {
   "cell_type": "code",
   "execution_count": null,
   "metadata": {},
   "outputs": [],
   "source": [
    "cols = get_cols()\n",
    "\n",
    "df_gwas = pd.read_csv(\n",
    "    os.path.join(path_params[0], path_params[1]), sep='\\t', usecols=[col.strip() for col in cols.split(',')]\n",
    ")\n",
    "df_gwas.head(5)"
   ]
  },
  {
   "cell_type": "code",
   "execution_count": null,
   "metadata": {},
   "outputs": [],
   "source": [
    "rsID = widgets.Text(\n",
    "    value='SNP',\n",
    "    description='Column name with the rsID:',\n",
    "    style={'description_width': 'initial'}\n",
    ")\n",
    "\n",
    "display(rsID)\n",
    "\n",
    "def get_rsID():\n",
    "    return rsID.value"
   ]
  },
  {
   "cell_type": "code",
   "execution_count": null,
   "metadata": {},
   "outputs": [],
   "source": [
    "gwas_rsID = get_rsID()\n",
    "\n",
    "if path_params[2] is not None or path_params[2] != '':\n",
    "    highlit_path = os.path.join(path_params[0], path_params[2])\n",
    "    if os.path.exists(highlit_path):\n",
    "        df_high = pd.read_csv(\n",
    "            highlit_path, sep='\\t'\n",
    "        )\n",
    "        to_highlight = df_high[gwas_rsID].to_list()\n",
    "        print(to_highlight[:10])\n",
    "        del df_high\n",
    "    else:\n",
    "        print('Path to file with SNPs to highlight does not exist')\n",
    "        to_highlight = []\n",
    "else:\n",
    "    print('No file with SNPs to highlight')\n",
    "    to_highlight = []"
   ]
  },
  {
   "cell_type": "code",
   "execution_count": null,
   "metadata": {},
   "outputs": [],
   "source": [
    "SNP_col = widgets.Text(\n",
    "    value='ID',\n",
    "    description='Column with rsID:',\n",
    "    style={'description_width': 'initial'}\n",
    ")\n",
    "\n",
    "CHR_col = widgets.Text(\n",
    "    value='#CHROM',\n",
    "    description='Column with chromosome:',\n",
    "    style={'description_width': 'initial'}\n",
    ")\n",
    "\n",
    "POS_col = widgets.Text(\n",
    "    value='POS',\n",
    "    description='Column with base-pair position:',\n",
    "    style={'description_width': 'initial'}\n",
    ")\n",
    "\n",
    "P_col = widgets.Text(\n",
    "    value='P',\n",
    "    description='Column with p-values:',\n",
    "    style={'description_width': 'initial'}\n",
    ")\n",
    "\n",
    "display(SNP_col, CHR_col, POS_col, P_col)\n",
    "\n",
    "def get_col_names():\n",
    "    return SNP_col.value, CHR_col.value, POS_col.value, P_col.value,"
   ]
  },
  {
   "cell_type": "code",
   "execution_count": null,
   "metadata": {},
   "outputs": [],
   "source": [
    "snp_col, chr_col, pos_col, p_col = get_col_names()"
   ]
  },
  {
   "cell_type": "code",
   "execution_count": null,
   "metadata": {},
   "outputs": [],
   "source": [
    "radius = widgets.IntText(\n",
    "    value=1e6,\n",
    "    description='Radius for the LD calculation:',\n",
    "    style={'description_width': 'initial'}\n",
    ")\n",
    "\n",
    "threshold = widgets.FloatText(\n",
    "    value=5e-6,\n",
    "    description='Threshold for the LD calculation:',\n",
    "    style={'description_width': 'initial'}\n",
    ")\n",
    "\n",
    "display(radius, threshold)\n",
    "\n",
    "def get_values():\n",
    "    return radius.value, threshold.value"
   ]
  },
  {
   "cell_type": "code",
   "execution_count": null,
   "metadata": {},
   "outputs": [],
   "source": [
    "radius, pval_threshold = get_values()"
   ]
  },
  {
   "cell_type": "code",
   "execution_count": null,
   "metadata": {},
   "outputs": [],
   "source": [
    "#draw_zoomed_heatmap(\n",
    "#    data_df=df_gwas,\n",
    "#    lead_snp=to_highlight[0], \n",
    "#    snp_col=snp_col, \n",
    "#    p_col=p_col, \n",
    "#    pos_col=pos_col, \n",
    "#    chr_col=chr_col, \n",
    "#    output_folder=path_params[0], \n",
    "#    pval_threshold=5e-6, \n",
    "#    radius=radius, \n",
    "#    build='38', \n",
    "#    gtf_path=None, \n",
    "#    batch_size=100, \n",
    "#    bfile_folder=path_params[3], \n",
    "#    bfile_name=path_params[4], \n",
    "#    effect_dict={}    \n",
    "#)"
   ]
  },
  {
   "cell_type": "code",
   "execution_count": null,
   "metadata": {},
   "outputs": [],
   "source": [
    "draw_zoomed_heatmap(\n",
    "    data_df=df_gwas,\n",
    "    lead_snp=to_highlight[0], \n",
    "    snp_col=snp_col, \n",
    "    p_col=p_col, \n",
    "    pos_col=pos_col, \n",
    "    chr_col=chr_col, \n",
    "    output_folder=path_params[0], \n",
    "    pval_threshold=5e-6, \n",
    "    radius=radius, \n",
    "    build='38', \n",
    "    gtf_path=None, \n",
    "    batch_size=100, \n",
    "    bfile_folder=path_params[3], \n",
    "    bfile_name=path_params[4], \n",
    "    effect_dict={}    \n",
    ")"
   ]
  },
  {
   "cell_type": "code",
   "execution_count": null,
   "metadata": {},
   "outputs": [],
   "source": [
    "draw_zoomed_heatmap(\n",
    "    data_df=df_gwas,\n",
    "    lead_snp=to_highlight[1], \n",
    "    snp_col=snp_col, \n",
    "    p_col=p_col, \n",
    "    pos_col=pos_col, \n",
    "    chr_col=chr_col, \n",
    "    output_folder=path_params[0], \n",
    "    pval_threshold=5e-6, \n",
    "    radius=radius, \n",
    "    build='38', \n",
    "    gtf_path=None, \n",
    "    batch_size=100, \n",
    "    bfile_folder=path_params[3], \n",
    "    bfile_name=path_params[4], \n",
    "    effect_dict={}    \n",
    ")"
   ]
  },
  {
   "cell_type": "code",
   "execution_count": null,
   "metadata": {},
   "outputs": [],
   "source": [
    "draw_zoomed_heatmap(\n",
    "    data_df=df_gwas,\n",
    "    lead_snp=to_highlight[2], \n",
    "    snp_col=snp_col, \n",
    "    p_col=p_col, \n",
    "    pos_col=pos_col, \n",
    "    chr_col=chr_col, \n",
    "    output_folder=path_params[0], \n",
    "    pval_threshold=5e-6, \n",
    "    radius=radius, \n",
    "    build='38', \n",
    "    gtf_path=None, \n",
    "    batch_size=100, \n",
    "    bfile_folder=path_params[3], \n",
    "    bfile_name=path_params[4], \n",
    "    effect_dict={}    \n",
    ")"
   ]
  },
  {
   "cell_type": "code",
   "execution_count": null,
   "metadata": {},
   "outputs": [],
   "source": [
    "draw_zoomed_heatmap(\n",
    "    data_df=df_gwas,\n",
    "    lead_snp=to_highlight[3], \n",
    "    snp_col=snp_col, \n",
    "    p_col=p_col, \n",
    "    pos_col=pos_col, \n",
    "    chr_col=chr_col, \n",
    "    output_folder=path_params[0], \n",
    "    pval_threshold=5e-6, \n",
    "    radius=radius, \n",
    "    build='38', \n",
    "    gtf_path=None, \n",
    "    batch_size=100, \n",
    "    bfile_folder=path_params[3], \n",
    "    bfile_name=path_params[4], \n",
    "    effect_dict={}    \n",
    ")"
   ]
  },
  {
   "cell_type": "code",
   "execution_count": null,
   "metadata": {},
   "outputs": [],
   "source": [
    "draw_zoomed_heatmap(\n",
    "    data_df=df_gwas,\n",
    "    lead_snp=to_highlight[4], \n",
    "    snp_col=snp_col, \n",
    "    p_col=p_col, \n",
    "    pos_col=pos_col, \n",
    "    chr_col=chr_col, \n",
    "    output_folder=path_params[0], \n",
    "    pval_threshold=5e-6, \n",
    "    radius=radius, \n",
    "    build='38', \n",
    "    gtf_path=None, \n",
    "    batch_size=100, \n",
    "    bfile_folder=path_params[3], \n",
    "    bfile_name=path_params[4], \n",
    "    effect_dict={}    \n",
    ")"
   ]
  },
  {
   "cell_type": "code",
   "execution_count": null,
   "metadata": {},
   "outputs": [],
   "source": [
    "draw_zoomed_heatmap(\n",
    "    data_df=df_gwas,\n",
    "    lead_snp=to_highlight[7], \n",
    "    snp_col=snp_col, \n",
    "    p_col=p_col, \n",
    "    pos_col=pos_col, \n",
    "    chr_col=chr_col, \n",
    "    output_folder=path_params[0], \n",
    "    pval_threshold=5e-6, \n",
    "    radius=radius, \n",
    "    build='38', \n",
    "    gtf_path=None, \n",
    "    batch_size=100, \n",
    "    bfile_folder=path_params[3], \n",
    "    bfile_name=path_params[4], \n",
    "    effect_dict={}    \n",
    ")"
   ]
  },
  {
   "cell_type": "code",
   "execution_count": null,
   "metadata": {},
   "outputs": [],
   "source": [
    "draw_zoomed_heatmap(\n",
    "    data_df=df_gwas,\n",
    "    lead_snp=to_highlight[8], \n",
    "    snp_col=snp_col, \n",
    "    p_col=p_col, \n",
    "    pos_col=pos_col, \n",
    "    chr_col=chr_col, \n",
    "    output_folder=path_params[0], \n",
    "    pval_threshold=5e-6, \n",
    "    radius=radius, \n",
    "    build='38', \n",
    "    gtf_path=None, \n",
    "    batch_size=100, \n",
    "    bfile_folder=path_params[3], \n",
    "    bfile_name=path_params[4], \n",
    "    effect_dict={}    \n",
    ")"
   ]
  },
  {
   "cell_type": "code",
   "execution_count": null,
   "metadata": {},
   "outputs": [],
   "source": [
    "draw_zoomed_heatmap(\n",
    "    data_df=df_gwas,\n",
    "    lead_snp=to_highlight[9], \n",
    "    snp_col=snp_col, \n",
    "    p_col=p_col, \n",
    "    pos_col=pos_col, \n",
    "    chr_col=chr_col, \n",
    "    output_folder=path_params[0], \n",
    "    pval_threshold=5e-6, \n",
    "    radius=radius, \n",
    "    build='38', \n",
    "    gtf_path=None, \n",
    "    batch_size=100, \n",
    "    bfile_folder=path_params[3], \n",
    "    bfile_name=path_params[4], \n",
    "    effect_dict={}    \n",
    ")"
   ]
  },
  {
   "cell_type": "code",
   "execution_count": null,
   "metadata": {},
   "outputs": [],
   "source": [
    "draw_zoomed_heatmap(\n",
    "    data_df=df_gwas,\n",
    "    lead_snp=to_highlight[10], \n",
    "    snp_col=snp_col, \n",
    "    p_col=p_col, \n",
    "    pos_col=pos_col, \n",
    "    chr_col=chr_col, \n",
    "    output_folder=path_params[0], \n",
    "    pval_threshold=5e-6, \n",
    "    radius=radius, \n",
    "    build='38', \n",
    "    gtf_path=None, \n",
    "    batch_size=100, \n",
    "    bfile_folder=path_params[3], \n",
    "    bfile_name=path_params[4], \n",
    "    effect_dict={}    \n",
    ")"
   ]
  },
  {
   "cell_type": "code",
   "execution_count": null,
   "metadata": {},
   "outputs": [],
   "source": [
    "draw_zoomed_heatmap(\n",
    "    data_df=df_gwas,\n",
    "    lead_snp=to_highlight[11], \n",
    "    snp_col=snp_col, \n",
    "    p_col=p_col, \n",
    "    pos_col=pos_col, \n",
    "    chr_col=chr_col, \n",
    "    output_folder=path_params[0], \n",
    "    pval_threshold=5e-6, \n",
    "    radius=radius, \n",
    "    build='38', \n",
    "    gtf_path=None, \n",
    "    batch_size=100, \n",
    "    bfile_folder=path_params[3], \n",
    "    bfile_name=path_params[4], \n",
    "    effect_dict={}    \n",
    ")"
   ]
  },
  {
   "cell_type": "code",
   "execution_count": null,
   "metadata": {},
   "outputs": [],
   "source": [
    "draw_zoomed_heatmap(\n",
    "    data_df=df_gwas,\n",
    "    lead_snp=to_highlight[12], \n",
    "    snp_col=snp_col, \n",
    "    p_col=p_col, \n",
    "    pos_col=pos_col, \n",
    "    chr_col=chr_col, \n",
    "    output_folder=path_params[0], \n",
    "    pval_threshold=5e-6, \n",
    "    radius=radius, \n",
    "    build='38', \n",
    "    gtf_path=None, \n",
    "    batch_size=100, \n",
    "    bfile_folder=path_params[3], \n",
    "    bfile_name=path_params[4], \n",
    "    effect_dict={}    \n",
    ")"
   ]
  },
  {
   "cell_type": "code",
   "execution_count": null,
   "metadata": {},
   "outputs": [],
   "source": [
    "import sys\n",
    "import os\n",
    "\n",
    "import pandas as pd\n",
    "\n",
    "import ipywidgets as widgets\n",
    "from IPython.display import display\n",
    "\n",
    "# add parent directory to path\n",
    "library_path = os.path.abspath('..')\n",
    "if library_path not in sys.path:\n",
    "    sys.path.append(library_path)\n",
    "\n",
    "from ideal_genom.get_references import AssemblyReferenceFetcher"
   ]
  },
  {
   "cell_type": "code",
   "execution_count": null,
   "metadata": {},
   "outputs": [],
   "source": [
    "fetcher38 = AssemblyReferenceFetcher(\n",
    "    base_url='https://ftp.1000genomes.ebi.ac.uk/vol1/ftp/technical/reference/GRCh38_reference_genome/',\n",
    "    build='38',\n",
    "    extension='.fa'\n",
    ")"
   ]
  },
  {
   "cell_type": "code",
   "execution_count": null,
   "metadata": {},
   "outputs": [],
   "source": [
    "fetcher38.get_reference_url()"
   ]
  },
  {
   "cell_type": "code",
   "execution_count": null,
   "metadata": {},
   "outputs": [],
   "source": [
    "fetcher38.download_reference_file()"
   ]
  },
  {
   "cell_type": "code",
   "execution_count": null,
   "metadata": {},
   "outputs": [],
   "source": [
    "fetcher38.unzip_reference_file()"
   ]
  },
  {
   "cell_type": "code",
   "execution_count": null,
   "metadata": {},
   "outputs": [],
   "source": [
    "str(fetcher38.file_path)"
   ]
  },
  {
   "cell_type": "code",
   "execution_count": null,
   "metadata": {},
   "outputs": [],
   "source": [
    "fetcher37 = AssemblyReferenceFetcher(\n",
    "    base_url='https://ftp.1000genomes.ebi.ac.uk/vol1/ftp/technical/reference/phase2_reference_assembly_sequence/',\n",
    "    build='37',\n",
    "    extension='.fa.gz'\n",
    ")"
   ]
  },
  {
   "cell_type": "code",
   "execution_count": null,
   "metadata": {},
   "outputs": [],
   "source": [
    "fetcher37.get_reference_url()"
   ]
  },
  {
   "cell_type": "code",
   "execution_count": null,
   "metadata": {},
   "outputs": [],
   "source": [
    "fetcher37.download_reference_file()"
   ]
  },
  {
   "cell_type": "code",
   "execution_count": null,
   "metadata": {},
   "outputs": [],
   "source": [
    "fetcher37.unzip_reference_file()"
   ]
  },
  {
   "cell_type": "code",
   "execution_count": null,
   "metadata": {},
   "outputs": [],
   "source": [
    "fetcher37.file_path.stem"
   ]
  },
  {
   "cell_type": "code",
   "execution_count": null,
   "metadata": {},
   "outputs": [],
   "source": [
    "fetcher37.file_path"
   ]
  },
  {
   "cell_type": "code",
   "execution_count": null,
   "metadata": {},
   "outputs": [],
   "source": []
  }
 ],
 "metadata": {
  "kernelspec": {
   "display_name": "ideal-genom-NcAYBj8M-py3.10",
   "language": "python",
   "name": "python3"
  },
  "language_info": {
   "codemirror_mode": {
    "name": "ipython",
    "version": 3
   },
   "file_extension": ".py",
   "mimetype": "text/x-python",
   "name": "python",
   "nbconvert_exporter": "python",
   "pygments_lexer": "ipython3",
   "version": "3.10.15"
  }
 },
 "nbformat": 4,
 "nbformat_minor": 2
}
