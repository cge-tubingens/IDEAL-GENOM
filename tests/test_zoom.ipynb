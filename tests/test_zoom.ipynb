{
 "cells": [
  {
   "cell_type": "code",
   "execution_count": 1,
   "metadata": {},
   "outputs": [],
   "source": [
    "import sys\n",
    "import os\n",
    "\n",
    "import pandas as pd\n",
    "\n",
    "import ipywidgets as widgets\n",
    "from IPython.display import display\n",
    "\n",
    "# add parent directory to path\n",
    "library_path = os.path.abspath('..')\n",
    "if library_path not in sys.path:\n",
    "    sys.path.append(library_path)\n",
    "\n",
    "from ideal_genom.zoom_heatmap import filter_sumstats, snp_annotations, get_gene_information"
   ]
  },
  {
   "cell_type": "code",
   "execution_count": 2,
   "metadata": {},
   "outputs": [
    {
     "data": {
      "application/vnd.jupyter.widget-view+json": {
       "model_id": "1024dac2e24a4ecaa703a438007a42dc",
       "version_major": 2,
       "version_minor": 0
      },
      "text/plain": [
       "Text(value='/mnt/0A2AAC152AABFBB7/data/gwasResult/', description='Path to project folder:', style=TextStyle(de…"
      ]
     },
     "metadata": {},
     "output_type": "display_data"
    },
    {
     "data": {
      "application/vnd.jupyter.widget-view+json": {
       "model_id": "4ece942406424fff9c409e81560447e3",
       "version_major": 2,
       "version_minor": 0
      },
      "text/plain": [
       "Text(value='annotated_normalized_combined_R2_0.3.dose_step2_sex_pheno-glm.PHENO1.glm.logistic.hybrid', descrip…"
      ]
     },
     "metadata": {},
     "output_type": "display_data"
    },
    {
     "data": {
      "application/vnd.jupyter.widget-view+json": {
       "model_id": "30eb004c85744f55ac1c0733ae6e8104",
       "version_major": 2,
       "version_minor": 0
      },
      "text/plain": [
       "Text(value='table_lead_SNPS_GWAS_glm_logistic_final_paper', description='Name of file with SNPs to highlight:'…"
      ]
     },
     "metadata": {},
     "output_type": "display_data"
    }
   ],
   "source": [
    "# Create interactive widgets for input\n",
    "input_path = widgets.Text(\n",
    "    value='/mnt/0A2AAC152AABFBB7/data/gwasResult/',\n",
    "    description='Path to project folder:',\n",
    "    style={'description_width': 'initial'}\n",
    ")\n",
    "\n",
    "input_name = widgets.Text(\n",
    "    value='annotated_normalized_combined_R2_0.3.dose_step2_sex_pheno-glm.PHENO1.glm.logistic.hybrid',\n",
    "    description='Name of GWAS summary file:',\n",
    "    style={'description_width': 'initial'}\n",
    ")\n",
    "\n",
    "top_snp = widgets.Text(\n",
    "    value='table_lead_SNPS_GWAS_glm_logistic_final_paper',\n",
    "    description='Name of file with SNPs to highlight:',\n",
    "    style={'description_width': 'initial'}\n",
    ")\n",
    "\n",
    "# Display the widgets\n",
    "display(input_path, input_name, top_snp)\n",
    "\n",
    "# Function to get the text parameter values\n",
    "def get_params():\n",
    "    return input_path.value, input_name.value, top_snp.value"
   ]
  },
  {
   "cell_type": "code",
   "execution_count": 3,
   "metadata": {},
   "outputs": [
    {
     "name": "stdout",
     "output_type": "stream",
     "text": [
      "Parameter 1: /mnt/0A2AAC152AABFBB7/data/gwasResult/\n",
      "Parameter 2: annotated_normalized_combined_R2_0.3.dose_step2_sex_pheno-glm.PHENO1.glm.logistic.hybrid\n",
      "Parameter 3: table_lead_SNPS_GWAS_glm_logistic_final_paper\n"
     ]
    }
   ],
   "source": [
    "# Use the parameter values\n",
    "path_params = get_params()\n",
    "print(f\"Parameter 1: {path_params[0]}\")\n",
    "print(f\"Parameter 2: {path_params[1]}\")\n",
    "print(f\"Parameter 3: {path_params[2]}\")"
   ]
  },
  {
   "cell_type": "code",
   "execution_count": 4,
   "metadata": {},
   "outputs": [
    {
     "data": {
      "application/vnd.jupyter.widget-view+json": {
       "model_id": "6189c0f8c1124a8497ac375230588e1d",
       "version_major": 2,
       "version_minor": 0
      },
      "text/plain": [
       "Textarea(value='#CHROM, POS, ID, P', description='Columns to use on the Mannhattan plot (comma-separated):', l…"
      ]
     },
     "metadata": {},
     "output_type": "display_data"
    }
   ],
   "source": [
    "cols_touse = widgets.Textarea(\n",
    "    value=\"#CHROM, POS, ID, P\",\n",
    "    description='Columns to use on the Mannhattan plot (comma-separated):',\n",
    "    style={'description_width': 'initial'},\n",
    "    layout=widgets.Layout(width='50%')\n",
    ")\n",
    "display(cols_touse)\n",
    "\n",
    "def get_cols():\n",
    "    return cols_touse.value"
   ]
  },
  {
   "cell_type": "code",
   "execution_count": 5,
   "metadata": {},
   "outputs": [
    {
     "data": {
      "text/html": [
       "<div>\n",
       "<style scoped>\n",
       "    .dataframe tbody tr th:only-of-type {\n",
       "        vertical-align: middle;\n",
       "    }\n",
       "\n",
       "    .dataframe tbody tr th {\n",
       "        vertical-align: top;\n",
       "    }\n",
       "\n",
       "    .dataframe thead th {\n",
       "        text-align: right;\n",
       "    }\n",
       "</style>\n",
       "<table border=\"1\" class=\"dataframe\">\n",
       "  <thead>\n",
       "    <tr style=\"text-align: right;\">\n",
       "      <th></th>\n",
       "      <th>#CHROM</th>\n",
       "      <th>POS</th>\n",
       "      <th>ID</th>\n",
       "      <th>P</th>\n",
       "    </tr>\n",
       "  </thead>\n",
       "  <tbody>\n",
       "    <tr>\n",
       "      <th>0</th>\n",
       "      <td>1</td>\n",
       "      <td>727242</td>\n",
       "      <td>rs61769339</td>\n",
       "      <td>0.355696</td>\n",
       "    </tr>\n",
       "    <tr>\n",
       "      <th>1</th>\n",
       "      <td>1</td>\n",
       "      <td>727717</td>\n",
       "      <td>rs61769340</td>\n",
       "      <td>0.517232</td>\n",
       "    </tr>\n",
       "    <tr>\n",
       "      <th>2</th>\n",
       "      <td>1</td>\n",
       "      <td>730869</td>\n",
       "      <td>rs200188737</td>\n",
       "      <td>0.510707</td>\n",
       "    </tr>\n",
       "    <tr>\n",
       "      <th>3</th>\n",
       "      <td>1</td>\n",
       "      <td>732369</td>\n",
       "      <td>rs1315713498</td>\n",
       "      <td>0.741994</td>\n",
       "    </tr>\n",
       "    <tr>\n",
       "      <th>4</th>\n",
       "      <td>1</td>\n",
       "      <td>740738</td>\n",
       "      <td>rs146067153</td>\n",
       "      <td>0.816063</td>\n",
       "    </tr>\n",
       "  </tbody>\n",
       "</table>\n",
       "</div>"
      ],
      "text/plain": [
       "   #CHROM     POS            ID         P\n",
       "0       1  727242    rs61769339  0.355696\n",
       "1       1  727717    rs61769340  0.517232\n",
       "2       1  730869   rs200188737  0.510707\n",
       "3       1  732369  rs1315713498  0.741994\n",
       "4       1  740738   rs146067153  0.816063"
      ]
     },
     "execution_count": 5,
     "metadata": {},
     "output_type": "execute_result"
    }
   ],
   "source": [
    "cols = get_cols()\n",
    "\n",
    "df_gwas = pd.read_csv(\n",
    "    os.path.join(path_params[0], path_params[1]), sep='\\t', usecols=[col.strip() for col in cols.split(',')]\n",
    ")\n",
    "df_gwas.head(5)"
   ]
  },
  {
   "cell_type": "code",
   "execution_count": 6,
   "metadata": {},
   "outputs": [
    {
     "data": {
      "application/vnd.jupyter.widget-view+json": {
       "model_id": "46a4c7ae82af4aafa156297e0b2282bb",
       "version_major": 2,
       "version_minor": 0
      },
      "text/plain": [
       "Text(value='SNP', description='Column name with the rsID:', style=TextStyle(description_width='initial'))"
      ]
     },
     "metadata": {},
     "output_type": "display_data"
    }
   ],
   "source": [
    "rsID = widgets.Text(\n",
    "    value='SNP',\n",
    "    description='Column name with the rsID:',\n",
    "    style={'description_width': 'initial'}\n",
    ")\n",
    "\n",
    "display(rsID)\n",
    "\n",
    "def get_rsID():\n",
    "    return rsID.value"
   ]
  },
  {
   "cell_type": "code",
   "execution_count": 7,
   "metadata": {},
   "outputs": [
    {
     "name": "stdout",
     "output_type": "stream",
     "text": [
      "['rs3747973', 'rs74990530', 'rs34311866', 'rs356182', 'rs7681440', 'rs1846190', 'rs2517680', 'rs4909940', 'rs528813377', 'rs56328224']\n"
     ]
    }
   ],
   "source": [
    "gwas_rsID = get_rsID()\n",
    "\n",
    "if path_params[2] is not None or path_params[2] != '':\n",
    "    highlit_path = os.path.join(path_params[0], path_params[2])\n",
    "    if os.path.exists(highlit_path):\n",
    "        df_high = pd.read_csv(\n",
    "            highlit_path, sep='\\t'\n",
    "        )\n",
    "        to_highlight = df_high[gwas_rsID].to_list()\n",
    "        print(to_highlight[:10])\n",
    "        del df_high\n",
    "    else:\n",
    "        print('Path to file with SNPs to highlight does not exist')\n",
    "        to_highlight = []\n",
    "else:\n",
    "    print('No file with SNPs to highlight')\n",
    "    to_highlight = []"
   ]
  },
  {
   "cell_type": "code",
   "execution_count": 8,
   "metadata": {},
   "outputs": [
    {
     "data": {
      "application/vnd.jupyter.widget-view+json": {
       "model_id": "942a68f5d1584879b202658ac103175d",
       "version_major": 2,
       "version_minor": 0
      },
      "text/plain": [
       "Text(value='ID', description='Column with rsID:', style=TextStyle(description_width='initial'))"
      ]
     },
     "metadata": {},
     "output_type": "display_data"
    },
    {
     "data": {
      "application/vnd.jupyter.widget-view+json": {
       "model_id": "39e9d318332b4b50a78c85f6bd9f8f6c",
       "version_major": 2,
       "version_minor": 0
      },
      "text/plain": [
       "Text(value='#CHROM', description='Column with chromosome:', style=TextStyle(description_width='initial'))"
      ]
     },
     "metadata": {},
     "output_type": "display_data"
    },
    {
     "data": {
      "application/vnd.jupyter.widget-view+json": {
       "model_id": "ec58e96ae38644289c3e294e03ecd719",
       "version_major": 2,
       "version_minor": 0
      },
      "text/plain": [
       "Text(value='POS', description='Column with base-pair position:', style=TextStyle(description_width='initial'))"
      ]
     },
     "metadata": {},
     "output_type": "display_data"
    },
    {
     "data": {
      "application/vnd.jupyter.widget-view+json": {
       "model_id": "c313a494ce324475b5b7010284c72cda",
       "version_major": 2,
       "version_minor": 0
      },
      "text/plain": [
       "Text(value='P', description='Column with p-values:', style=TextStyle(description_width='initial'))"
      ]
     },
     "metadata": {},
     "output_type": "display_data"
    }
   ],
   "source": [
    "SNP_col = widgets.Text(\n",
    "    value='ID',\n",
    "    description='Column with rsID:',\n",
    "    style={'description_width': 'initial'}\n",
    ")\n",
    "\n",
    "CHR_col = widgets.Text(\n",
    "    value='#CHROM',\n",
    "    description='Column with chromosome:',\n",
    "    style={'description_width': 'initial'}\n",
    ")\n",
    "\n",
    "POS_col = widgets.Text(\n",
    "    value='POS',\n",
    "    description='Column with base-pair position:',\n",
    "    style={'description_width': 'initial'}\n",
    ")\n",
    "\n",
    "P_col = widgets.Text(\n",
    "    value='P',\n",
    "    description='Column with p-values:',\n",
    "    style={'description_width': 'initial'}\n",
    ")\n",
    "display(SNP_col, CHR_col, POS_col, P_col)\n",
    "\n",
    "def get_col_names():\n",
    "    return SNP_col.value, CHR_col.value, POS_col.value, P_col.value"
   ]
  },
  {
   "cell_type": "code",
   "execution_count": 9,
   "metadata": {},
   "outputs": [],
   "source": [
    "snp_col, chr_col, pos_col, p_col = get_col_names()"
   ]
  },
  {
   "cell_type": "code",
   "execution_count": 10,
   "metadata": {},
   "outputs": [
    {
     "data": {
      "text/html": [
       "<div>\n",
       "<style scoped>\n",
       "    .dataframe tbody tr th:only-of-type {\n",
       "        vertical-align: middle;\n",
       "    }\n",
       "\n",
       "    .dataframe tbody tr th {\n",
       "        vertical-align: top;\n",
       "    }\n",
       "\n",
       "    .dataframe thead th {\n",
       "        text-align: right;\n",
       "    }\n",
       "</style>\n",
       "<table border=\"1\" class=\"dataframe\">\n",
       "  <thead>\n",
       "    <tr style=\"text-align: right;\">\n",
       "      <th></th>\n",
       "      <th>#CHROM</th>\n",
       "      <th>POS</th>\n",
       "      <th>ID</th>\n",
       "      <th>P</th>\n",
       "      <th>log10p</th>\n",
       "    </tr>\n",
       "  </thead>\n",
       "  <tbody>\n",
       "    <tr>\n",
       "      <th>0</th>\n",
       "      <td>1</td>\n",
       "      <td>204840546</td>\n",
       "      <td>rs11801418</td>\n",
       "      <td>2.044970e-06</td>\n",
       "      <td>5.689313</td>\n",
       "    </tr>\n",
       "    <tr>\n",
       "      <th>1</th>\n",
       "      <td>1</td>\n",
       "      <td>204842990</td>\n",
       "      <td>rs869841</td>\n",
       "      <td>2.770490e-06</td>\n",
       "      <td>5.557443</td>\n",
       "    </tr>\n",
       "    <tr>\n",
       "      <th>2</th>\n",
       "      <td>1</td>\n",
       "      <td>204843348</td>\n",
       "      <td>rs12563611</td>\n",
       "      <td>3.140220e-06</td>\n",
       "      <td>5.503040</td>\n",
       "    </tr>\n",
       "    <tr>\n",
       "      <th>3</th>\n",
       "      <td>1</td>\n",
       "      <td>204843570</td>\n",
       "      <td>rs12407417</td>\n",
       "      <td>2.770490e-06</td>\n",
       "      <td>5.557443</td>\n",
       "    </tr>\n",
       "    <tr>\n",
       "      <th>4</th>\n",
       "      <td>1</td>\n",
       "      <td>204843922</td>\n",
       "      <td>rs12217091</td>\n",
       "      <td>9.794050e-07</td>\n",
       "      <td>6.009038</td>\n",
       "    </tr>\n",
       "  </tbody>\n",
       "</table>\n",
       "</div>"
      ],
      "text/plain": [
       "   #CHROM        POS          ID             P    log10p\n",
       "0       1  204840546  rs11801418  2.044970e-06  5.689313\n",
       "1       1  204842990    rs869841  2.770490e-06  5.557443\n",
       "2       1  204843348  rs12563611  3.140220e-06  5.503040\n",
       "3       1  204843570  rs12407417  2.770490e-06  5.557443\n",
       "4       1  204843922  rs12217091  9.794050e-07  6.009038"
      ]
     },
     "execution_count": 10,
     "metadata": {},
     "output_type": "execute_result"
    }
   ],
   "source": [
    "filtered = filter_sumstats(\n",
    "    data_df       =df_gwas, \n",
    "    lead_snp      =to_highlight[0], \n",
    "    snp_col       =snp_col, \n",
    "    p_col         =p_col, \n",
    "    pos_col       =pos_col, \n",
    "    chr_col       =chr_col, \n",
    "    pval_threshold=5e-6, \n",
    "    radius        =10e6\n",
    ")\n",
    "filtered.head()"
   ]
  },
  {
   "cell_type": "code",
   "execution_count": 33,
   "metadata": {},
   "outputs": [
    {
     "name": "stdout",
     "output_type": "stream",
     "text": [
      "2024/12/12 14:28:00 Start to annotate variants with nearest gene name(s)...\n",
      "2024/12/12 14:28:00  -Assigning Gene name using NCBI refseq latest GRCh38 for protein coding genes\n",
      "2024/12/12 14:28:00  -Using user-provided gtf:/mnt/0A2AAC152AABFBB7/CGE/luxgiant-dstream/GCF_000001405.40_GRCh38.p14_genomic.gtf\n",
      "2024/12/12 14:28:05 Finished annotating variants with nearest gene name(s) successfully!\n"
     ]
    },
    {
     "data": {
      "text/html": [
       "<div>\n",
       "<style scoped>\n",
       "    .dataframe tbody tr th:only-of-type {\n",
       "        vertical-align: middle;\n",
       "    }\n",
       "\n",
       "    .dataframe tbody tr th {\n",
       "        vertical-align: top;\n",
       "    }\n",
       "\n",
       "    .dataframe thead th {\n",
       "        text-align: right;\n",
       "    }\n",
       "</style>\n",
       "<table border=\"1\" class=\"dataframe\">\n",
       "  <thead>\n",
       "    <tr style=\"text-align: right;\">\n",
       "      <th></th>\n",
       "      <th>#CHROM</th>\n",
       "      <th>POS</th>\n",
       "      <th>ID</th>\n",
       "      <th>P</th>\n",
       "      <th>log10p</th>\n",
       "      <th>GENENAME</th>\n",
       "      <th>consequence</th>\n",
       "      <th>Mbp</th>\n",
       "    </tr>\n",
       "  </thead>\n",
       "  <tbody>\n",
       "    <tr>\n",
       "      <th>0</th>\n",
       "      <td>1</td>\n",
       "      <td>204840546</td>\n",
       "      <td>rs11801418</td>\n",
       "      <td>2.044970e-06</td>\n",
       "      <td>5.689313</td>\n",
       "      <td>NFASC</td>\n",
       "      <td>intron_variant</td>\n",
       "      <td>204.840546</td>\n",
       "    </tr>\n",
       "    <tr>\n",
       "      <th>1</th>\n",
       "      <td>1</td>\n",
       "      <td>204842990</td>\n",
       "      <td>rs869841</td>\n",
       "      <td>2.770490e-06</td>\n",
       "      <td>5.557443</td>\n",
       "      <td>NFASC</td>\n",
       "      <td>intron_variant</td>\n",
       "      <td>204.842990</td>\n",
       "    </tr>\n",
       "    <tr>\n",
       "      <th>2</th>\n",
       "      <td>1</td>\n",
       "      <td>204843348</td>\n",
       "      <td>rs12563611</td>\n",
       "      <td>3.140220e-06</td>\n",
       "      <td>5.503040</td>\n",
       "      <td>NFASC</td>\n",
       "      <td>intron_variant</td>\n",
       "      <td>204.843348</td>\n",
       "    </tr>\n",
       "    <tr>\n",
       "      <th>3</th>\n",
       "      <td>1</td>\n",
       "      <td>204843570</td>\n",
       "      <td>rs12407417</td>\n",
       "      <td>2.770490e-06</td>\n",
       "      <td>5.557443</td>\n",
       "      <td>NFASC</td>\n",
       "      <td>intron_variant</td>\n",
       "      <td>204.843570</td>\n",
       "    </tr>\n",
       "    <tr>\n",
       "      <th>4</th>\n",
       "      <td>1</td>\n",
       "      <td>204843922</td>\n",
       "      <td>rs12217091</td>\n",
       "      <td>9.794050e-07</td>\n",
       "      <td>6.009038</td>\n",
       "      <td>NFASC</td>\n",
       "      <td>intron_variant</td>\n",
       "      <td>204.843922</td>\n",
       "    </tr>\n",
       "  </tbody>\n",
       "</table>\n",
       "</div>"
      ],
      "text/plain": [
       "   #CHROM        POS          ID             P    log10p GENENAME  \\\n",
       "0       1  204840546  rs11801418  2.044970e-06  5.689313    NFASC   \n",
       "1       1  204842990    rs869841  2.770490e-06  5.557443    NFASC   \n",
       "2       1  204843348  rs12563611  3.140220e-06  5.503040    NFASC   \n",
       "3       1  204843570  rs12407417  2.770490e-06  5.557443    NFASC   \n",
       "4       1  204843922  rs12217091  9.794050e-07  6.009038    NFASC   \n",
       "\n",
       "      consequence         Mbp  \n",
       "0  intron_variant  204.840546  \n",
       "1  intron_variant  204.842990  \n",
       "2  intron_variant  204.843348  \n",
       "3  intron_variant  204.843570  \n",
       "4  intron_variant  204.843922  "
      ]
     },
     "execution_count": 33,
     "metadata": {},
     "output_type": "execute_result"
    }
   ],
   "source": [
    "annotated = snp_annotations(\n",
    "    data_df=filtered, \n",
    "    snp_col=snp_col, \n",
    "    chr_col=chr_col, \n",
    "    pos_col=pos_col\n",
    ")\n",
    "\n",
    "annotated['Mbp'] = annotated['POS'] / 1e6\n",
    "annotated.head()"
   ]
  },
  {
   "cell_type": "code",
   "execution_count": 12,
   "metadata": {},
   "outputs": [
    {
     "data": {
      "text/plain": [
       "consequence\n",
       "intron_variant                        83\n",
       "downstream_gene_variant               33\n",
       "upstream_gene_variant                 12\n",
       "3_prime_UTR_variant                   12\n",
       "intergenic_variant                     8\n",
       "non_coding_transcript_exon_variant     4\n",
       "5_prime_UTR_variant                    1\n",
       "synonymous_variant                     1\n",
       "Name: count, dtype: int64"
      ]
     },
     "execution_count": 12,
     "metadata": {},
     "output_type": "execute_result"
    }
   ],
   "source": [
    "annotated['consequence'].value_counts()"
   ]
  },
  {
   "cell_type": "code",
   "execution_count": 34,
   "metadata": {},
   "outputs": [
    {
     "data": {
      "text/html": [
       "<div>\n",
       "<style scoped>\n",
       "    .dataframe tbody tr th:only-of-type {\n",
       "        vertical-align: middle;\n",
       "    }\n",
       "\n",
       "    .dataframe tbody tr th {\n",
       "        vertical-align: top;\n",
       "    }\n",
       "\n",
       "    .dataframe thead th {\n",
       "        text-align: right;\n",
       "    }\n",
       "</style>\n",
       "<table border=\"1\" class=\"dataframe\">\n",
       "  <thead>\n",
       "    <tr style=\"text-align: right;\">\n",
       "      <th></th>\n",
       "      <th>gene</th>\n",
       "      <th>start</th>\n",
       "      <th>end</th>\n",
       "      <th>strand</th>\n",
       "      <th>length</th>\n",
       "      <th>start_esc</th>\n",
       "      <th>end_esc</th>\n",
       "      <th>length_esc</th>\n",
       "      <th>lenght_esc1</th>\n",
       "    </tr>\n",
       "  </thead>\n",
       "  <tbody>\n",
       "    <tr>\n",
       "      <th>0</th>\n",
       "      <td>NFASC</td>\n",
       "      <td>204828652</td>\n",
       "      <td>205022822</td>\n",
       "      <td>+</td>\n",
       "      <td>194171</td>\n",
       "      <td>204.828652</td>\n",
       "      <td>205.022822</td>\n",
       "      <td>0.194170</td>\n",
       "      <td>1.941700e-07</td>\n",
       "    </tr>\n",
       "    <tr>\n",
       "      <th>1</th>\n",
       "      <td>SLC45A3</td>\n",
       "      <td>205657851</td>\n",
       "      <td>205680509</td>\n",
       "      <td>-</td>\n",
       "      <td>22659</td>\n",
       "      <td>205.657851</td>\n",
       "      <td>205.680509</td>\n",
       "      <td>0.022658</td>\n",
       "      <td>2.265800e-08</td>\n",
       "    </tr>\n",
       "    <tr>\n",
       "      <th>2</th>\n",
       "      <td>LOC105371701</td>\n",
       "      <td>205680370</td>\n",
       "      <td>205690435</td>\n",
       "      <td>+</td>\n",
       "      <td>10066</td>\n",
       "      <td>205.680370</td>\n",
       "      <td>205.690435</td>\n",
       "      <td>0.010065</td>\n",
       "      <td>1.006500e-08</td>\n",
       "    </tr>\n",
       "    <tr>\n",
       "      <th>3</th>\n",
       "      <td>NUCKS1</td>\n",
       "      <td>205712822</td>\n",
       "      <td>205750182</td>\n",
       "      <td>-</td>\n",
       "      <td>37361</td>\n",
       "      <td>205.712822</td>\n",
       "      <td>205.750182</td>\n",
       "      <td>0.037360</td>\n",
       "      <td>3.736000e-08</td>\n",
       "    </tr>\n",
       "    <tr>\n",
       "      <th>4</th>\n",
       "      <td>RAB29</td>\n",
       "      <td>205767986</td>\n",
       "      <td>205775482</td>\n",
       "      <td>-</td>\n",
       "      <td>7497</td>\n",
       "      <td>205.767986</td>\n",
       "      <td>205.775482</td>\n",
       "      <td>0.007496</td>\n",
       "      <td>7.496000e-09</td>\n",
       "    </tr>\n",
       "    <tr>\n",
       "      <th>5</th>\n",
       "      <td>SLC41A1</td>\n",
       "      <td>205789095</td>\n",
       "      <td>205813198</td>\n",
       "      <td>-</td>\n",
       "      <td>24104</td>\n",
       "      <td>205.789095</td>\n",
       "      <td>205.813198</td>\n",
       "      <td>0.024103</td>\n",
       "      <td>2.410300e-08</td>\n",
       "    </tr>\n",
       "    <tr>\n",
       "      <th>6</th>\n",
       "      <td>PM20D1</td>\n",
       "      <td>205828025</td>\n",
       "      <td>205850132</td>\n",
       "      <td>-</td>\n",
       "      <td>22108</td>\n",
       "      <td>205.828025</td>\n",
       "      <td>205.850132</td>\n",
       "      <td>0.022107</td>\n",
       "      <td>2.210700e-08</td>\n",
       "    </tr>\n",
       "  </tbody>\n",
       "</table>\n",
       "</div>"
      ],
      "text/plain": [
       "           gene      start        end strand  length   start_esc     end_esc  \\\n",
       "0         NFASC  204828652  205022822      +  194171  204.828652  205.022822   \n",
       "1       SLC45A3  205657851  205680509      -   22659  205.657851  205.680509   \n",
       "2  LOC105371701  205680370  205690435      +   10066  205.680370  205.690435   \n",
       "3        NUCKS1  205712822  205750182      -   37361  205.712822  205.750182   \n",
       "4         RAB29  205767986  205775482      -    7497  205.767986  205.775482   \n",
       "5       SLC41A1  205789095  205813198      -   24104  205.789095  205.813198   \n",
       "6        PM20D1  205828025  205850132      -   22108  205.828025  205.850132   \n",
       "\n",
       "   length_esc   lenght_esc1  \n",
       "0    0.194170  1.941700e-07  \n",
       "1    0.022658  2.265800e-08  \n",
       "2    0.010065  1.006500e-08  \n",
       "3    0.037360  3.736000e-08  \n",
       "4    0.007496  7.496000e-09  \n",
       "5    0.024103  2.410300e-08  \n",
       "6    0.022107  2.210700e-08  "
      ]
     },
     "execution_count": 34,
     "metadata": {},
     "output_type": "execute_result"
    }
   ],
   "source": [
    "genes = get_gene_information(\n",
    "    genes=annotated['GENENAME'].unique().tolist(),\n",
    "    gtf_path=None,\n",
    "    build='38'\n",
    ")\n",
    "genes['start_esc'] = genes['start']/1e6\n",
    "genes['end_esc'] = genes['end']/1e6\n",
    "genes['length_esc'] = genes['end_esc'] - genes['start_esc']\n",
    "genes['lenght_esc1'] = genes['length_esc']/1e6\n",
    "genes\n"
   ]
  },
  {
   "cell_type": "code",
   "execution_count": 51,
   "metadata": {},
   "outputs": [
    {
     "data": {
      "text/plain": [
       "(0.0, 1.0, 0.0, 1.0)"
      ]
     },
     "execution_count": 51,
     "metadata": {},
     "output_type": "execute_result"
    },
    {
     "ename": "ValueError",
     "evalue": "Image size of 143526x859 pixels is too large. It must be less than 2^16 in each direction.",
     "output_type": "error",
     "traceback": [
      "\u001b[0;31m---------------------------------------------------------------------------\u001b[0m",
      "\u001b[0;31mValueError\u001b[0m                                Traceback (most recent call last)",
      "File \u001b[0;32m/mnt/0A2AAC152AABFBB7/CGE/luxgiant-dstream/.venv/lib/python3.10/site-packages/IPython/core/formatters.py:343\u001b[0m, in \u001b[0;36mBaseFormatter.__call__\u001b[0;34m(self, obj)\u001b[0m\n\u001b[1;32m    341\u001b[0m     \u001b[38;5;28;01mpass\u001b[39;00m\n\u001b[1;32m    342\u001b[0m \u001b[38;5;28;01melse\u001b[39;00m:\n\u001b[0;32m--> 343\u001b[0m     \u001b[38;5;28;01mreturn\u001b[39;00m \u001b[43mprinter\u001b[49m\u001b[43m(\u001b[49m\u001b[43mobj\u001b[49m\u001b[43m)\u001b[49m\n\u001b[1;32m    344\u001b[0m \u001b[38;5;66;03m# Finally look for special method names\u001b[39;00m\n\u001b[1;32m    345\u001b[0m method \u001b[38;5;241m=\u001b[39m get_real_method(obj, \u001b[38;5;28mself\u001b[39m\u001b[38;5;241m.\u001b[39mprint_method)\n",
      "File \u001b[0;32m/mnt/0A2AAC152AABFBB7/CGE/luxgiant-dstream/.venv/lib/python3.10/site-packages/IPython/core/pylabtools.py:170\u001b[0m, in \u001b[0;36mprint_figure\u001b[0;34m(fig, fmt, bbox_inches, base64, **kwargs)\u001b[0m\n\u001b[1;32m    167\u001b[0m     \u001b[38;5;28;01mfrom\u001b[39;00m \u001b[38;5;21;01mmatplotlib\u001b[39;00m\u001b[38;5;21;01m.\u001b[39;00m\u001b[38;5;21;01mbackend_bases\u001b[39;00m \u001b[38;5;28;01mimport\u001b[39;00m FigureCanvasBase\n\u001b[1;32m    168\u001b[0m     FigureCanvasBase(fig)\n\u001b[0;32m--> 170\u001b[0m \u001b[43mfig\u001b[49m\u001b[38;5;241;43m.\u001b[39;49m\u001b[43mcanvas\u001b[49m\u001b[38;5;241;43m.\u001b[39;49m\u001b[43mprint_figure\u001b[49m\u001b[43m(\u001b[49m\u001b[43mbytes_io\u001b[49m\u001b[43m,\u001b[49m\u001b[43m \u001b[49m\u001b[38;5;241;43m*\u001b[39;49m\u001b[38;5;241;43m*\u001b[39;49m\u001b[43mkw\u001b[49m\u001b[43m)\u001b[49m\n\u001b[1;32m    171\u001b[0m data \u001b[38;5;241m=\u001b[39m bytes_io\u001b[38;5;241m.\u001b[39mgetvalue()\n\u001b[1;32m    172\u001b[0m \u001b[38;5;28;01mif\u001b[39;00m fmt \u001b[38;5;241m==\u001b[39m \u001b[38;5;124m'\u001b[39m\u001b[38;5;124msvg\u001b[39m\u001b[38;5;124m'\u001b[39m:\n",
      "File \u001b[0;32m/mnt/0A2AAC152AABFBB7/CGE/luxgiant-dstream/.venv/lib/python3.10/site-packages/matplotlib/backend_bases.py:2193\u001b[0m, in \u001b[0;36mFigureCanvasBase.print_figure\u001b[0;34m(self, filename, dpi, facecolor, edgecolor, orientation, format, bbox_inches, pad_inches, bbox_extra_artists, backend, **kwargs)\u001b[0m\n\u001b[1;32m   2189\u001b[0m \u001b[38;5;28;01mtry\u001b[39;00m:\n\u001b[1;32m   2190\u001b[0m     \u001b[38;5;66;03m# _get_renderer may change the figure dpi (as vector formats\u001b[39;00m\n\u001b[1;32m   2191\u001b[0m     \u001b[38;5;66;03m# force the figure dpi to 72), so we need to set it again here.\u001b[39;00m\n\u001b[1;32m   2192\u001b[0m     \u001b[38;5;28;01mwith\u001b[39;00m cbook\u001b[38;5;241m.\u001b[39m_setattr_cm(\u001b[38;5;28mself\u001b[39m\u001b[38;5;241m.\u001b[39mfigure, dpi\u001b[38;5;241m=\u001b[39mdpi):\n\u001b[0;32m-> 2193\u001b[0m         result \u001b[38;5;241m=\u001b[39m \u001b[43mprint_method\u001b[49m\u001b[43m(\u001b[49m\n\u001b[1;32m   2194\u001b[0m \u001b[43m            \u001b[49m\u001b[43mfilename\u001b[49m\u001b[43m,\u001b[49m\n\u001b[1;32m   2195\u001b[0m \u001b[43m            \u001b[49m\u001b[43mfacecolor\u001b[49m\u001b[38;5;241;43m=\u001b[39;49m\u001b[43mfacecolor\u001b[49m\u001b[43m,\u001b[49m\n\u001b[1;32m   2196\u001b[0m \u001b[43m            \u001b[49m\u001b[43medgecolor\u001b[49m\u001b[38;5;241;43m=\u001b[39;49m\u001b[43medgecolor\u001b[49m\u001b[43m,\u001b[49m\n\u001b[1;32m   2197\u001b[0m \u001b[43m            \u001b[49m\u001b[43morientation\u001b[49m\u001b[38;5;241;43m=\u001b[39;49m\u001b[43morientation\u001b[49m\u001b[43m,\u001b[49m\n\u001b[1;32m   2198\u001b[0m \u001b[43m            \u001b[49m\u001b[43mbbox_inches_restore\u001b[49m\u001b[38;5;241;43m=\u001b[39;49m\u001b[43m_bbox_inches_restore\u001b[49m\u001b[43m,\u001b[49m\n\u001b[1;32m   2199\u001b[0m \u001b[43m            \u001b[49m\u001b[38;5;241;43m*\u001b[39;49m\u001b[38;5;241;43m*\u001b[39;49m\u001b[43mkwargs\u001b[49m\u001b[43m)\u001b[49m\n\u001b[1;32m   2200\u001b[0m \u001b[38;5;28;01mfinally\u001b[39;00m:\n\u001b[1;32m   2201\u001b[0m     \u001b[38;5;28;01mif\u001b[39;00m bbox_inches \u001b[38;5;129;01mand\u001b[39;00m restore_bbox:\n",
      "File \u001b[0;32m/mnt/0A2AAC152AABFBB7/CGE/luxgiant-dstream/.venv/lib/python3.10/site-packages/matplotlib/backend_bases.py:2043\u001b[0m, in \u001b[0;36mFigureCanvasBase._switch_canvas_and_return_print_method.<locals>.<lambda>\u001b[0;34m(*args, **kwargs)\u001b[0m\n\u001b[1;32m   2039\u001b[0m     optional_kws \u001b[38;5;241m=\u001b[39m {  \u001b[38;5;66;03m# Passed by print_figure for other renderers.\u001b[39;00m\n\u001b[1;32m   2040\u001b[0m         \u001b[38;5;124m\"\u001b[39m\u001b[38;5;124mdpi\u001b[39m\u001b[38;5;124m\"\u001b[39m, \u001b[38;5;124m\"\u001b[39m\u001b[38;5;124mfacecolor\u001b[39m\u001b[38;5;124m\"\u001b[39m, \u001b[38;5;124m\"\u001b[39m\u001b[38;5;124medgecolor\u001b[39m\u001b[38;5;124m\"\u001b[39m, \u001b[38;5;124m\"\u001b[39m\u001b[38;5;124morientation\u001b[39m\u001b[38;5;124m\"\u001b[39m,\n\u001b[1;32m   2041\u001b[0m         \u001b[38;5;124m\"\u001b[39m\u001b[38;5;124mbbox_inches_restore\u001b[39m\u001b[38;5;124m\"\u001b[39m}\n\u001b[1;32m   2042\u001b[0m     skip \u001b[38;5;241m=\u001b[39m optional_kws \u001b[38;5;241m-\u001b[39m {\u001b[38;5;241m*\u001b[39minspect\u001b[38;5;241m.\u001b[39msignature(meth)\u001b[38;5;241m.\u001b[39mparameters}\n\u001b[0;32m-> 2043\u001b[0m     print_method \u001b[38;5;241m=\u001b[39m functools\u001b[38;5;241m.\u001b[39mwraps(meth)(\u001b[38;5;28;01mlambda\u001b[39;00m \u001b[38;5;241m*\u001b[39margs, \u001b[38;5;241m*\u001b[39m\u001b[38;5;241m*\u001b[39mkwargs: \u001b[43mmeth\u001b[49m\u001b[43m(\u001b[49m\n\u001b[1;32m   2044\u001b[0m \u001b[43m        \u001b[49m\u001b[38;5;241;43m*\u001b[39;49m\u001b[43margs\u001b[49m\u001b[43m,\u001b[49m\u001b[43m \u001b[49m\u001b[38;5;241;43m*\u001b[39;49m\u001b[38;5;241;43m*\u001b[39;49m\u001b[43m{\u001b[49m\u001b[43mk\u001b[49m\u001b[43m:\u001b[49m\u001b[43m \u001b[49m\u001b[43mv\u001b[49m\u001b[43m \u001b[49m\u001b[38;5;28;43;01mfor\u001b[39;49;00m\u001b[43m \u001b[49m\u001b[43mk\u001b[49m\u001b[43m,\u001b[49m\u001b[43m \u001b[49m\u001b[43mv\u001b[49m\u001b[43m \u001b[49m\u001b[38;5;129;43;01min\u001b[39;49;00m\u001b[43m \u001b[49m\u001b[43mkwargs\u001b[49m\u001b[38;5;241;43m.\u001b[39;49m\u001b[43mitems\u001b[49m\u001b[43m(\u001b[49m\u001b[43m)\u001b[49m\u001b[43m \u001b[49m\u001b[38;5;28;43;01mif\u001b[39;49;00m\u001b[43m \u001b[49m\u001b[43mk\u001b[49m\u001b[43m \u001b[49m\u001b[38;5;129;43;01mnot\u001b[39;49;00m\u001b[43m \u001b[49m\u001b[38;5;129;43;01min\u001b[39;49;00m\u001b[43m \u001b[49m\u001b[43mskip\u001b[49m\u001b[43m}\u001b[49m\u001b[43m)\u001b[49m)\n\u001b[1;32m   2045\u001b[0m \u001b[38;5;28;01melse\u001b[39;00m:  \u001b[38;5;66;03m# Let third-parties do as they see fit.\u001b[39;00m\n\u001b[1;32m   2046\u001b[0m     print_method \u001b[38;5;241m=\u001b[39m meth\n",
      "File \u001b[0;32m/mnt/0A2AAC152AABFBB7/CGE/luxgiant-dstream/.venv/lib/python3.10/site-packages/matplotlib/backends/backend_agg.py:497\u001b[0m, in \u001b[0;36mFigureCanvasAgg.print_png\u001b[0;34m(self, filename_or_obj, metadata, pil_kwargs)\u001b[0m\n\u001b[1;32m    450\u001b[0m \u001b[38;5;28;01mdef\u001b[39;00m \u001b[38;5;21mprint_png\u001b[39m(\u001b[38;5;28mself\u001b[39m, filename_or_obj, \u001b[38;5;241m*\u001b[39m, metadata\u001b[38;5;241m=\u001b[39m\u001b[38;5;28;01mNone\u001b[39;00m, pil_kwargs\u001b[38;5;241m=\u001b[39m\u001b[38;5;28;01mNone\u001b[39;00m):\n\u001b[1;32m    451\u001b[0m \u001b[38;5;250m    \u001b[39m\u001b[38;5;124;03m\"\"\"\u001b[39;00m\n\u001b[1;32m    452\u001b[0m \u001b[38;5;124;03m    Write the figure to a PNG file.\u001b[39;00m\n\u001b[1;32m    453\u001b[0m \n\u001b[0;32m   (...)\u001b[0m\n\u001b[1;32m    495\u001b[0m \u001b[38;5;124;03m        *metadata*, including the default 'Software' key.\u001b[39;00m\n\u001b[1;32m    496\u001b[0m \u001b[38;5;124;03m    \"\"\"\u001b[39;00m\n\u001b[0;32m--> 497\u001b[0m     \u001b[38;5;28;43mself\u001b[39;49m\u001b[38;5;241;43m.\u001b[39;49m\u001b[43m_print_pil\u001b[49m\u001b[43m(\u001b[49m\u001b[43mfilename_or_obj\u001b[49m\u001b[43m,\u001b[49m\u001b[43m \u001b[49m\u001b[38;5;124;43m\"\u001b[39;49m\u001b[38;5;124;43mpng\u001b[39;49m\u001b[38;5;124;43m\"\u001b[39;49m\u001b[43m,\u001b[49m\u001b[43m \u001b[49m\u001b[43mpil_kwargs\u001b[49m\u001b[43m,\u001b[49m\u001b[43m \u001b[49m\u001b[43mmetadata\u001b[49m\u001b[43m)\u001b[49m\n",
      "File \u001b[0;32m/mnt/0A2AAC152AABFBB7/CGE/luxgiant-dstream/.venv/lib/python3.10/site-packages/matplotlib/backends/backend_agg.py:445\u001b[0m, in \u001b[0;36mFigureCanvasAgg._print_pil\u001b[0;34m(self, filename_or_obj, fmt, pil_kwargs, metadata)\u001b[0m\n\u001b[1;32m    440\u001b[0m \u001b[38;5;28;01mdef\u001b[39;00m \u001b[38;5;21m_print_pil\u001b[39m(\u001b[38;5;28mself\u001b[39m, filename_or_obj, fmt, pil_kwargs, metadata\u001b[38;5;241m=\u001b[39m\u001b[38;5;28;01mNone\u001b[39;00m):\n\u001b[1;32m    441\u001b[0m \u001b[38;5;250m    \u001b[39m\u001b[38;5;124;03m\"\"\"\u001b[39;00m\n\u001b[1;32m    442\u001b[0m \u001b[38;5;124;03m    Draw the canvas, then save it using `.image.imsave` (to which\u001b[39;00m\n\u001b[1;32m    443\u001b[0m \u001b[38;5;124;03m    *pil_kwargs* and *metadata* are forwarded).\u001b[39;00m\n\u001b[1;32m    444\u001b[0m \u001b[38;5;124;03m    \"\"\"\u001b[39;00m\n\u001b[0;32m--> 445\u001b[0m     \u001b[43mFigureCanvasAgg\u001b[49m\u001b[38;5;241;43m.\u001b[39;49m\u001b[43mdraw\u001b[49m\u001b[43m(\u001b[49m\u001b[38;5;28;43mself\u001b[39;49m\u001b[43m)\u001b[49m\n\u001b[1;32m    446\u001b[0m     mpl\u001b[38;5;241m.\u001b[39mimage\u001b[38;5;241m.\u001b[39mimsave(\n\u001b[1;32m    447\u001b[0m         filename_or_obj, \u001b[38;5;28mself\u001b[39m\u001b[38;5;241m.\u001b[39mbuffer_rgba(), \u001b[38;5;28mformat\u001b[39m\u001b[38;5;241m=\u001b[39mfmt, origin\u001b[38;5;241m=\u001b[39m\u001b[38;5;124m\"\u001b[39m\u001b[38;5;124mupper\u001b[39m\u001b[38;5;124m\"\u001b[39m,\n\u001b[1;32m    448\u001b[0m         dpi\u001b[38;5;241m=\u001b[39m\u001b[38;5;28mself\u001b[39m\u001b[38;5;241m.\u001b[39mfigure\u001b[38;5;241m.\u001b[39mdpi, metadata\u001b[38;5;241m=\u001b[39mmetadata, pil_kwargs\u001b[38;5;241m=\u001b[39mpil_kwargs)\n",
      "File \u001b[0;32m/mnt/0A2AAC152AABFBB7/CGE/luxgiant-dstream/.venv/lib/python3.10/site-packages/matplotlib/backends/backend_agg.py:383\u001b[0m, in \u001b[0;36mFigureCanvasAgg.draw\u001b[0;34m(self)\u001b[0m\n\u001b[1;32m    381\u001b[0m \u001b[38;5;28;01mdef\u001b[39;00m \u001b[38;5;21mdraw\u001b[39m(\u001b[38;5;28mself\u001b[39m):\n\u001b[1;32m    382\u001b[0m     \u001b[38;5;66;03m# docstring inherited\u001b[39;00m\n\u001b[0;32m--> 383\u001b[0m     \u001b[38;5;28mself\u001b[39m\u001b[38;5;241m.\u001b[39mrenderer \u001b[38;5;241m=\u001b[39m \u001b[38;5;28;43mself\u001b[39;49m\u001b[38;5;241;43m.\u001b[39;49m\u001b[43mget_renderer\u001b[49m\u001b[43m(\u001b[49m\u001b[43m)\u001b[49m\n\u001b[1;32m    384\u001b[0m     \u001b[38;5;28mself\u001b[39m\u001b[38;5;241m.\u001b[39mrenderer\u001b[38;5;241m.\u001b[39mclear()\n\u001b[1;32m    385\u001b[0m     \u001b[38;5;66;03m# Acquire a lock on the shared font cache.\u001b[39;00m\n",
      "File \u001b[0;32m/mnt/0A2AAC152AABFBB7/CGE/luxgiant-dstream/.venv/lib/python3.10/site-packages/matplotlib/backends/backend_agg.py:398\u001b[0m, in \u001b[0;36mFigureCanvasAgg.get_renderer\u001b[0;34m(self)\u001b[0m\n\u001b[1;32m    396\u001b[0m reuse_renderer \u001b[38;5;241m=\u001b[39m (\u001b[38;5;28mself\u001b[39m\u001b[38;5;241m.\u001b[39m_lastKey \u001b[38;5;241m==\u001b[39m key)\n\u001b[1;32m    397\u001b[0m \u001b[38;5;28;01mif\u001b[39;00m \u001b[38;5;129;01mnot\u001b[39;00m reuse_renderer:\n\u001b[0;32m--> 398\u001b[0m     \u001b[38;5;28mself\u001b[39m\u001b[38;5;241m.\u001b[39mrenderer \u001b[38;5;241m=\u001b[39m \u001b[43mRendererAgg\u001b[49m\u001b[43m(\u001b[49m\u001b[43mw\u001b[49m\u001b[43m,\u001b[49m\u001b[43m \u001b[49m\u001b[43mh\u001b[49m\u001b[43m,\u001b[49m\u001b[43m \u001b[49m\u001b[38;5;28;43mself\u001b[39;49m\u001b[38;5;241;43m.\u001b[39;49m\u001b[43mfigure\u001b[49m\u001b[38;5;241;43m.\u001b[39;49m\u001b[43mdpi\u001b[49m\u001b[43m)\u001b[49m\n\u001b[1;32m    399\u001b[0m     \u001b[38;5;28mself\u001b[39m\u001b[38;5;241m.\u001b[39m_lastKey \u001b[38;5;241m=\u001b[39m key\n\u001b[1;32m    400\u001b[0m \u001b[38;5;28;01mreturn\u001b[39;00m \u001b[38;5;28mself\u001b[39m\u001b[38;5;241m.\u001b[39mrenderer\n",
      "File \u001b[0;32m/mnt/0A2AAC152AABFBB7/CGE/luxgiant-dstream/.venv/lib/python3.10/site-packages/matplotlib/backends/backend_agg.py:70\u001b[0m, in \u001b[0;36mRendererAgg.__init__\u001b[0;34m(self, width, height, dpi)\u001b[0m\n\u001b[1;32m     68\u001b[0m \u001b[38;5;28mself\u001b[39m\u001b[38;5;241m.\u001b[39mwidth \u001b[38;5;241m=\u001b[39m width\n\u001b[1;32m     69\u001b[0m \u001b[38;5;28mself\u001b[39m\u001b[38;5;241m.\u001b[39mheight \u001b[38;5;241m=\u001b[39m height\n\u001b[0;32m---> 70\u001b[0m \u001b[38;5;28mself\u001b[39m\u001b[38;5;241m.\u001b[39m_renderer \u001b[38;5;241m=\u001b[39m \u001b[43m_RendererAgg\u001b[49m\u001b[43m(\u001b[49m\u001b[38;5;28;43mint\u001b[39;49m\u001b[43m(\u001b[49m\u001b[43mwidth\u001b[49m\u001b[43m)\u001b[49m\u001b[43m,\u001b[49m\u001b[43m \u001b[49m\u001b[38;5;28;43mint\u001b[39;49m\u001b[43m(\u001b[49m\u001b[43mheight\u001b[49m\u001b[43m)\u001b[49m\u001b[43m,\u001b[49m\u001b[43m \u001b[49m\u001b[43mdpi\u001b[49m\u001b[43m)\u001b[49m\n\u001b[1;32m     71\u001b[0m \u001b[38;5;28mself\u001b[39m\u001b[38;5;241m.\u001b[39m_filter_renderers \u001b[38;5;241m=\u001b[39m []\n\u001b[1;32m     73\u001b[0m \u001b[38;5;28mself\u001b[39m\u001b[38;5;241m.\u001b[39m_update_methods()\n",
      "\u001b[0;31mValueError\u001b[0m: Image size of 143526x859 pixels is too large. It must be less than 2^16 in each direction."
     ]
    },
    {
     "data": {
      "text/plain": [
       "<Figure size 1000x1000 with 4 Axes>"
      ]
     },
     "metadata": {},
     "output_type": "display_data"
    }
   ],
   "source": [
    "import matplotlib.pyplot as plt\n",
    "from itertools import cycle\n",
    "from matplotlib.patches import FancyArrow\n",
    "\n",
    "region = (annotated['Mbp'].min()-0.0025, annotated['Mbp'].max()+0.0025)\n",
    "\n",
    "plt.figure(figsize=(10,10))\n",
    "ax1= plt.subplot2grid((40,20), (0,0), rowspan=18, colspan=18)\n",
    "ax2 = plt.subplot2grid((40,20), (18,0), rowspan=5,  colspan=18)\n",
    "ax3 = plt.subplot2grid((40,20), (23,0), rowspan=18,colspan=18)\n",
    "ax4 = plt.subplot2grid((40,20), (23,19), rowspan=10, colspan=1)\n",
    "\n",
    "missense = annotated[annotated['consequence']=='intron_variant']\n",
    "utr3     = annotated[annotated['consequence']=='3_prime_UTR_variant']\n",
    "utr5     = annotated[annotated['consequence']=='5_prime_UTR_variant']\n",
    "upstrm   = annotated[annotated['consequence']=='upstream_gene_variant']\n",
    "\n",
    "ax1.scatter(annotated['Mbp'], annotated[p_col],s=15,color='grey', label='')\n",
    "ax1.scatter(missense['Mbp'], missense[p_col], s=30, color='orange', label='Missense variant')\n",
    "ax1.scatter(utr3['Mbp'], utr3[p_col], s=30, color='blue', label=\"3'-UTR variant\")\n",
    "ax1.scatter(utr5['Mbp'], utr5[p_col], s=30, color='green', label=\"5'-UTR variant\")\n",
    "ax1.scatter(upstrm['Mbp'], upstrm[p_col], s=30, color='black', label=\"Upstream variant\")\n",
    "ax1.set_xlim(region)\n",
    "ax1.xaxis.set_ticks_position('top')\n",
    "ax1.legend(loc='best')\n",
    "ax1.set_title(\"Million basepairs on BTA{}\".format(1), fontsize=12)\n",
    "ax1.set_ylabel('log10(P)', fontsize=12)\n",
    "\n",
    "ys = cycle([0.1,0.4,0.7, 1])\n",
    "\n",
    "for i in genes.index:\n",
    "    symbol, strand=genes.loc[i,'gene'],genes.loc[i,'strand']\n",
    "    start,end,length =genes.loc[i,'start_esc'],genes.loc[i, 'end_esc'],genes.loc[i, 'length_esc']\n",
    "    y = next(ys)\n",
    "    if strand =='+':\n",
    "        arrow = FancyArrow(start, y, length, 0, width=0.01, head_width=0.09, head_length=0.01, color='red')\n",
    "        ax2.add_patch(arrow)\n",
    "        #ax2.arrow(start,y,length,0,head_length=0.005, head_width=0.075,color='black')\n",
    "        ax2.text(start+0.5*length,y+0.05, symbol, ha='center', size=9)\n",
    "    elif strand == '-':\n",
    "        arrow_neg = FancyArrow(end, y, -length, 0, width=0.01, head_width=0.09, head_length=0.01, color='blue')\n",
    "        ax2.add_patch(arrow_neg)\n",
    "        #ax2.arrow(end,y,-length,0,head_length=0.005, head_width=0.075, color='black')\n",
    "        ax2.text(start+0.5*length,y+0.05,symbol,ha='center', size=9)\n",
    "ax2.axis('off')"
   ]
  },
  {
   "cell_type": "code",
   "execution_count": 74,
   "metadata": {},
   "outputs": [
    {
     "data": {
      "image/png": "[encoded data removed]",
      "text/plain": [
       "<Figure size 1000x1000 with 2 Axes>"
      ]
     },
     "metadata": {},
     "output_type": "display_data"
    }
   ],
   "source": [
    "import matplotlib.pyplot as plt\n",
    "from itertools import cycle\n",
    "from matplotlib.patches import FancyArrow\n",
    "\n",
    "region = (annotated['Mbp'].min() - 0.05, annotated['Mbp'].max() + 0.05)\n",
    "\n",
    "plt.figure(figsize=(10, 10))\n",
    "\n",
    "# Define the overall grid size (6 rows, 1 column)\n",
    "ax1 = plt.subplot2grid((6, 1), (0, 0), rowspan=4)  # Use 4 rows for the first plot\n",
    "ax2 = plt.subplot2grid((6, 1), (4, 0), rowspan=2)  # Use 2 rows for the second plot\n",
    "\n",
    "# Plot for ax1\n",
    "missense = annotated[annotated['consequence'] == 'intron_variant']\n",
    "utr3 = annotated[annotated['consequence'] == '3_prime_UTR_variant']\n",
    "utr5 = annotated[annotated['consequence'] == '5_prime_UTR_variant']\n",
    "upstrm = annotated[annotated['consequence'] == 'upstream_gene_variant']\n",
    "\n",
    "ax1.scatter(annotated['Mbp'], annotated[p_col], s=15, color='grey', label='')\n",
    "ax1.scatter(missense['Mbp'], missense[p_col], s=30, color='orange', label='Missense variant')\n",
    "ax1.scatter(utr3['Mbp'], utr3[p_col], s=30, color='blue', label=\"3'-UTR variant\")\n",
    "ax1.scatter(utr5['Mbp'], utr5[p_col], s=30, color='green', label=\"5'-UTR variant\")\n",
    "ax1.scatter(upstrm['Mbp'], upstrm[p_col], s=30, color='black', label=\"Upstream variant\")\n",
    "ax1.set_xlim(region)\n",
    "ax1.xaxis.set_ticks_position('top')\n",
    "ax1.legend(loc='best')\n",
    "ax1.set_title(f\"Million basepairs on BTA{1}\", fontsize=12)\n",
    "ax1.set_ylabel('log10(P)', fontsize=12)\n",
    "\n",
    "# Plot for ax2\n",
    "ys = cycle([0.1, 0.4, 0.7, 1])\n",
    "\n",
    "for i in genes.index:\n",
    "    symbol, strand = genes.loc[i, 'gene'], genes.loc[i, 'strand']\n",
    "    start, end, length = genes.loc[i, 'start_esc'], genes.loc[i, 'end_esc'], genes.loc[i, 'length_esc']\n",
    "    y = next(ys)\n",
    "    if strand == '+':\n",
    "        arrow = FancyArrow(start, y, length, 0, width=0.001, head_width=0.02, head_length=0.01, color='red')\n",
    "        ax2.add_patch(arrow)\n",
    "        ax2.text(start + 0.5 * length, y + 0.05, symbol, ha='center', size=9)\n",
    "    elif strand == '-':\n",
    "        arrow_neg = FancyArrow(end, y, -length, 0, width=0.001, head_width=0.02, head_length=0.01, color='blue')\n",
    "        ax2.add_patch(arrow_neg)\n",
    "        ax2.text(start + 0.5 * length, y + 0.05, symbol, ha='center', size=9)\n",
    "\n",
    "ax2.set_ylim(0, 1.2)\n",
    "ax2.set_xlim(region)\n",
    "ax2.axis('off')\n",
    "\n",
    "plt.tight_layout()\n",
    "plt.show()\n"
   ]
  },
  {
   "cell_type": "code",
   "execution_count": 31,
   "metadata": {},
   "outputs": [
    {
     "data": {
      "image/png": "[encoded data removed]",
      "text/plain": [
       "<Figure size 640x480 with 1 Axes>"
      ]
     },
     "metadata": {},
     "output_type": "display_data"
    }
   ],
   "source": [
    "import matplotlib.pyplot as plt\n",
    "from matplotlib.patches import FancyArrow\n",
    "\n",
    "# Create a figure and axis\n",
    "fig, ax = plt.subplots()\n",
    "\n",
    "# Add a FancyArrow to the axis\n",
    "for i in genes.index:\n",
    "    symbol, strand=genes.loc[i,'gene'],genes.loc[i,'strand']\n",
    "    start,end,length =genes.loc[i,'start'],genes.loc[i, 'end'],genes.loc[i, 'length']\n",
    "    if strand =='+':\n",
    "        arrow = FancyArrow(start, 0, length, 0.5, width=0.05, color='red')\n",
    "        ax.add_patch(arrow)\n",
    "    elif strand == '-':\n",
    "        arrow = FancyArrow(end, 0, -length, 0.5, width=0.05, color='blue')\n",
    "        ax.add_patch(arrow)\n",
    "# Set the limits of the plot\n",
    "ax.set_xlim(region)\n",
    "ax.set_ylim(-1, 2)\n",
    "\n",
    "# Add labels and show the plot\n",
    "ax.set_title(\"FancyArrow Example\")\n",
    "plt.grid(True)\n",
    "plt.show()"
   ]
  },
  {
   "cell_type": "code",
   "execution_count": 19,
   "metadata": {},
   "outputs": [
    {
     "name": "stdout",
     "output_type": "stream",
     "text": [
      "Ensembl Gene ID: ENSG00000139618\n",
      "Ensembl Gene ID: LRG_293\n"
     ]
    }
   ],
   "source": [
    "import requests\n",
    "# Base API URL\n",
    "server = \"https://rest.ensembl.org\"\n",
    "ext = \"/xrefs/symbol/homo_sapiens/\"\n",
    "headers = {\"Content-Type\": \"application/json\", \"Accept\": \"application/json\"}\n",
    "\n",
    "# Specify the gene symbol\n",
    "gene_symbol = \"BRCA2\"\n",
    "url = f\"{server}{ext}{gene_symbol}\"\n",
    "\n",
    "# Send GET request\n",
    "response = requests.get(url, headers=headers)\n",
    "\n",
    "# Process the response\n",
    "if response.ok:\n",
    "    xrefs = response.json()\n",
    "    for entry in xrefs:\n",
    "        if entry[\"type\"] == \"gene\":\n",
    "            print(\"Ensembl Gene ID:\", entry[\"id\"])\n",
    "else:\n",
    "    print(f\"Error: {response.status_code}, {response.reason}\")\n"
   ]
  },
  {
   "cell_type": "code",
   "execution_count": 20,
   "metadata": {},
   "outputs": [
    {
     "data": {
      "text/plain": [
       "[{'type': 'gene', 'id': 'ENSG00000139618'}, {'id': 'LRG_293', 'type': 'gene'}]"
      ]
     },
     "execution_count": 20,
     "metadata": {},
     "output_type": "execute_result"
    }
   ],
   "source": [
    "response.json()"
   ]
  },
  {
   "cell_type": "code",
   "execution_count": 21,
   "metadata": {},
   "outputs": [
    {
     "ename": "KeyError",
     "evalue": "'GENENAME'",
     "output_type": "error",
     "traceback": [
      "\u001b[0;31m---------------------------------------------------------------------------\u001b[0m",
      "\u001b[0;31mKeyError\u001b[0m                                  Traceback (most recent call last)",
      "File \u001b[0;32m/mnt/0A2AAC152AABFBB7/CGE/luxgiant-dstream/.venv/lib/python3.10/site-packages/pandas/core/indexes/base.py:3805\u001b[0m, in \u001b[0;36mIndex.get_loc\u001b[0;34m(self, key)\u001b[0m\n\u001b[1;32m   3804\u001b[0m \u001b[38;5;28;01mtry\u001b[39;00m:\n\u001b[0;32m-> 3805\u001b[0m     \u001b[38;5;28;01mreturn\u001b[39;00m \u001b[38;5;28;43mself\u001b[39;49m\u001b[38;5;241;43m.\u001b[39;49m\u001b[43m_engine\u001b[49m\u001b[38;5;241;43m.\u001b[39;49m\u001b[43mget_loc\u001b[49m\u001b[43m(\u001b[49m\u001b[43mcasted_key\u001b[49m\u001b[43m)\u001b[49m\n\u001b[1;32m   3806\u001b[0m \u001b[38;5;28;01mexcept\u001b[39;00m \u001b[38;5;167;01mKeyError\u001b[39;00m \u001b[38;5;28;01mas\u001b[39;00m err:\n",
      "File \u001b[0;32mindex.pyx:167\u001b[0m, in \u001b[0;36mpandas._libs.index.IndexEngine.get_loc\u001b[0;34m()\u001b[0m\n",
      "File \u001b[0;32mindex.pyx:196\u001b[0m, in \u001b[0;36mpandas._libs.index.IndexEngine.get_loc\u001b[0;34m()\u001b[0m\n",
      "File \u001b[0;32mpandas/_libs/hashtable_class_helper.pxi:7081\u001b[0m, in \u001b[0;36mpandas._libs.hashtable.PyObjectHashTable.get_item\u001b[0;34m()\u001b[0m\n",
      "File \u001b[0;32mpandas/_libs/hashtable_class_helper.pxi:7089\u001b[0m, in \u001b[0;36mpandas._libs.hashtable.PyObjectHashTable.get_item\u001b[0;34m()\u001b[0m\n",
      "\u001b[0;31mKeyError\u001b[0m: 'GENENAME'",
      "\nThe above exception was the direct cause of the following exception:\n",
      "\u001b[0;31mKeyError\u001b[0m                                  Traceback (most recent call last)",
      "Cell \u001b[0;32mIn[21], line 6\u001b[0m\n\u001b[1;32m      3\u001b[0m gene_client \u001b[38;5;241m=\u001b[39m GeneEnsemblRestClient()\n\u001b[1;32m      5\u001b[0m \u001b[38;5;66;03m# Example list of IDs for the POST request\u001b[39;00m\n\u001b[0;32m----> 6\u001b[0m ids_gene \u001b[38;5;241m=\u001b[39m \u001b[43mfiltered\u001b[49m\u001b[43m[\u001b[49m\u001b[38;5;124;43m'\u001b[39;49m\u001b[38;5;124;43mGENENAME\u001b[39;49m\u001b[38;5;124;43m'\u001b[39;49m\u001b[43m]\u001b[49m\u001b[38;5;241m.\u001b[39munique()\u001b[38;5;241m.\u001b[39mtolist()\n\u001b[1;32m      7\u001b[0m ids_gene\n\u001b[1;32m      9\u001b[0m \u001b[38;5;28;01mfor\u001b[39;00m gene \u001b[38;5;129;01min\u001b[39;00m ids_gene:\n",
      "File \u001b[0;32m/mnt/0A2AAC152AABFBB7/CGE/luxgiant-dstream/.venv/lib/python3.10/site-packages/pandas/core/frame.py:4102\u001b[0m, in \u001b[0;36mDataFrame.__getitem__\u001b[0;34m(self, key)\u001b[0m\n\u001b[1;32m   4100\u001b[0m \u001b[38;5;28;01mif\u001b[39;00m \u001b[38;5;28mself\u001b[39m\u001b[38;5;241m.\u001b[39mcolumns\u001b[38;5;241m.\u001b[39mnlevels \u001b[38;5;241m>\u001b[39m \u001b[38;5;241m1\u001b[39m:\n\u001b[1;32m   4101\u001b[0m     \u001b[38;5;28;01mreturn\u001b[39;00m \u001b[38;5;28mself\u001b[39m\u001b[38;5;241m.\u001b[39m_getitem_multilevel(key)\n\u001b[0;32m-> 4102\u001b[0m indexer \u001b[38;5;241m=\u001b[39m \u001b[38;5;28;43mself\u001b[39;49m\u001b[38;5;241;43m.\u001b[39;49m\u001b[43mcolumns\u001b[49m\u001b[38;5;241;43m.\u001b[39;49m\u001b[43mget_loc\u001b[49m\u001b[43m(\u001b[49m\u001b[43mkey\u001b[49m\u001b[43m)\u001b[49m\n\u001b[1;32m   4103\u001b[0m \u001b[38;5;28;01mif\u001b[39;00m is_integer(indexer):\n\u001b[1;32m   4104\u001b[0m     indexer \u001b[38;5;241m=\u001b[39m [indexer]\n",
      "File \u001b[0;32m/mnt/0A2AAC152AABFBB7/CGE/luxgiant-dstream/.venv/lib/python3.10/site-packages/pandas/core/indexes/base.py:3812\u001b[0m, in \u001b[0;36mIndex.get_loc\u001b[0;34m(self, key)\u001b[0m\n\u001b[1;32m   3807\u001b[0m     \u001b[38;5;28;01mif\u001b[39;00m \u001b[38;5;28misinstance\u001b[39m(casted_key, \u001b[38;5;28mslice\u001b[39m) \u001b[38;5;129;01mor\u001b[39;00m (\n\u001b[1;32m   3808\u001b[0m         \u001b[38;5;28misinstance\u001b[39m(casted_key, abc\u001b[38;5;241m.\u001b[39mIterable)\n\u001b[1;32m   3809\u001b[0m         \u001b[38;5;129;01mand\u001b[39;00m \u001b[38;5;28many\u001b[39m(\u001b[38;5;28misinstance\u001b[39m(x, \u001b[38;5;28mslice\u001b[39m) \u001b[38;5;28;01mfor\u001b[39;00m x \u001b[38;5;129;01min\u001b[39;00m casted_key)\n\u001b[1;32m   3810\u001b[0m     ):\n\u001b[1;32m   3811\u001b[0m         \u001b[38;5;28;01mraise\u001b[39;00m InvalidIndexError(key)\n\u001b[0;32m-> 3812\u001b[0m     \u001b[38;5;28;01mraise\u001b[39;00m \u001b[38;5;167;01mKeyError\u001b[39;00m(key) \u001b[38;5;28;01mfrom\u001b[39;00m \u001b[38;5;21;01merr\u001b[39;00m\n\u001b[1;32m   3813\u001b[0m \u001b[38;5;28;01mexcept\u001b[39;00m \u001b[38;5;167;01mTypeError\u001b[39;00m:\n\u001b[1;32m   3814\u001b[0m     \u001b[38;5;66;03m# If we have a listlike key, _check_indexing_error will raise\u001b[39;00m\n\u001b[1;32m   3815\u001b[0m     \u001b[38;5;66;03m#  InvalidIndexError. Otherwise we fall through and re-raise\u001b[39;00m\n\u001b[1;32m   3816\u001b[0m     \u001b[38;5;66;03m#  the TypeError.\u001b[39;00m\n\u001b[1;32m   3817\u001b[0m     \u001b[38;5;28mself\u001b[39m\u001b[38;5;241m.\u001b[39m_check_indexing_error(key)\n",
      "\u001b[0;31mKeyError\u001b[0m: 'GENENAME'"
     ]
    }
   ],
   "source": [
    "from ideal_genom.api_client import GeneEnsemblRestClient\n",
    "\n",
    "gene_client = GeneEnsemblRestClient()\n",
    "\n",
    "# Example list of IDs for the POST request\n",
    "ids_gene = filtered['GENENAME'].unique().tolist()\n",
    "ids_gene\n",
    "\n",
    "for gene in ids_gene:\n",
    "\n",
    "    gene_info = gene_client.get_gene_location(gene)\n",
    "\n",
    "    if \"error\" in gene_info:\n",
    "        print(f\"Error: {gene_info['error']}\")\n",
    "    else:\n",
    "        print(\"Gene Information:\", gene_info)"
   ]
  },
  {
   "cell_type": "code",
   "execution_count": null,
   "metadata": {},
   "outputs": [],
   "source": []
  }
 ],
 "metadata": {
  "kernelspec": {
   "display_name": ".venv",
   "language": "python",
   "name": "python3"
  },
  "language_info": {
   "codemirror_mode": {
    "name": "ipython",
    "version": 3
   },
   "file_extension": ".py",
   "mimetype": "text/x-python",
   "name": "python",
   "nbconvert_exporter": "python",
   "pygments_lexer": "ipython3",
   "version": "3.10.15"
  }
 },
 "nbformat": 4,
 "nbformat_minor": 2
}
